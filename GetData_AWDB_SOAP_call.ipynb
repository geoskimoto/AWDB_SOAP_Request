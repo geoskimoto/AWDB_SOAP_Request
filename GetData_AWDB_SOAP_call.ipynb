{
  "nbformat": 4,
  "nbformat_minor": 0,
  "metadata": {
    "colab": {
      "name": "GetData_AWDB_SOAP_call.ipynb",
      "provenance": [],
      "collapsed_sections": [
        "FEe5KAEsyjjE"
      ],
      "authorship_tag": "ABX9TyOq3SXuG1m3jOHbZvOkOa1s",
      "include_colab_link": true
    },
    "kernelspec": {
      "name": "python3",
      "display_name": "Python 3"
    }
  },
  "cells": [
    {
      "cell_type": "markdown",
      "metadata": {
        "id": "view-in-github",
        "colab_type": "text"
      },
      "source": [
        "<a href=\"https://colab.research.google.com/github/geoskimoto/AWDB_SOAP_Request/blob/main/GetData_AWDB_SOAP_call.ipynb\" target=\"_parent\"><img src=\"https://colab.research.google.com/assets/colab-badge.svg\" alt=\"Open In Colab\"/></a>"
      ]
    },
    {
      "cell_type": "markdown",
      "metadata": {
        "id": "FEe5KAEsyjjE"
      },
      "source": [
        "#Library Imports"
      ]
    },
    {
      "cell_type": "code",
      "metadata": {
        "id": "G6ElAXPeyo_W"
      },
      "source": [
        "from sklearn.linear_model import LassoCV, RidgeCV, HuberRegressor\n",
        "from sklearn.ensemble import GradientBoostingRegressor, AdaBoostRegressor, RandomForestRegressor\n",
        "from sklearn.model_selection import train_test_split\n",
        "from sklearn import svm\n",
        "from sklearn.metrics import mean_squared_error\n",
        "import numpy as np\n",
        "import pandas as pd\n",
        "import matplotlib.pyplot as plt\n",
        "import seaborn as sns\n",
        "import plotly.graph_objects as go\n",
        "from plotly.subplots import make_subplots\n",
        "import scipy.stats as stats\n",
        "# import statsmodels.api as sm\n",
        "from functools import reduce\n",
        "\n",
        "import requests\n",
        "import xml.dom.minidom as minidom\n",
        "import xml.etree.ElementTree as ET\n",
        "import numpy as np\n",
        "import pandas as pd\n",
        "import datetime\n"
      ],
      "execution_count": 1,
      "outputs": []
    },
    {
      "cell_type": "markdown",
      "metadata": {
        "id": "8LtLSpGTw1vg"
      },
      "source": [
        "# Helper Functions"
      ]
    },
    {
      "cell_type": "code",
      "metadata": {
        "id": "ciJlz7I8l6EX"
      },
      "source": [
        "# Web Call to Access and Download Data From AWDB Web Service (SOAP API)\n",
        "\n",
        "def SOAP_Call(stationtriplets, elementCD, begindate, enddate):\n",
        "\n",
        "  # Create a dictionaries to store the data\n",
        "  headers = {'Content-type': 'text/soap'}\n",
        "  # current_dictionary = {}\n",
        "  \n",
        "  # Define Web Service URL\n",
        "  URL = \"https://wcc.sc.egov.usda.gov/awdbWebService/services?WSDL\"\n",
        "\n",
        "  # Define Parameters for SOAP Elements (getData:current and getCentralTendencyData:normals)\n",
        "  SOAP_current = '''\n",
        "  <?xml version=\"1.0\" encoding=\"UTF-8\"?>\n",
        "  <SOAP-ENV:Envelope xmlns:SOAP-ENV=\"http://schemas.xmlsoap.org/soap/envelope/\" xmlns:q0=\"http://www.wcc.nrcs.usda.gov/ns/awdbWebService\" xmlns:xsd=\"http://www.w3.org/2001/XMLSchema\" xmlns:xsi=\"http://www.w3.org/2001/XMLSchema-instance\">\n",
        "    <SOAP-ENV:Body>\n",
        "      <q0:getData>\n",
        "        <stationTriplets>STATIONTRIPLETS</stationTriplets>\n",
        "        <elementCd>ELEMENTCD</elementCd>   \n",
        "        <ordinal>1</ordinal>\n",
        "        <duration>DAILY</duration>\n",
        "        <getFlags>false</getFlags>\n",
        "        <beginDate>BEGINDATE</beginDate>\n",
        "        <endDate>ENDDATE</endDate>\n",
        "        <alwaysReturnDailyFeb29>false</alwaysReturnDailyFeb29>   \n",
        "      </q0:getData>\n",
        "    </SOAP-ENV:Body>\n",
        "  </SOAP-ENV:Envelope>\n",
        "\n",
        "  '''.strip()\n",
        "  #Read GetData documents - If <alwaysReturnDailyFeb29> is set to true, will set a null for every non leap year on the 29th,  \n",
        "  #which breaks this request when selecting date ranges that include Feb 29.\n",
        "  #other element codes: PREC, WTEQ (Water Equivalent/SWE)\n",
        "  \n",
        "\n",
        "  # Post SOAP Elements to AWDB Web Service and process results - getData\n",
        "  SOAP_current = SOAP_current.replace(\"ELEMENTCD\", elementCD)\n",
        "  SOAP_current = SOAP_current.replace(\"STATIONTRIPLETS\", stationtriplets)\n",
        "  SOAP_current = SOAP_current.replace(\"BEGINDATE\", begindate)\n",
        "  SOAP_current = SOAP_current.replace(\"ENDDATE\", enddate)\n",
        "\n",
        "  response_current = requests.post(URL, data=SOAP_current, headers=headers)\n",
        "  xmldoc = minidom.parseString(response_current.text)\n",
        "\n",
        "  val_length = len(xmldoc.getElementsByTagName('values'))\n",
        "  data = pd.DataFrame([xmldoc.getElementsByTagName('values')[i].firstChild.data for i in range(0,val_length)])\n",
        "\n",
        "  date = datetime.datetime.strptime(begindate, \"%m/%d/%Y\").date()  #https://docs.python.org/3/library/datetime.html#strftime-strptime-behavior; .date() after .strptime just tells it to make it a datetime object.  Def necessary.\n",
        "  # print(date)\n",
        "  Date = []                                                       \n",
        "  for i in range(0, val_length): \n",
        "    date += datetime.timedelta(days=1)\n",
        "    Date.append((date))\n",
        "\n",
        "  # {str(xmldoc.getElementsByTagName('stationTriplet')[0].firstChild.data):{Date[j]:xmldoc.getElementsByTagName('values')[j].firstChild.data} for j in range(3)}\n",
        "\n",
        "  data['Date'] = Date\n",
        "  data.columns = [f'{elementCD}','Date']\n",
        "  data.set_index('Date', inplace=True)\n",
        "  \n",
        "  data[f'{elementCD}'] = list(map(lambda x: float(x), data[f'{elementCD}']))\n",
        "  \n",
        "  return data\n",
        "  # data.tail(7)"
      ],
      "execution_count": 2,
      "outputs": []
    },
    {
      "cell_type": "code",
      "metadata": {
        "id": "_UA7mXJ0YTM1"
      },
      "source": [
        "# Function to Download Multiple Stations at a Time from AWDB Web Service\n",
        "\n",
        "# stations = ['401:OR:SNTL', '471:ID:SNTL', '591:WA:SNTL']\n",
        "def getData(stations, parameter_of_interest, begindate, enddate):\n",
        "  # data = []\n",
        "  # data_singleDF\n",
        "  # for i in stations:\n",
        "  #   data.append(SOAP_Call(stationtriplets=i,elementCD=parameter_of_interest,begindate=begindate,enddate=enddate))\n",
        "\n",
        "  # data_singleDF =\n",
        " \n",
        "  data_singleDF = reduce(lambda left,right: pd.merge(left,right,left_index=True, right_index=True, how='outer'), [SOAP_Call(stationtriplets=j,elementCD=parameter_of_interest,begindate=begindate,enddate=enddate) for j in stations])\n",
        "  # data_singleDF.rename(columns='bla')\n",
        "  data_singleDF.columns = [f'{j}' for j in stations]\n",
        "\n",
        "  # index = np.array([data_singleDF.columns.values, data_singleDF.iloc[1].values])\n",
        "  # data_singleDF = pd.MultiIndex.from_arrays(index)\n",
        "  # data_singleDF = data_singleDF.iloc[1:]\n",
        "\n",
        "  # data_singleDF.xs('price', axis=1, level=1, drop_level=False)\n",
        "\n",
        "\n",
        "  return data_singleDF"
      ],
      "execution_count": 4,
      "outputs": []
    },
    {
      "cell_type": "code",
      "metadata": {
        "id": "DXsuBldQ4Q86"
      },
      "source": [
        "#Choose Regression Model\n",
        "\n",
        "def regressionModel(regression_model):\n",
        "  if regression_model == 'Lasso':\n",
        "    regr0 = LassoCV(alphas=(0.001,0.01,0.1,1,10,100,1000))\n",
        "    return regr0\n",
        "  elif regression_model == 'Ridge':\n",
        "    regr0 = RidgeCV(alphas=(0.001,0.01,0.1,1,10,100,1000))\n",
        "    return regr0\n",
        "  elif regression_model == 'SVM':\n",
        "    regr0 = svm.SVR(kernel='rbf', degree=3, gamma='scale', coef0=0.0, tol=0.001, C=1.0, epsilon=0.1, shrinking=True, cache_size=200, verbose=False, max_iter=-1)\n",
        "    return regr0\n",
        "  elif regression_model == 'Huber':\n",
        "    regr0 = HuberRegressor()\n",
        "    return regr0\n",
        "  elif regression_model == 'GradientBoost':\n",
        "    regr0 = GradientBoostingRegressor(random_state=0, n_estimators=100)\n",
        "    return regr0\n",
        "  elif regression_model == 'AdaBoost':\n",
        "    regr0 = AdaBoostRegressor(random_state=0, n_estimators=100)\n",
        "    return regr0\n",
        "  elif regression_model == 'Random Forest':\n",
        "    regr0 = RandomForestRegressor(n_estimators=100)\n",
        "    return regr0\n",
        "  else:\n",
        "    print('Choose either Lasso, Ridge, SVM, Huber, GradientBoost, AdaBoost, or Random Forest')\n",
        "\n",
        "  # return regr0"
      ],
      "execution_count": 35,
      "outputs": []
    },
    {
      "cell_type": "markdown",
      "metadata": {
        "id": "DKMxThhvw9Gd"
      },
      "source": [
        "# Regression with selected data"
      ]
    },
    {
      "cell_type": "markdown",
      "metadata": {
        "id": "MMeaRHXDx_TH"
      },
      "source": [
        "### Fit Model to Parameter and Date Range of Choice"
      ]
    },
    {
      "cell_type": "code",
      "metadata": {
        "id": "uYX3m91BZGx-"
      },
      "source": [
        "# def fitData(stations, parameter_of_interest, begindate, enddate, regression_model):\n",
        "\n",
        "#   global data, target, target0, features, features0, features_list\n",
        "# #Choose Regression Model\n",
        "#   if regression_model == 'Lasso':\n",
        "#     regr0 = LassoCV(alphas=(0.001,0.01,0.1,1,10,100,1000))\n",
        "#   elif regression_model == 'Ridge':\n",
        "#     regr0 = RidgeCV(alphas=(0.001,0.01,0.1,1,10,100,1000))\n",
        "#   elif regression_model == 'SVM':\n",
        "#     regr0 = svm.SVR(kernel='rbf', degree=3, gamma='scale', coef0=0.0, tol=0.001, C=1.0, epsilon=0.1, shrinking=True, cache_size=200, verbose=False, max_iter=-1)\n",
        "#   elif regression_model == 'Huber':\n",
        "#     regr0 = HuberRegressor()\n",
        "#   elif regression_model == 'GradientBoost':\n",
        "#     regr0 = GradientBoostingRegressor(random_state=0, n_estimators=100)\n",
        "#   elif regression_model == 'AdaBoost':\n",
        "#     regr0 = AdaBoostRegressor(random_state=0, n_estimators=100)\n",
        "#   elif regression_model == 'Random Forest':\n",
        "#     regr0 = RandomForestRegressor(n_estimators=100)\n",
        "#   else:\n",
        "#     print('Choose either Lasso, Ridge, SVM, Huber, GradientBoost, AdaBoost, or Random Forest')\n",
        "\n",
        "# #Download Data from AWDB Web Service\n",
        "#   data = getData(stations, parameter_of_interest='WTEQ', begindate, enddate)\n",
        "\n",
        "# #Define Targets and Features (e.g. Dependent and Independent Variables)\n",
        "#   target0 = data[0][parameter_of_interest]   #Need to keep a copy of target in a dataFrame in order to extract index/datetime for plots\n",
        "#   target = target0.tolist()\n",
        "\n",
        "#   features0 = data[1:]\n",
        "#   #Need to do this shinanagins in order to place features into a list (instead of a df).  This is required in order for it to be reshaped to fit the appropriate format for sklearn regr0.fit() and regr0.predict()\n",
        "#   features_list = []\n",
        "#   for i in features0:\n",
        "#     i.reset_index(inplace=True)\n",
        "#     features_list.append(i[parameter_of_interest].tolist())\n",
        "\n",
        "#   features = np.array(features_list).reshape(-1,len(stations)-1)\n",
        "\n",
        "# #Fit Mode\n",
        "#   regr0.fit(features, target)\n",
        "\n",
        "\n",
        "\n",
        "#   y_pred = regr0.predict(features)\n",
        "#   # # y_pred2 = pd.DataFrame(y_pred, columns=['y_pred'])\n",
        "#   # # y_pred2['Date'] = target0.index\n",
        "#   # # y_pred2.set_index('Date', inplace=True)\n",
        "\n",
        "#   # # site_list['y_pred'] = y_pred2\n",
        "#   # # abs_error = abs(y_pred - target)\n",
        "#   # # abs_error = pd.DataFrame(abs_error)\n",
        "#   # # abs_error['Date'] = site_list.index\n",
        "#   # # abs_error.set_index('Date',inplace=True)\n",
        "#   # # site_list['abs_error'] = abs_error\n",
        "#   # # site_list_sorted = site_list.sort_values('abs_error',ascending=False)\n",
        "\n",
        "#   fig = make_subplots(\n",
        "#       rows=2, cols=1,\n",
        "#       subplot_titles=('Predictions vs. Actual','Regression Plot')) \n",
        "\n",
        "\n",
        "#   # 'Predictions vs. Actual'\n",
        "#   fig.add_trace(go.Scatter(\n",
        "#       y = target0,\n",
        "#       x = target0.index,\n",
        "#       mode = 'lines',\n",
        "#       name = f'{stations[0]}'\n",
        "#   ), \n",
        "#   row=1, col=1)\n",
        "\n",
        "#   fig.add_trace(go.Scatter(\n",
        "#       y = y_pred,\n",
        "#       x = target0.index,\n",
        "#       mode = 'lines',\n",
        "#       name = 'model predictions'\n",
        "#   ), \n",
        "#   row=1, col=1)\n",
        "\n",
        "#   # # # Regression Plot # # # \n",
        "#   fig.add_trace(go.Scatter(\n",
        "#     x=data[1][parameter_of_interest],\n",
        "#     y=target0,\n",
        "#     mode='markers',\n",
        "#     # hovertext = site_list.index,\n",
        "#     marker=dict(size=5, line=dict(width=1.2))   \n",
        "#   ), \n",
        "#   row=2, col=1\n",
        "#   )\n",
        "\n",
        "#   fig.add_trace(go.Scatter(\n",
        "#     x=data[1][parameter_of_interest],\n",
        "#     y=y_pred,\n",
        "#     mode='lines',\n",
        "#     hovertext = y_pred,  \n",
        "#   ), \n",
        "#   row=2, col=1)\n",
        "\n",
        "#   fig.update_xaxes(title_text = f\"{parameter_of_interest}\", row=1, col=1)\n",
        "#   fig.update_yaxes(title_text = 'Date', row=1, col=1) \n",
        "\n",
        "#   # fig.update_xaxes(title_text = f\"{site_list.columns[0]}\", row=2, col=1)\n",
        "#   # fig.update_yaxes(title_text = f'{site_list.columns[1:len(stations)', row=2, col=1) \n",
        "\n",
        "#   fig.update_layout(\n",
        "#       showlegend=False,\n",
        "#       height=1550,\n",
        "#       width=1150 \n",
        "#   )\n",
        "#   fig.show()"
      ],
      "execution_count": null,
      "outputs": []
    },
    {
      "cell_type": "code",
      "metadata": {
        "id": "06MhhUs63qup"
      },
      "source": [
        "def trainModel(stations, parameter_of_interest, begindate, enddate, regression_model, test_size):\n",
        "\n",
        "  global data, target, features, features_test, features_train, target_test, target_train, target_test_pred, target_train_pred, df_train, df_test, regr, regr0\n",
        "\n",
        "\n",
        "#Download Data from AWDB Web Service\n",
        "  data = getData(stations, parameter_of_interest, begindate, enddate)\n",
        "\n",
        "#Define Targets and Features (e.g. Dependent and Independent Variables)\n",
        "  target = data.iloc[:,0]\n",
        "  features = data.iloc[:,1:]\n",
        "\n",
        "#Split into training and test sets\n",
        "  features_train, features_test, target_train, target_test = train_test_split(features,target, test_size=test_size,shuffle=False)\n",
        "\n",
        "# Choose Regression Model:\n",
        "\n",
        "  regr = regressionModel(regression_model)\n",
        "  # regr0 = RandomForestRegressor(n_estimators=100)\n",
        "#Fit model on training set\n",
        "  regr.fit(features_train, target_train)\n",
        "\n",
        "#Run predictions on training features and test features\n",
        "  target_train_pred = regr.predict(features_train)\n",
        "  target_test_pred = regr.predict(features_test)\n",
        "  \n",
        "#Combine everything into a training and test Dataframes to be quickly referenced when plotting.\n",
        "\n",
        "  # df_train = features_train.iloc[:,:]\n",
        "  # df_train['Target'] = target_train\n",
        "  # df_train['Predictions'] = target_train_pred.tolist()\n",
        "\n",
        "  # df_test = features_test\n",
        "  # df_test['Target'] = target_test\n",
        "  # df_test['Predictions'] = target_test_pred.tolist()\n",
        "\n",
        "\n",
        "\n",
        "\n",
        "  fig = make_subplots(\n",
        "      rows=4, cols=1,\n",
        "      # subplot_titles=('Predictions vs. Actual - Training Set','Predictions vs. Actual - Test Set', 'Regression Fit')\n",
        "      )# - Training Set', 'Regression Fit - Test Set')\n",
        "\n",
        "\n",
        "  # 'Predictions vs. Actual - Training Set'\n",
        "  # fig.add_trace(go.Scatter(\n",
        "  #     y = target,\n",
        "  #     x = target.index,\n",
        "  #     mode = 'lines',\n",
        "  #     name = f'{stations[0]}'\n",
        "  # ), \n",
        "  # row=1, col=1)\n",
        "\n",
        "  fig.add_trace(go.Scatter(\n",
        "      y = target_train,\n",
        "      x = target_train.index,\n",
        "      mode = 'lines',\n",
        "      name = 'Training'\n",
        "  ), \n",
        "  row=1, col=1)\n",
        "\n",
        "  fig.add_trace(go.Scatter(\n",
        "      y = target_train_pred,\n",
        "      x = target_train.index,\n",
        "      mode = 'lines',\n",
        "      name = 'Model Predictions on Training Data'\n",
        "  ), \n",
        "  row=1, col=1)\n",
        "\n",
        "\n",
        "  fig.add_trace(go.Scatter(\n",
        "      y = target_test,\n",
        "      x = target_test.index,\n",
        "      mode = 'lines',\n",
        "      name = 'Test Data'\n",
        "  ), \n",
        "  row=2, col=1)\n",
        "\n",
        "  fig.add_trace(go.Scatter(\n",
        "      y = target_test_pred,\n",
        "      x = target_test.index,\n",
        "      mode = 'lines',\n",
        "      name = 'Model Predictions on Training Data'\n",
        "  ), \n",
        "  row=2, col=1)\n",
        "\n",
        "  # # # # # Regression Plot # # # \n",
        "\n",
        "  # fig.add_trace(go.Scatter(\n",
        "  #   x=features_train.iloc[:,0],\n",
        "  #   y=target_train,\n",
        "  #   mode='markers',\n",
        "  #   # hovertext = ytrain_pred.tolist(),  \n",
        "  # ), \n",
        "  # row=3, col=1)\n",
        "\n",
        "  # fig.add_trace(go.Scatter(\n",
        "  #   x=features_train.iloc[:,0],\n",
        "  #   y=pd.DataFrame(target_train_pred.tolist()).iloc[:,0],\n",
        "  #   mode='markers',\n",
        "  #   # hovertext = ytrain_pred.tolist(),  \n",
        "  # ), \n",
        "  # row=3, col=1)\n",
        "  \n",
        "  # # fig.add_trace(go.Scatter(\n",
        "  # #   x=X_test,\n",
        "  # #   y=ytest_pred.tolist(),\n",
        "  # #   mode='lines',\n",
        "  # #   hovertext = ytest_pred,  \n",
        "  # # ), \n",
        "  # # row=3, col=1)\n",
        "\n",
        "  # # fig.update_xaxes(title_text = f\"{parameter_of_interest}\", row=1, col=1)\n",
        "  # # fig.update_yaxes(title_text = 'Date', row=1, col=1) \n",
        "\n",
        "  # # # fig.update_xaxes(title_text = f\"{site_list.columns[0]}\", row=2, col=1)\n",
        "  # # # fig.update_yaxes(title_text = f'{site_list.columns[1:len(stations)', row=2, col=1) \n",
        "\n",
        "  fig.update_layout(\n",
        "      showlegend=True,\n",
        "      height=2000,\n",
        "      width=1200 \n",
        "  )\n",
        "  fig.show()"
      ],
      "execution_count": 50,
      "outputs": []
    },
    {
      "cell_type": "code",
      "metadata": {
        "id": "R0uvhY4NFugy"
      },
      "source": [
        ""
      ],
      "execution_count": null,
      "outputs": []
    },
    {
      "cell_type": "markdown",
      "metadata": {
        "id": "dOAen6_ZySb-"
      },
      "source": [
        "### Make Predictions with New Date Range Using Fitted Model"
      ]
    },
    {
      "cell_type": "code",
      "metadata": {
        "colab": {
          "base_uri": "https://localhost:8080/"
        },
        "id": "-xD8_mCPi9c9",
        "outputId": "e8588921-5276-489e-9ea5-f41631eb84f6"
      },
      "source": [
        "type(regr)"
      ],
      "execution_count": 44,
      "outputs": [
        {
          "output_type": "execute_result",
          "data": {
            "text/plain": [
              "NoneType"
            ]
          },
          "metadata": {
            "tags": []
          },
          "execution_count": 44
        }
      ]
    },
    {
      "cell_type": "code",
      "metadata": {
        "colab": {
          "base_uri": "https://localhost:8080/",
          "height": 1000
        },
        "id": "7aeJuRf-jkpH",
        "outputId": "bdbee61e-b3aa-43ef-ac32-d150060cf25f"
      },
      "source": [
        "# stations = ['401:OR:SNTL', '471:ID:SNTL','591:WA:SNTL']\n",
        "stations = ['777:WA:SNTL', '748:WA:SNTL', '553:WA:SNTL']\n",
        "parameter_of_interest = 'WTEQ'\n",
        "begindate='01/01/2000'\n",
        "enddate='01/01/2004'\n",
        "\n",
        "trainModel(stations, parameter_of_interest, begindate = begindate, enddate=enddate, regression_model='Random Forest', test_size=0.1)"
      ],
      "execution_count": 51,
      "outputs": [
        {
          "output_type": "display_data",
          "data": {
            "text/html": [
              "<html>\n",
              "<head><meta charset=\"utf-8\" /></head>\n",
              "<body>\n",
              "    <div>\n",
              "            <script src=\"https://cdnjs.cloudflare.com/ajax/libs/mathjax/2.7.5/MathJax.js?config=TeX-AMS-MML_SVG\"></script><script type=\"text/javascript\">if (window.MathJax) {MathJax.Hub.Config({SVG: {font: \"STIX-Web\"}});}</script>\n",
              "                <script type=\"text/javascript\">window.PlotlyConfig = {MathJaxConfig: 'local'};</script>\n",
              "        <script src=\"https://cdn.plot.ly/plotly-latest.min.js\"></script>    \n",
              "            <div id=\"ccaa53a4-3f27-49e1-9201-49421a340c21\" class=\"plotly-graph-div\" style=\"height:2000px; width:1200px;\"></div>\n",
              "            <script type=\"text/javascript\">\n",
              "                \n",
              "                    window.PLOTLYENV=window.PLOTLYENV || {};\n",
              "                    \n",
              "                if (document.getElementById(\"ccaa53a4-3f27-49e1-9201-49421a340c21\")) {\n",
              "                    Plotly.newPlot(\n",
              "                        'ccaa53a4-3f27-49e1-9201-49421a340c21',\n",
              "                        [{\"mode\": \"lines\", \"name\": \"Training\", \"type\": \"scatter\", \"x\": [\"2000-01-02\", \"2000-01-03\", \"2000-01-04\", \"2000-01-05\", \"2000-01-06\", \"2000-01-07\", \"2000-01-08\", \"2000-01-09\", \"2000-01-10\", \"2000-01-11\", \"2000-01-12\", \"2000-01-13\", \"2000-01-14\", \"2000-01-15\", \"2000-01-16\", \"2000-01-17\", \"2000-01-18\", \"2000-01-19\", \"2000-01-20\", \"2000-01-21\", \"2000-01-22\", \"2000-01-23\", \"2000-01-24\", \"2000-01-25\", \"2000-01-26\", \"2000-01-27\", \"2000-01-28\", \"2000-01-29\", \"2000-01-30\", \"2000-01-31\", \"2000-02-01\", \"2000-02-02\", \"2000-02-03\", \"2000-02-04\", \"2000-02-05\", \"2000-02-06\", \"2000-02-07\", \"2000-02-08\", \"2000-02-09\", \"2000-02-10\", \"2000-02-11\", \"2000-02-12\", \"2000-02-13\", \"2000-02-14\", \"2000-02-15\", \"2000-02-16\", \"2000-02-17\", \"2000-02-18\", \"2000-02-19\", \"2000-02-20\", \"2000-02-21\", \"2000-02-22\", \"2000-02-23\", \"2000-02-24\", \"2000-02-25\", \"2000-02-26\", \"2000-02-27\", \"2000-02-28\", \"2000-02-29\", \"2000-03-01\", \"2000-03-02\", \"2000-03-03\", \"2000-03-04\", \"2000-03-05\", \"2000-03-06\", \"2000-03-07\", \"2000-03-08\", \"2000-03-09\", \"2000-03-10\", \"2000-03-11\", \"2000-03-12\", \"2000-03-13\", \"2000-03-14\", \"2000-03-15\", \"2000-03-16\", \"2000-03-17\", \"2000-03-18\", \"2000-03-19\", \"2000-03-20\", \"2000-03-21\", \"2000-03-22\", \"2000-03-23\", \"2000-03-24\", \"2000-03-25\", \"2000-03-26\", \"2000-03-27\", \"2000-03-28\", \"2000-03-29\", \"2000-03-30\", \"2000-03-31\", \"2000-04-01\", \"2000-04-02\", \"2000-04-03\", \"2000-04-04\", \"2000-04-05\", \"2000-04-06\", \"2000-04-07\", \"2000-04-08\", \"2000-04-09\", \"2000-04-10\", \"2000-04-11\", \"2000-04-12\", \"2000-04-13\", \"2000-04-14\", \"2000-04-15\", \"2000-04-16\", \"2000-04-17\", \"2000-04-18\", \"2000-04-19\", \"2000-04-20\", \"2000-04-21\", \"2000-04-22\", \"2000-04-23\", \"2000-04-24\", \"2000-04-25\", \"2000-04-26\", \"2000-04-27\", \"2000-04-28\", \"2000-04-29\", \"2000-04-30\", \"2000-05-01\", \"2000-05-02\", \"2000-05-03\", \"2000-05-04\", \"2000-05-05\", \"2000-05-06\", \"2000-05-07\", \"2000-05-08\", \"2000-05-09\", \"2000-05-10\", \"2000-05-11\", \"2000-05-12\", \"2000-05-13\", \"2000-05-14\", \"2000-05-15\", \"2000-05-16\", \"2000-05-17\", \"2000-05-18\", \"2000-05-19\", \"2000-05-20\", \"2000-05-21\", \"2000-05-22\", \"2000-05-23\", \"2000-05-24\", \"2000-05-25\", \"2000-05-26\", \"2000-05-27\", \"2000-05-28\", \"2000-05-29\", \"2000-05-30\", \"2000-05-31\", \"2000-06-01\", \"2000-06-02\", \"2000-06-03\", \"2000-06-04\", \"2000-06-05\", \"2000-06-06\", \"2000-06-07\", \"2000-06-08\", \"2000-06-09\", \"2000-06-10\", \"2000-06-11\", \"2000-06-12\", \"2000-06-13\", \"2000-06-14\", \"2000-06-15\", \"2000-06-16\", \"2000-06-17\", \"2000-06-18\", \"2000-06-19\", \"2000-06-20\", \"2000-06-21\", \"2000-06-22\", \"2000-06-23\", \"2000-06-24\", \"2000-06-25\", \"2000-06-26\", \"2000-06-27\", \"2000-06-28\", \"2000-06-29\", \"2000-06-30\", \"2000-07-01\", \"2000-07-02\", \"2000-07-03\", \"2000-07-04\", \"2000-07-05\", \"2000-07-06\", \"2000-07-07\", \"2000-07-08\", \"2000-07-09\", \"2000-07-10\", \"2000-07-11\", \"2000-07-12\", \"2000-07-13\", \"2000-07-14\", \"2000-07-15\", \"2000-07-16\", \"2000-07-17\", \"2000-07-18\", \"2000-07-19\", \"2000-07-20\", \"2000-07-21\", \"2000-07-22\", \"2000-07-23\", \"2000-07-24\", \"2000-07-25\", \"2000-07-26\", \"2000-07-27\", \"2000-07-28\", \"2000-07-29\", \"2000-07-30\", \"2000-07-31\", \"2000-08-01\", \"2000-08-02\", \"2000-08-03\", \"2000-08-04\", \"2000-08-05\", \"2000-08-06\", \"2000-08-07\", \"2000-08-08\", \"2000-08-09\", \"2000-08-10\", \"2000-08-11\", \"2000-08-12\", \"2000-08-13\", \"2000-08-14\", \"2000-08-15\", \"2000-08-16\", \"2000-08-17\", \"2000-08-18\", \"2000-08-19\", \"2000-08-20\", \"2000-08-21\", \"2000-08-22\", \"2000-08-23\", \"2000-08-24\", \"2000-08-25\", \"2000-08-26\", \"2000-08-27\", \"2000-08-28\", \"2000-08-29\", \"2000-08-30\", \"2000-08-31\", \"2000-09-01\", \"2000-09-02\", \"2000-09-03\", \"2000-09-04\", \"2000-09-05\", \"2000-09-06\", \"2000-09-07\", \"2000-09-08\", \"2000-09-09\", \"2000-09-10\", \"2000-09-11\", \"2000-09-12\", \"2000-09-13\", \"2000-09-14\", \"2000-09-15\", \"2000-09-16\", \"2000-09-17\", \"2000-09-18\", \"2000-09-19\", \"2000-09-20\", \"2000-09-21\", \"2000-09-22\", \"2000-09-23\", \"2000-09-24\", \"2000-09-25\", \"2000-09-26\", \"2000-09-27\", \"2000-09-28\", \"2000-09-29\", \"2000-09-30\", \"2000-10-01\", \"2000-10-02\", \"2000-10-03\", \"2000-10-04\", \"2000-10-05\", \"2000-10-06\", \"2000-10-07\", \"2000-10-08\", \"2000-10-09\", \"2000-10-10\", \"2000-10-11\", \"2000-10-12\", \"2000-10-13\", \"2000-10-14\", \"2000-10-15\", \"2000-10-16\", \"2000-10-17\", \"2000-10-18\", \"2000-10-19\", \"2000-10-20\", \"2000-10-21\", \"2000-10-22\", \"2000-10-23\", \"2000-10-24\", \"2000-10-25\", \"2000-10-26\", \"2000-10-27\", \"2000-10-28\", \"2000-10-29\", \"2000-10-30\", \"2000-10-31\", \"2000-11-01\", \"2000-11-02\", \"2000-11-03\", \"2000-11-04\", \"2000-11-05\", \"2000-11-06\", \"2000-11-07\", \"2000-11-08\", \"2000-11-09\", \"2000-11-10\", \"2000-11-11\", \"2000-11-12\", \"2000-11-13\", \"2000-11-14\", \"2000-11-15\", \"2000-11-16\", \"2000-11-17\", \"2000-11-18\", \"2000-11-19\", \"2000-11-20\", \"2000-11-21\", \"2000-11-22\", \"2000-11-23\", \"2000-11-24\", \"2000-11-25\", \"2000-11-26\", \"2000-11-27\", \"2000-11-28\", \"2000-11-29\", \"2000-11-30\", \"2000-12-01\", \"2000-12-02\", \"2000-12-03\", \"2000-12-04\", \"2000-12-05\", \"2000-12-06\", \"2000-12-07\", \"2000-12-08\", \"2000-12-09\", \"2000-12-10\", \"2000-12-11\", \"2000-12-12\", \"2000-12-13\", \"2000-12-14\", \"2000-12-15\", \"2000-12-16\", \"2000-12-17\", \"2000-12-18\", \"2000-12-19\", \"2000-12-20\", \"2000-12-21\", \"2000-12-22\", \"2000-12-23\", \"2000-12-24\", \"2000-12-25\", \"2000-12-26\", \"2000-12-27\", \"2000-12-28\", \"2000-12-29\", \"2000-12-30\", \"2000-12-31\", \"2001-01-01\", \"2001-01-02\", \"2001-01-03\", \"2001-01-04\", \"2001-01-05\", \"2001-01-06\", \"2001-01-07\", \"2001-01-08\", \"2001-01-09\", \"2001-01-10\", \"2001-01-11\", \"2001-01-12\", \"2001-01-13\", \"2001-01-14\", \"2001-01-15\", \"2001-01-16\", \"2001-01-17\", \"2001-01-18\", \"2001-01-19\", \"2001-01-20\", \"2001-01-21\", \"2001-01-22\", \"2001-01-23\", \"2001-01-24\", \"2001-01-25\", \"2001-01-26\", \"2001-01-27\", \"2001-01-28\", \"2001-01-29\", \"2001-01-30\", \"2001-01-31\", \"2001-02-01\", \"2001-02-02\", \"2001-02-03\", \"2001-02-04\", \"2001-02-05\", \"2001-02-06\", \"2001-02-07\", \"2001-02-08\", \"2001-02-09\", \"2001-02-10\", \"2001-02-11\", \"2001-02-12\", \"2001-02-13\", \"2001-02-14\", \"2001-02-15\", \"2001-02-16\", \"2001-02-17\", \"2001-02-18\", \"2001-02-19\", \"2001-02-20\", \"2001-02-21\", \"2001-02-22\", \"2001-02-23\", \"2001-02-24\", \"2001-02-25\", \"2001-02-26\", \"2001-02-27\", \"2001-02-28\", \"2001-03-01\", \"2001-03-02\", \"2001-03-03\", \"2001-03-04\", \"2001-03-05\", \"2001-03-06\", \"2001-03-07\", \"2001-03-08\", \"2001-03-09\", \"2001-03-10\", \"2001-03-11\", \"2001-03-12\", \"2001-03-13\", \"2001-03-14\", \"2001-03-15\", \"2001-03-16\", \"2001-03-17\", \"2001-03-18\", \"2001-03-19\", \"2001-03-20\", \"2001-03-21\", \"2001-03-22\", \"2001-03-23\", \"2001-03-24\", \"2001-03-25\", \"2001-03-26\", \"2001-03-27\", \"2001-03-28\", \"2001-03-29\", \"2001-03-30\", \"2001-03-31\", \"2001-04-01\", \"2001-04-02\", \"2001-04-03\", \"2001-04-04\", \"2001-04-05\", \"2001-04-06\", \"2001-04-07\", \"2001-04-08\", \"2001-04-09\", \"2001-04-10\", \"2001-04-11\", \"2001-04-12\", \"2001-04-13\", \"2001-04-14\", \"2001-04-15\", \"2001-04-16\", \"2001-04-17\", \"2001-04-18\", \"2001-04-19\", \"2001-04-20\", \"2001-04-21\", \"2001-04-22\", \"2001-04-23\", \"2001-04-24\", \"2001-04-25\", \"2001-04-26\", \"2001-04-27\", \"2001-04-28\", \"2001-04-29\", \"2001-04-30\", \"2001-05-01\", \"2001-05-02\", \"2001-05-03\", \"2001-05-04\", \"2001-05-05\", \"2001-05-06\", \"2001-05-07\", \"2001-05-08\", \"2001-05-09\", \"2001-05-10\", \"2001-05-11\", \"2001-05-12\", \"2001-05-13\", \"2001-05-14\", \"2001-05-15\", \"2001-05-16\", \"2001-05-17\", \"2001-05-18\", \"2001-05-19\", \"2001-05-20\", \"2001-05-21\", \"2001-05-22\", \"2001-05-23\", \"2001-05-24\", \"2001-05-25\", \"2001-05-26\", \"2001-05-27\", \"2001-05-28\", \"2001-05-29\", \"2001-05-30\", \"2001-05-31\", \"2001-06-01\", \"2001-06-02\", \"2001-06-03\", \"2001-06-04\", \"2001-06-05\", \"2001-06-06\", \"2001-06-07\", \"2001-06-08\", \"2001-06-09\", \"2001-06-10\", \"2001-06-11\", \"2001-06-12\", \"2001-06-13\", \"2001-06-14\", \"2001-06-15\", \"2001-06-16\", \"2001-06-17\", \"2001-06-18\", \"2001-06-19\", \"2001-06-20\", \"2001-06-21\", \"2001-06-22\", \"2001-06-23\", \"2001-06-24\", \"2001-06-25\", \"2001-06-26\", \"2001-06-27\", \"2001-06-28\", \"2001-06-29\", \"2001-06-30\", \"2001-07-01\", \"2001-07-02\", \"2001-07-03\", \"2001-07-04\", \"2001-07-05\", \"2001-07-06\", \"2001-07-07\", \"2001-07-08\", \"2001-07-09\", \"2001-07-10\", \"2001-07-11\", \"2001-07-12\", \"2001-07-13\", \"2001-07-14\", \"2001-07-15\", \"2001-07-16\", \"2001-07-17\", \"2001-07-18\", \"2001-07-19\", \"2001-07-20\", \"2001-07-21\", \"2001-07-22\", \"2001-07-23\", \"2001-07-24\", \"2001-07-25\", \"2001-07-26\", \"2001-07-27\", \"2001-07-28\", \"2001-07-29\", \"2001-07-30\", \"2001-07-31\", \"2001-08-01\", \"2001-08-02\", \"2001-08-03\", \"2001-08-04\", \"2001-08-05\", \"2001-08-06\", \"2001-08-07\", \"2001-08-08\", \"2001-08-09\", \"2001-08-10\", \"2001-08-11\", \"2001-08-12\", \"2001-08-13\", \"2001-08-14\", \"2001-08-15\", \"2001-08-16\", \"2001-08-17\", \"2001-08-18\", \"2001-08-19\", \"2001-08-20\", \"2001-08-21\", \"2001-08-22\", \"2001-08-23\", \"2001-08-24\", \"2001-08-25\", \"2001-08-26\", \"2001-08-27\", \"2001-08-28\", \"2001-08-29\", \"2001-08-30\", \"2001-08-31\", \"2001-09-01\", \"2001-09-02\", \"2001-09-03\", \"2001-09-04\", \"2001-09-05\", \"2001-09-06\", \"2001-09-07\", \"2001-09-08\", \"2001-09-09\", \"2001-09-10\", \"2001-09-11\", \"2001-09-12\", \"2001-09-13\", \"2001-09-14\", \"2001-09-15\", \"2001-09-16\", \"2001-09-17\", \"2001-09-18\", \"2001-09-19\", \"2001-09-20\", \"2001-09-21\", \"2001-09-22\", \"2001-09-23\", \"2001-09-24\", \"2001-09-25\", \"2001-09-26\", \"2001-09-27\", \"2001-09-28\", \"2001-09-29\", \"2001-09-30\", \"2001-10-01\", \"2001-10-02\", \"2001-10-03\", \"2001-10-04\", \"2001-10-05\", \"2001-10-06\", \"2001-10-07\", \"2001-10-08\", \"2001-10-09\", \"2001-10-10\", \"2001-10-11\", \"2001-10-12\", \"2001-10-13\", \"2001-10-14\", \"2001-10-15\", \"2001-10-16\", \"2001-10-17\", \"2001-10-18\", \"2001-10-19\", \"2001-10-20\", \"2001-10-21\", \"2001-10-22\", \"2001-10-23\", \"2001-10-24\", \"2001-10-25\", \"2001-10-26\", \"2001-10-27\", \"2001-10-28\", \"2001-10-29\", \"2001-10-30\", \"2001-10-31\", \"2001-11-01\", \"2001-11-02\", \"2001-11-03\", \"2001-11-04\", \"2001-11-05\", \"2001-11-06\", \"2001-11-07\", \"2001-11-08\", \"2001-11-09\", \"2001-11-10\", \"2001-11-11\", \"2001-11-12\", \"2001-11-13\", \"2001-11-14\", \"2001-11-15\", \"2001-11-16\", \"2001-11-17\", \"2001-11-18\", \"2001-11-19\", \"2001-11-20\", \"2001-11-21\", \"2001-11-22\", \"2001-11-23\", \"2001-11-24\", \"2001-11-25\", \"2001-11-26\", \"2001-11-27\", \"2001-11-28\", \"2001-11-29\", \"2001-11-30\", \"2001-12-01\", \"2001-12-02\", \"2001-12-03\", \"2001-12-04\", \"2001-12-05\", \"2001-12-06\", \"2001-12-07\", \"2001-12-08\", \"2001-12-09\", \"2001-12-10\", \"2001-12-11\", \"2001-12-12\", \"2001-12-13\", \"2001-12-14\", \"2001-12-15\", \"2001-12-16\", \"2001-12-17\", \"2001-12-18\", \"2001-12-19\", \"2001-12-20\", \"2001-12-21\", \"2001-12-22\", \"2001-12-23\", \"2001-12-24\", \"2001-12-25\", \"2001-12-26\", \"2001-12-27\", \"2001-12-28\", \"2001-12-29\", \"2001-12-30\", \"2001-12-31\", \"2002-01-01\", \"2002-01-02\", \"2002-01-03\", \"2002-01-04\", \"2002-01-05\", \"2002-01-06\", \"2002-01-07\", \"2002-01-08\", \"2002-01-09\", \"2002-01-10\", \"2002-01-11\", \"2002-01-12\", \"2002-01-13\", \"2002-01-14\", \"2002-01-15\", \"2002-01-16\", \"2002-01-17\", \"2002-01-18\", \"2002-01-19\", \"2002-01-20\", \"2002-01-21\", \"2002-01-22\", \"2002-01-23\", \"2002-01-24\", \"2002-01-25\", \"2002-01-26\", \"2002-01-27\", \"2002-01-28\", \"2002-01-29\", \"2002-01-30\", \"2002-01-31\", \"2002-02-01\", \"2002-02-02\", \"2002-02-03\", \"2002-02-04\", \"2002-02-05\", \"2002-02-06\", \"2002-02-07\", \"2002-02-08\", \"2002-02-09\", \"2002-02-10\", \"2002-02-11\", \"2002-02-12\", \"2002-02-13\", \"2002-02-14\", \"2002-02-15\", \"2002-02-16\", \"2002-02-17\", \"2002-02-18\", \"2002-02-19\", \"2002-02-20\", \"2002-02-21\", \"2002-02-22\", \"2002-02-23\", \"2002-02-24\", \"2002-02-25\", \"2002-02-26\", \"2002-02-27\", \"2002-02-28\", \"2002-03-01\", \"2002-03-02\", \"2002-03-03\", \"2002-03-04\", \"2002-03-05\", \"2002-03-06\", \"2002-03-07\", \"2002-03-08\", \"2002-03-09\", \"2002-03-10\", \"2002-03-11\", \"2002-03-12\", \"2002-03-13\", \"2002-03-14\", \"2002-03-15\", \"2002-03-16\", \"2002-03-17\", \"2002-03-18\", \"2002-03-19\", \"2002-03-20\", \"2002-03-21\", \"2002-03-22\", \"2002-03-23\", \"2002-03-24\", \"2002-03-25\", \"2002-03-26\", \"2002-03-27\", \"2002-03-28\", \"2002-03-29\", \"2002-03-30\", \"2002-03-31\", \"2002-04-01\", \"2002-04-02\", \"2002-04-03\", \"2002-04-04\", \"2002-04-05\", \"2002-04-06\", \"2002-04-07\", \"2002-04-08\", \"2002-04-09\", \"2002-04-10\", \"2002-04-11\", \"2002-04-12\", \"2002-04-13\", \"2002-04-14\", \"2002-04-15\", \"2002-04-16\", \"2002-04-17\", \"2002-04-18\", \"2002-04-19\", \"2002-04-20\", \"2002-04-21\", \"2002-04-22\", \"2002-04-23\", \"2002-04-24\", \"2002-04-25\", \"2002-04-26\", \"2002-04-27\", \"2002-04-28\", \"2002-04-29\", \"2002-04-30\", \"2002-05-01\", \"2002-05-02\", \"2002-05-03\", \"2002-05-04\", \"2002-05-05\", \"2002-05-06\", \"2002-05-07\", \"2002-05-08\", \"2002-05-09\", \"2002-05-10\", \"2002-05-11\", \"2002-05-12\", \"2002-05-13\", \"2002-05-14\", \"2002-05-15\", \"2002-05-16\", \"2002-05-17\", \"2002-05-18\", \"2002-05-19\", \"2002-05-20\", \"2002-05-21\", \"2002-05-22\", \"2002-05-23\", \"2002-05-24\", \"2002-05-25\", \"2002-05-26\", \"2002-05-27\", \"2002-05-28\", \"2002-05-29\", \"2002-05-30\", \"2002-05-31\", \"2002-06-01\", \"2002-06-02\", \"2002-06-03\", \"2002-06-04\", \"2002-06-05\", \"2002-06-06\", \"2002-06-07\", \"2002-06-08\", \"2002-06-09\", \"2002-06-10\", \"2002-06-11\", \"2002-06-12\", \"2002-06-13\", \"2002-06-14\", \"2002-06-15\", \"2002-06-16\", \"2002-06-17\", \"2002-06-18\", \"2002-06-19\", \"2002-06-20\", \"2002-06-21\", \"2002-06-22\", \"2002-06-23\", \"2002-06-24\", \"2002-06-25\", \"2002-06-26\", \"2002-06-27\", \"2002-06-28\", \"2002-06-29\", \"2002-06-30\", \"2002-07-01\", \"2002-07-02\", \"2002-07-03\", \"2002-07-04\", \"2002-07-05\", \"2002-07-06\", \"2002-07-07\", \"2002-07-08\", \"2002-07-09\", \"2002-07-10\", \"2002-07-11\", \"2002-07-12\", \"2002-07-13\", \"2002-07-14\", \"2002-07-15\", \"2002-07-16\", \"2002-07-17\", \"2002-07-18\", \"2002-07-19\", \"2002-07-20\", \"2002-07-21\", \"2002-07-22\", \"2002-07-23\", \"2002-07-24\", \"2002-07-25\", \"2002-07-26\", \"2002-07-27\", \"2002-07-28\", \"2002-07-29\", \"2002-07-30\", \"2002-07-31\", \"2002-08-01\", \"2002-08-02\", \"2002-08-03\", \"2002-08-04\", \"2002-08-05\", \"2002-08-06\", \"2002-08-07\", \"2002-08-08\", \"2002-08-09\", \"2002-08-10\", \"2002-08-11\", \"2002-08-12\", \"2002-08-13\", \"2002-08-14\", \"2002-08-15\", \"2002-08-16\", \"2002-08-17\", \"2002-08-18\", \"2002-08-19\", \"2002-08-20\", \"2002-08-21\", \"2002-08-22\", \"2002-08-23\", \"2002-08-24\", \"2002-08-25\", \"2002-08-26\", \"2002-08-27\", \"2002-08-28\", \"2002-08-29\", \"2002-08-30\", \"2002-08-31\", \"2002-09-01\", \"2002-09-02\", \"2002-09-03\", \"2002-09-04\", \"2002-09-05\", \"2002-09-06\", \"2002-09-07\", \"2002-09-08\", \"2002-09-09\", \"2002-09-10\", \"2002-09-11\", \"2002-09-12\", \"2002-09-13\", \"2002-09-14\", \"2002-09-15\", \"2002-09-16\", \"2002-09-17\", \"2002-09-18\", \"2002-09-19\", \"2002-09-20\", \"2002-09-21\", \"2002-09-22\", \"2002-09-23\", \"2002-09-24\", \"2002-09-25\", \"2002-09-26\", \"2002-09-27\", \"2002-09-28\", \"2002-09-29\", \"2002-09-30\", \"2002-10-01\", \"2002-10-02\", \"2002-10-03\", \"2002-10-04\", \"2002-10-05\", \"2002-10-06\", \"2002-10-07\", \"2002-10-08\", \"2002-10-09\", \"2002-10-10\", \"2002-10-11\", \"2002-10-12\", \"2002-10-13\", \"2002-10-14\", \"2002-10-15\", \"2002-10-16\", \"2002-10-17\", \"2002-10-18\", \"2002-10-19\", \"2002-10-20\", \"2002-10-21\", \"2002-10-22\", \"2002-10-23\", \"2002-10-24\", \"2002-10-25\", \"2002-10-26\", \"2002-10-27\", \"2002-10-28\", \"2002-10-29\", \"2002-10-30\", \"2002-10-31\", \"2002-11-01\", \"2002-11-02\", \"2002-11-03\", \"2002-11-04\", \"2002-11-05\", \"2002-11-06\", \"2002-11-07\", \"2002-11-08\", \"2002-11-09\", \"2002-11-10\", \"2002-11-11\", \"2002-11-12\", \"2002-11-13\", \"2002-11-14\", \"2002-11-15\", \"2002-11-16\", \"2002-11-17\", \"2002-11-18\", \"2002-11-19\", \"2002-11-20\", \"2002-11-21\", \"2002-11-22\", \"2002-11-23\", \"2002-11-24\", \"2002-11-25\", \"2002-11-26\", \"2002-11-27\", \"2002-11-28\", \"2002-11-29\", \"2002-11-30\", \"2002-12-01\", \"2002-12-02\", \"2002-12-03\", \"2002-12-04\", \"2002-12-05\", \"2002-12-06\", \"2002-12-07\", \"2002-12-08\", \"2002-12-09\", \"2002-12-10\", \"2002-12-11\", \"2002-12-12\", \"2002-12-13\", \"2002-12-14\", \"2002-12-15\", \"2002-12-16\", \"2002-12-17\", \"2002-12-18\", \"2002-12-19\", \"2002-12-20\", \"2002-12-21\", \"2002-12-22\", \"2002-12-23\", \"2002-12-24\", \"2002-12-25\", \"2002-12-26\", \"2002-12-27\", \"2002-12-28\", \"2002-12-29\", \"2002-12-30\", \"2002-12-31\", \"2003-01-01\", \"2003-01-02\", \"2003-01-03\", \"2003-01-04\", \"2003-01-05\", \"2003-01-06\", \"2003-01-07\", \"2003-01-08\", \"2003-01-09\", \"2003-01-10\", \"2003-01-11\", \"2003-01-12\", \"2003-01-13\", \"2003-01-14\", \"2003-01-15\", \"2003-01-16\", \"2003-01-17\", \"2003-01-18\", \"2003-01-19\", \"2003-01-20\", \"2003-01-21\", \"2003-01-22\", \"2003-01-23\", \"2003-01-24\", \"2003-01-25\", \"2003-01-26\", \"2003-01-27\", \"2003-01-28\", \"2003-01-29\", \"2003-01-30\", \"2003-01-31\", \"2003-02-01\", \"2003-02-02\", \"2003-02-03\", \"2003-02-04\", \"2003-02-05\", \"2003-02-06\", \"2003-02-07\", \"2003-02-08\", \"2003-02-09\", \"2003-02-10\", \"2003-02-11\", \"2003-02-12\", \"2003-02-13\", \"2003-02-14\", \"2003-02-15\", \"2003-02-16\", \"2003-02-17\", \"2003-02-18\", \"2003-02-19\", \"2003-02-20\", \"2003-02-21\", \"2003-02-22\", \"2003-02-23\", \"2003-02-24\", \"2003-02-25\", \"2003-02-26\", \"2003-02-27\", \"2003-02-28\", \"2003-03-01\", \"2003-03-02\", \"2003-03-03\", \"2003-03-04\", \"2003-03-05\", \"2003-03-06\", \"2003-03-07\", \"2003-03-08\", \"2003-03-09\", \"2003-03-10\", \"2003-03-11\", \"2003-03-12\", \"2003-03-13\", \"2003-03-14\", \"2003-03-15\", \"2003-03-16\", \"2003-03-17\", \"2003-03-18\", \"2003-03-19\", \"2003-03-20\", \"2003-03-21\", \"2003-03-22\", \"2003-03-23\", \"2003-03-24\", \"2003-03-25\", \"2003-03-26\", \"2003-03-27\", \"2003-03-28\", \"2003-03-29\", \"2003-03-30\", \"2003-03-31\", \"2003-04-01\", \"2003-04-02\", \"2003-04-03\", \"2003-04-04\", \"2003-04-05\", \"2003-04-06\", \"2003-04-07\", \"2003-04-08\", \"2003-04-09\", \"2003-04-10\", \"2003-04-11\", \"2003-04-12\", \"2003-04-13\", \"2003-04-14\", \"2003-04-15\", \"2003-04-16\", \"2003-04-17\", \"2003-04-18\", \"2003-04-19\", \"2003-04-20\", \"2003-04-21\", \"2003-04-22\", \"2003-04-23\", \"2003-04-24\", \"2003-04-25\", \"2003-04-26\", \"2003-04-27\", \"2003-04-28\", \"2003-04-29\", \"2003-04-30\", \"2003-05-01\", \"2003-05-02\", \"2003-05-03\", \"2003-05-04\", \"2003-05-05\", \"2003-05-06\", \"2003-05-07\", \"2003-05-08\", \"2003-05-09\", \"2003-05-10\", \"2003-05-11\", \"2003-05-12\", \"2003-05-13\", \"2003-05-14\", \"2003-05-15\", \"2003-05-16\", \"2003-05-17\", \"2003-05-18\", \"2003-05-19\", \"2003-05-20\", \"2003-05-21\", \"2003-05-22\", \"2003-05-23\", \"2003-05-24\", \"2003-05-25\", \"2003-05-26\", \"2003-05-27\", \"2003-05-28\", \"2003-05-29\", \"2003-05-30\", \"2003-05-31\", \"2003-06-01\", \"2003-06-02\", \"2003-06-03\", \"2003-06-04\", \"2003-06-05\", \"2003-06-06\", \"2003-06-07\", \"2003-06-08\", \"2003-06-09\", \"2003-06-10\", \"2003-06-11\", \"2003-06-12\", \"2003-06-13\", \"2003-06-14\", \"2003-06-15\", \"2003-06-16\", \"2003-06-17\", \"2003-06-18\", \"2003-06-19\", \"2003-06-20\", \"2003-06-21\", \"2003-06-22\", \"2003-06-23\", \"2003-06-24\", \"2003-06-25\", \"2003-06-26\", \"2003-06-27\", \"2003-06-28\", \"2003-06-29\", \"2003-06-30\", \"2003-07-01\", \"2003-07-02\", \"2003-07-03\", \"2003-07-04\", \"2003-07-05\", \"2003-07-06\", \"2003-07-07\", \"2003-07-08\", \"2003-07-09\", \"2003-07-10\", \"2003-07-11\", \"2003-07-12\", \"2003-07-13\", \"2003-07-14\", \"2003-07-15\", \"2003-07-16\", \"2003-07-17\", \"2003-07-18\", \"2003-07-19\", \"2003-07-20\", \"2003-07-21\", \"2003-07-22\", \"2003-07-23\", \"2003-07-24\", \"2003-07-25\", \"2003-07-26\", \"2003-07-27\", \"2003-07-28\", \"2003-07-29\", \"2003-07-30\", \"2003-07-31\", \"2003-08-01\", \"2003-08-02\", \"2003-08-03\", \"2003-08-04\", \"2003-08-05\", \"2003-08-06\", \"2003-08-07\", \"2003-08-08\"], \"xaxis\": \"x\", \"y\": [0.5, 1.8, 2.5, 3.3, 3.4, 3.6, 3.7, 3.6, 4.1, 4.9, 5.8, 6.7, 7.2, 7.7, 8.3, 8.4, 9.2, 9.2, 9.3, 9.2, 9.7, 9.9, 10.0, 10.0, 9.8, 9.8, 10.4, 10.5, 10.0, 9.8, 9.8, 9.9, 9.8, 10.1, 9.7, 9.5, 9.3, 8.6, 7.9, 6.6, 6.6, 6.7, 6.9, 7.1, 8.3, 8.6, 8.8, 8.8, 8.8, 8.8, 8.8, 9.0, 8.4, 8.5, 8.7, 8.8, 9.1, 10.0, 10.0, 10.4, 11.4, 11.3, 11.3, 11.3, 11.6, 11.5, 11.5, 11.5, 11.5, 11.5, 11.9, 12.0, 11.9, 10.8, 11.7, 11.8, 11.9, 12.1, 12.0, 12.8, 12.9, 12.7, 12.1, 12.6, 12.3, 12.0, 11.5, 11.9, 12.5, 12.6, 12.4, 11.9, 10.6, 9.4, 8.3, 8.2, 8.2, 8.8, 8.4, 7.3, 6.3, 5.1, 4.0, 2.8, 1.9, 0.3, 0.0, 0.0, 0.0, 0.0, 0.0, 0.0, 0.0, 0.0, 0.0, 0.0, 0.0, 0.0, 0.0, 0.0, 0.0, 0.0, 0.0, 0.0, 0.0, 0.0, 0.0, 0.0, 0.0, 0.0, 0.0, 0.0, 0.0, 0.0, 0.0, 0.0, 0.0, 0.0, 0.0, 0.0, 0.0, 0.0, 0.0, 0.0, 0.0, 0.0, 0.0, 0.0, 0.0, 0.0, 0.0, 0.0, 0.0, 0.0, 0.0, 0.0, 0.0, 0.0, 0.0, 0.0, 0.0, 0.0, 0.0, 0.0, 0.0, 0.0, 0.0, 0.0, 0.0, 0.0, 0.0, 0.0, 0.0, 0.0, 0.0, 0.0, 0.0, 0.0, 0.0, 0.0, 0.0, 0.0, 0.0, 0.0, 0.0, 0.0, 0.0, 0.0, 0.0, 0.0, 0.0, 0.0, 0.0, 0.0, 0.0, 0.0, 0.0, 0.0, 0.0, 0.0, 0.0, 0.0, 0.0, 0.0, 0.0, 0.0, 0.0, 0.0, 0.0, 0.0, 0.0, 0.0, 0.0, 0.0, 0.0, 0.0, 0.0, 0.0, 0.0, 0.0, 0.0, 0.0, 0.0, 0.0, 0.0, 0.0, 0.0, 0.0, 0.0, 0.0, 0.0, 0.0, 0.0, 0.0, 0.0, 0.0, 0.0, 0.0, 0.0, 0.0, 0.0, 0.0, 0.0, 0.0, 0.0, 0.0, 0.0, 0.0, 0.0, 0.0, 0.0, 0.0, 0.0, 0.0, 0.0, 0.0, 0.0, 0.0, 0.0, 0.0, 0.0, 0.0, 0.0, 0.0, 0.0, 0.0, 0.0, 0.0, 0.0, 0.0, 0.0, 0.0, 0.0, 0.0, 0.0, 0.0, 0.0, 0.0, 0.0, 0.0, 0.0, 0.0, 0.0, 0.0, 0.0, 0.0, 0.0, 0.0, 0.0, 0.0, 0.0, 0.0, 0.0, 0.0, 0.0, 0.0, 0.0, 0.0, 0.0, 0.0, 0.0, 0.0, 0.0, 0.0, 0.0, 0.0, 0.0, 0.0, 0.0, 0.0, 0.0, 0.0, 0.0, 0.7, 0.7, 0.6, 0.6, 0.7, 0.6, 0.6, 1.0, 0.9, 0.8, 1.0, 0.9, 0.9, 0.9, 1.0, 0.6, 0.3, 0.3, 0.2, 0.5, 0.7, 1.2, 0.9, 0.8, 1.0, 0.4, 0.2, 0.1, 0.0, 0.0, 0.1, 0.3, 0.5, 0.7, 0.9, 1.0, 1.3, 1.4, 2.2, 2.2, 2.1, 2.2, 2.1, 2.5, 3.2, 3.6, 3.9, 3.9, 3.7, 3.5, 3.3, 3.2, 2.5, 2.4, 1.9, 1.5, 0.8, 0.1, 0.0, 0.0, 0.1, 0.3, 0.7, 0.8, 0.8, 0.9, 1.5, 1.6, 1.6, 1.6, 1.6, 1.4, 1.4, 1.4, 1.4, 1.2, 1.2, 1.3, 1.1, 1.1, 1.0, 1.0, 1.7, 2.3, 2.3, 2.3, 2.9, 3.4, 2.7, 2.7, 2.7, 2.7, 2.8, 2.8, 2.8, 2.8, 2.9, 3.2, 3.4, 3.3, 3.4, 3.2, 3.3, 3.2, 3.1, 3.3, 3.3, 3.5, 3.7, 4.0, 3.7, 3.2, 2.8, 3.0, 3.7, 4.0, 4.1, 3.1, 1.6, 0.3, 0.0, 0.0, 0.0, 0.0, 0.0, 0.0, 0.0, 0.2, 0.3, 0.3, 0.0, 0.0, 0.0, 0.0, 0.0, 0.0, 0.0, 0.0, 0.2, 0.3, 0.0, 0.0, 0.0, 0.0, 0.0, 0.0, 0.0, 0.0, 0.0, 0.2, 0.6, 0.7, 0.4, 1.7, 2.0, 1.9, 2.1, 2.1, 1.7, 0.0, 0.0, 0.0, 0.0, 0.0, 0.0, 0.0, 0.0, 0.0, 0.0, 0.0, 0.0, 0.0, 0.0, 0.0, 1.3, 1.2, 0.2, 0.0, 0.0, 0.0, 0.0, 0.0, 0.0, 0.0, 0.0, 0.0, 0.0, 0.0, 0.0, 0.0, 0.0, 0.0, 0.0, 0.0, 0.0, 0.0, 0.0, 0.0, 0.0, 0.0, 0.0, 0.0, 0.0, 0.0, 0.0, 0.0, 0.0, 0.0, 0.0, 0.0, 0.0, 0.0, 0.0, 0.0, 0.0, 0.0, 0.0, 0.0, 0.0, 0.0, 0.0, 0.0, 0.0, 0.0, 0.0, 0.0, 0.0, 0.0, 0.0, 0.0, 0.0, 0.0, 0.0, 0.0, 0.0, 0.0, 0.0, 0.0, 0.0, 0.0, 0.0, 0.0, 0.0, 0.0, 0.0, 0.0, 0.0, 0.0, 0.0, 0.0, 0.0, 0.0, 0.0, 0.0, 0.0, 0.0, 0.0, 0.0, 0.0, 0.0, 0.0, 0.0, 0.0, 0.0, 0.0, 0.0, 0.0, 0.0, 0.0, 0.0, 0.0, 0.0, 0.0, 0.0, 0.0, 0.0, 0.0, 0.0, 0.0, 0.0, 0.0, 0.0, 0.0, 0.0, 0.0, 0.0, 0.0, 0.0, 0.0, 0.0, 0.0, 0.0, 0.0, 0.0, 0.0, 0.0, 0.0, 0.0, 0.0, 0.0, 0.0, 0.0, 0.0, 0.0, 0.0, 0.0, 0.0, 0.0, 0.0, 0.0, 0.0, 0.0, 0.0, 0.0, 0.0, 0.0, 0.0, 0.0, 0.0, 0.0, 0.0, 0.0, 0.0, 0.0, 0.0, 0.0, 0.0, 0.0, 0.0, 0.0, 0.0, 0.0, 0.0, 0.0, 0.0, 0.0, 0.0, 0.0, 0.0, 0.0, 0.0, 0.0, 0.0, 0.0, 0.0, 0.0, 0.0, 0.0, 0.0, 0.0, 0.0, 0.0, 0.0, 0.0, 0.0, 0.0, 0.0, 0.0, 0.0, 0.0, 0.0, 0.0, 0.0, 0.0, 0.0, 0.0, 0.0, 0.0, 0.0, 0.0, 0.0, 0.0, 0.0, 0.0, 0.0, 0.0, 0.0, 0.0, 0.4, 0.0, 0.1, 0.3, 0.3, 0.6, 0.6, 3.0, 3.3, 4.2, 5.6, 6.4, 6.8, 7.7, 7.9, 8.5, 8.5, 8.9, 9.2, 10.1, 10.9, 11.0, 10.5, 10.8, 11.1, 10.7, 9.5, 10.7, 10.8, 10.8, 10.8, 10.7, 10.8, 10.8, 10.8, 10.7, 9.4, 9.5, 9.4, 9.3, 9.5, 9.3, 8.5, 8.5, 8.4, 8.4, 6.6, 2.1, 1.0, 0.8, 0.5, 0.0, 0.3, 0.9, 0.9, 1.1, 1.8, 1.8, 2.2, 3.1, 4.3, 4.7, 5.3, 5.5, 6.4, 7.9, 9.1, 9.6, 9.5, 10.0, 10.7, 11.0, 11.0, 10.9, 11.2, 11.2, 11.3, 12.1, 14.5, 15.5, 14.5, 14.2, 14.2, 14.0, 14.0, 14.1, 14.1, 14.0, 14.1, 14.3, 14.4, 14.4, 12.2, 10.6, 10.1, 10.1, 10.1, 10.1, 10.1, 10.2, 10.2, 10.2, 10.2, 10.2, 10.3, 10.7, 10.9, 11.2, 11.6, 12.0, 11.3, 11.6, 12.5, 13.3, 13.6, 14.0, 14.0, 14.0, 15.4, 15.4, 15.1, 15.1, 14.6, 14.7, 14.3, 14.1, 14.5, 15.0, 15.0, 15.0, 14.8, 14.4, 14.0, 13.7, 13.2, 12.6, 12.1, 11.7, 11.0, 10.5, 9.6, 8.4, 6.6, 3.4, 2.9, 3.3, 3.8, 3.9, 3.4, 2.7, 1.8, 0.9, 0.7, 0.0, 0.0, 0.0, 0.0, 0.0, 0.0, 0.0, 0.0, 0.0, 0.0, 0.0, 0.0, 0.0, 0.0, 0.0, 0.0, 0.0, 0.0, 0.0, 0.0, 0.0, 0.0, 0.0, 0.0, 0.0, 0.0, 0.0, 0.0, 0.0, 0.0, 0.0, 0.0, 0.0, 0.0, 0.0, 0.0, 0.0, 0.0, 0.0, 0.0, 0.0, 0.0, 0.0, 0.0, 0.0, 0.0, 0.0, 0.0, 0.0, 0.0, 0.0, 0.0, 0.0, 0.0, 0.0, 0.0, 0.0, 0.0, 0.0, 0.0, 0.0, 0.0, 0.0, 0.0, 0.0, 0.0, 0.0, 0.0, 0.0, 0.0, 0.0, 0.0, 0.0, 0.0, 0.0, 0.0, 0.0, 0.0, 0.0, 0.0, 0.0, 0.0, 0.0, 0.0, 0.0, 0.0, 0.0, 0.0, 0.0, 0.0, 0.0, 0.0, 0.0, 0.0, 0.0, 0.0, 0.0, 0.0, 0.0, 0.0, 0.0, 0.0, 0.0, 0.0, 0.0, 0.0, 0.0, 0.0, 0.0, 0.0, 0.0, 0.0, 0.0, 0.0, 0.0, 0.0, 0.0, 0.0, 0.0, 0.0, 0.0, 0.0, 0.0, 0.0, 0.0, 0.0, 0.0, 0.0, 0.0, 0.0, 0.0, 0.0, 0.0, 0.0, 0.0, 0.0, 0.0, 0.0, 0.0, 0.0, 0.0, 0.0, 0.0, 0.0, 0.0, 0.0, 0.0, 0.0, 0.0, 0.0, 0.0, 0.0, 0.0, 0.0, 0.0, 0.0, 0.0, 0.0, 0.0, 0.0, 0.0, 0.0, 0.0, 0.0, 0.0, 0.0, 0.0, 0.0, 0.0, 0.0, 0.0, 0.0, 0.0, 0.0, 0.0, 0.0, 0.0, 0.0, 0.0, 0.0, 0.0, 0.0, 0.0, 0.0, 0.0, 0.0, 0.0, 0.0, 0.0, 0.0, 0.0, 0.0, 0.0, 0.0, 0.0, 0.1, 0.1, 0.1, 0.1, 0.0, 0.0, 0.0, 0.0, 0.0, 0.0, 0.0, 0.0, 0.0, 0.0, 0.0, 0.0, 0.0, 0.0, 0.0, 0.0, 0.0, 0.0, 0.0, 0.0, 0.0, 0.0, 0.0, 0.0, 0.0, 0.0, 0.0, 0.0, 0.0, 0.0, 0.0, 0.2, 1.0, 1.2, 0.0, 0.0, 0.0, 1.1, 1.6, 1.8, 2.1, 1.3, 1.9, 2.4, 2.5, 2.4, 2.3, 2.7, 3.3, 2.8, 3.2, 4.0, 4.7, 5.0, 5.4, 3.1, 2.4, 1.1, 1.0, 0.5, 0.1, 0.0, 0.0, 0.1, 0.2, 0.3, 0.0, 0.0, 0.0, 0.0, 0.0, 0.0, 0.0, 0.0, 0.0, 0.0, 0.1, 0.0, 0.0, 0.0, 0.0, 0.0, 0.0, 0.0, 0.0, 0.0, 0.0, 0.0, 0.0, 0.0, 0.0, 0.0, 0.0, 0.0, 0.0, 0.0, 0.0, 0.0, 0.0, 0.0, 0.2, 1.0, 1.0, 1.2, 1.2, 1.1, 1.1, 1.1, 1.7, 2.0, 1.9, 2.0, 2.1, 2.2, 3.0, 2.7, 2.7, 4.2, 4.9, 6.3, 6.8, 6.4, 5.3, 4.4, 0.9, 0.4, 0.0, 0.0, 0.0, 0.0, 0.0, 0.0, 0.0, 0.0, 0.0, 0.0, 0.0, 0.0, 0.6, 0.6, 0.4, 0.0, 0.0, 0.0, 0.0, 0.1, 0.5, 0.3, 0.5, 0.5, 0.0, 0.0, 0.0, 0.0, 0.0, 0.0, 0.0, 0.0, 0.0, 0.0, 0.0, 0.0, 0.0, 0.0, 0.0, 0.0, 0.0, 0.0, 0.0, 0.0, 0.0, 0.0, 0.0, 0.0, 0.0, 0.0, 0.0, 0.0, 0.0, 0.0, 0.0, 0.0, 0.0, 0.0, 0.0, 0.0, 0.0, 0.0, 0.0, 0.0, 0.0, 0.0, 0.0, 0.0, 0.0, 0.0, 0.0, 0.0, 0.0, 0.0, 0.0, 0.0, 0.0, 0.0, 0.0, 0.0, 0.0, 0.0, 0.0, 0.0, 0.0, 0.0, 0.0, 0.0, 0.0, 0.0, 0.0, 0.0, 0.0, 0.0, 0.0, 0.0, 0.0, 0.0, 0.0, 0.0, 0.0, 0.0, 0.0, 0.0, 0.0, 0.0, 0.0, 0.0, 0.0, 0.0, 0.0, 0.0, 0.0, 0.0, 0.0, 0.0, 0.0, 0.0, 0.0, 0.0, 0.0, 0.0, 0.0, 0.0, 0.0, 0.0, 0.0, 0.0, 0.0, 0.0, 0.0, 0.0, 0.0, 0.0, 0.0, 0.0, 0.0, 0.0, 0.0, 0.0, 0.0, 0.0, 0.0, 0.0, 0.0, 0.0], \"yaxis\": \"y\"}, {\"mode\": \"lines\", \"name\": \"Model Predictions on Training Data\", \"type\": \"scatter\", \"x\": [\"2000-01-02\", \"2000-01-03\", \"2000-01-04\", \"2000-01-05\", \"2000-01-06\", \"2000-01-07\", \"2000-01-08\", \"2000-01-09\", \"2000-01-10\", \"2000-01-11\", \"2000-01-12\", \"2000-01-13\", \"2000-01-14\", \"2000-01-15\", \"2000-01-16\", \"2000-01-17\", \"2000-01-18\", \"2000-01-19\", \"2000-01-20\", \"2000-01-21\", \"2000-01-22\", \"2000-01-23\", \"2000-01-24\", \"2000-01-25\", \"2000-01-26\", \"2000-01-27\", \"2000-01-28\", \"2000-01-29\", \"2000-01-30\", \"2000-01-31\", \"2000-02-01\", \"2000-02-02\", \"2000-02-03\", \"2000-02-04\", \"2000-02-05\", \"2000-02-06\", \"2000-02-07\", \"2000-02-08\", \"2000-02-09\", \"2000-02-10\", \"2000-02-11\", \"2000-02-12\", \"2000-02-13\", \"2000-02-14\", \"2000-02-15\", \"2000-02-16\", \"2000-02-17\", \"2000-02-18\", \"2000-02-19\", \"2000-02-20\", \"2000-02-21\", \"2000-02-22\", \"2000-02-23\", \"2000-02-24\", \"2000-02-25\", \"2000-02-26\", \"2000-02-27\", \"2000-02-28\", \"2000-02-29\", \"2000-03-01\", \"2000-03-02\", \"2000-03-03\", \"2000-03-04\", \"2000-03-05\", \"2000-03-06\", \"2000-03-07\", \"2000-03-08\", \"2000-03-09\", \"2000-03-10\", \"2000-03-11\", \"2000-03-12\", \"2000-03-13\", \"2000-03-14\", \"2000-03-15\", \"2000-03-16\", \"2000-03-17\", \"2000-03-18\", \"2000-03-19\", \"2000-03-20\", \"2000-03-21\", \"2000-03-22\", \"2000-03-23\", \"2000-03-24\", \"2000-03-25\", \"2000-03-26\", \"2000-03-27\", \"2000-03-28\", \"2000-03-29\", \"2000-03-30\", \"2000-03-31\", \"2000-04-01\", \"2000-04-02\", \"2000-04-03\", \"2000-04-04\", \"2000-04-05\", \"2000-04-06\", \"2000-04-07\", \"2000-04-08\", \"2000-04-09\", \"2000-04-10\", \"2000-04-11\", \"2000-04-12\", \"2000-04-13\", \"2000-04-14\", \"2000-04-15\", \"2000-04-16\", \"2000-04-17\", \"2000-04-18\", \"2000-04-19\", \"2000-04-20\", \"2000-04-21\", \"2000-04-22\", \"2000-04-23\", \"2000-04-24\", \"2000-04-25\", \"2000-04-26\", \"2000-04-27\", \"2000-04-28\", \"2000-04-29\", \"2000-04-30\", \"2000-05-01\", \"2000-05-02\", \"2000-05-03\", \"2000-05-04\", \"2000-05-05\", \"2000-05-06\", \"2000-05-07\", \"2000-05-08\", \"2000-05-09\", \"2000-05-10\", \"2000-05-11\", \"2000-05-12\", \"2000-05-13\", \"2000-05-14\", \"2000-05-15\", \"2000-05-16\", \"2000-05-17\", \"2000-05-18\", \"2000-05-19\", \"2000-05-20\", \"2000-05-21\", \"2000-05-22\", \"2000-05-23\", \"2000-05-24\", \"2000-05-25\", \"2000-05-26\", \"2000-05-27\", \"2000-05-28\", \"2000-05-29\", \"2000-05-30\", \"2000-05-31\", \"2000-06-01\", \"2000-06-02\", \"2000-06-03\", \"2000-06-04\", \"2000-06-05\", \"2000-06-06\", \"2000-06-07\", \"2000-06-08\", \"2000-06-09\", \"2000-06-10\", \"2000-06-11\", \"2000-06-12\", \"2000-06-13\", \"2000-06-14\", \"2000-06-15\", \"2000-06-16\", \"2000-06-17\", \"2000-06-18\", \"2000-06-19\", \"2000-06-20\", \"2000-06-21\", \"2000-06-22\", \"2000-06-23\", \"2000-06-24\", \"2000-06-25\", \"2000-06-26\", \"2000-06-27\", \"2000-06-28\", \"2000-06-29\", \"2000-06-30\", \"2000-07-01\", \"2000-07-02\", \"2000-07-03\", \"2000-07-04\", \"2000-07-05\", \"2000-07-06\", \"2000-07-07\", \"2000-07-08\", \"2000-07-09\", \"2000-07-10\", \"2000-07-11\", \"2000-07-12\", \"2000-07-13\", \"2000-07-14\", \"2000-07-15\", \"2000-07-16\", \"2000-07-17\", \"2000-07-18\", \"2000-07-19\", \"2000-07-20\", \"2000-07-21\", \"2000-07-22\", \"2000-07-23\", \"2000-07-24\", \"2000-07-25\", \"2000-07-26\", \"2000-07-27\", \"2000-07-28\", \"2000-07-29\", \"2000-07-30\", \"2000-07-31\", \"2000-08-01\", \"2000-08-02\", \"2000-08-03\", \"2000-08-04\", \"2000-08-05\", \"2000-08-06\", \"2000-08-07\", \"2000-08-08\", \"2000-08-09\", \"2000-08-10\", \"2000-08-11\", \"2000-08-12\", \"2000-08-13\", \"2000-08-14\", \"2000-08-15\", \"2000-08-16\", \"2000-08-17\", \"2000-08-18\", \"2000-08-19\", \"2000-08-20\", \"2000-08-21\", \"2000-08-22\", \"2000-08-23\", \"2000-08-24\", \"2000-08-25\", \"2000-08-26\", \"2000-08-27\", \"2000-08-28\", \"2000-08-29\", \"2000-08-30\", \"2000-08-31\", \"2000-09-01\", \"2000-09-02\", \"2000-09-03\", \"2000-09-04\", \"2000-09-05\", \"2000-09-06\", \"2000-09-07\", \"2000-09-08\", \"2000-09-09\", \"2000-09-10\", \"2000-09-11\", \"2000-09-12\", \"2000-09-13\", \"2000-09-14\", \"2000-09-15\", \"2000-09-16\", \"2000-09-17\", \"2000-09-18\", \"2000-09-19\", \"2000-09-20\", \"2000-09-21\", \"2000-09-22\", \"2000-09-23\", \"2000-09-24\", \"2000-09-25\", \"2000-09-26\", \"2000-09-27\", \"2000-09-28\", \"2000-09-29\", \"2000-09-30\", \"2000-10-01\", \"2000-10-02\", \"2000-10-03\", \"2000-10-04\", \"2000-10-05\", \"2000-10-06\", \"2000-10-07\", \"2000-10-08\", \"2000-10-09\", \"2000-10-10\", \"2000-10-11\", \"2000-10-12\", \"2000-10-13\", \"2000-10-14\", \"2000-10-15\", \"2000-10-16\", \"2000-10-17\", \"2000-10-18\", \"2000-10-19\", \"2000-10-20\", \"2000-10-21\", \"2000-10-22\", \"2000-10-23\", \"2000-10-24\", \"2000-10-25\", \"2000-10-26\", \"2000-10-27\", \"2000-10-28\", \"2000-10-29\", \"2000-10-30\", \"2000-10-31\", \"2000-11-01\", \"2000-11-02\", \"2000-11-03\", \"2000-11-04\", \"2000-11-05\", \"2000-11-06\", \"2000-11-07\", \"2000-11-08\", \"2000-11-09\", \"2000-11-10\", \"2000-11-11\", \"2000-11-12\", \"2000-11-13\", \"2000-11-14\", \"2000-11-15\", \"2000-11-16\", \"2000-11-17\", \"2000-11-18\", \"2000-11-19\", \"2000-11-20\", \"2000-11-21\", \"2000-11-22\", \"2000-11-23\", \"2000-11-24\", \"2000-11-25\", \"2000-11-26\", \"2000-11-27\", \"2000-11-28\", \"2000-11-29\", \"2000-11-30\", \"2000-12-01\", \"2000-12-02\", \"2000-12-03\", \"2000-12-04\", \"2000-12-05\", \"2000-12-06\", \"2000-12-07\", \"2000-12-08\", \"2000-12-09\", \"2000-12-10\", \"2000-12-11\", \"2000-12-12\", \"2000-12-13\", \"2000-12-14\", \"2000-12-15\", \"2000-12-16\", \"2000-12-17\", \"2000-12-18\", \"2000-12-19\", \"2000-12-20\", \"2000-12-21\", \"2000-12-22\", \"2000-12-23\", \"2000-12-24\", \"2000-12-25\", \"2000-12-26\", \"2000-12-27\", \"2000-12-28\", \"2000-12-29\", \"2000-12-30\", \"2000-12-31\", \"2001-01-01\", \"2001-01-02\", \"2001-01-03\", \"2001-01-04\", \"2001-01-05\", \"2001-01-06\", \"2001-01-07\", \"2001-01-08\", \"2001-01-09\", \"2001-01-10\", \"2001-01-11\", \"2001-01-12\", \"2001-01-13\", \"2001-01-14\", \"2001-01-15\", \"2001-01-16\", \"2001-01-17\", \"2001-01-18\", \"2001-01-19\", \"2001-01-20\", \"2001-01-21\", \"2001-01-22\", \"2001-01-23\", \"2001-01-24\", \"2001-01-25\", \"2001-01-26\", \"2001-01-27\", \"2001-01-28\", \"2001-01-29\", \"2001-01-30\", \"2001-01-31\", \"2001-02-01\", \"2001-02-02\", \"2001-02-03\", \"2001-02-04\", \"2001-02-05\", \"2001-02-06\", \"2001-02-07\", \"2001-02-08\", \"2001-02-09\", \"2001-02-10\", \"2001-02-11\", \"2001-02-12\", \"2001-02-13\", \"2001-02-14\", \"2001-02-15\", \"2001-02-16\", \"2001-02-17\", \"2001-02-18\", \"2001-02-19\", \"2001-02-20\", \"2001-02-21\", \"2001-02-22\", \"2001-02-23\", \"2001-02-24\", \"2001-02-25\", \"2001-02-26\", \"2001-02-27\", \"2001-02-28\", \"2001-03-01\", \"2001-03-02\", \"2001-03-03\", \"2001-03-04\", \"2001-03-05\", \"2001-03-06\", \"2001-03-07\", \"2001-03-08\", \"2001-03-09\", \"2001-03-10\", \"2001-03-11\", \"2001-03-12\", \"2001-03-13\", \"2001-03-14\", \"2001-03-15\", \"2001-03-16\", \"2001-03-17\", \"2001-03-18\", \"2001-03-19\", \"2001-03-20\", \"2001-03-21\", \"2001-03-22\", \"2001-03-23\", \"2001-03-24\", \"2001-03-25\", \"2001-03-26\", \"2001-03-27\", \"2001-03-28\", \"2001-03-29\", \"2001-03-30\", \"2001-03-31\", \"2001-04-01\", \"2001-04-02\", \"2001-04-03\", \"2001-04-04\", \"2001-04-05\", \"2001-04-06\", \"2001-04-07\", \"2001-04-08\", \"2001-04-09\", \"2001-04-10\", \"2001-04-11\", \"2001-04-12\", \"2001-04-13\", \"2001-04-14\", \"2001-04-15\", \"2001-04-16\", \"2001-04-17\", \"2001-04-18\", \"2001-04-19\", \"2001-04-20\", \"2001-04-21\", \"2001-04-22\", \"2001-04-23\", \"2001-04-24\", \"2001-04-25\", \"2001-04-26\", \"2001-04-27\", \"2001-04-28\", \"2001-04-29\", \"2001-04-30\", \"2001-05-01\", \"2001-05-02\", \"2001-05-03\", \"2001-05-04\", \"2001-05-05\", \"2001-05-06\", \"2001-05-07\", \"2001-05-08\", \"2001-05-09\", \"2001-05-10\", \"2001-05-11\", \"2001-05-12\", \"2001-05-13\", \"2001-05-14\", \"2001-05-15\", \"2001-05-16\", \"2001-05-17\", \"2001-05-18\", \"2001-05-19\", \"2001-05-20\", \"2001-05-21\", \"2001-05-22\", \"2001-05-23\", \"2001-05-24\", \"2001-05-25\", \"2001-05-26\", \"2001-05-27\", \"2001-05-28\", \"2001-05-29\", \"2001-05-30\", \"2001-05-31\", \"2001-06-01\", \"2001-06-02\", \"2001-06-03\", \"2001-06-04\", \"2001-06-05\", \"2001-06-06\", \"2001-06-07\", \"2001-06-08\", \"2001-06-09\", \"2001-06-10\", \"2001-06-11\", \"2001-06-12\", \"2001-06-13\", \"2001-06-14\", \"2001-06-15\", \"2001-06-16\", \"2001-06-17\", \"2001-06-18\", \"2001-06-19\", \"2001-06-20\", \"2001-06-21\", \"2001-06-22\", \"2001-06-23\", \"2001-06-24\", \"2001-06-25\", \"2001-06-26\", \"2001-06-27\", \"2001-06-28\", \"2001-06-29\", \"2001-06-30\", \"2001-07-01\", \"2001-07-02\", \"2001-07-03\", \"2001-07-04\", \"2001-07-05\", \"2001-07-06\", \"2001-07-07\", \"2001-07-08\", \"2001-07-09\", \"2001-07-10\", \"2001-07-11\", \"2001-07-12\", \"2001-07-13\", \"2001-07-14\", \"2001-07-15\", \"2001-07-16\", \"2001-07-17\", \"2001-07-18\", \"2001-07-19\", \"2001-07-20\", \"2001-07-21\", \"2001-07-22\", \"2001-07-23\", \"2001-07-24\", \"2001-07-25\", \"2001-07-26\", \"2001-07-27\", \"2001-07-28\", \"2001-07-29\", \"2001-07-30\", \"2001-07-31\", \"2001-08-01\", \"2001-08-02\", \"2001-08-03\", \"2001-08-04\", \"2001-08-05\", \"2001-08-06\", \"2001-08-07\", \"2001-08-08\", \"2001-08-09\", \"2001-08-10\", \"2001-08-11\", \"2001-08-12\", \"2001-08-13\", \"2001-08-14\", \"2001-08-15\", \"2001-08-16\", \"2001-08-17\", \"2001-08-18\", \"2001-08-19\", \"2001-08-20\", \"2001-08-21\", \"2001-08-22\", \"2001-08-23\", \"2001-08-24\", \"2001-08-25\", \"2001-08-26\", \"2001-08-27\", \"2001-08-28\", \"2001-08-29\", \"2001-08-30\", \"2001-08-31\", \"2001-09-01\", \"2001-09-02\", \"2001-09-03\", \"2001-09-04\", \"2001-09-05\", \"2001-09-06\", \"2001-09-07\", \"2001-09-08\", \"2001-09-09\", \"2001-09-10\", \"2001-09-11\", \"2001-09-12\", \"2001-09-13\", \"2001-09-14\", \"2001-09-15\", \"2001-09-16\", \"2001-09-17\", \"2001-09-18\", \"2001-09-19\", \"2001-09-20\", \"2001-09-21\", \"2001-09-22\", \"2001-09-23\", \"2001-09-24\", \"2001-09-25\", \"2001-09-26\", \"2001-09-27\", \"2001-09-28\", \"2001-09-29\", \"2001-09-30\", \"2001-10-01\", \"2001-10-02\", \"2001-10-03\", \"2001-10-04\", \"2001-10-05\", \"2001-10-06\", \"2001-10-07\", \"2001-10-08\", \"2001-10-09\", \"2001-10-10\", \"2001-10-11\", \"2001-10-12\", \"2001-10-13\", \"2001-10-14\", \"2001-10-15\", \"2001-10-16\", \"2001-10-17\", \"2001-10-18\", \"2001-10-19\", \"2001-10-20\", \"2001-10-21\", \"2001-10-22\", \"2001-10-23\", \"2001-10-24\", \"2001-10-25\", \"2001-10-26\", \"2001-10-27\", \"2001-10-28\", \"2001-10-29\", \"2001-10-30\", \"2001-10-31\", \"2001-11-01\", \"2001-11-02\", \"2001-11-03\", \"2001-11-04\", \"2001-11-05\", \"2001-11-06\", \"2001-11-07\", \"2001-11-08\", \"2001-11-09\", \"2001-11-10\", \"2001-11-11\", \"2001-11-12\", \"2001-11-13\", \"2001-11-14\", \"2001-11-15\", \"2001-11-16\", \"2001-11-17\", \"2001-11-18\", \"2001-11-19\", \"2001-11-20\", \"2001-11-21\", \"2001-11-22\", \"2001-11-23\", \"2001-11-24\", \"2001-11-25\", \"2001-11-26\", \"2001-11-27\", \"2001-11-28\", \"2001-11-29\", \"2001-11-30\", \"2001-12-01\", \"2001-12-02\", \"2001-12-03\", \"2001-12-04\", \"2001-12-05\", \"2001-12-06\", \"2001-12-07\", \"2001-12-08\", \"2001-12-09\", \"2001-12-10\", \"2001-12-11\", \"2001-12-12\", \"2001-12-13\", \"2001-12-14\", \"2001-12-15\", \"2001-12-16\", \"2001-12-17\", \"2001-12-18\", \"2001-12-19\", \"2001-12-20\", \"2001-12-21\", \"2001-12-22\", \"2001-12-23\", \"2001-12-24\", \"2001-12-25\", \"2001-12-26\", \"2001-12-27\", \"2001-12-28\", \"2001-12-29\", \"2001-12-30\", \"2001-12-31\", \"2002-01-01\", \"2002-01-02\", \"2002-01-03\", \"2002-01-04\", \"2002-01-05\", \"2002-01-06\", \"2002-01-07\", \"2002-01-08\", \"2002-01-09\", \"2002-01-10\", \"2002-01-11\", \"2002-01-12\", \"2002-01-13\", \"2002-01-14\", \"2002-01-15\", \"2002-01-16\", \"2002-01-17\", \"2002-01-18\", \"2002-01-19\", \"2002-01-20\", \"2002-01-21\", \"2002-01-22\", \"2002-01-23\", \"2002-01-24\", \"2002-01-25\", \"2002-01-26\", \"2002-01-27\", \"2002-01-28\", \"2002-01-29\", \"2002-01-30\", \"2002-01-31\", \"2002-02-01\", \"2002-02-02\", \"2002-02-03\", \"2002-02-04\", \"2002-02-05\", \"2002-02-06\", \"2002-02-07\", \"2002-02-08\", \"2002-02-09\", \"2002-02-10\", \"2002-02-11\", \"2002-02-12\", \"2002-02-13\", \"2002-02-14\", \"2002-02-15\", \"2002-02-16\", \"2002-02-17\", \"2002-02-18\", \"2002-02-19\", \"2002-02-20\", \"2002-02-21\", \"2002-02-22\", \"2002-02-23\", \"2002-02-24\", \"2002-02-25\", \"2002-02-26\", \"2002-02-27\", \"2002-02-28\", \"2002-03-01\", \"2002-03-02\", \"2002-03-03\", \"2002-03-04\", \"2002-03-05\", \"2002-03-06\", \"2002-03-07\", \"2002-03-08\", \"2002-03-09\", \"2002-03-10\", \"2002-03-11\", \"2002-03-12\", \"2002-03-13\", \"2002-03-14\", \"2002-03-15\", \"2002-03-16\", \"2002-03-17\", \"2002-03-18\", \"2002-03-19\", \"2002-03-20\", \"2002-03-21\", \"2002-03-22\", \"2002-03-23\", \"2002-03-24\", \"2002-03-25\", \"2002-03-26\", \"2002-03-27\", \"2002-03-28\", \"2002-03-29\", \"2002-03-30\", \"2002-03-31\", \"2002-04-01\", \"2002-04-02\", \"2002-04-03\", \"2002-04-04\", \"2002-04-05\", \"2002-04-06\", \"2002-04-07\", \"2002-04-08\", \"2002-04-09\", \"2002-04-10\", \"2002-04-11\", \"2002-04-12\", \"2002-04-13\", \"2002-04-14\", \"2002-04-15\", \"2002-04-16\", \"2002-04-17\", \"2002-04-18\", \"2002-04-19\", \"2002-04-20\", \"2002-04-21\", \"2002-04-22\", \"2002-04-23\", \"2002-04-24\", \"2002-04-25\", \"2002-04-26\", \"2002-04-27\", \"2002-04-28\", \"2002-04-29\", \"2002-04-30\", \"2002-05-01\", \"2002-05-02\", \"2002-05-03\", \"2002-05-04\", \"2002-05-05\", \"2002-05-06\", \"2002-05-07\", \"2002-05-08\", \"2002-05-09\", \"2002-05-10\", \"2002-05-11\", \"2002-05-12\", \"2002-05-13\", \"2002-05-14\", \"2002-05-15\", \"2002-05-16\", \"2002-05-17\", \"2002-05-18\", \"2002-05-19\", \"2002-05-20\", \"2002-05-21\", \"2002-05-22\", \"2002-05-23\", \"2002-05-24\", \"2002-05-25\", \"2002-05-26\", \"2002-05-27\", \"2002-05-28\", \"2002-05-29\", \"2002-05-30\", \"2002-05-31\", \"2002-06-01\", \"2002-06-02\", \"2002-06-03\", \"2002-06-04\", \"2002-06-05\", \"2002-06-06\", \"2002-06-07\", \"2002-06-08\", \"2002-06-09\", \"2002-06-10\", \"2002-06-11\", \"2002-06-12\", \"2002-06-13\", \"2002-06-14\", \"2002-06-15\", \"2002-06-16\", \"2002-06-17\", \"2002-06-18\", \"2002-06-19\", \"2002-06-20\", \"2002-06-21\", \"2002-06-22\", \"2002-06-23\", \"2002-06-24\", \"2002-06-25\", \"2002-06-26\", \"2002-06-27\", \"2002-06-28\", \"2002-06-29\", \"2002-06-30\", \"2002-07-01\", \"2002-07-02\", \"2002-07-03\", \"2002-07-04\", \"2002-07-05\", \"2002-07-06\", \"2002-07-07\", \"2002-07-08\", \"2002-07-09\", \"2002-07-10\", \"2002-07-11\", \"2002-07-12\", \"2002-07-13\", \"2002-07-14\", \"2002-07-15\", \"2002-07-16\", \"2002-07-17\", \"2002-07-18\", \"2002-07-19\", \"2002-07-20\", \"2002-07-21\", \"2002-07-22\", \"2002-07-23\", \"2002-07-24\", \"2002-07-25\", \"2002-07-26\", \"2002-07-27\", \"2002-07-28\", \"2002-07-29\", \"2002-07-30\", \"2002-07-31\", \"2002-08-01\", \"2002-08-02\", \"2002-08-03\", \"2002-08-04\", \"2002-08-05\", \"2002-08-06\", \"2002-08-07\", \"2002-08-08\", \"2002-08-09\", \"2002-08-10\", \"2002-08-11\", \"2002-08-12\", \"2002-08-13\", \"2002-08-14\", \"2002-08-15\", \"2002-08-16\", \"2002-08-17\", \"2002-08-18\", \"2002-08-19\", \"2002-08-20\", \"2002-08-21\", \"2002-08-22\", \"2002-08-23\", \"2002-08-24\", \"2002-08-25\", \"2002-08-26\", \"2002-08-27\", \"2002-08-28\", \"2002-08-29\", \"2002-08-30\", \"2002-08-31\", \"2002-09-01\", \"2002-09-02\", \"2002-09-03\", \"2002-09-04\", \"2002-09-05\", \"2002-09-06\", \"2002-09-07\", \"2002-09-08\", \"2002-09-09\", \"2002-09-10\", \"2002-09-11\", \"2002-09-12\", \"2002-09-13\", \"2002-09-14\", \"2002-09-15\", \"2002-09-16\", \"2002-09-17\", \"2002-09-18\", \"2002-09-19\", \"2002-09-20\", \"2002-09-21\", \"2002-09-22\", \"2002-09-23\", \"2002-09-24\", \"2002-09-25\", \"2002-09-26\", \"2002-09-27\", \"2002-09-28\", \"2002-09-29\", \"2002-09-30\", \"2002-10-01\", \"2002-10-02\", \"2002-10-03\", \"2002-10-04\", \"2002-10-05\", \"2002-10-06\", \"2002-10-07\", \"2002-10-08\", \"2002-10-09\", \"2002-10-10\", \"2002-10-11\", \"2002-10-12\", \"2002-10-13\", \"2002-10-14\", \"2002-10-15\", \"2002-10-16\", \"2002-10-17\", \"2002-10-18\", \"2002-10-19\", \"2002-10-20\", \"2002-10-21\", \"2002-10-22\", \"2002-10-23\", \"2002-10-24\", \"2002-10-25\", \"2002-10-26\", \"2002-10-27\", \"2002-10-28\", \"2002-10-29\", \"2002-10-30\", \"2002-10-31\", \"2002-11-01\", \"2002-11-02\", \"2002-11-03\", \"2002-11-04\", \"2002-11-05\", \"2002-11-06\", \"2002-11-07\", \"2002-11-08\", \"2002-11-09\", \"2002-11-10\", \"2002-11-11\", \"2002-11-12\", \"2002-11-13\", \"2002-11-14\", \"2002-11-15\", \"2002-11-16\", \"2002-11-17\", \"2002-11-18\", \"2002-11-19\", \"2002-11-20\", \"2002-11-21\", \"2002-11-22\", \"2002-11-23\", \"2002-11-24\", \"2002-11-25\", \"2002-11-26\", \"2002-11-27\", \"2002-11-28\", \"2002-11-29\", \"2002-11-30\", \"2002-12-01\", \"2002-12-02\", \"2002-12-03\", \"2002-12-04\", \"2002-12-05\", \"2002-12-06\", \"2002-12-07\", \"2002-12-08\", \"2002-12-09\", \"2002-12-10\", \"2002-12-11\", \"2002-12-12\", \"2002-12-13\", \"2002-12-14\", \"2002-12-15\", \"2002-12-16\", \"2002-12-17\", \"2002-12-18\", \"2002-12-19\", \"2002-12-20\", \"2002-12-21\", \"2002-12-22\", \"2002-12-23\", \"2002-12-24\", \"2002-12-25\", \"2002-12-26\", \"2002-12-27\", \"2002-12-28\", \"2002-12-29\", \"2002-12-30\", \"2002-12-31\", \"2003-01-01\", \"2003-01-02\", \"2003-01-03\", \"2003-01-04\", \"2003-01-05\", \"2003-01-06\", \"2003-01-07\", \"2003-01-08\", \"2003-01-09\", \"2003-01-10\", \"2003-01-11\", \"2003-01-12\", \"2003-01-13\", \"2003-01-14\", \"2003-01-15\", \"2003-01-16\", \"2003-01-17\", \"2003-01-18\", \"2003-01-19\", \"2003-01-20\", \"2003-01-21\", \"2003-01-22\", \"2003-01-23\", \"2003-01-24\", \"2003-01-25\", \"2003-01-26\", \"2003-01-27\", \"2003-01-28\", \"2003-01-29\", \"2003-01-30\", \"2003-01-31\", \"2003-02-01\", \"2003-02-02\", \"2003-02-03\", \"2003-02-04\", \"2003-02-05\", \"2003-02-06\", \"2003-02-07\", \"2003-02-08\", \"2003-02-09\", \"2003-02-10\", \"2003-02-11\", \"2003-02-12\", \"2003-02-13\", \"2003-02-14\", \"2003-02-15\", \"2003-02-16\", \"2003-02-17\", \"2003-02-18\", \"2003-02-19\", \"2003-02-20\", \"2003-02-21\", \"2003-02-22\", \"2003-02-23\", \"2003-02-24\", \"2003-02-25\", \"2003-02-26\", \"2003-02-27\", \"2003-02-28\", \"2003-03-01\", \"2003-03-02\", \"2003-03-03\", \"2003-03-04\", \"2003-03-05\", \"2003-03-06\", \"2003-03-07\", \"2003-03-08\", \"2003-03-09\", \"2003-03-10\", \"2003-03-11\", \"2003-03-12\", \"2003-03-13\", \"2003-03-14\", \"2003-03-15\", \"2003-03-16\", \"2003-03-17\", \"2003-03-18\", \"2003-03-19\", \"2003-03-20\", \"2003-03-21\", \"2003-03-22\", \"2003-03-23\", \"2003-03-24\", \"2003-03-25\", \"2003-03-26\", \"2003-03-27\", \"2003-03-28\", \"2003-03-29\", \"2003-03-30\", \"2003-03-31\", \"2003-04-01\", \"2003-04-02\", \"2003-04-03\", \"2003-04-04\", \"2003-04-05\", \"2003-04-06\", \"2003-04-07\", \"2003-04-08\", \"2003-04-09\", \"2003-04-10\", \"2003-04-11\", \"2003-04-12\", \"2003-04-13\", \"2003-04-14\", \"2003-04-15\", \"2003-04-16\", \"2003-04-17\", \"2003-04-18\", \"2003-04-19\", \"2003-04-20\", \"2003-04-21\", \"2003-04-22\", \"2003-04-23\", \"2003-04-24\", \"2003-04-25\", \"2003-04-26\", \"2003-04-27\", \"2003-04-28\", \"2003-04-29\", \"2003-04-30\", \"2003-05-01\", \"2003-05-02\", \"2003-05-03\", \"2003-05-04\", \"2003-05-05\", \"2003-05-06\", \"2003-05-07\", \"2003-05-08\", \"2003-05-09\", \"2003-05-10\", \"2003-05-11\", \"2003-05-12\", \"2003-05-13\", \"2003-05-14\", \"2003-05-15\", \"2003-05-16\", \"2003-05-17\", \"2003-05-18\", \"2003-05-19\", \"2003-05-20\", \"2003-05-21\", \"2003-05-22\", \"2003-05-23\", \"2003-05-24\", \"2003-05-25\", \"2003-05-26\", \"2003-05-27\", \"2003-05-28\", \"2003-05-29\", \"2003-05-30\", \"2003-05-31\", \"2003-06-01\", \"2003-06-02\", \"2003-06-03\", \"2003-06-04\", \"2003-06-05\", \"2003-06-06\", \"2003-06-07\", \"2003-06-08\", \"2003-06-09\", \"2003-06-10\", \"2003-06-11\", \"2003-06-12\", \"2003-06-13\", \"2003-06-14\", \"2003-06-15\", \"2003-06-16\", \"2003-06-17\", \"2003-06-18\", \"2003-06-19\", \"2003-06-20\", \"2003-06-21\", \"2003-06-22\", \"2003-06-23\", \"2003-06-24\", \"2003-06-25\", \"2003-06-26\", \"2003-06-27\", \"2003-06-28\", \"2003-06-29\", \"2003-06-30\", \"2003-07-01\", \"2003-07-02\", \"2003-07-03\", \"2003-07-04\", \"2003-07-05\", \"2003-07-06\", \"2003-07-07\", \"2003-07-08\", \"2003-07-09\", \"2003-07-10\", \"2003-07-11\", \"2003-07-12\", \"2003-07-13\", \"2003-07-14\", \"2003-07-15\", \"2003-07-16\", \"2003-07-17\", \"2003-07-18\", \"2003-07-19\", \"2003-07-20\", \"2003-07-21\", \"2003-07-22\", \"2003-07-23\", \"2003-07-24\", \"2003-07-25\", \"2003-07-26\", \"2003-07-27\", \"2003-07-28\", \"2003-07-29\", \"2003-07-30\", \"2003-07-31\", \"2003-08-01\", \"2003-08-02\", \"2003-08-03\", \"2003-08-04\", \"2003-08-05\", \"2003-08-06\", \"2003-08-07\", \"2003-08-08\"], \"xaxis\": \"x\", \"y\": [0.255, 1.5440000000000007, 1.693, 2.3710000000000027, 3.1079999999999988, 3.187, 3.177999999999996, 3.0210000000000004, 2.922999999999999, 3.5639999999999974, 4.640000000000005, 5.476999999999995, 5.933999999999998, 5.4999999999999964, 6.592999999999997, 6.443999999999992, 8.55500000000001, 8.84500000000001, 8.978999999999997, 8.673000000000009, 8.049000000000007, 8.481999999999992, 9.528999999999998, 9.528999999999998, 8.996499999999992, 8.566326190476184, 9.753999999999989, 10.265, 9.717000000000002, 9.682999999999982, 9.706999999999983, 9.46399999999999, 8.339999999999993, 10.080000000000007, 9.762000000000008, 9.691000000000003, 9.074999999999989, 8.429600000000004, 8.566326190476184, 5.11983333333334, 5.865000000000006, 5.658999999999997, 7.751999999999992, 7.870500000000005, 8.735999999999988, 7.467000000000008, 8.621999999999987, 8.633999999999988, 8.715999999999987, 8.737999999999987, 8.679999999999989, 8.751999999999995, 8.301999999999992, 7.275, 7.994000000000005, 8.508999999999997, 5.854000000000006, 6.982, 8.353000000000002, 7.175999999999991, 9.684999999999988, 9.738999999999985, 9.737999999999985, 9.751999999999986, 11.447000000000003, 11.410000000000002, 11.499, 11.498, 11.39, 11.498, 11.001999999999992, 11.396999999999998, 11.252999999999995, 10.839999999999984, 10.870000000000005, 11.239999999999984, 11.654999999999998, 11.622999999999998, 11.772999999999998, 12.635999999999985, 12.250000000000002, 12.328000000000015, 12.136999999999999, 12.433, 12.203999999999985, 12.021999999999997, 11.74, 12.106, 12.496999999999998, 12.471000000000004, 12.206, 11.980999999999996, 10.206000000000007, 9.266999999999987, 8.332999999999995, 7.956000000000005, 8.307000000000007, 8.934999999999986, 8.304999999999989, 7.632999999999994, 6.406999999999997, 5.461000000000008, 4.481000000000001, 2.708000000000004, 2.449000000000004, 1.3069999999999984, 0.9719999999999999, 0.5359999999999999, 1.3920000000000001, 0.46399999999999997, 0.35700000000000004, 0.787, 0.0, 0.0, 0.115, 0.115, 0.23399999999999999, 0.0, 0.0, 0.8500000000000001, 0.0, 0.42700000000000005, 0.413, 0.299, 2.478999999999999, 0.091, 0.10400000000000001, 0.31200000000000006, 0.591, 1.0219999999999998, 0.0, 0.0, 0.114, 0.0, 0.0, 0.10400000000000001, 0.10400000000000001, 0.9159999999999999, 1.5499999999999998, 4.1110000000000015, 2.0353333333333334, 1.9476666666666662, 3.068999999999998, 0.799, 1.332, 1.9710000000000005, 2.1790000000000003, 0.8100000000000002, 0.313, 0.24600000000000002, 0.236, 0.247, 0.182, 0.143, 0.117, 0.4220000000000001, 0.9169999999999999, 0.5208333333333331, 0.09699999999999999, 0.02, 0.0, 0.22799999999999998, 0.0, 0.002, 0.235, 0.133, 0.129, 0.214, 0.10300000000000001, 0.002, 0.010666666666666666, 0.0, 0.0, 0.0, 0.0, 0.0, 0.0, 0.0, 0.0, 0.0, 0.0, 0.0, 0.0, 0.0, 0.0, 0.0, 0.0, 0.0, 0.0, 0.0, 0.0, 0.0, 0.0, 0.0, 0.0, 0.0, 0.0, 0.0, 0.0, 0.0, 0.0, 0.0, 0.0, 0.0, 0.0, 0.0, 0.0, 0.0, 0.0, 0.0, 0.0, 0.0, 0.0, 0.0, 0.0, 0.0, 0.0, 0.0, 0.0, 0.0, 0.0, 0.0, 0.0, 0.0, 0.0, 0.0, 0.0, 0.0, 0.0, 0.0, 0.0, 0.0, 0.0, 0.0, 0.0, 0.0, 0.0, 0.0, 0.0, 0.0, 0.0, 0.0, 0.0, 0.0, 0.0, 0.0, 0.0, 0.0, 0.0, 0.0, 0.0, 0.0, 0.0, 0.0, 0.0, 0.0, 0.0, 0.0, 0.0, 0.0, 0.0, 0.0, 0.0, 0.0, 0.0, 0.0, 0.0, 0.0, 0.0, 0.0, 0.0, 0.0, 0.0, 0.0, 0.0, 0.0, 0.0, 0.0, 0.0, 0.0, 0.0, 0.0, 0.0, 0.0, 0.0, 0.0, 0.0, 0.0, 0.0, 0.0, 0.0, 0.0, 0.0, 0.0, 0.0, 0.0, 0.0, 0.0, 0.0, 0.0, 0.0, 0.0, 0.0, 0.0, 0.0, 0.0, 0.17973333333333325, 0.02216666666666667, 0.02216666666666667, 0.007333333333333334, 0.0, 0.007333333333333334, 0.007333333333333334, 0.6526307359307356, 0.6522664502164506, 0.6522664502164506, 0.6118619047619055, 0.6526307359307356, 0.6526307359307356, 0.6526307359307356, 0.9563500000000006, 0.8450499999999995, 0.8450499999999995, 0.948183333333333, 0.923500000000001, 0.9063500000000008, 0.9063500000000008, 0.9268666666666667, 0.5817500000000004, 0.45599999999999985, 0.3450000000000002, 0.3199999999999996, 0.465, 0.6910000000000004, 0.7760000000000008, 0.8600000000000001, 0.7809999999999993, 0.7679999999999998, 0.3059999999999996, 0.19399999999999973, 0.17799999999999996, 0.09000000000000002, 0.4049999999999999, 0.1970000000000001, 0.27500000000000024, 0.6759999999999999, 0.7270000000000008, 0.8320000000000003, 0.9570000000000003, 1.5513333333333343, 1.4873333333333352, 1.898999999999998, 2.1589999999999963, 2.1119999999999965, 2.1489999999999965, 2.074999999999997, 1.7139999999999995, 2.053999999999998, 2.7089999999999987, 3.803333333333328, 3.801999999999995, 3.633999999999997, 3.562, 3.29664285714286, 2.6371428571428543, 2.2872261904761904, 2.647059523809525, 2.647059523809525, 2.235333333333334, 1.8230000000000017, 0.4170000000000003, 0.6663333333333334, 0.3405285714285718, 0.3405285714285718, 0.2665833333333336, 1.0010000000000014, 0.778333333333332, 0.778333333333332, 0.7716666666666666, 1.743999999999999, 1.5959999999999972, 1.5959999999999972, 1.5959999999999972, 1.5219999999999991, 1.4280000000000017, 1.4280000000000017, 1.6020000000000016, 1.3310000000000017, 1.2600000000000022, 1.2510000000000019, 1.2359999999999989, 1.1519999999999981, 1.1489999999999982, 1.0399999999999994, 1.272, 1.4090000000000003, 2.302000000000003, 2.3270000000000035, 2.0810000000000026, 2.7840000000000003, 3.1919999999999997, 2.4725999999999964, 2.281599999999997, 2.7790166666666636, 3.2360833333333336, 3.052000000000005, 3.047000000000005, 2.891000000000004, 2.950000000000003, 3.066, 3.115999999999996, 3.2949999999999973, 3.1530000000000036, 3.0339999999999994, 2.936999999999997, 2.9340000000000015, 2.938999999999997, 2.8259999999999996, 3.2290000000000054, 3.121000000000005, 3.3540000000000005, 3.726999999999995, 3.7609999999999992, 3.3776428571428543, 3.3776428571428543, 2.944500000000003, 2.1420000000000012, 3.545999999999996, 3.6329999999999982, 3.890000000000004, 2.839999999999999, 2.1549999999999967, 0.7359999999999993, 1.1900000000000004, 0.14299999999999996, 0.5910000000000002, 0.336, 0.16699999999999998, 0.032999999999999995, 0.012, 1.640999999999999, 3.5300000000000025, 2.168000000000002, 0.8279999999999997, 0.368, 0.151, 0.111, 0.006, 0.6600000000000001, 0.07200000000000002, 0.11099999999999997, 0.12599999999999986, 0.5079999999999996, 0.003, 0.24800000000000005, 0.0, 0.19, 0.18600000000000003, 0.0, 0.0, 0.322, 1.237, 2.0049999999999977, 3.238999999999998, 1.3020000000000014, 3.424999999999997, 1.459, 1.6219999999999997, 1.686000000000002, 1.857999999999997, 1.877999999999997, 1.54, 0.7900000000000001, 0.2749999999999999, 0.15200000000000002, 0.161, 0.128, 0.269, 0.269, 0.28200000000000003, 2.9130000000000007, 2.338999999999999, 0.47600000000000003, 0.18200000000000002, 0.9839999999999999, 2.7520000000000007, 0.21299999999999997, 1.5880000000000003, 1.2800000000000011, 0.3269999999999998, 0.7540000000000002, 0.5690000000000001, 0.7109999999999999, 0.43399999999999994, 0.21, 0.015, 0.055, 0.005, 0.0, 0.0, 0.0, 0.0, 0.025, 0.040999999999999995, 0.092, 0.067, 0.0, 0.003, 0.0, 0.0, 0.0, 0.0, 0.0, 0.0, 0.0, 0.0, 0.0, 0.0, 0.0, 0.0, 0.0, 0.0, 0.0, 0.0, 0.0, 0.0, 0.0, 0.0, 0.0, 0.0, 0.0, 0.0, 0.0, 0.0, 0.0, 0.0, 0.0, 0.0, 0.0, 0.0, 0.0, 0.0, 0.0, 0.0, 0.0, 0.0, 0.0, 0.0, 0.0, 0.0, 0.0, 0.0, 0.0, 0.0, 0.0, 0.0, 0.0, 0.0, 0.0, 0.0, 0.0, 0.0, 0.0, 0.0, 0.0, 0.0, 0.0, 0.0, 0.0, 0.0, 0.0, 0.0, 0.0, 0.0, 0.0, 0.0, 0.0, 0.0, 0.0, 0.0, 0.0, 0.0, 0.0, 0.0, 0.0, 0.0, 0.0, 0.0, 0.0, 0.0, 0.0, 0.0, 0.0, 0.0, 0.0, 0.0, 0.0, 0.0, 0.0, 0.0, 0.0, 0.0, 0.0, 0.0, 0.0, 0.0, 0.0, 0.0, 0.0, 0.0, 0.0, 0.0, 0.0, 0.0, 0.0, 0.0, 0.0, 0.0, 0.0, 0.0, 0.0, 0.0, 0.0, 0.0, 0.0, 0.0, 0.0, 0.0, 0.0, 0.0, 0.0, 0.0, 0.0, 0.0, 0.0, 0.0, 0.0, 0.0, 0.0, 0.0, 0.0, 0.0, 0.0, 0.0, 0.0, 0.0, 0.0, 0.0, 0.0, 0.0, 0.0, 0.0, 0.0, 0.0, 0.0, 0.0, 0.0, 0.0, 0.0, 0.0, 0.0, 0.0, 0.03666666666666667, 0.14999999999999994, 0.09466666666666666, 0.021833333333333337, 0.0, 0.0, 0.0, 0.0, 0.0, 0.0, 0.0, 0.0, 0.0, 0.0, 0.0, 0.0, 0.0, 0.0, 0.0, 0.0, 0.0, 0.0, 0.0, 0.0, 0.0, 0.0, 0.0, 0.0, 0.0, 0.17973333333333325, 0.0, 0.161442857142857, 0.161442857142857, 0.19066666666666687, 0.5340000000000008, 0.5340000000000008, 2.0479999999999996, 2.422000000000003, 3.459999999999994, 3.3278333333333348, 4.33633333333333, 5.148000000000004, 6.307999999999998, 5.598999999999994, 6.409000000000001, 5.462999999999999, 6.5119999999999925, 6.449000000000003, 6.293250000000008, 6.543333333333326, 8.808, 6.791000000000001, 8.207999999999993, 8.62900000000001, 7.456000000000006, 7.057, 7.880700000000005, 10.527999999999981, 10.527999999999981, 10.456466666666651, 10.757949999999996, 10.757949999999996, 10.793749999999982, 10.793749999999982, 9.477500000000008, 9.179999999999987, 8.647999999999998, 9.227999999999987, 9.002999999999986, 8.107999999999999, 7.813999999999993, 7.828, 7.5070000000000014, 7.121999999999994, 5.110999999999997, 4.577000000000005, 2.918999999999999, 1.1349999999999998, 1.1459999999999984, 0.8640000000000002, 0.45900000000000013, 0.7759999999999989, 0.8700000000000006, 1.0920000000000014, 1.360999999999998, 1.7190000000000019, 1.9690000000000025, 2.33058333333333, 2.1419999999999977, 4.371000000000006, 5.523999999999998, 3.755000000000002, 4.198, 4.942999999999994, 6.813999999999993, 8.03300000000001, 9.32700000000001, 9.307000000000006, 9.283000000000001, 9.970000000000011, 10.444, 10.649, 10.395999999999992, 10.841000000000015, 10.976000000000015, 10.825999999999997, 11.654000000000002, 13.240000000000004, 14.994000000000003, 14.455000000000005, 14.256000000000013, 14.210000000000019, 14.026999999999997, 14.009999999999998, 14.064999999999989, 13.463999999999993, 14.018999999999997, 14.07299999999999, 14.047999999999988, 13.865000000000007, 13.643000000000002, 7.775000000000005, 10.218000000000012, 10.19100000000001, 10.16000000000001, 10.106000000000016, 10.113000000000017, 10.111000000000017, 10.196000000000017, 10.196000000000017, 10.198000000000018, 10.19300000000002, 10.188000000000018, 10.232999999999997, 10.974000000000013, 10.974, 11.989000000000015, 11.566999999999997, 7.562, 7.574999999999993, 7.422000000000008, 10.287999999999997, 9.822999999999984, 10.927000000000003, 12.876, 12.558, 12.054999999999998, 15.181849999999997, 15.23510000000001, 15.181849999999997, 15.10474999999999, 14.324199999999992, 14.551200000000016, 14.279999999999983, 14.24099999999999, 14.524199999999997, 14.918999999999993, 14.975, 14.975, 14.840999999999985, 14.507000000000012, 14.168500000000002, 12.679600000000015, 13.720500000000014, 12.484000000000005, 11.577000000000005, 11.560000000000011, 10.883000000000004, 11.371600000000003, 10.416000000000013, 9.617999999999991, 9.12300000000001, 6.906999999999991, 3.6609999999999974, 3.2280000000000046, 3.7570000000000046, 4.050999999999995, 3.279999999999999, 3.989999999999996, 4.702000000000005, 2.362000000000004, 0.44800000000000034, 0.37899999999999984, 0.13999999999999996, 0.26699999999999996, 0.6080000000000001, 0.11599999999999999, 0.943, 2.4699999999999998, 0.24, 0.11599999999999999, 0.516, 0.49599999999999994, 3.5129999999999986, 0.0, 0.0, 0.805, 0.91, 0.113, 0.113, 0.52, 1.9239999999999995, 1.9790000000000003, 1.137, 2.896000000000001, 2.958, 3.4059999999999997, 3.7529999999999997, 2.863, 1.4929999999999999, 1.3940000000000001, 1.182, 0.746, 0.831, 1.2000000000000002, 1.1930000000000003, 0.458, 1.2839999999999998, 0.4110000000000001, 0.3990000000000001, 0.554, 0.371, 0.309, 0.32899999999999996, 0.34600000000000003, 1.0730000000000002, 0.8519999999999998, 0.45199999999999996, 0.6759999999999999, 0.5109999999999999, 0.08000000000000002, 0.132, 0.015, 0.0, 0.0, 0.015, 0.067, 0.011999999999999997, 0.002, 0.0, 0.0, 0.0, 0.0, 0.0, 0.0, 0.0, 0.0, 0.0, 0.0, 0.0, 0.0, 0.0, 0.0, 0.0, 0.0, 0.0, 0.0, 0.0, 0.0, 0.0, 0.0, 0.0, 0.0, 0.0, 0.0, 0.0, 0.0, 0.0, 0.0, 0.0, 0.0, 0.0, 0.0, 0.0, 0.0, 0.0, 0.0, 0.0, 0.0, 0.0, 0.0, 0.0, 0.0, 0.0, 0.0, 0.0, 0.0, 0.0, 0.0, 0.0, 0.0, 0.0, 0.0, 0.0, 0.0, 0.0, 0.0, 0.0, 0.0, 0.0, 0.0, 0.0, 0.0, 0.0, 0.0, 0.0, 0.0, 0.0, 0.0, 0.0, 0.0, 0.0, 0.0, 0.0, 0.0, 0.0, 0.0, 0.0, 0.0, 0.0, 0.0, 0.0, 0.0, 0.0, 0.0, 0.0, 0.0, 0.0, 0.0, 0.0, 0.0, 0.0, 0.0, 0.0, 0.0, 0.0, 0.0, 0.0, 0.0, 0.0, 0.0, 0.0, 0.0, 0.0, 0.0, 0.0, 0.0, 0.0, 0.0, 0.0, 0.0, 0.0, 0.0, 0.0, 0.0, 0.0, 0.0, 0.0, 0.0, 0.0, 0.0, 0.0, 0.0, 0.0, 0.0, 0.0, 0.0, 0.0, 0.0, 0.0, 0.0, 0.0, 0.0, 0.0, 0.0, 0.0, 0.0, 0.050628571428571426, 0.02792896825396826, 0.04111666666666667, 0.07633333333333323, 0.0, 0.005, 0.03235714285714286, 0.0, 0.0, 0.0, 0.0, 0.0, 0.0, 0.0, 0.0, 0.050628571428571426, 0.04111666666666667, 0.02792896825396826, 0.02792896825396826, 0.0, 0.0, 0.0, 0.0, 0.0, 0.0, 0.0, 0.0, 0.0, 0.0, 0.0, 0.0, 0.0, 0.0, 0.0, 0.0, 0.13933333333333317, 0.7779999999999996, 1.572999999999999, 0.13699999999999998, 0.20800000000000005, 0.26853333333333335, 0.8109999999999996, 1.0879999999999987, 1.6200000000000008, 1.687999999999999, 1.2629999999999986, 1.640666666666669, 1.8812666666666686, 2.2683500000000003, 2.2683500000000003, 1.990333333333335, 2.6149999999999967, 3.036000000000004, 2.7600000000000025, 2.8989999999999956, 3.0699999999999985, 3.301999999999997, 3.489, 4.732999999999996, 3.477000000000001, 3.0230000000000006, 1.6294999999999982, 1.4958, 0.29546666666666693, 0.29546666666666693, 1.34, 1.629, 0.5142857142857147, 0.4149999999999998, 0.21500000000000025, 0.08399999999999999, 0.05, 0.0, 0.0, 0.0, 0.0, 0.0, 0.0, 0.021, 0.13099999999999998, 0.2189999999999999, 0.5415000000000003, 0.29800000000000004, 0.02, 0.01, 0.01, 0.28099999999999997, 0.01, 0.055, 0.003, 0.072, 0.22700000000000004, 0.056999999999999995, 0.01, 0.05, 0.0, 0.023, 0.0, 0.0, 0.0, 0.1395, 0.0, 0.12399999999999999, 0.184, 0.5137500000000003, 1.314, 1.3780000000000001, 1.8319999999999979, 1.1185000000000014, 1.3369999999999984, 1.451099999999998, 1.42202857142857, 1.6464999999999987, 1.9092666666666662, 1.952600000000002, 1.9386666666666668, 2.1094285714285705, 2.1094285714285705, 2.6486666666666663, 2.6699999999999964, 2.657999999999997, 3.1169999999999964, 3.8449999999999966, 5.385000000000003, 5.357000000000003, 4.875999999999998, 4.928083333333337, 3.2360833333333336, 1.949000000000003, 0.3129999999999995, 0.255, 0.175, 0.13700000000000004, 0.17899999999999994, 0.45899999999999985, 0.5590000000000002, 1.3240000000000003, 0.24600000000000002, 1.1579999999999995, 0.33, 1.5942666666666665, 1.4828333333333337, 0.6620000000000004, 0.5440000000000006, 1.6870000000000018, 1.6679999999999993, 1.252, 0.6019999999999999, 2.0909999999999997, 0.5370000000000009, 0.34329166666666666, 0.29191666666666694, 0.57, 1.939, 2.656, 1.413, 0.9990000000000002, 0.18299999999999997, 1.3790000000000004, 0.003333333333333333, 0.003333333333333333, 0.003333333333333333, 0.34329166666666666, 1.5706666666666664, 0.8079999999999999, 0.8660000000000001, 0.15600000000000003, 0.19099999999999998, 0.368, 0.085, 0.47600000000000003, 0.10099999999999999, 0.136, 0.085, 0.005, 0.0, 0.0, 0.004, 0.079, 0.17, 0.085, 0.0, 0.0, 0.004, 0.0, 0.0, 0.085, 0.085, 1.2480000000000002, 1.3159999999999998, 0.726, 0.13799999999999998, 0.4600000000000001, 0.16, 0.10400000000000001, 0.21600000000000003, 0.5840000000000002, 1.0030000000000008, 0.6893333333333331, 0.43399999999999994, 0.315, 0.005, 0.04800000000000002, 0.02792896825396826, 0.0, 0.0, 0.0, 0.0, 0.0, 0.0, 0.0, 0.0, 0.0, 0.0, 0.0, 0.0, 0.0, 0.0, 0.0, 0.0, 0.0, 0.0, 0.0, 0.0, 0.0, 0.0, 0.0, 0.0, 0.0, 0.0, 0.0, 0.0, 0.0, 0.0, 0.0, 0.0, 0.0, 0.0, 0.0, 0.0, 0.0, 0.0, 0.0, 0.0, 0.0, 0.0, 0.0, 0.0, 0.0, 0.0, 0.0, 0.0, 0.0, 0.0, 0.0, 0.0, 0.0, 0.0, 0.0, 0.0, 0.0, 0.0, 0.0, 0.0, 0.0, 0.0, 0.0, 0.0, 0.0, 0.0, 0.0, 0.0, 0.0, 0.0, 0.0, 0.0], \"yaxis\": \"y\"}, {\"mode\": \"lines\", \"name\": \"Test Data\", \"type\": \"scatter\", \"x\": [\"2003-08-09\", \"2003-08-10\", \"2003-08-11\", \"2003-08-12\", \"2003-08-13\", \"2003-08-14\", \"2003-08-15\", \"2003-08-16\", \"2003-08-17\", \"2003-08-18\", \"2003-08-19\", \"2003-08-20\", \"2003-08-21\", \"2003-08-22\", \"2003-08-23\", \"2003-08-24\", \"2003-08-25\", \"2003-08-26\", \"2003-08-27\", \"2003-08-28\", \"2003-08-29\", \"2003-08-30\", \"2003-08-31\", \"2003-09-01\", \"2003-09-02\", \"2003-09-03\", \"2003-09-04\", \"2003-09-05\", \"2003-09-06\", \"2003-09-07\", \"2003-09-08\", \"2003-09-09\", \"2003-09-10\", \"2003-09-11\", \"2003-09-12\", \"2003-09-13\", \"2003-09-14\", \"2003-09-15\", \"2003-09-16\", \"2003-09-17\", \"2003-09-18\", \"2003-09-19\", \"2003-09-20\", \"2003-09-21\", \"2003-09-22\", \"2003-09-23\", \"2003-09-24\", \"2003-09-25\", \"2003-09-26\", \"2003-09-27\", \"2003-09-28\", \"2003-09-29\", \"2003-09-30\", \"2003-10-01\", \"2003-10-02\", \"2003-10-03\", \"2003-10-04\", \"2003-10-05\", \"2003-10-06\", \"2003-10-07\", \"2003-10-08\", \"2003-10-09\", \"2003-10-10\", \"2003-10-11\", \"2003-10-12\", \"2003-10-13\", \"2003-10-14\", \"2003-10-15\", \"2003-10-16\", \"2003-10-17\", \"2003-10-18\", \"2003-10-19\", \"2003-10-20\", \"2003-10-21\", \"2003-10-22\", \"2003-10-23\", \"2003-10-24\", \"2003-10-25\", \"2003-10-26\", \"2003-10-27\", \"2003-10-28\", \"2003-10-29\", \"2003-10-30\", \"2003-10-31\", \"2003-11-01\", \"2003-11-02\", \"2003-11-03\", \"2003-11-04\", \"2003-11-05\", \"2003-11-06\", \"2003-11-07\", \"2003-11-08\", \"2003-11-09\", \"2003-11-10\", \"2003-11-11\", \"2003-11-12\", \"2003-11-13\", \"2003-11-14\", \"2003-11-15\", \"2003-11-16\", \"2003-11-17\", \"2003-11-18\", \"2003-11-19\", \"2003-11-20\", \"2003-11-21\", \"2003-11-22\", \"2003-11-23\", \"2003-11-24\", \"2003-11-25\", \"2003-11-26\", \"2003-11-27\", \"2003-11-28\", \"2003-11-29\", \"2003-11-30\", \"2003-12-01\", \"2003-12-02\", \"2003-12-03\", \"2003-12-04\", \"2003-12-05\", \"2003-12-06\", \"2003-12-07\", \"2003-12-08\", \"2003-12-09\", \"2003-12-10\", \"2003-12-11\", \"2003-12-12\", \"2003-12-13\", \"2003-12-14\", \"2003-12-15\", \"2003-12-16\", \"2003-12-17\", \"2003-12-18\", \"2003-12-19\", \"2003-12-20\", \"2003-12-21\", \"2003-12-22\", \"2003-12-23\", \"2003-12-24\", \"2003-12-25\", \"2003-12-26\", \"2003-12-27\", \"2003-12-28\", \"2003-12-29\", \"2003-12-30\", \"2003-12-31\", \"2004-01-01\", \"2004-01-02\"], \"xaxis\": \"x2\", \"y\": [0.0, 0.0, 0.0, 0.0, 0.0, 0.0, 0.0, 0.0, 0.0, 0.0, 0.0, 0.0, 0.0, 0.0, 0.0, 0.0, 0.0, 0.0, 0.0, 0.0, 0.0, 0.0, 0.0, 0.0, 0.0, 0.0, 0.0, 0.0, 0.0, 0.0, 0.0, 0.0, 0.0, 0.0, 0.0, 0.0, 0.0, 0.0, 0.0, 0.0, 0.0, 0.0, 0.0, 0.0, 0.0, 0.0, 0.0, 0.0, 0.0, 0.0, 0.0, 0.0, 0.0, 0.0, 0.0, 0.0, 0.0, 0.0, 0.0, 0.0, 0.0, 0.0, 0.0, 0.0, 0.0, 0.0, 0.0, 0.0, 0.0, 0.0, 0.0, 0.0, 0.0, 0.0, 0.0, 0.0, 0.0, 0.0, 0.0, 0.0, 0.0, 0.0, 0.0, 0.0, 0.0, 0.0, 0.3, 0.0, 0.0, 0.0, 0.0, 0.0, 0.0, 0.0, 0.0, 0.0, 0.0, 0.0, 0.0, 0.2, 0.1, 0.3, 0.3, 0.0, 1.4, 1.3, 1.1, 1.3, 1.7, 2.1, 3.3, 3.8, 3.5, 2.2, 1.6, 1.2, 0.8, 0.2, 0.5, 0.6, 0.2, 0.8, 1.1, 1.1, 0.9, 1.1, 1.1, 1.4, 2.2, 3.3, 3.2, 3.3, 3.3, 3.1, 2.8, 2.6, 2.5, 2.3, 2.3, 2.9, 3.5, 3.5, 4.2, 4.7, 4.6, 4.6, 4.9], \"yaxis\": \"y2\"}, {\"mode\": \"lines\", \"name\": \"Model Predictions on Training Data\", \"type\": \"scatter\", \"x\": [\"2003-08-09\", \"2003-08-10\", \"2003-08-11\", \"2003-08-12\", \"2003-08-13\", \"2003-08-14\", \"2003-08-15\", \"2003-08-16\", \"2003-08-17\", \"2003-08-18\", \"2003-08-19\", \"2003-08-20\", \"2003-08-21\", \"2003-08-22\", \"2003-08-23\", \"2003-08-24\", \"2003-08-25\", \"2003-08-26\", \"2003-08-27\", \"2003-08-28\", \"2003-08-29\", \"2003-08-30\", \"2003-08-31\", \"2003-09-01\", \"2003-09-02\", \"2003-09-03\", \"2003-09-04\", \"2003-09-05\", \"2003-09-06\", \"2003-09-07\", \"2003-09-08\", \"2003-09-09\", \"2003-09-10\", \"2003-09-11\", \"2003-09-12\", \"2003-09-13\", \"2003-09-14\", \"2003-09-15\", \"2003-09-16\", \"2003-09-17\", \"2003-09-18\", \"2003-09-19\", \"2003-09-20\", \"2003-09-21\", \"2003-09-22\", \"2003-09-23\", \"2003-09-24\", \"2003-09-25\", \"2003-09-26\", \"2003-09-27\", \"2003-09-28\", \"2003-09-29\", \"2003-09-30\", \"2003-10-01\", \"2003-10-02\", \"2003-10-03\", \"2003-10-04\", \"2003-10-05\", \"2003-10-06\", \"2003-10-07\", \"2003-10-08\", \"2003-10-09\", \"2003-10-10\", \"2003-10-11\", \"2003-10-12\", \"2003-10-13\", \"2003-10-14\", \"2003-10-15\", \"2003-10-16\", \"2003-10-17\", \"2003-10-18\", \"2003-10-19\", \"2003-10-20\", \"2003-10-21\", \"2003-10-22\", \"2003-10-23\", \"2003-10-24\", \"2003-10-25\", \"2003-10-26\", \"2003-10-27\", \"2003-10-28\", \"2003-10-29\", \"2003-10-30\", \"2003-10-31\", \"2003-11-01\", \"2003-11-02\", \"2003-11-03\", \"2003-11-04\", \"2003-11-05\", \"2003-11-06\", \"2003-11-07\", \"2003-11-08\", \"2003-11-09\", \"2003-11-10\", \"2003-11-11\", \"2003-11-12\", \"2003-11-13\", \"2003-11-14\", \"2003-11-15\", \"2003-11-16\", \"2003-11-17\", \"2003-11-18\", \"2003-11-19\", \"2003-11-20\", \"2003-11-21\", \"2003-11-22\", \"2003-11-23\", \"2003-11-24\", \"2003-11-25\", \"2003-11-26\", \"2003-11-27\", \"2003-11-28\", \"2003-11-29\", \"2003-11-30\", \"2003-12-01\", \"2003-12-02\", \"2003-12-03\", \"2003-12-04\", \"2003-12-05\", \"2003-12-06\", \"2003-12-07\", \"2003-12-08\", \"2003-12-09\", \"2003-12-10\", \"2003-12-11\", \"2003-12-12\", \"2003-12-13\", \"2003-12-14\", \"2003-12-15\", \"2003-12-16\", \"2003-12-17\", \"2003-12-18\", \"2003-12-19\", \"2003-12-20\", \"2003-12-21\", \"2003-12-22\", \"2003-12-23\", \"2003-12-24\", \"2003-12-25\", \"2003-12-26\", \"2003-12-27\", \"2003-12-28\", \"2003-12-29\", \"2003-12-30\", \"2003-12-31\", \"2004-01-01\", \"2004-01-02\"], \"xaxis\": \"x2\", \"y\": [0.0, 0.0, 0.0, 0.0, 0.0, 0.0, 0.0, 0.0, 0.0, 0.0, 0.0, 0.0, 0.0, 0.0, 0.0, 0.0, 0.0, 0.0, 0.0, 0.0, 0.0, 0.0, 0.0, 0.0, 0.0, 0.0, 0.0, 0.0, 0.0, 0.0, 0.0, 0.0, 0.0, 0.0, 0.0, 0.0, 0.0, 0.0, 0.0, 0.0, 0.0, 0.0, 0.0, 0.0, 0.0, 0.0, 0.0, 0.0, 0.0, 0.0, 0.0, 0.0, 0.0, 0.0, 0.0, 0.0, 0.0, 0.0, 0.0, 0.0, 0.0, 0.0, 0.0, 0.0, 0.0, 0.0, 0.0, 0.0, 0.0, 0.0, 0.0, 0.0, 0.0, 0.0, 0.0, 0.0, 0.0, 0.0, 0.0, 0.0, 0.0, 0.0, 0.0, 0.0, 0.0, 0.0, 0.0, 0.0, 0.0, 0.0, 0.0, 0.0, 0.0, 0.0, 0.0, 0.0, 0.0, 0.0, 0.0, 0.0, 0.0, 0.11700000000000005, 0.4495000000000001, 0.05885714285714285, 0.005, 0.45100000000000007, 0.45100000000000007, 0.503, 0.5420000000000004, 0.892000000000001, 1.143, 0.7603333333333332, 0.7603333333333332, 2.360999999999997, 0.7663333333333331, 0.7613333333333331, 0.9319999999999996, 1.3305, 1.1239999999999997, 1.460000000000001, 1.460000000000001, 1.1689999999999998, 1.8544833333333344, 1.7815833333333344, 1.7641666666666678, 3.2199999999999966, 2.8930000000000033, 2.7839999999999985, 2.1129999999999978, 0.9618333333333333, 1.0949999999999995, 2.867999999999999, 2.1249999999999987, 1.8731428571428557, 1.8464761904761893, 1.5204761904761892, 2.9519761904761896, 2.8743928571428574, 2.8743928571428574, 3.818000000000002, 3.318999999999998, 4.451999999999993, 3.612999999999999, 1.162, 0.662, 0.787, 3.759], \"yaxis\": \"y2\"}],\n",
              "                        {\"height\": 2000, \"showlegend\": true, \"template\": {\"data\": {\"bar\": [{\"error_x\": {\"color\": \"#2a3f5f\"}, \"error_y\": {\"color\": \"#2a3f5f\"}, \"marker\": {\"line\": {\"color\": \"#E5ECF6\", \"width\": 0.5}}, \"type\": \"bar\"}], \"barpolar\": [{\"marker\": {\"line\": {\"color\": \"#E5ECF6\", \"width\": 0.5}}, \"type\": \"barpolar\"}], \"carpet\": [{\"aaxis\": {\"endlinecolor\": \"#2a3f5f\", \"gridcolor\": \"white\", \"linecolor\": \"white\", \"minorgridcolor\": \"white\", \"startlinecolor\": \"#2a3f5f\"}, \"baxis\": {\"endlinecolor\": \"#2a3f5f\", \"gridcolor\": \"white\", \"linecolor\": \"white\", \"minorgridcolor\": \"white\", \"startlinecolor\": \"#2a3f5f\"}, \"type\": \"carpet\"}], \"choropleth\": [{\"colorbar\": {\"outlinewidth\": 0, \"ticks\": \"\"}, \"type\": \"choropleth\"}], \"contour\": [{\"colorbar\": {\"outlinewidth\": 0, \"ticks\": \"\"}, \"colorscale\": [[0.0, \"#0d0887\"], [0.1111111111111111, \"#46039f\"], [0.2222222222222222, \"#7201a8\"], [0.3333333333333333, \"#9c179e\"], [0.4444444444444444, \"#bd3786\"], [0.5555555555555556, \"#d8576b\"], [0.6666666666666666, \"#ed7953\"], [0.7777777777777778, \"#fb9f3a\"], [0.8888888888888888, \"#fdca26\"], [1.0, \"#f0f921\"]], \"type\": \"contour\"}], \"contourcarpet\": [{\"colorbar\": {\"outlinewidth\": 0, \"ticks\": \"\"}, \"type\": \"contourcarpet\"}], \"heatmap\": [{\"colorbar\": {\"outlinewidth\": 0, \"ticks\": \"\"}, \"colorscale\": [[0.0, \"#0d0887\"], [0.1111111111111111, \"#46039f\"], [0.2222222222222222, \"#7201a8\"], [0.3333333333333333, \"#9c179e\"], [0.4444444444444444, \"#bd3786\"], [0.5555555555555556, \"#d8576b\"], [0.6666666666666666, \"#ed7953\"], [0.7777777777777778, \"#fb9f3a\"], [0.8888888888888888, \"#fdca26\"], [1.0, \"#f0f921\"]], \"type\": \"heatmap\"}], \"heatmapgl\": [{\"colorbar\": {\"outlinewidth\": 0, \"ticks\": \"\"}, \"colorscale\": [[0.0, \"#0d0887\"], [0.1111111111111111, \"#46039f\"], [0.2222222222222222, \"#7201a8\"], [0.3333333333333333, \"#9c179e\"], [0.4444444444444444, \"#bd3786\"], [0.5555555555555556, \"#d8576b\"], [0.6666666666666666, \"#ed7953\"], [0.7777777777777778, \"#fb9f3a\"], [0.8888888888888888, \"#fdca26\"], [1.0, \"#f0f921\"]], \"type\": \"heatmapgl\"}], \"histogram\": [{\"marker\": {\"colorbar\": {\"outlinewidth\": 0, \"ticks\": \"\"}}, \"type\": \"histogram\"}], \"histogram2d\": [{\"colorbar\": {\"outlinewidth\": 0, \"ticks\": \"\"}, \"colorscale\": [[0.0, \"#0d0887\"], [0.1111111111111111, \"#46039f\"], [0.2222222222222222, \"#7201a8\"], [0.3333333333333333, \"#9c179e\"], [0.4444444444444444, \"#bd3786\"], [0.5555555555555556, \"#d8576b\"], [0.6666666666666666, \"#ed7953\"], [0.7777777777777778, \"#fb9f3a\"], [0.8888888888888888, \"#fdca26\"], [1.0, \"#f0f921\"]], \"type\": \"histogram2d\"}], \"histogram2dcontour\": [{\"colorbar\": {\"outlinewidth\": 0, \"ticks\": \"\"}, \"colorscale\": [[0.0, \"#0d0887\"], [0.1111111111111111, \"#46039f\"], [0.2222222222222222, \"#7201a8\"], [0.3333333333333333, \"#9c179e\"], [0.4444444444444444, \"#bd3786\"], [0.5555555555555556, \"#d8576b\"], [0.6666666666666666, \"#ed7953\"], [0.7777777777777778, \"#fb9f3a\"], [0.8888888888888888, \"#fdca26\"], [1.0, \"#f0f921\"]], \"type\": \"histogram2dcontour\"}], \"mesh3d\": [{\"colorbar\": {\"outlinewidth\": 0, \"ticks\": \"\"}, \"type\": \"mesh3d\"}], \"parcoords\": [{\"line\": {\"colorbar\": {\"outlinewidth\": 0, \"ticks\": \"\"}}, \"type\": \"parcoords\"}], \"pie\": [{\"automargin\": true, \"type\": \"pie\"}], \"scatter\": [{\"marker\": {\"colorbar\": {\"outlinewidth\": 0, \"ticks\": \"\"}}, \"type\": \"scatter\"}], \"scatter3d\": [{\"line\": {\"colorbar\": {\"outlinewidth\": 0, \"ticks\": \"\"}}, \"marker\": {\"colorbar\": {\"outlinewidth\": 0, \"ticks\": \"\"}}, \"type\": \"scatter3d\"}], \"scattercarpet\": [{\"marker\": {\"colorbar\": {\"outlinewidth\": 0, \"ticks\": \"\"}}, \"type\": \"scattercarpet\"}], \"scattergeo\": [{\"marker\": {\"colorbar\": {\"outlinewidth\": 0, \"ticks\": \"\"}}, \"type\": \"scattergeo\"}], \"scattergl\": [{\"marker\": {\"colorbar\": {\"outlinewidth\": 0, \"ticks\": \"\"}}, \"type\": \"scattergl\"}], \"scattermapbox\": [{\"marker\": {\"colorbar\": {\"outlinewidth\": 0, \"ticks\": \"\"}}, \"type\": \"scattermapbox\"}], \"scatterpolar\": [{\"marker\": {\"colorbar\": {\"outlinewidth\": 0, \"ticks\": \"\"}}, \"type\": \"scatterpolar\"}], \"scatterpolargl\": [{\"marker\": {\"colorbar\": {\"outlinewidth\": 0, \"ticks\": \"\"}}, \"type\": \"scatterpolargl\"}], \"scatterternary\": [{\"marker\": {\"colorbar\": {\"outlinewidth\": 0, \"ticks\": \"\"}}, \"type\": \"scatterternary\"}], \"surface\": [{\"colorbar\": {\"outlinewidth\": 0, \"ticks\": \"\"}, \"colorscale\": [[0.0, \"#0d0887\"], [0.1111111111111111, \"#46039f\"], [0.2222222222222222, \"#7201a8\"], [0.3333333333333333, \"#9c179e\"], [0.4444444444444444, \"#bd3786\"], [0.5555555555555556, \"#d8576b\"], [0.6666666666666666, \"#ed7953\"], [0.7777777777777778, \"#fb9f3a\"], [0.8888888888888888, \"#fdca26\"], [1.0, \"#f0f921\"]], \"type\": \"surface\"}], \"table\": [{\"cells\": {\"fill\": {\"color\": \"#EBF0F8\"}, \"line\": {\"color\": \"white\"}}, \"header\": {\"fill\": {\"color\": \"#C8D4E3\"}, \"line\": {\"color\": \"white\"}}, \"type\": \"table\"}]}, \"layout\": {\"annotationdefaults\": {\"arrowcolor\": \"#2a3f5f\", \"arrowhead\": 0, \"arrowwidth\": 1}, \"coloraxis\": {\"colorbar\": {\"outlinewidth\": 0, \"ticks\": \"\"}}, \"colorscale\": {\"diverging\": [[0, \"#8e0152\"], [0.1, \"#c51b7d\"], [0.2, \"#de77ae\"], [0.3, \"#f1b6da\"], [0.4, \"#fde0ef\"], [0.5, \"#f7f7f7\"], [0.6, \"#e6f5d0\"], [0.7, \"#b8e186\"], [0.8, \"#7fbc41\"], [0.9, \"#4d9221\"], [1, \"#276419\"]], \"sequential\": [[0.0, \"#0d0887\"], [0.1111111111111111, \"#46039f\"], [0.2222222222222222, \"#7201a8\"], [0.3333333333333333, \"#9c179e\"], [0.4444444444444444, \"#bd3786\"], [0.5555555555555556, \"#d8576b\"], [0.6666666666666666, \"#ed7953\"], [0.7777777777777778, \"#fb9f3a\"], [0.8888888888888888, \"#fdca26\"], [1.0, \"#f0f921\"]], \"sequentialminus\": [[0.0, \"#0d0887\"], [0.1111111111111111, \"#46039f\"], [0.2222222222222222, \"#7201a8\"], [0.3333333333333333, \"#9c179e\"], [0.4444444444444444, \"#bd3786\"], [0.5555555555555556, \"#d8576b\"], [0.6666666666666666, \"#ed7953\"], [0.7777777777777778, \"#fb9f3a\"], [0.8888888888888888, \"#fdca26\"], [1.0, \"#f0f921\"]]}, \"colorway\": [\"#636efa\", \"#EF553B\", \"#00cc96\", \"#ab63fa\", \"#FFA15A\", \"#19d3f3\", \"#FF6692\", \"#B6E880\", \"#FF97FF\", \"#FECB52\"], \"font\": {\"color\": \"#2a3f5f\"}, \"geo\": {\"bgcolor\": \"white\", \"lakecolor\": \"white\", \"landcolor\": \"#E5ECF6\", \"showlakes\": true, \"showland\": true, \"subunitcolor\": \"white\"}, \"hoverlabel\": {\"align\": \"left\"}, \"hovermode\": \"closest\", \"mapbox\": {\"style\": \"light\"}, \"paper_bgcolor\": \"white\", \"plot_bgcolor\": \"#E5ECF6\", \"polar\": {\"angularaxis\": {\"gridcolor\": \"white\", \"linecolor\": \"white\", \"ticks\": \"\"}, \"bgcolor\": \"#E5ECF6\", \"radialaxis\": {\"gridcolor\": \"white\", \"linecolor\": \"white\", \"ticks\": \"\"}}, \"scene\": {\"xaxis\": {\"backgroundcolor\": \"#E5ECF6\", \"gridcolor\": \"white\", \"gridwidth\": 2, \"linecolor\": \"white\", \"showbackground\": true, \"ticks\": \"\", \"zerolinecolor\": \"white\"}, \"yaxis\": {\"backgroundcolor\": \"#E5ECF6\", \"gridcolor\": \"white\", \"gridwidth\": 2, \"linecolor\": \"white\", \"showbackground\": true, \"ticks\": \"\", \"zerolinecolor\": \"white\"}, \"zaxis\": {\"backgroundcolor\": \"#E5ECF6\", \"gridcolor\": \"white\", \"gridwidth\": 2, \"linecolor\": \"white\", \"showbackground\": true, \"ticks\": \"\", \"zerolinecolor\": \"white\"}}, \"shapedefaults\": {\"line\": {\"color\": \"#2a3f5f\"}}, \"ternary\": {\"aaxis\": {\"gridcolor\": \"white\", \"linecolor\": \"white\", \"ticks\": \"\"}, \"baxis\": {\"gridcolor\": \"white\", \"linecolor\": \"white\", \"ticks\": \"\"}, \"bgcolor\": \"#E5ECF6\", \"caxis\": {\"gridcolor\": \"white\", \"linecolor\": \"white\", \"ticks\": \"\"}}, \"title\": {\"x\": 0.05}, \"xaxis\": {\"automargin\": true, \"gridcolor\": \"white\", \"linecolor\": \"white\", \"ticks\": \"\", \"title\": {\"standoff\": 15}, \"zerolinecolor\": \"white\", \"zerolinewidth\": 2}, \"yaxis\": {\"automargin\": true, \"gridcolor\": \"white\", \"linecolor\": \"white\", \"ticks\": \"\", \"title\": {\"standoff\": 15}, \"zerolinecolor\": \"white\", \"zerolinewidth\": 2}}}, \"width\": 1200, \"xaxis\": {\"anchor\": \"y\", \"domain\": [0.0, 1.0]}, \"xaxis2\": {\"anchor\": \"y2\", \"domain\": [0.0, 1.0]}, \"xaxis3\": {\"anchor\": \"y3\", \"domain\": [0.0, 1.0]}, \"xaxis4\": {\"anchor\": \"y4\", \"domain\": [0.0, 1.0]}, \"yaxis\": {\"anchor\": \"x\", \"domain\": [0.80625, 1.0]}, \"yaxis2\": {\"anchor\": \"x2\", \"domain\": [0.5375, 0.73125]}, \"yaxis3\": {\"anchor\": \"x3\", \"domain\": [0.26875, 0.4625]}, \"yaxis4\": {\"anchor\": \"x4\", \"domain\": [0.0, 0.19375]}},\n",
              "                        {\"responsive\": true}\n",
              "                    ).then(function(){\n",
              "                            \n",
              "var gd = document.getElementById('ccaa53a4-3f27-49e1-9201-49421a340c21');\n",
              "var x = new MutationObserver(function (mutations, observer) {{\n",
              "        var display = window.getComputedStyle(gd).display;\n",
              "        if (!display || display === 'none') {{\n",
              "            console.log([gd, 'removed!']);\n",
              "            Plotly.purge(gd);\n",
              "            observer.disconnect();\n",
              "        }}\n",
              "}});\n",
              "\n",
              "// Listen for the removal of the full notebook cells\n",
              "var notebookContainer = gd.closest('#notebook-container');\n",
              "if (notebookContainer) {{\n",
              "    x.observe(notebookContainer, {childList: true});\n",
              "}}\n",
              "\n",
              "// Listen for the clearing of the current output cell\n",
              "var outputEl = gd.closest('.output');\n",
              "if (outputEl) {{\n",
              "    x.observe(outputEl, {childList: true});\n",
              "}}\n",
              "\n",
              "                        })\n",
              "                };\n",
              "                \n",
              "            </script>\n",
              "        </div>\n",
              "</body>\n",
              "</html>"
            ]
          },
          "metadata": {
            "tags": []
          }
        }
      ]
    },
    {
      "cell_type": "code",
      "metadata": {
        "id": "RVV6EkFnYTFy"
      },
      "source": [
        ""
      ],
      "execution_count": null,
      "outputs": []
    }
  ]
}