{
  "nbformat": 4,
  "nbformat_minor": 0,
  "metadata": {
    "colab": {
      "name": "GetData_AWDB_SOAP_call.ipynb",
      "provenance": [],
      "collapsed_sections": [],
      "authorship_tag": "ABX9TyPJExQb0jlW6qTJjs1Cko8x",
      "include_colab_link": true
    },
    "kernelspec": {
      "name": "python3",
      "display_name": "Python 3"
    }
  },
  "cells": [
    {
      "cell_type": "markdown",
      "metadata": {
        "id": "view-in-github",
        "colab_type": "text"
      },
      "source": [
        "<a href=\"https://colab.research.google.com/github/geoskimoto/AWDB_SOAP_Request/blob/main/GetData_AWDB_SOAP_call.ipynb\" target=\"_parent\"><img src=\"https://colab.research.google.com/assets/colab-badge.svg\" alt=\"Open In Colab\"/></a>"
      ]
    },
    {
      "cell_type": "code",
      "metadata": {
        "id": "ciJlz7I8l6EX"
      },
      "source": [
        "import requests\r\n",
        "import xml.dom.minidom as minidom\r\n",
        "import json\r\n",
        "import xml.etree.ElementTree as ET\r\n",
        "import numpy as np\r\n",
        "import pandas as pd\r\n",
        "import datetime\r\n",
        "\r\n",
        "def SOAP_Call(stationtriplets, elementCD, begindate, enddate):\r\n",
        "\r\n",
        "  # Create a dictionaries to store the data\r\n",
        "  headers = {'Content-type': 'text/soap'}\r\n",
        "  # current_dictionary = {}\r\n",
        "  \r\n",
        "  # Define Web Service URL\r\n",
        "  URL = \"https://wcc.sc.egov.usda.gov/awdbWebService/services?WSDL\"\r\n",
        "\r\n",
        "  # Define Parameters for SOAP Elements (getData:current and getCentralTendencyData:normals)\r\n",
        "  SOAP_current = '''\r\n",
        "  <?xml version=\"1.0\" encoding=\"UTF-8\"?>\r\n",
        "  <SOAP-ENV:Envelope xmlns:SOAP-ENV=\"http://schemas.xmlsoap.org/soap/envelope/\" xmlns:q0=\"http://www.wcc.nrcs.usda.gov/ns/awdbWebService\" xmlns:xsd=\"http://www.w3.org/2001/XMLSchema\" xmlns:xsi=\"http://www.w3.org/2001/XMLSchema-instance\">\r\n",
        "    <SOAP-ENV:Body>\r\n",
        "      <q0:getData>\r\n",
        "        <stationTriplets>$STATIONTRIPLETS$</stationTriplets>\r\n",
        "        <elementCd>$ELEMENTCD$</elementCd>   \r\n",
        "        <ordinal>1</ordinal>\r\n",
        "        <duration>DAILY</duration>\r\n",
        "        <getFlags>false</getFlags>\r\n",
        "        <beginDate>$BEGINDATE$</beginDate>\r\n",
        "        <endDate>$ENDDATE$</endDate>\r\n",
        "        <alwaysReturnDailyFeb29>false</alwaysReturnDailyFeb29>   \r\n",
        "      </q0:getData>\r\n",
        "    </SOAP-ENV:Body>\r\n",
        "  </SOAP-ENV:Envelope>\r\n",
        "\r\n",
        "  '''.strip()\r\n",
        "  #Read GetData documents - If <alwaysReturnDailyFeb29> is set to true, will set a null for every non leap year on the 29th,  \r\n",
        "  #which breaks this request when selecting ranges that include Feb 29.\r\n",
        "  #other element codes: PREC, WTEQ (Water Equivalent/SWE)\r\n",
        "  \r\n",
        "\r\n",
        "  # Post SOAP Elements to AWDB Web Service and process results - getData\r\n",
        "  SOAP_current = SOAP_current.replace(\"$ELEMENTCD$\", elementCD)\r\n",
        "  SOAP_current = SOAP_current.replace(\"$STATIONTRIPLETS$\", stationtriplets)\r\n",
        "  SOAP_current = SOAP_current.replace(\"$BEGINDATE$\", begindate)\r\n",
        "  SOAP_current = SOAP_current.replace(\"$ENDDATE$\", enddate)\r\n",
        "\r\n",
        "  response_current = requests.post(URL, data=SOAP_current, headers=headers)\r\n",
        "  xmldoc = minidom.parseString(response_current.text)\r\n",
        "\r\n",
        "  val_length = len(xmldoc.getElementsByTagName('values'))\r\n",
        "  data = pd.DataFrame([xmldoc.getElementsByTagName('values')[i].firstChild.data for i in range(0,val_length)])\r\n",
        "\r\n",
        "  date = datetime.datetime.strptime(begindate, \"%m/%d/%Y\").date()  #https://docs.python.org/3/library/datetime.html#strftime-strptime-behavior; .date() after .strptime just tells it to make it a datetime object.  Def necessary.\r\n",
        "  # print(date)\r\n",
        "  Date = []                                                       \r\n",
        "  for i in range(0, val_length): \r\n",
        "    date += datetime.timedelta(days=1)\r\n",
        "    Date.append(str(date))\r\n",
        "\r\n",
        "  # {str(xmldoc.getElementsByTagName('stationTriplet')[0].firstChild.data):{Date[j]:xmldoc.getElementsByTagName('values')[j].firstChild.data} for j in range(3)}\r\n",
        "\r\n",
        "  data['Date'] = Date\r\n",
        "  data.columns = [f'{elementCD}','Date']\r\n",
        "  # data.rename(columns={0:'SWE'}) #doesn't work for some reason, so renaming with just data.columns\r\n",
        "  data.set_index('Date', inplace=True)\r\n",
        "  \r\n",
        "  data[f'{elementCD}'] = list(map(lambda x: float(x), data[f'{elementCD}']))\r\n",
        "  \r\n",
        "  return data\r\n",
        "  # data.tail(7)"
      ],
      "execution_count": 131,
      "outputs": []
    },
    {
      "cell_type": "code",
      "metadata": {
        "colab": {
          "base_uri": "https://localhost:8080/",
          "height": 284
        },
        "id": "0XLlMHHenJIQ",
        "outputId": "5b15aa59-c56b-4f63-9002-4a6d7d6fade8"
      },
      "source": [
        "# 471:ID:SNTL\r\n",
        "# %%timeit\r\n",
        "df = SOAP_Call(stationtriplets='401:OR:SNTL',elementCD='PREC',begindate='2/01/1985',enddate='03/15/1987')\r\n",
        "df.sample(7)\r\n"
      ],
      "execution_count": 132,
      "outputs": [
        {
          "output_type": "execute_result",
          "data": {
            "text/html": [
              "<div>\n",
              "<style scoped>\n",
              "    .dataframe tbody tr th:only-of-type {\n",
              "        vertical-align: middle;\n",
              "    }\n",
              "\n",
              "    .dataframe tbody tr th {\n",
              "        vertical-align: top;\n",
              "    }\n",
              "\n",
              "    .dataframe thead th {\n",
              "        text-align: right;\n",
              "    }\n",
              "</style>\n",
              "<table border=\"1\" class=\"dataframe\">\n",
              "  <thead>\n",
              "    <tr style=\"text-align: right;\">\n",
              "      <th></th>\n",
              "      <th>PREC</th>\n",
              "    </tr>\n",
              "    <tr>\n",
              "      <th>Date</th>\n",
              "      <th></th>\n",
              "    </tr>\n",
              "  </thead>\n",
              "  <tbody>\n",
              "    <tr>\n",
              "      <th>1986-02-09</th>\n",
              "      <td>22.8</td>\n",
              "    </tr>\n",
              "    <tr>\n",
              "      <th>1985-09-04</th>\n",
              "      <td>39.3</td>\n",
              "    </tr>\n",
              "    <tr>\n",
              "      <th>1985-07-08</th>\n",
              "      <td>36.8</td>\n",
              "    </tr>\n",
              "    <tr>\n",
              "      <th>1986-11-04</th>\n",
              "      <td>2.4</td>\n",
              "    </tr>\n",
              "    <tr>\n",
              "      <th>1986-02-16</th>\n",
              "      <td>23.8</td>\n",
              "    </tr>\n",
              "    <tr>\n",
              "      <th>1986-04-15</th>\n",
              "      <td>36.9</td>\n",
              "    </tr>\n",
              "    <tr>\n",
              "      <th>1985-05-03</th>\n",
              "      <td>33.6</td>\n",
              "    </tr>\n",
              "  </tbody>\n",
              "</table>\n",
              "</div>"
            ],
            "text/plain": [
              "            PREC\n",
              "Date            \n",
              "1986-02-09  22.8\n",
              "1985-09-04  39.3\n",
              "1985-07-08  36.8\n",
              "1986-11-04   2.4\n",
              "1986-02-16  23.8\n",
              "1986-04-15  36.9\n",
              "1985-05-03  33.6"
            ]
          },
          "metadata": {
            "tags": []
          },
          "execution_count": 132
        }
      ]
    },
    {
      "cell_type": "code",
      "metadata": {
        "colab": {
          "base_uri": "https://localhost:8080/"
        },
        "id": "DnlRqq6rCtLR",
        "outputId": "7a9f1dae-000a-4a7a-eb5c-99fbc9a9bf8d"
      },
      "source": [
        "type(df['PREC'][0])"
      ],
      "execution_count": 133,
      "outputs": [
        {
          "output_type": "execute_result",
          "data": {
            "text/plain": [
              "numpy.float64"
            ]
          },
          "metadata": {
            "tags": []
          },
          "execution_count": 133
        }
      ]
    },
    {
      "cell_type": "code",
      "metadata": {
        "colab": {
          "base_uri": "https://localhost:8080/",
          "height": 296
        },
        "id": "swUX_ns5DV-t",
        "outputId": "1db5ce2d-8a6c-4d0c-b52a-bdbf0626b448"
      },
      "source": [
        "df[-250:].plot()"
      ],
      "execution_count": 140,
      "outputs": [
        {
          "output_type": "execute_result",
          "data": {
            "text/plain": [
              "<matplotlib.axes._subplots.AxesSubplot at 0x7ff03c900358>"
            ]
          },
          "metadata": {
            "tags": []
          },
          "execution_count": 140
        },
        {
          "output_type": "display_data",
          "data": {
            "image/png": "[encoded data removed]",
            "text/plain": [
              "<Figure size 432x288 with 1 Axes>"
            ]
          },
          "metadata": {
            "tags": [],
            "needs_background": "light"
          }
        }
      ]
    },
    {
      "cell_type": "code",
      "metadata": {
        "id": "_XU_FtXPAdVr"
      },
      "source": [
        "# list(map(lambda x: str(x), df.iloc[:,0]))"
      ],
      "execution_count": 119,
      "outputs": []
    },
    {
      "cell_type": "markdown",
      "metadata": {
        "id": "Pusw6YHIxRTI"
      },
      "source": [
        "### Multiple issues still:\r\n",
        "\r\n",
        "\r\n",
        "*   Need a way to select multiple stations at once or iteratively run function\r\n",
        "*   Call breaks when selecting different ranges of data. Pretty sure it's around Feb 29/leap years giving null values.\r\n",
        "*   Need to fix how the date format and how they are being iteratively added.  Seems to sometime select month instead of day.  Probably why code is breaking in certain cases.\r\n",
        "*   Need map(lambda float(x): x] to convert values from strings to floats or int \r\n",
        "\r\n",
        "\r\n",
        "\r\n"
      ]
    }
  ]
}