{
  "nbformat": 4,
  "nbformat_minor": 0,
  "metadata": {
    "colab": {
      "name": "GetData_AWDB_SOAP_call.ipynb",
      "provenance": [],
      "collapsed_sections": [
        "FEe5KAEsyjjE",
        "8LtLSpGTw1vg"
      ],
      "authorship_tag": "ABX9TyOPUWJ5y2n+4TMUt9uhRvWr",
      "include_colab_link": true
    },
    "kernelspec": {
      "name": "python3",
      "display_name": "Python 3"
    }
  },
  "cells": [
    {
      "cell_type": "markdown",
      "metadata": {
        "id": "view-in-github",
        "colab_type": "text"
      },
      "source": [
        "<a href=\"https://colab.research.google.com/github/geoskimoto/AWDB_SOAP_Request/blob/main/GetData_AWDB_SOAP_call.ipynb\" target=\"_parent\"><img src=\"https://colab.research.google.com/assets/colab-badge.svg\" alt=\"Open In Colab\"/></a>"
      ]
    },
    {
      "cell_type": "markdown",
      "metadata": {
        "id": "FEe5KAEsyjjE"
      },
      "source": [
        "#Library Imports"
      ]
    },
    {
      "cell_type": "code",
      "metadata": {
        "id": "G6ElAXPeyo_W"
      },
      "source": [
        "from sklearn.linear_model import LassoCV, RidgeCV, HuberRegressor\n",
        "from sklearn.ensemble import GradientBoostingRegressor, AdaBoostRegressor, RandomForestRegressor\n",
        "from sklearn.model_selection import train_test_split\n",
        "from sklearn import svm\n",
        "from sklearn.metrics import mean_squared_error\n",
        "import numpy as np\n",
        "import pandas as pd\n",
        "import matplotlib.pyplot as plt\n",
        "import seaborn as sns\n",
        "import plotly.graph_objects as go\n",
        "from plotly.subplots import make_subplots\n",
        "import scipy.stats as stats\n",
        "# import statsmodels.api as sm\n",
        "from functools import reduce\n",
        "\n",
        "import requests\n",
        "import xml.dom.minidom as minidom\n",
        "import xml.etree.ElementTree as ET\n",
        "import numpy as np\n",
        "import pandas as pd\n",
        "import datetime\n"
      ],
      "execution_count": 4,
      "outputs": []
    },
    {
      "cell_type": "markdown",
      "metadata": {
        "id": "8LtLSpGTw1vg"
      },
      "source": [
        "# Helper Functions"
      ]
    },
    {
      "cell_type": "code",
      "metadata": {
        "id": "ciJlz7I8l6EX"
      },
      "source": [
        "# Web Call to Access and Download Data From AWDB Web Service (SOAP API)\n",
        "\n",
        "def SOAP_Call(stationtriplets, elementCD, begindate, enddate):\n",
        "\n",
        "  # Create a dictionaries to store the data\n",
        "  headers = {'Content-type': 'text/soap'}\n",
        "  # current_dictionary = {}\n",
        "  \n",
        "  # Define Web Service URL\n",
        "  URL = \"https://wcc.sc.egov.usda.gov/awdbWebService/services?WSDL\"\n",
        "\n",
        "  # Define Parameters for SOAP Elements (getData:current and getCentralTendencyData:normals)\n",
        "  SOAP_current = '''\n",
        "  <?xml version=\"1.0\" encoding=\"UTF-8\"?>\n",
        "  <SOAP-ENV:Envelope xmlns:SOAP-ENV=\"http://schemas.xmlsoap.org/soap/envelope/\" xmlns:q0=\"http://www.wcc.nrcs.usda.gov/ns/awdbWebService\" xmlns:xsd=\"http://www.w3.org/2001/XMLSchema\" xmlns:xsi=\"http://www.w3.org/2001/XMLSchema-instance\">\n",
        "    <SOAP-ENV:Body>\n",
        "      <q0:getData>\n",
        "        <stationTriplets>STATIONTRIPLETS</stationTriplets>\n",
        "        <elementCd>ELEMENTCD</elementCd>   \n",
        "        <ordinal>1</ordinal>\n",
        "        <duration>DAILY</duration>\n",
        "        <getFlags>false</getFlags>\n",
        "        <beginDate>BEGINDATE</beginDate>\n",
        "        <endDate>ENDDATE</endDate>\n",
        "        <alwaysReturnDailyFeb29>false</alwaysReturnDailyFeb29>   \n",
        "      </q0:getData>\n",
        "    </SOAP-ENV:Body>\n",
        "  </SOAP-ENV:Envelope>\n",
        "\n",
        "  '''.strip()\n",
        "  #Read GetData documents - If <alwaysReturnDailyFeb29> is set to true, will set a null for every non leap year on the 29th,  \n",
        "  #which breaks this request when selecting date ranges that include Feb 29.\n",
        "  #other element codes: PREC, WTEQ (Water Equivalent/SWE)\n",
        "  \n",
        "\n",
        "  # Post SOAP Elements to AWDB Web Service and process results - getData\n",
        "  SOAP_current = SOAP_current.replace(\"ELEMENTCD\", elementCD)\n",
        "  SOAP_current = SOAP_current.replace(\"STATIONTRIPLETS\", stationtriplets)\n",
        "  SOAP_current = SOAP_current.replace(\"BEGINDATE\", begindate)\n",
        "  SOAP_current = SOAP_current.replace(\"ENDDATE\", enddate)\n",
        "\n",
        "  response_current = requests.post(URL, data=SOAP_current, headers=headers)\n",
        "  xmldoc = minidom.parseString(response_current.text)\n",
        "\n",
        "  val_length = len(xmldoc.getElementsByTagName('values'))\n",
        "  data = pd.DataFrame([xmldoc.getElementsByTagName('values')[i].firstChild.data for i in range(0,val_length)])\n",
        "\n",
        "  date = datetime.datetime.strptime(begindate, \"%m/%d/%Y\").date()  #https://docs.python.org/3/library/datetime.html#strftime-strptime-behavior; .date() after .strptime just tells it to make it a datetime object.  Def necessary.\n",
        "  # print(date)\n",
        "  Date = []                                                       \n",
        "  for i in range(0, val_length): \n",
        "    date += datetime.timedelta(days=1)\n",
        "    Date.append((date))\n",
        "\n",
        "  # {str(xmldoc.getElementsByTagName('stationTriplet')[0].firstChild.data):{Date[j]:xmldoc.getElementsByTagName('values')[j].firstChild.data} for j in range(3)}\n",
        "\n",
        "  data['Date'] = Date\n",
        "  data.columns = [f'{elementCD}','Date']\n",
        "  data.set_index('Date', inplace=True)\n",
        "  \n",
        "  data[f'{elementCD}'] = list(map(lambda x: float(x), data[f'{elementCD}']))\n",
        "  \n",
        "  return data\n",
        "  # data.tail(7)"
      ],
      "execution_count": 5,
      "outputs": []
    },
    {
      "cell_type": "code",
      "metadata": {
        "id": "_UA7mXJ0YTM1"
      },
      "source": [
        "# Function to Download Multiple Stations at a Time from AWDB Web Service\n",
        "\n",
        "stations = ['401:OR:SNTL', '471:ID:SNTL', '591:WA:SNTL']\n",
        "def getData(stations, parameter_of_interest, begindate, enddate):\n",
        "  # data = []\n",
        "  # data_singleDF\n",
        "  # for i in stations:\n",
        "  #   data.append(SOAP_Call(stationtriplets=i,elementCD=parameter_of_interest,begindate=begindate,enddate=enddate))\n",
        "\n",
        "  # data_singleDF =\n",
        " \n",
        "  data_singleDF = reduce(lambda left,right: pd.merge(left,right,left_index=True, right_index=True, how='outer'), [SOAP_Call(stationtriplets=j,elementCD=parameter_of_interest,begindate=begindate,enddate=enddate) for j in stations])\n",
        "  # data_singleDF.rename(columns='bla')\n",
        "  data_singleDF.columns = [f'{j}' for j in stations]\n",
        "\n",
        "  # index = np.array([data_singleDF.columns.values, data_singleDF.iloc[1].values])\n",
        "  # data_singleDF = pd.MultiIndex.from_arrays(index)\n",
        "  # data_singleDF = data_singleDF.iloc[1:]\n",
        "\n",
        "  # data_singleDF.xs('price', axis=1, level=1, drop_level=False)\n",
        "\n",
        "\n",
        "  return data_singleDF"
      ],
      "execution_count": 81,
      "outputs": []
    },
    {
      "cell_type": "code",
      "metadata": {
        "colab": {
          "base_uri": "https://localhost:8080/",
          "height": 435
        },
        "id": "DXsuBldQ4Q86",
        "outputId": "18141b7d-2c42-4f5d-90dd-429ba66292e5"
      },
      "source": [
        "bla = getData(stations, 'WTEQ', '01/01/2019', '04/01/2019')\n",
        "bla\n",
        "# bla.iloc[:,0]"
      ],
      "execution_count": 84,
      "outputs": [
        {
          "output_type": "execute_result",
          "data": {
            "text/html": [
              "<div>\n",
              "<style scoped>\n",
              "    .dataframe tbody tr th:only-of-type {\n",
              "        vertical-align: middle;\n",
              "    }\n",
              "\n",
              "    .dataframe tbody tr th {\n",
              "        vertical-align: top;\n",
              "    }\n",
              "\n",
              "    .dataframe thead th {\n",
              "        text-align: right;\n",
              "    }\n",
              "</style>\n",
              "<table border=\"1\" class=\"dataframe\">\n",
              "  <thead>\n",
              "    <tr style=\"text-align: right;\">\n",
              "      <th></th>\n",
              "      <th>401:OR:SNTL</th>\n",
              "      <th>471:ID:SNTL</th>\n",
              "      <th>591:WA:SNTL</th>\n",
              "    </tr>\n",
              "    <tr>\n",
              "      <th>Date</th>\n",
              "      <th></th>\n",
              "      <th></th>\n",
              "      <th></th>\n",
              "    </tr>\n",
              "  </thead>\n",
              "  <tbody>\n",
              "    <tr>\n",
              "      <th>2019-01-02</th>\n",
              "      <td>3.2</td>\n",
              "      <td>6.3</td>\n",
              "      <td>10.4</td>\n",
              "    </tr>\n",
              "    <tr>\n",
              "      <th>2019-01-03</th>\n",
              "      <td>3.2</td>\n",
              "      <td>6.3</td>\n",
              "      <td>10.4</td>\n",
              "    </tr>\n",
              "    <tr>\n",
              "      <th>2019-01-04</th>\n",
              "      <td>3.3</td>\n",
              "      <td>6.3</td>\n",
              "      <td>10.4</td>\n",
              "    </tr>\n",
              "    <tr>\n",
              "      <th>2019-01-05</th>\n",
              "      <td>3.3</td>\n",
              "      <td>6.3</td>\n",
              "      <td>10.6</td>\n",
              "    </tr>\n",
              "    <tr>\n",
              "      <th>2019-01-06</th>\n",
              "      <td>3.3</td>\n",
              "      <td>6.3</td>\n",
              "      <td>11.0</td>\n",
              "    </tr>\n",
              "    <tr>\n",
              "      <th>...</th>\n",
              "      <td>...</td>\n",
              "      <td>...</td>\n",
              "      <td>...</td>\n",
              "    </tr>\n",
              "    <tr>\n",
              "      <th>2019-03-29</th>\n",
              "      <td>11.8</td>\n",
              "      <td>23.7</td>\n",
              "      <td>30.9</td>\n",
              "    </tr>\n",
              "    <tr>\n",
              "      <th>2019-03-30</th>\n",
              "      <td>11.8</td>\n",
              "      <td>23.9</td>\n",
              "      <td>30.8</td>\n",
              "    </tr>\n",
              "    <tr>\n",
              "      <th>2019-03-31</th>\n",
              "      <td>11.9</td>\n",
              "      <td>24.8</td>\n",
              "      <td>30.8</td>\n",
              "    </tr>\n",
              "    <tr>\n",
              "      <th>2019-04-01</th>\n",
              "      <td>11.8</td>\n",
              "      <td>24.9</td>\n",
              "      <td>30.5</td>\n",
              "    </tr>\n",
              "    <tr>\n",
              "      <th>2019-04-02</th>\n",
              "      <td>11.6</td>\n",
              "      <td>24.9</td>\n",
              "      <td>30.2</td>\n",
              "    </tr>\n",
              "  </tbody>\n",
              "</table>\n",
              "<p>91 rows × 3 columns</p>\n",
              "</div>"
            ],
            "text/plain": [
              "            401:OR:SNTL  471:ID:SNTL  591:WA:SNTL\n",
              "Date                                             \n",
              "2019-01-02          3.2          6.3         10.4\n",
              "2019-01-03          3.2          6.3         10.4\n",
              "2019-01-04          3.3          6.3         10.4\n",
              "2019-01-05          3.3          6.3         10.6\n",
              "2019-01-06          3.3          6.3         11.0\n",
              "...                 ...          ...          ...\n",
              "2019-03-29         11.8         23.7         30.9\n",
              "2019-03-30         11.8         23.9         30.8\n",
              "2019-03-31         11.9         24.8         30.8\n",
              "2019-04-01         11.8         24.9         30.5\n",
              "2019-04-02         11.6         24.9         30.2\n",
              "\n",
              "[91 rows x 3 columns]"
            ]
          },
          "metadata": {
            "tags": []
          },
          "execution_count": 84
        }
      ]
    },
    {
      "cell_type": "code",
      "metadata": {
        "colab": {
          "base_uri": "https://localhost:8080/"
        },
        "id": "b0XHxwH24Q6S",
        "outputId": "255bd159-f8ba-4feb-ab95-1ddd850b4102"
      },
      "source": [
        "index = np.array([df.columns.values, df.iloc[0].values])\n",
        "\n",
        "df = pd.MultiIndex.from_arrays(index)"
      ],
      "execution_count": 30,
      "outputs": [
        {
          "output_type": "execute_result",
          "data": {
            "text/plain": [
              "3"
            ]
          },
          "metadata": {
            "tags": []
          },
          "execution_count": 30
        }
      ]
    },
    {
      "cell_type": "markdown",
      "metadata": {
        "id": "DKMxThhvw9Gd"
      },
      "source": [
        "# Regression with selected data"
      ]
    },
    {
      "cell_type": "markdown",
      "metadata": {
        "id": "MMeaRHXDx_TH"
      },
      "source": [
        "### Fit Model to Parameter and Date Range of Choice"
      ]
    },
    {
      "cell_type": "code",
      "metadata": {
        "id": "uYX3m91BZGx-"
      },
      "source": [
        "# def fitData(stations, parameter_of_interest, begindate, enddate, regression_model):\n",
        "\n",
        "#   global data, target, target0, features, features0, features_list\n",
        "# #Choose Regression Model\n",
        "#   if regression_model == 'Lasso':\n",
        "#     regr0 = LassoCV(alphas=(0.001,0.01,0.1,1,10,100,1000))\n",
        "#   elif regression_model == 'Ridge':\n",
        "#     regr0 = RidgeCV(alphas=(0.001,0.01,0.1,1,10,100,1000))\n",
        "#   elif regression_model == 'SVM':\n",
        "#     regr0 = svm.SVR(kernel='rbf', degree=3, gamma='scale', coef0=0.0, tol=0.001, C=1.0, epsilon=0.1, shrinking=True, cache_size=200, verbose=False, max_iter=-1)\n",
        "#   elif regression_model == 'Huber':\n",
        "#     regr0 = HuberRegressor()\n",
        "#   elif regression_model == 'GradientBoost':\n",
        "#     regr0 = GradientBoostingRegressor(random_state=0, n_estimators=100)\n",
        "#   elif regression_model == 'AdaBoost':\n",
        "#     regr0 = AdaBoostRegressor(random_state=0, n_estimators=100)\n",
        "#   elif regression_model == 'Random Forest':\n",
        "#     regr0 = RandomForestRegressor(n_estimators=100)\n",
        "#   else:\n",
        "#     print('Choose either Lasso, Ridge, SVM, Huber, GradientBoost, AdaBoost, or Random Forest')\n",
        "\n",
        "# #Download Data from AWDB Web Service\n",
        "#   data = getData(stations, parameter_of_interest='WTEQ', begindate, enddate)\n",
        "\n",
        "# #Define Targets and Features (e.g. Dependent and Independent Variables)\n",
        "#   target0 = data[0][parameter_of_interest]   #Need to keep a copy of target in a dataFrame in order to extract index/datetime for plots\n",
        "#   target = target0.tolist()\n",
        "\n",
        "#   features0 = data[1:]\n",
        "#   #Need to do this shinanagins in order to place features into a list (instead of a df).  This is required in order for it to be reshaped to fit the appropriate format for sklearn regr0.fit() and regr0.predict()\n",
        "#   features_list = []\n",
        "#   for i in features0:\n",
        "#     i.reset_index(inplace=True)\n",
        "#     features_list.append(i[parameter_of_interest].tolist())\n",
        "\n",
        "#   features = np.array(features_list).reshape(-1,len(stations)-1)\n",
        "\n",
        "# #Fit Mode\n",
        "#   regr0.fit(features, target)\n",
        "\n",
        "\n",
        "\n",
        "#   y_pred = regr0.predict(features)\n",
        "#   # # y_pred2 = pd.DataFrame(y_pred, columns=['y_pred'])\n",
        "#   # # y_pred2['Date'] = target0.index\n",
        "#   # # y_pred2.set_index('Date', inplace=True)\n",
        "\n",
        "#   # # site_list['y_pred'] = y_pred2\n",
        "#   # # abs_error = abs(y_pred - target)\n",
        "#   # # abs_error = pd.DataFrame(abs_error)\n",
        "#   # # abs_error['Date'] = site_list.index\n",
        "#   # # abs_error.set_index('Date',inplace=True)\n",
        "#   # # site_list['abs_error'] = abs_error\n",
        "#   # # site_list_sorted = site_list.sort_values('abs_error',ascending=False)\n",
        "\n",
        "#   fig = make_subplots(\n",
        "#       rows=2, cols=1,\n",
        "#       subplot_titles=('Predictions vs. Actual','Regression Plot')) \n",
        "\n",
        "\n",
        "#   # 'Predictions vs. Actual'\n",
        "#   fig.add_trace(go.Scatter(\n",
        "#       y = target0,\n",
        "#       x = target0.index,\n",
        "#       mode = 'lines',\n",
        "#       name = f'{stations[0]}'\n",
        "#   ), \n",
        "#   row=1, col=1)\n",
        "\n",
        "#   fig.add_trace(go.Scatter(\n",
        "#       y = y_pred,\n",
        "#       x = target0.index,\n",
        "#       mode = 'lines',\n",
        "#       name = 'model predictions'\n",
        "#   ), \n",
        "#   row=1, col=1)\n",
        "\n",
        "#   # # # Regression Plot # # # \n",
        "#   fig.add_trace(go.Scatter(\n",
        "#     x=data[1][parameter_of_interest],\n",
        "#     y=target0,\n",
        "#     mode='markers',\n",
        "#     # hovertext = site_list.index,\n",
        "#     marker=dict(size=5, line=dict(width=1.2))   \n",
        "#   ), \n",
        "#   row=2, col=1\n",
        "#   )\n",
        "\n",
        "#   fig.add_trace(go.Scatter(\n",
        "#     x=data[1][parameter_of_interest],\n",
        "#     y=y_pred,\n",
        "#     mode='lines',\n",
        "#     hovertext = y_pred,  \n",
        "#   ), \n",
        "#   row=2, col=1)\n",
        "\n",
        "#   fig.update_xaxes(title_text = f\"{parameter_of_interest}\", row=1, col=1)\n",
        "#   fig.update_yaxes(title_text = 'Date', row=1, col=1) \n",
        "\n",
        "#   # fig.update_xaxes(title_text = f\"{site_list.columns[0]}\", row=2, col=1)\n",
        "#   # fig.update_yaxes(title_text = f'{site_list.columns[1:len(stations)', row=2, col=1) \n",
        "\n",
        "#   fig.update_layout(\n",
        "#       showlegend=False,\n",
        "#       height=1550,\n",
        "#       width=1150 \n",
        "#   )\n",
        "#   fig.show()"
      ],
      "execution_count": 11,
      "outputs": []
    },
    {
      "cell_type": "code",
      "metadata": {
        "colab": {
          "base_uri": "https://localhost:8080/"
        },
        "id": "B_jpEowg3qxn",
        "outputId": "882b9192-01c3-4db4-dba1-12957e5466a0"
      },
      "source": [
        "getData(stations, 'WTEQ')"
      ],
      "execution_count": 17,
      "outputs": [
        {
          "output_type": "execute_result",
          "data": {
            "text/plain": [
              "[            WTEQ\n",
              " Date            \n",
              " 1991-01-02   3.9\n",
              " 1991-01-03   4.0\n",
              " 1991-01-04   4.0\n",
              " 1991-01-05   4.0\n",
              " 1991-01-06   4.0\n",
              " ...          ...\n",
              " 1992-05-29   0.0\n",
              " 1992-05-30   0.0\n",
              " 1992-05-31   0.0\n",
              " 1992-06-01   0.0\n",
              " 1992-06-02   0.0\n",
              " \n",
              " [518 rows x 1 columns],             WTEQ\n",
              " Date            \n",
              " 1991-01-02  18.9\n",
              " 1991-01-03  20.2\n",
              " 1991-01-04  20.2\n",
              " 1991-01-05  20.2\n",
              " 1991-01-06  20.2\n",
              " ...          ...\n",
              " 1992-05-29   0.0\n",
              " 1992-05-30   0.0\n",
              " 1992-05-31   0.0\n",
              " 1992-06-01   0.0\n",
              " 1992-06-02   0.0\n",
              " \n",
              " [518 rows x 1 columns]]"
            ]
          },
          "metadata": {
            "tags": []
          },
          "execution_count": 17
        }
      ]
    },
    {
      "cell_type": "code",
      "metadata": {
        "id": "06MhhUs63qup"
      },
      "source": [
        "def trainModel(stations, parameter_of_interest, begindate, enddate, regression_model):\n",
        "\n",
        "  global data, target, features, features_test, features_train, target_test, target_train, target_test_pred, target_train_pred, df_train, df_test\n",
        "#Choose Regression Model\n",
        "  if regression_model == 'Lasso':\n",
        "    regr0 = LassoCV(alphas=(0.001,0.01,0.1,1,10,100,1000))\n",
        "  elif regression_model == 'Ridge':\n",
        "    regr0 = RidgeCV(alphas=(0.001,0.01,0.1,1,10,100,1000))\n",
        "  elif regression_model == 'SVM':\n",
        "    regr0 = svm.SVR(kernel='rbf', degree=3, gamma='scale', coef0=0.0, tol=0.001, C=1.0, epsilon=0.1, shrinking=True, cache_size=200, verbose=False, max_iter=-1)\n",
        "  elif regression_model == 'Huber':\n",
        "    regr0 = HuberRegressor()\n",
        "  elif regression_model == 'GradientBoost':\n",
        "    regr0 = GradientBoostingRegressor(random_state=0, n_estimators=100)\n",
        "  elif regression_model == 'AdaBoost':\n",
        "    regr0 = AdaBoostRegressor(random_state=0, n_estimators=100)\n",
        "  elif regression_model == 'Random Forest':\n",
        "    regr0 = RandomForestRegressor(n_estimators=100)\n",
        "  else:\n",
        "    print('Choose either Lasso, Ridge, SVM, Huber, GradientBoost, AdaBoost, or Random Forest')\n",
        "\n",
        "#Download Data from AWDB Web Service\n",
        "  data = getData(stations, parameter_of_interest, begindate, enddate)\n",
        "\n",
        "#Define Targets and Features (e.g. Dependent and Independent Variables)\n",
        "  target = data.iloc[:,0]\n",
        "  features = data.iloc[:,1:]\n",
        "\n",
        "#Split into training and test sets\n",
        "  features_train, features_test, target_train, target_test = train_test_split(features,target, test_size=0.25,shuffle=False)\n",
        "\n",
        "#Fit model on training set\n",
        "  regr0.fit(features_train, target_train)\n",
        "\n",
        "#Run predictions on training features and test features\n",
        "  target_train_pred = regr0.predict(features_train)\n",
        "  target_test_pred = regr0.predict(features_test)\n",
        "  \n",
        "#Combine everything into a training and test Dataframes to be quickly referenced when plotting.\n",
        "\n",
        "  # df_train = features_train.iloc[:,:]\n",
        "  # df_train['Target'] = target_train\n",
        "  # df_train['Predictions'] = target_train_pred.tolist()\n",
        "\n",
        "  # df_test = features_test\n",
        "  # df_test['Target'] = target_test\n",
        "  # df_test['Predictions'] = target_test_pred.tolist()\n",
        "\n",
        "\n",
        "\n",
        "\n",
        "  fig = make_subplots(\n",
        "      rows=4, cols=1,\n",
        "      # subplot_titles=('Predictions vs. Actual - Training Set','Predictions vs. Actual - Test Set', 'Regression Fit')\n",
        "      )# - Training Set', 'Regression Fit - Test Set')\n",
        "\n",
        "\n",
        "  # 'Predictions vs. Actual - Training Set'\n",
        "  # fig.add_trace(go.Scatter(\n",
        "  #     y = target,\n",
        "  #     x = target.index,\n",
        "  #     mode = 'lines',\n",
        "  #     name = f'{stations[0]}'\n",
        "  # ), \n",
        "  # row=1, col=1)\n",
        "\n",
        "  fig.add_trace(go.Scatter(\n",
        "      y = target_train,\n",
        "      x = target_train.index,\n",
        "      mode = 'lines',\n",
        "      name = 'Training'\n",
        "  ), \n",
        "  row=1, col=1)\n",
        "\n",
        "  fig.add_trace(go.Scatter(\n",
        "      y = target_train_pred,\n",
        "      x = target_train.index,\n",
        "      mode = 'lines',\n",
        "      name = 'Model Predictions on Training Data'\n",
        "  ), \n",
        "  row=1, col=1)\n",
        "\n",
        "\n",
        "  fig.add_trace(go.Scatter(\n",
        "      y = target_test,\n",
        "      x = target_test.index,\n",
        "      mode = 'lines',\n",
        "      name = 'Test Data'\n",
        "  ), \n",
        "  row=2, col=1)\n",
        "\n",
        "  fig.add_trace(go.Scatter(\n",
        "      y = target_test_pred,\n",
        "      x = target_test.index,\n",
        "      mode = 'lines',\n",
        "      name = 'Model Predictions on Training Data'\n",
        "  ), \n",
        "  row=2, col=1)\n",
        "\n",
        "  # # # # # Regression Plot # # # \n",
        "\n",
        "  # fig.add_trace(go.Scatter(\n",
        "  #   x=features_train.iloc[:,0],\n",
        "  #   y=target_train,\n",
        "  #   mode='markers',\n",
        "  #   # hovertext = ytrain_pred.tolist(),  \n",
        "  # ), \n",
        "  # row=3, col=1)\n",
        "\n",
        "  # fig.add_trace(go.Scatter(\n",
        "  #   x=features_train.iloc[:,0],\n",
        "  #   y=pd.DataFrame(target_train_pred.tolist()).iloc[:,0],\n",
        "  #   mode='markers',\n",
        "  #   # hovertext = ytrain_pred.tolist(),  \n",
        "  # ), \n",
        "  # row=3, col=1)\n",
        "  \n",
        "  # # fig.add_trace(go.Scatter(\n",
        "  # #   x=X_test,\n",
        "  # #   y=ytest_pred.tolist(),\n",
        "  # #   mode='lines',\n",
        "  # #   hovertext = ytest_pred,  \n",
        "  # # ), \n",
        "  # # row=3, col=1)\n",
        "\n",
        "  # # fig.update_xaxes(title_text = f\"{parameter_of_interest}\", row=1, col=1)\n",
        "  # # fig.update_yaxes(title_text = 'Date', row=1, col=1) \n",
        "\n",
        "  # # # fig.update_xaxes(title_text = f\"{site_list.columns[0]}\", row=2, col=1)\n",
        "  # # # fig.update_yaxes(title_text = f'{site_list.columns[1:len(stations)', row=2, col=1) \n",
        "\n",
        "  fig.update_layout(\n",
        "      showlegend=True,\n",
        "      height=2000,\n",
        "      width=1200 \n",
        "  )\n",
        "  fig.show()"
      ],
      "execution_count": 233,
      "outputs": []
    },
    {
      "cell_type": "code",
      "metadata": {
        "colab": {
          "base_uri": "https://localhost:8080/",
          "height": 435
        },
        "id": "1Z_HrCAGFull",
        "outputId": "572a586e-b7fc-45a9-85c2-e69c2b67efbe"
      },
      "source": [
        "features_train"
      ],
      "execution_count": 191,
      "outputs": [
        {
          "output_type": "execute_result",
          "data": {
            "text/html": [
              "<div>\n",
              "<style scoped>\n",
              "    .dataframe tbody tr th:only-of-type {\n",
              "        vertical-align: middle;\n",
              "    }\n",
              "\n",
              "    .dataframe tbody tr th {\n",
              "        vertical-align: top;\n",
              "    }\n",
              "\n",
              "    .dataframe thead th {\n",
              "        text-align: right;\n",
              "    }\n",
              "</style>\n",
              "<table border=\"1\" class=\"dataframe\">\n",
              "  <thead>\n",
              "    <tr style=\"text-align: right;\">\n",
              "      <th></th>\n",
              "      <th>748:WA:SNTL</th>\n",
              "    </tr>\n",
              "    <tr>\n",
              "      <th>Date</th>\n",
              "      <th></th>\n",
              "    </tr>\n",
              "  </thead>\n",
              "  <tbody>\n",
              "    <tr>\n",
              "      <th>2001-04-09</th>\n",
              "      <td>20.8</td>\n",
              "    </tr>\n",
              "    <tr>\n",
              "      <th>2001-08-06</th>\n",
              "      <td>0.0</td>\n",
              "    </tr>\n",
              "    <tr>\n",
              "      <th>2001-12-08</th>\n",
              "      <td>15.1</td>\n",
              "    </tr>\n",
              "    <tr>\n",
              "      <th>2001-12-28</th>\n",
              "      <td>21.3</td>\n",
              "    </tr>\n",
              "    <tr>\n",
              "      <th>2001-01-28</th>\n",
              "      <td>11.4</td>\n",
              "    </tr>\n",
              "    <tr>\n",
              "      <th>...</th>\n",
              "      <td>...</td>\n",
              "    </tr>\n",
              "    <tr>\n",
              "      <th>2001-05-29</th>\n",
              "      <td>1.1</td>\n",
              "    </tr>\n",
              "    <tr>\n",
              "      <th>2002-01-10</th>\n",
              "      <td>16.5</td>\n",
              "    </tr>\n",
              "    <tr>\n",
              "      <th>2001-03-20</th>\n",
              "      <td>21.1</td>\n",
              "    </tr>\n",
              "    <tr>\n",
              "      <th>2001-07-28</th>\n",
              "      <td>0.0</td>\n",
              "    </tr>\n",
              "    <tr>\n",
              "      <th>2001-12-01</th>\n",
              "      <td>4.3</td>\n",
              "    </tr>\n",
              "  </tbody>\n",
              "</table>\n",
              "<p>387 rows × 1 columns</p>\n",
              "</div>"
            ],
            "text/plain": [
              "            748:WA:SNTL\n",
              "Date                   \n",
              "2001-04-09         20.8\n",
              "2001-08-06          0.0\n",
              "2001-12-08         15.1\n",
              "2001-12-28         21.3\n",
              "2001-01-28         11.4\n",
              "...                 ...\n",
              "2001-05-29          1.1\n",
              "2002-01-10         16.5\n",
              "2001-03-20         21.1\n",
              "2001-07-28          0.0\n",
              "2001-12-01          4.3\n",
              "\n",
              "[387 rows x 1 columns]"
            ]
          },
          "metadata": {
            "tags": []
          },
          "execution_count": 191
        }
      ]
    },
    {
      "cell_type": "code",
      "metadata": {
        "id": "s2g6hu2BFujU"
      },
      "source": [
        ""
      ],
      "execution_count": null,
      "outputs": []
    },
    {
      "cell_type": "code",
      "metadata": {
        "id": "R0uvhY4NFugy"
      },
      "source": [
        ""
      ],
      "execution_count": null,
      "outputs": []
    },
    {
      "cell_type": "markdown",
      "metadata": {
        "id": "dOAen6_ZySb-"
      },
      "source": [
        "### Make Predictions with New Date Range Using Fitted Model"
      ]
    },
    {
      "cell_type": "code",
      "metadata": {
        "colab": {
          "base_uri": "https://localhost:8080/",
          "height": 1000
        },
        "id": "7aeJuRf-jkpH",
        "outputId": "46bf93d5-e173-42cc-8983-dc56532349dc"
      },
      "source": [
        "# stations = ['401:OR:SNTL', '471:ID:SNTL','591:WA:SNTL']\n",
        "stations = ['777:WA:SNTL', '748:WA:SNTL', '553:WA:SNTL']\n",
        "parameter_of_interest = 'WTEQ'\n",
        "begindate='01/01/2009'\n",
        "enddate='01/01/2012'\n",
        "\n",
        "trainModel(stations, parameter_of_interest, begindate = begindate, enddate=enddate, regression_model='Random Forest')"
      ],
      "execution_count": 234,
      "outputs": [
        {
          "output_type": "display_data",
          "data": {
            "text/html": [
              "<html>\n",
              "<head><meta charset=\"utf-8\" /></head>\n",
              "<body>\n",
              "    <div>\n",
              "            <script src=\"https://cdnjs.cloudflare.com/ajax/libs/mathjax/2.7.5/MathJax.js?config=TeX-AMS-MML_SVG\"></script><script type=\"text/javascript\">if (window.MathJax) {MathJax.Hub.Config({SVG: {font: \"STIX-Web\"}});}</script>\n",
              "                <script type=\"text/javascript\">window.PlotlyConfig = {MathJaxConfig: 'local'};</script>\n",
              "        <script src=\"https://cdn.plot.ly/plotly-latest.min.js\"></script>    \n",
              "            <div id=\"a3dfce0e-58ad-4620-9c3b-4006e9702f39\" class=\"plotly-graph-div\" style=\"height:2000px; width:1200px;\"></div>\n",
              "            <script type=\"text/javascript\">\n",
              "                \n",
              "                    window.PLOTLYENV=window.PLOTLYENV || {};\n",
              "                    \n",
              "                if (document.getElementById(\"a3dfce0e-58ad-4620-9c3b-4006e9702f39\")) {\n",
              "                    Plotly.newPlot(\n",
              "                        'a3dfce0e-58ad-4620-9c3b-4006e9702f39',\n",
              "                        [{\"mode\": \"lines\", \"name\": \"Training\", \"type\": \"scatter\", \"x\": [\"2009-01-02\", \"2009-01-03\", \"2009-01-04\", \"2009-01-05\", \"2009-01-06\", \"2009-01-07\", \"2009-01-08\", \"2009-01-09\", \"2009-01-10\", \"2009-01-11\", \"2009-01-12\", \"2009-01-13\", \"2009-01-14\", \"2009-01-15\", \"2009-01-16\", \"2009-01-17\", \"2009-01-18\", \"2009-01-19\", \"2009-01-20\", \"2009-01-21\", \"2009-01-22\", \"2009-01-23\", \"2009-01-24\", \"2009-01-25\", \"2009-01-26\", \"2009-01-27\", \"2009-01-28\", \"2009-01-29\", \"2009-01-30\", \"2009-01-31\", \"2009-02-01\", \"2009-02-02\", \"2009-02-03\", \"2009-02-04\", \"2009-02-05\", \"2009-02-06\", \"2009-02-07\", \"2009-02-08\", \"2009-02-09\", \"2009-02-10\", \"2009-02-11\", \"2009-02-12\", \"2009-02-13\", \"2009-02-14\", \"2009-02-15\", \"2009-02-16\", \"2009-02-17\", \"2009-02-18\", \"2009-02-19\", \"2009-02-20\", \"2009-02-21\", \"2009-02-22\", \"2009-02-23\", \"2009-02-24\", \"2009-02-25\", \"2009-02-26\", \"2009-02-27\", \"2009-02-28\", \"2009-03-01\", \"2009-03-02\", \"2009-03-03\", \"2009-03-04\", \"2009-03-05\", \"2009-03-06\", \"2009-03-07\", \"2009-03-08\", \"2009-03-09\", \"2009-03-10\", \"2009-03-11\", \"2009-03-12\", \"2009-03-13\", \"2009-03-14\", \"2009-03-15\", \"2009-03-16\", \"2009-03-17\", \"2009-03-18\", \"2009-03-19\", \"2009-03-20\", \"2009-03-21\", \"2009-03-22\", \"2009-03-23\", \"2009-03-24\", \"2009-03-25\", \"2009-03-26\", \"2009-03-27\", \"2009-03-28\", \"2009-03-29\", \"2009-03-30\", \"2009-03-31\", \"2009-04-01\", \"2009-04-02\", \"2009-04-03\", \"2009-04-04\", \"2009-04-05\", \"2009-04-06\", \"2009-04-07\", \"2009-04-08\", \"2009-04-09\", \"2009-04-10\", \"2009-04-11\", \"2009-04-12\", \"2009-04-13\", \"2009-04-14\", \"2009-04-15\", \"2009-04-16\", \"2009-04-17\", \"2009-04-18\", \"2009-04-19\", \"2009-04-20\", \"2009-04-21\", \"2009-04-22\", \"2009-04-23\", \"2009-04-24\", \"2009-04-25\", \"2009-04-26\", \"2009-04-27\", \"2009-04-28\", \"2009-04-29\", \"2009-04-30\", \"2009-05-01\", \"2009-05-02\", \"2009-05-03\", \"2009-05-04\", \"2009-05-05\", \"2009-05-06\", \"2009-05-07\", \"2009-05-08\", \"2009-05-09\", \"2009-05-10\", \"2009-05-11\", \"2009-05-12\", \"2009-05-13\", \"2009-05-14\", \"2009-05-15\", \"2009-05-16\", \"2009-05-17\", \"2009-05-18\", \"2009-05-19\", \"2009-05-20\", \"2009-05-21\", \"2009-05-22\", \"2009-05-23\", \"2009-05-24\", \"2009-05-25\", \"2009-05-26\", \"2009-05-27\", \"2009-05-28\", \"2009-05-29\", \"2009-05-30\", \"2009-05-31\", \"2009-06-01\", \"2009-06-02\", \"2009-06-03\", \"2009-06-04\", \"2009-06-05\", \"2009-06-06\", \"2009-06-07\", \"2009-06-08\", \"2009-06-09\", \"2009-06-10\", \"2009-06-11\", \"2009-06-12\", \"2009-06-13\", \"2009-06-14\", \"2009-06-15\", \"2009-06-16\", \"2009-06-17\", \"2009-06-18\", \"2009-06-19\", \"2009-06-20\", \"2009-06-21\", \"2009-06-22\", \"2009-06-23\", \"2009-06-24\", \"2009-06-25\", \"2009-06-26\", \"2009-06-27\", \"2009-06-28\", \"2009-06-29\", \"2009-06-30\", \"2009-07-01\", \"2009-07-02\", \"2009-07-03\", \"2009-07-04\", \"2009-07-05\", \"2009-07-06\", \"2009-07-07\", \"2009-07-08\", \"2009-07-09\", \"2009-07-10\", \"2009-07-11\", \"2009-07-12\", \"2009-07-13\", \"2009-07-14\", \"2009-07-15\", \"2009-07-16\", \"2009-07-17\", \"2009-07-18\", \"2009-07-19\", \"2009-07-20\", \"2009-07-21\", \"2009-07-22\", \"2009-07-23\", \"2009-07-24\", \"2009-07-25\", \"2009-07-26\", \"2009-07-27\", \"2009-07-28\", \"2009-07-29\", \"2009-07-30\", \"2009-07-31\", \"2009-08-01\", \"2009-08-02\", \"2009-08-03\", \"2009-08-04\", \"2009-08-05\", \"2009-08-06\", \"2009-08-07\", \"2009-08-08\", \"2009-08-09\", \"2009-08-10\", \"2009-08-11\", \"2009-08-12\", \"2009-08-13\", \"2009-08-14\", \"2009-08-15\", \"2009-08-16\", \"2009-08-17\", \"2009-08-18\", \"2009-08-19\", \"2009-08-20\", \"2009-08-21\", \"2009-08-22\", \"2009-08-23\", \"2009-08-24\", \"2009-08-25\", \"2009-08-26\", \"2009-08-27\", \"2009-08-28\", \"2009-08-29\", \"2009-08-30\", \"2009-08-31\", \"2009-09-01\", \"2009-09-02\", \"2009-09-03\", \"2009-09-04\", \"2009-09-05\", \"2009-09-06\", \"2009-09-07\", \"2009-09-08\", \"2009-09-09\", \"2009-09-10\", \"2009-09-11\", \"2009-09-12\", \"2009-09-13\", \"2009-09-14\", \"2009-09-15\", \"2009-09-16\", \"2009-09-17\", \"2009-09-18\", \"2009-09-19\", \"2009-09-20\", \"2009-09-21\", \"2009-09-22\", \"2009-09-23\", \"2009-09-24\", \"2009-09-25\", \"2009-09-26\", \"2009-09-27\", \"2009-09-28\", \"2009-09-29\", \"2009-09-30\", \"2009-10-01\", \"2009-10-02\", \"2009-10-03\", \"2009-10-04\", \"2009-10-05\", \"2009-10-06\", \"2009-10-07\", \"2009-10-08\", \"2009-10-09\", \"2009-10-10\", \"2009-10-11\", \"2009-10-12\", \"2009-10-13\", \"2009-10-14\", \"2009-10-15\", \"2009-10-16\", \"2009-10-17\", \"2009-10-18\", \"2009-10-19\", \"2009-10-20\", \"2009-10-21\", \"2009-10-22\", \"2009-10-23\", \"2009-10-24\", \"2009-10-25\", \"2009-10-26\", \"2009-10-27\", \"2009-10-28\", \"2009-10-29\", \"2009-10-30\", \"2009-10-31\", \"2009-11-01\", \"2009-11-02\", \"2009-11-03\", \"2009-11-04\", \"2009-11-05\", \"2009-11-06\", \"2009-11-07\", \"2009-11-08\", \"2009-11-09\", \"2009-11-10\", \"2009-11-11\", \"2009-11-12\", \"2009-11-13\", \"2009-11-14\", \"2009-11-15\", \"2009-11-16\", \"2009-11-17\", \"2009-11-18\", \"2009-11-19\", \"2009-11-20\", \"2009-11-21\", \"2009-11-22\", \"2009-11-23\", \"2009-11-24\", \"2009-11-25\", \"2009-11-26\", \"2009-11-27\", \"2009-11-28\", \"2009-11-29\", \"2009-11-30\", \"2009-12-01\", \"2009-12-02\", \"2009-12-03\", \"2009-12-04\", \"2009-12-05\", \"2009-12-06\", \"2009-12-07\", \"2009-12-08\", \"2009-12-09\", \"2009-12-10\", \"2009-12-11\", \"2009-12-12\", \"2009-12-13\", \"2009-12-14\", \"2009-12-15\", \"2009-12-16\", \"2009-12-17\", \"2009-12-18\", \"2009-12-19\", \"2009-12-20\", \"2009-12-21\", \"2009-12-22\", \"2009-12-23\", \"2009-12-24\", \"2009-12-25\", \"2009-12-26\", \"2009-12-27\", \"2009-12-28\", \"2009-12-29\", \"2009-12-30\", \"2009-12-31\", \"2010-01-01\", \"2010-01-02\", \"2010-01-03\", \"2010-01-04\", \"2010-01-05\", \"2010-01-06\", \"2010-01-07\", \"2010-01-08\", \"2010-01-09\", \"2010-01-10\", \"2010-01-11\", \"2010-01-12\", \"2010-01-13\", \"2010-01-14\", \"2010-01-15\", \"2010-01-16\", \"2010-01-17\", \"2010-01-18\", \"2010-01-19\", \"2010-01-20\", \"2010-01-21\", \"2010-01-22\", \"2010-01-23\", \"2010-01-24\", \"2010-01-25\", \"2010-01-26\", \"2010-01-27\", \"2010-01-28\", \"2010-01-29\", \"2010-01-30\", \"2010-01-31\", \"2010-02-01\", \"2010-02-02\", \"2010-02-03\", \"2010-02-04\", \"2010-02-05\", \"2010-02-06\", \"2010-02-07\", \"2010-02-08\", \"2010-02-09\", \"2010-02-10\", \"2010-02-11\", \"2010-02-12\", \"2010-02-13\", \"2010-02-14\", \"2010-02-15\", \"2010-02-16\", \"2010-02-17\", \"2010-02-18\", \"2010-02-19\", \"2010-02-20\", \"2010-02-21\", \"2010-02-22\", \"2010-02-23\", \"2010-02-24\", \"2010-02-25\", \"2010-02-26\", \"2010-02-27\", \"2010-02-28\", \"2010-03-01\", \"2010-03-02\", \"2010-03-03\", \"2010-03-04\", \"2010-03-05\", \"2010-03-06\", \"2010-03-07\", \"2010-03-08\", \"2010-03-09\", \"2010-03-10\", \"2010-03-11\", \"2010-03-12\", \"2010-03-13\", \"2010-03-14\", \"2010-03-15\", \"2010-03-16\", \"2010-03-17\", \"2010-03-18\", \"2010-03-19\", \"2010-03-20\", \"2010-03-21\", \"2010-03-22\", \"2010-03-23\", \"2010-03-24\", \"2010-03-25\", \"2010-03-26\", \"2010-03-27\", \"2010-03-28\", \"2010-03-29\", \"2010-03-30\", \"2010-03-31\", \"2010-04-01\", \"2010-04-02\", \"2010-04-03\", \"2010-04-04\", \"2010-04-05\", \"2010-04-06\", \"2010-04-07\", \"2010-04-08\", \"2010-04-09\", \"2010-04-10\", \"2010-04-11\", \"2010-04-12\", \"2010-04-13\", \"2010-04-14\", \"2010-04-15\", \"2010-04-16\", \"2010-04-17\", \"2010-04-18\", \"2010-04-19\", \"2010-04-20\", \"2010-04-21\", \"2010-04-22\", \"2010-04-23\", \"2010-04-24\", \"2010-04-25\", \"2010-04-26\", \"2010-04-27\", \"2010-04-28\", \"2010-04-29\", \"2010-04-30\", \"2010-05-01\", \"2010-05-02\", \"2010-05-03\", \"2010-05-04\", \"2010-05-05\", \"2010-05-06\", \"2010-05-07\", \"2010-05-08\", \"2010-05-09\", \"2010-05-10\", \"2010-05-11\", \"2010-05-12\", \"2010-05-13\", \"2010-05-14\", \"2010-05-15\", \"2010-05-16\", \"2010-05-17\", \"2010-05-18\", \"2010-05-19\", \"2010-05-20\", \"2010-05-21\", \"2010-05-22\", \"2010-05-23\", \"2010-05-24\", \"2010-05-25\", \"2010-05-26\", \"2010-05-27\", \"2010-05-28\", \"2010-05-29\", \"2010-05-30\", \"2010-05-31\", \"2010-06-01\", \"2010-06-02\", \"2010-06-03\", \"2010-06-04\", \"2010-06-05\", \"2010-06-06\", \"2010-06-07\", \"2010-06-08\", \"2010-06-09\", \"2010-06-10\", \"2010-06-11\", \"2010-06-12\", \"2010-06-13\", \"2010-06-14\", \"2010-06-15\", \"2010-06-16\", \"2010-06-17\", \"2010-06-18\", \"2010-06-19\", \"2010-06-20\", \"2010-06-21\", \"2010-06-22\", \"2010-06-23\", \"2010-06-24\", \"2010-06-25\", \"2010-06-26\", \"2010-06-27\", \"2010-06-28\", \"2010-06-29\", \"2010-06-30\", \"2010-07-01\", \"2010-07-02\", \"2010-07-03\", \"2010-07-04\", \"2010-07-05\", \"2010-07-06\", \"2010-07-07\", \"2010-07-08\", \"2010-07-09\", \"2010-07-10\", \"2010-07-11\", \"2010-07-12\", \"2010-07-13\", \"2010-07-14\", \"2010-07-15\", \"2010-07-16\", \"2010-07-17\", \"2010-07-18\", \"2010-07-19\", \"2010-07-20\", \"2010-07-21\", \"2010-07-22\", \"2010-07-23\", \"2010-07-24\", \"2010-07-25\", \"2010-07-26\", \"2010-07-27\", \"2010-07-28\", \"2010-07-29\", \"2010-07-30\", \"2010-07-31\", \"2010-08-01\", \"2010-08-02\", \"2010-08-03\", \"2010-08-04\", \"2010-08-05\", \"2010-08-06\", \"2010-08-07\", \"2010-08-08\", \"2010-08-09\", \"2010-08-10\", \"2010-08-11\", \"2010-08-12\", \"2010-08-13\", \"2010-08-14\", \"2010-08-15\", \"2010-08-16\", \"2010-08-17\", \"2010-08-18\", \"2010-08-19\", \"2010-08-20\", \"2010-08-21\", \"2010-08-22\", \"2010-08-23\", \"2010-08-24\", \"2010-08-25\", \"2010-08-26\", \"2010-08-27\", \"2010-08-28\", \"2010-08-29\", \"2010-08-30\", \"2010-08-31\", \"2010-09-01\", \"2010-09-02\", \"2010-09-03\", \"2010-09-04\", \"2010-09-05\", \"2010-09-06\", \"2010-09-07\", \"2010-09-08\", \"2010-09-09\", \"2010-09-10\", \"2010-09-11\", \"2010-09-12\", \"2010-09-13\", \"2010-09-14\", \"2010-09-15\", \"2010-09-16\", \"2010-09-17\", \"2010-09-18\", \"2010-09-19\", \"2010-09-20\", \"2010-09-21\", \"2010-09-22\", \"2010-09-23\", \"2010-09-24\", \"2010-09-25\", \"2010-09-26\", \"2010-09-27\", \"2010-09-28\", \"2010-09-29\", \"2010-09-30\", \"2010-10-01\", \"2010-10-02\", \"2010-10-03\", \"2010-10-04\", \"2010-10-05\", \"2010-10-06\", \"2010-10-07\", \"2010-10-08\", \"2010-10-09\", \"2010-10-10\", \"2010-10-11\", \"2010-10-12\", \"2010-10-13\", \"2010-10-14\", \"2010-10-15\", \"2010-10-16\", \"2010-10-17\", \"2010-10-18\", \"2010-10-19\", \"2010-10-20\", \"2010-10-21\", \"2010-10-22\", \"2010-10-23\", \"2010-10-24\", \"2010-10-25\", \"2010-10-26\", \"2010-10-27\", \"2010-10-28\", \"2010-10-29\", \"2010-10-30\", \"2010-10-31\", \"2010-11-01\", \"2010-11-02\", \"2010-11-03\", \"2010-11-04\", \"2010-11-05\", \"2010-11-06\", \"2010-11-07\", \"2010-11-08\", \"2010-11-09\", \"2010-11-10\", \"2010-11-11\", \"2010-11-12\", \"2010-11-13\", \"2010-11-14\", \"2010-11-15\", \"2010-11-16\", \"2010-11-17\", \"2010-11-18\", \"2010-11-19\", \"2010-11-20\", \"2010-11-21\", \"2010-11-22\", \"2010-11-23\", \"2010-11-24\", \"2010-11-25\", \"2010-11-26\", \"2010-11-27\", \"2010-11-28\", \"2010-11-29\", \"2010-11-30\", \"2010-12-01\", \"2010-12-02\", \"2010-12-03\", \"2010-12-04\", \"2010-12-05\", \"2010-12-06\", \"2010-12-07\", \"2010-12-08\", \"2010-12-09\", \"2010-12-10\", \"2010-12-11\", \"2010-12-12\", \"2010-12-13\", \"2010-12-14\", \"2010-12-15\", \"2010-12-16\", \"2010-12-17\", \"2010-12-18\", \"2010-12-19\", \"2010-12-20\", \"2010-12-21\", \"2010-12-22\", \"2010-12-23\", \"2010-12-24\", \"2010-12-25\", \"2010-12-26\", \"2010-12-27\", \"2010-12-28\", \"2010-12-29\", \"2010-12-30\", \"2010-12-31\", \"2011-01-01\", \"2011-01-02\", \"2011-01-03\", \"2011-01-04\", \"2011-01-05\", \"2011-01-06\", \"2011-01-07\", \"2011-01-08\", \"2011-01-09\", \"2011-01-10\", \"2011-01-11\", \"2011-01-12\", \"2011-01-13\", \"2011-01-14\", \"2011-01-15\", \"2011-01-16\", \"2011-01-17\", \"2011-01-18\", \"2011-01-19\", \"2011-01-20\", \"2011-01-21\", \"2011-01-22\", \"2011-01-23\", \"2011-01-24\", \"2011-01-25\", \"2011-01-26\", \"2011-01-27\", \"2011-01-28\", \"2011-01-29\", \"2011-01-30\", \"2011-01-31\", \"2011-02-01\", \"2011-02-02\", \"2011-02-03\", \"2011-02-04\", \"2011-02-05\", \"2011-02-06\", \"2011-02-07\", \"2011-02-08\", \"2011-02-09\", \"2011-02-10\", \"2011-02-11\", \"2011-02-12\", \"2011-02-13\", \"2011-02-14\", \"2011-02-15\", \"2011-02-16\", \"2011-02-17\", \"2011-02-18\", \"2011-02-19\", \"2011-02-20\", \"2011-02-21\", \"2011-02-22\", \"2011-02-23\", \"2011-02-24\", \"2011-02-25\", \"2011-02-26\", \"2011-02-27\", \"2011-02-28\", \"2011-03-01\", \"2011-03-02\", \"2011-03-03\", \"2011-03-04\", \"2011-03-05\", \"2011-03-06\", \"2011-03-07\", \"2011-03-08\", \"2011-03-09\", \"2011-03-10\", \"2011-03-11\", \"2011-03-12\", \"2011-03-13\", \"2011-03-14\", \"2011-03-15\", \"2011-03-16\", \"2011-03-17\", \"2011-03-18\", \"2011-03-19\", \"2011-03-20\", \"2011-03-21\", \"2011-03-22\", \"2011-03-23\", \"2011-03-24\", \"2011-03-25\", \"2011-03-26\", \"2011-03-27\", \"2011-03-28\", \"2011-03-29\", \"2011-03-30\", \"2011-03-31\", \"2011-04-01\", \"2011-04-02\", \"2011-04-03\"], \"xaxis\": \"x\", \"y\": [5.0, 6.4, 7.0, 7.1, 7.3, 8.3, 7.6, 6.1, 6.1, 6.0, 5.7, 5.2, 4.6, 4.1, 4.8, 4.2, 4.1, 4.1, 3.7, 3.4, 3.5, 3.9, 4.1, 4.0, 3.8, 4.6, 4.8, 5.3, 5.3, 5.6, 5.8, 5.7, 6.3, 6.1, 5.6, 5.8, 5.2, 4.7, 4.6, 4.7, 5.0, 5.5, 5.7, 5.6, 5.9, 6.2, 6.1, 6.0, 5.8, 5.3, 5.8, 5.3, 4.8, 4.6, 4.6, 4.7, 5.2, 5.5, 5.6, 6.0, 5.4, 4.0, 4.1, 4.2, 5.9, 6.2, 6.6, 6.9, 7.8, 8.0, 8.0, 8.0, 7.8, 8.6, 9.4, 9.7, 10.3, 10.3, 10.0, 9.8, 9.6, 9.9, 10.0, 10.6, 11.7, 11.8, 11.7, 12.8, 13.6, 13.7, 14.7, 15.2, 16.3, 16.5, 16.3, 15.5, 15.1, 14.7, 14.5, 14.0, 13.8, 13.6, 12.1, 13.5, 14.1, 13.8, 13.3, 13.1, 12.7, 11.9, 10.8, 9.0, 8.5, 8.6, 7.8, 8.1, 7.4, 7.2, 6.9, 6.0, 4.5, 2.0, 1.0, 0.8, 0.6, 0.0, 0.0, 0.0, 0.0, 0.0, 0.0, 0.0, 0.0, 0.0, 0.0, 0.0, 0.0, 0.0, 0.0, 0.0, 0.0, 0.0, 0.0, 0.0, 0.0, 0.0, 0.0, 0.0, 0.0, 0.0, 0.0, 0.0, 0.0, 0.0, 0.0, 0.0, 0.0, 0.0, 0.0, 0.0, 0.0, 0.0, 0.0, 0.0, 0.0, 0.0, 0.0, 0.0, 0.0, 0.0, 0.0, 0.0, 0.0, 0.0, 0.0, 0.0, 0.0, 0.0, 0.0, 0.0, 0.0, 0.0, 0.0, 0.0, 0.0, 0.0, 0.0, 0.0, 0.0, 0.0, 0.0, 0.0, 0.0, 0.0, 0.0, 0.0, 0.0, 0.0, 0.0, 0.0, 0.0, 0.0, 0.0, 0.0, 0.0, 0.0, 0.0, 0.0, 0.0, 0.0, 0.0, 0.0, 0.0, 0.0, 0.0, 0.0, 0.0, 0.0, 0.0, 0.0, 0.0, 0.0, 0.0, 0.0, 0.0, 0.0, 0.0, 0.0, 0.0, 0.0, 0.0, 0.0, 0.0, 0.0, 0.0, 0.0, 0.0, 0.0, 0.0, 0.0, 0.0, 0.0, 0.0, 0.0, 0.0, 0.0, 0.0, 0.0, 0.0, 0.0, 0.0, 0.0, 0.0, 0.0, 0.0, 0.0, 0.0, 0.0, 0.0, 0.0, 0.0, 0.0, 0.0, 0.0, 0.0, 0.0, 0.0, 0.0, 0.0, 0.0, 0.0, 0.0, 0.0, 0.0, 0.0, 0.0, 0.0, 0.0, 0.0, 0.0, 0.0, 0.0, 0.0, 0.0, 0.0, 0.0, 0.1, 0.1, 0.0, 0.1, 0.0, 0.0, 0.0, 0.1, 0.0, 0.0, 0.0, 0.0, 0.0, 0.2, 0.4, 0.4, 0.0, 0.1, 0.1, 0.1, 0.1, 0.1, 0.1, 0.1, 0.3, 1.0, 1.4, 0.6, 0.5, 0.6, 0.6, 0.9, 1.0, 1.0, 0.3, 0.8, 1.8, 0.0, 0.6, 1.5, 2.2, 2.2, 1.9, 1.4, 0.8, 0.5, 0.4, 0.3, 0.4, 0.0, 0.0, 0.2, 0.4, 0.5, 1.4, 1.2, 1.0, 1.3, 1.4, 1.2, 0.9, 1.3, 2.6, 2.6, 1.9, 1.1, 0.8, 0.8, 0.5, 1.2, 1.4, 1.4, 1.4, 1.1, 1.1, 1.1, 1.1, 1.4, 1.6, 1.9, 1.4, 1.1, 0.7, 0.7, 0.3, 0.2, 0.2, 0.3, 0.5, 0.4, 0.3, 0.4, 0.5, 0.3, 0.4, 0.2, 0.1, 0.0, 0.0, 0.0, 0.5, 0.4, 1.0, 2.5, 2.5, 2.5, 2.5, 2.5, 2.5, 2.7, 2.4, 2.4, 2.4, 2.9, 3.3, 3.1, 2.9, 2.6, 2.5, 2.6, 2.4, 1.8, 1.3, 0.4, 0.3, 0.1, 0.1, 0.3, 0.2, 0.2, 0.2, 0.3, 0.3, 0.6, 0.4, 0.5, 0.0, 0.0, 0.0, 0.0, 0.0, 0.0, 0.0, 0.0, 0.0, 0.3, 0.5, 0.7, 1.0, 1.3, 1.3, 1.3, 1.4, 0.3, 0.4, 0.3, 0.4, 0.4, 0.4, 0.4, 0.4, 0.5, 0.5, 0.9, 1.0, 0.4, 0.4, 1.6, 1.6, 1.5, 1.6, 3.5, 4.0, 3.7, 4.2, 5.0, 4.9, 5.4, 5.6, 5.3, 5.1, 4.4, 3.7, 3.3, 2.6, 1.2, 0.8, 0.4, 0.0, 0.0, 0.0, 0.0, 0.0, 0.0, 0.0, 0.0, 0.0, 0.0, 0.0, 0.0, 0.0, 0.0, 0.0, 0.0, 0.0, 0.0, 0.0, 0.0, 0.0, 0.0, 0.0, 0.0, 0.0, 0.0, 0.0, 0.0, 0.0, 0.0, 0.0, 0.0, 0.0, 0.0, 0.0, 0.0, 0.0, 0.0, 0.0, 0.0, 0.0, 0.0, 0.0, 0.0, 0.0, 0.0, 0.0, 0.0, 0.0, 0.0, 0.0, 0.0, 0.0, 0.0, 0.0, 0.0, 0.0, 0.0, 0.0, 0.0, 0.0, 0.0, 0.0, 0.0, 0.0, 0.0, 0.0, 0.0, 0.0, 0.0, 0.0, 0.0, 0.0, 0.0, 0.0, 0.0, 0.0, 0.0, 0.0, 0.0, 0.0, 0.0, 0.0, 0.0, 0.0, 0.0, 0.0, 0.0, 0.0, 0.0, 0.0, 0.0, 0.0, 0.0, 0.0, 0.0, 0.0, 0.0, 0.0, 0.0, 0.0, 0.0, 0.0, 0.0, 0.0, 0.0, 0.0, 0.0, 0.0, 0.0, 0.0, 0.0, 0.0, 0.0, 0.0, 0.0, 0.0, 0.0, 0.0, 0.0, 0.0, 0.0, 0.0, 0.0, 0.0, 0.0, 0.0, 0.0, 0.0, 0.0, 0.0, 0.0, 0.0, 0.0, 0.0, 0.0, 0.0, 0.0, 0.0, 0.0, 0.0, 0.0, 0.0, 0.0, 0.0, 0.0, 0.0, 0.0, 0.0, 0.0, 0.0, 0.0, 0.0, 0.0, 0.0, 0.0, 0.0, 0.0, 0.0, 0.0, 0.0, 0.0, 0.0, 0.0, 0.0, 0.0, 0.0, 0.0, 0.0, 0.0, 0.0, 0.0, 0.0, 0.0, 0.0, 0.0, 0.0, 0.0, 0.0, 0.0, 0.0, 0.0, 0.0, 0.0, 0.0, 0.0, 0.0, 0.0, 0.0, 0.2, 1.0, 0.5, 0.0, 0.0, 0.0, 0.0, 0.0, 0.0, 0.0, 0.0, 0.0, 0.0, 0.0, 0.0, 0.9, 0.5, 0.5, 0.5, 0.2, 0.0, 0.0, 0.0, 0.6, 1.0, 2.0, 2.2, 2.2, 3.3, 3.2, 3.4, 3.5, 3.6, 3.8, 3.8, 3.8, 3.6, 3.6, 3.7, 3.5, 3.6, 3.7, 3.8, 4.0, 3.5, 3.6, 4.0, 3.8, 0.8, 0.0, 0.9, 1.4, 1.2, 1.1, 1.4, 1.7, 2.6, 2.7, 2.6, 2.7, 3.5, 3.3, 4.0, 4.4, 4.9, 4.5, 4.2, 3.5, 4.8, 5.0, 5.0, 5.3, 5.4, 4.8, 4.9, 5.1, 5.3, 5.0, 4.1, 3.7, 2.4, 0.9, 0.2, 0.1, 0.2, 0.0, 0.0, 0.0, 0.0, 0.0, 0.0, 0.0, 0.0, 0.0, 0.0, 0.0, 0.0, 0.0, 0.3, 0.8, 0.9, 0.7, 0.1, 0.1, 0.2, 1.1, 1.1, 1.4, 1.5, 1.4, 0.9, 0.6, 0.9, 1.6, 2.1, 2.3, 2.6, 2.5, 2.5, 2.6, 3.2, 3.9, 4.2, 3.8, 4.5, 4.9, 8.1, 8.6, 9.1, 9.6, 9.9, 10.0, 9.9, 10.0, 9.9, 9.9, 9.2, 9.1, 9.6, 10.4, 10.9, 10.8, 11.2, 11.7, 12.3, 12.4, 12.6, 13.0, 13.0, 13.2, 13.4, 13.1, 13.9, 14.7, 14.7, 15.2, 13.0, 11.4, 10.5], \"yaxis\": \"y\"}, {\"mode\": \"lines\", \"name\": \"Model Predictions on Training Data\", \"type\": \"scatter\", \"x\": [\"2009-01-02\", \"2009-01-03\", \"2009-01-04\", \"2009-01-05\", \"2009-01-06\", \"2009-01-07\", \"2009-01-08\", \"2009-01-09\", \"2009-01-10\", \"2009-01-11\", \"2009-01-12\", \"2009-01-13\", \"2009-01-14\", \"2009-01-15\", \"2009-01-16\", \"2009-01-17\", \"2009-01-18\", \"2009-01-19\", \"2009-01-20\", \"2009-01-21\", \"2009-01-22\", \"2009-01-23\", \"2009-01-24\", \"2009-01-25\", \"2009-01-26\", \"2009-01-27\", \"2009-01-28\", \"2009-01-29\", \"2009-01-30\", \"2009-01-31\", \"2009-02-01\", \"2009-02-02\", \"2009-02-03\", \"2009-02-04\", \"2009-02-05\", \"2009-02-06\", \"2009-02-07\", \"2009-02-08\", \"2009-02-09\", \"2009-02-10\", \"2009-02-11\", \"2009-02-12\", \"2009-02-13\", \"2009-02-14\", \"2009-02-15\", \"2009-02-16\", \"2009-02-17\", \"2009-02-18\", \"2009-02-19\", \"2009-02-20\", \"2009-02-21\", \"2009-02-22\", \"2009-02-23\", \"2009-02-24\", \"2009-02-25\", \"2009-02-26\", \"2009-02-27\", \"2009-02-28\", \"2009-03-01\", \"2009-03-02\", \"2009-03-03\", \"2009-03-04\", \"2009-03-05\", \"2009-03-06\", \"2009-03-07\", \"2009-03-08\", \"2009-03-09\", \"2009-03-10\", \"2009-03-11\", \"2009-03-12\", \"2009-03-13\", \"2009-03-14\", \"2009-03-15\", \"2009-03-16\", \"2009-03-17\", \"2009-03-18\", \"2009-03-19\", \"2009-03-20\", \"2009-03-21\", \"2009-03-22\", \"2009-03-23\", \"2009-03-24\", \"2009-03-25\", \"2009-03-26\", \"2009-03-27\", \"2009-03-28\", \"2009-03-29\", \"2009-03-30\", \"2009-03-31\", \"2009-04-01\", \"2009-04-02\", \"2009-04-03\", \"2009-04-04\", \"2009-04-05\", \"2009-04-06\", \"2009-04-07\", \"2009-04-08\", \"2009-04-09\", \"2009-04-10\", \"2009-04-11\", \"2009-04-12\", \"2009-04-13\", \"2009-04-14\", \"2009-04-15\", \"2009-04-16\", \"2009-04-17\", \"2009-04-18\", \"2009-04-19\", \"2009-04-20\", \"2009-04-21\", \"2009-04-22\", \"2009-04-23\", \"2009-04-24\", \"2009-04-25\", \"2009-04-26\", \"2009-04-27\", \"2009-04-28\", \"2009-04-29\", \"2009-04-30\", \"2009-05-01\", \"2009-05-02\", \"2009-05-03\", \"2009-05-04\", \"2009-05-05\", \"2009-05-06\", \"2009-05-07\", \"2009-05-08\", \"2009-05-09\", \"2009-05-10\", \"2009-05-11\", \"2009-05-12\", \"2009-05-13\", \"2009-05-14\", \"2009-05-15\", \"2009-05-16\", \"2009-05-17\", \"2009-05-18\", \"2009-05-19\", \"2009-05-20\", \"2009-05-21\", \"2009-05-22\", \"2009-05-23\", \"2009-05-24\", \"2009-05-25\", \"2009-05-26\", \"2009-05-27\", \"2009-05-28\", \"2009-05-29\", \"2009-05-30\", \"2009-05-31\", \"2009-06-01\", \"2009-06-02\", \"2009-06-03\", \"2009-06-04\", \"2009-06-05\", \"2009-06-06\", \"2009-06-07\", \"2009-06-08\", \"2009-06-09\", \"2009-06-10\", \"2009-06-11\", \"2009-06-12\", \"2009-06-13\", \"2009-06-14\", \"2009-06-15\", \"2009-06-16\", \"2009-06-17\", \"2009-06-18\", \"2009-06-19\", \"2009-06-20\", \"2009-06-21\", \"2009-06-22\", \"2009-06-23\", \"2009-06-24\", \"2009-06-25\", \"2009-06-26\", \"2009-06-27\", \"2009-06-28\", \"2009-06-29\", \"2009-06-30\", \"2009-07-01\", \"2009-07-02\", \"2009-07-03\", \"2009-07-04\", \"2009-07-05\", \"2009-07-06\", \"2009-07-07\", \"2009-07-08\", \"2009-07-09\", \"2009-07-10\", \"2009-07-11\", \"2009-07-12\", \"2009-07-13\", \"2009-07-14\", \"2009-07-15\", \"2009-07-16\", \"2009-07-17\", \"2009-07-18\", \"2009-07-19\", \"2009-07-20\", \"2009-07-21\", \"2009-07-22\", \"2009-07-23\", \"2009-07-24\", \"2009-07-25\", \"2009-07-26\", \"2009-07-27\", \"2009-07-28\", \"2009-07-29\", \"2009-07-30\", \"2009-07-31\", \"2009-08-01\", \"2009-08-02\", \"2009-08-03\", \"2009-08-04\", \"2009-08-05\", \"2009-08-06\", \"2009-08-07\", \"2009-08-08\", \"2009-08-09\", \"2009-08-10\", \"2009-08-11\", \"2009-08-12\", \"2009-08-13\", \"2009-08-14\", \"2009-08-15\", \"2009-08-16\", \"2009-08-17\", \"2009-08-18\", \"2009-08-19\", \"2009-08-20\", \"2009-08-21\", \"2009-08-22\", \"2009-08-23\", \"2009-08-24\", \"2009-08-25\", \"2009-08-26\", \"2009-08-27\", \"2009-08-28\", \"2009-08-29\", \"2009-08-30\", \"2009-08-31\", \"2009-09-01\", \"2009-09-02\", \"2009-09-03\", \"2009-09-04\", \"2009-09-05\", \"2009-09-06\", \"2009-09-07\", \"2009-09-08\", \"2009-09-09\", \"2009-09-10\", \"2009-09-11\", \"2009-09-12\", \"2009-09-13\", \"2009-09-14\", \"2009-09-15\", \"2009-09-16\", \"2009-09-17\", \"2009-09-18\", \"2009-09-19\", \"2009-09-20\", \"2009-09-21\", \"2009-09-22\", \"2009-09-23\", \"2009-09-24\", \"2009-09-25\", \"2009-09-26\", \"2009-09-27\", \"2009-09-28\", \"2009-09-29\", \"2009-09-30\", \"2009-10-01\", \"2009-10-02\", \"2009-10-03\", \"2009-10-04\", \"2009-10-05\", \"2009-10-06\", \"2009-10-07\", \"2009-10-08\", \"2009-10-09\", \"2009-10-10\", \"2009-10-11\", \"2009-10-12\", \"2009-10-13\", \"2009-10-14\", \"2009-10-15\", \"2009-10-16\", \"2009-10-17\", \"2009-10-18\", \"2009-10-19\", \"2009-10-20\", \"2009-10-21\", \"2009-10-22\", \"2009-10-23\", \"2009-10-24\", \"2009-10-25\", \"2009-10-26\", \"2009-10-27\", \"2009-10-28\", \"2009-10-29\", \"2009-10-30\", \"2009-10-31\", \"2009-11-01\", \"2009-11-02\", \"2009-11-03\", \"2009-11-04\", \"2009-11-05\", \"2009-11-06\", \"2009-11-07\", \"2009-11-08\", \"2009-11-09\", \"2009-11-10\", \"2009-11-11\", \"2009-11-12\", \"2009-11-13\", \"2009-11-14\", \"2009-11-15\", \"2009-11-16\", \"2009-11-17\", \"2009-11-18\", \"2009-11-19\", \"2009-11-20\", \"2009-11-21\", \"2009-11-22\", \"2009-11-23\", \"2009-11-24\", \"2009-11-25\", \"2009-11-26\", \"2009-11-27\", \"2009-11-28\", \"2009-11-29\", \"2009-11-30\", \"2009-12-01\", \"2009-12-02\", \"2009-12-03\", \"2009-12-04\", \"2009-12-05\", \"2009-12-06\", \"2009-12-07\", \"2009-12-08\", \"2009-12-09\", \"2009-12-10\", \"2009-12-11\", \"2009-12-12\", \"2009-12-13\", \"2009-12-14\", \"2009-12-15\", \"2009-12-16\", \"2009-12-17\", \"2009-12-18\", \"2009-12-19\", \"2009-12-20\", \"2009-12-21\", \"2009-12-22\", \"2009-12-23\", \"2009-12-24\", \"2009-12-25\", \"2009-12-26\", \"2009-12-27\", \"2009-12-28\", \"2009-12-29\", \"2009-12-30\", \"2009-12-31\", \"2010-01-01\", \"2010-01-02\", \"2010-01-03\", \"2010-01-04\", \"2010-01-05\", \"2010-01-06\", \"2010-01-07\", \"2010-01-08\", \"2010-01-09\", \"2010-01-10\", \"2010-01-11\", \"2010-01-12\", \"2010-01-13\", \"2010-01-14\", \"2010-01-15\", \"2010-01-16\", \"2010-01-17\", \"2010-01-18\", \"2010-01-19\", \"2010-01-20\", \"2010-01-21\", \"2010-01-22\", \"2010-01-23\", \"2010-01-24\", \"2010-01-25\", \"2010-01-26\", \"2010-01-27\", \"2010-01-28\", \"2010-01-29\", \"2010-01-30\", \"2010-01-31\", \"2010-02-01\", \"2010-02-02\", \"2010-02-03\", \"2010-02-04\", \"2010-02-05\", \"2010-02-06\", \"2010-02-07\", \"2010-02-08\", \"2010-02-09\", \"2010-02-10\", \"2010-02-11\", \"2010-02-12\", \"2010-02-13\", \"2010-02-14\", \"2010-02-15\", \"2010-02-16\", \"2010-02-17\", \"2010-02-18\", \"2010-02-19\", \"2010-02-20\", \"2010-02-21\", \"2010-02-22\", \"2010-02-23\", \"2010-02-24\", \"2010-02-25\", \"2010-02-26\", \"2010-02-27\", \"2010-02-28\", \"2010-03-01\", \"2010-03-02\", \"2010-03-03\", \"2010-03-04\", \"2010-03-05\", \"2010-03-06\", \"2010-03-07\", \"2010-03-08\", \"2010-03-09\", \"2010-03-10\", \"2010-03-11\", \"2010-03-12\", \"2010-03-13\", \"2010-03-14\", \"2010-03-15\", \"2010-03-16\", \"2010-03-17\", \"2010-03-18\", \"2010-03-19\", \"2010-03-20\", \"2010-03-21\", \"2010-03-22\", \"2010-03-23\", \"2010-03-24\", \"2010-03-25\", \"2010-03-26\", \"2010-03-27\", \"2010-03-28\", \"2010-03-29\", \"2010-03-30\", \"2010-03-31\", \"2010-04-01\", \"2010-04-02\", \"2010-04-03\", \"2010-04-04\", \"2010-04-05\", \"2010-04-06\", \"2010-04-07\", \"2010-04-08\", \"2010-04-09\", \"2010-04-10\", \"2010-04-11\", \"2010-04-12\", \"2010-04-13\", \"2010-04-14\", \"2010-04-15\", \"2010-04-16\", \"2010-04-17\", \"2010-04-18\", \"2010-04-19\", \"2010-04-20\", \"2010-04-21\", \"2010-04-22\", \"2010-04-23\", \"2010-04-24\", \"2010-04-25\", \"2010-04-26\", \"2010-04-27\", \"2010-04-28\", \"2010-04-29\", \"2010-04-30\", \"2010-05-01\", \"2010-05-02\", \"2010-05-03\", \"2010-05-04\", \"2010-05-05\", \"2010-05-06\", \"2010-05-07\", \"2010-05-08\", \"2010-05-09\", \"2010-05-10\", \"2010-05-11\", \"2010-05-12\", \"2010-05-13\", \"2010-05-14\", \"2010-05-15\", \"2010-05-16\", \"2010-05-17\", \"2010-05-18\", \"2010-05-19\", \"2010-05-20\", \"2010-05-21\", \"2010-05-22\", \"2010-05-23\", \"2010-05-24\", \"2010-05-25\", \"2010-05-26\", \"2010-05-27\", \"2010-05-28\", \"2010-05-29\", \"2010-05-30\", \"2010-05-31\", \"2010-06-01\", \"2010-06-02\", \"2010-06-03\", \"2010-06-04\", \"2010-06-05\", \"2010-06-06\", \"2010-06-07\", \"2010-06-08\", \"2010-06-09\", \"2010-06-10\", \"2010-06-11\", \"2010-06-12\", \"2010-06-13\", \"2010-06-14\", \"2010-06-15\", \"2010-06-16\", \"2010-06-17\", \"2010-06-18\", \"2010-06-19\", \"2010-06-20\", \"2010-06-21\", \"2010-06-22\", \"2010-06-23\", \"2010-06-24\", \"2010-06-25\", \"2010-06-26\", \"2010-06-27\", \"2010-06-28\", \"2010-06-29\", \"2010-06-30\", \"2010-07-01\", \"2010-07-02\", \"2010-07-03\", \"2010-07-04\", \"2010-07-05\", \"2010-07-06\", \"2010-07-07\", \"2010-07-08\", \"2010-07-09\", \"2010-07-10\", \"2010-07-11\", \"2010-07-12\", \"2010-07-13\", \"2010-07-14\", \"2010-07-15\", \"2010-07-16\", \"2010-07-17\", \"2010-07-18\", \"2010-07-19\", \"2010-07-20\", \"2010-07-21\", \"2010-07-22\", \"2010-07-23\", \"2010-07-24\", \"2010-07-25\", \"2010-07-26\", \"2010-07-27\", \"2010-07-28\", \"2010-07-29\", \"2010-07-30\", \"2010-07-31\", \"2010-08-01\", \"2010-08-02\", \"2010-08-03\", \"2010-08-04\", \"2010-08-05\", \"2010-08-06\", \"2010-08-07\", \"2010-08-08\", \"2010-08-09\", \"2010-08-10\", \"2010-08-11\", \"2010-08-12\", \"2010-08-13\", \"2010-08-14\", \"2010-08-15\", \"2010-08-16\", \"2010-08-17\", \"2010-08-18\", \"2010-08-19\", \"2010-08-20\", \"2010-08-21\", \"2010-08-22\", \"2010-08-23\", \"2010-08-24\", \"2010-08-25\", \"2010-08-26\", \"2010-08-27\", \"2010-08-28\", \"2010-08-29\", \"2010-08-30\", \"2010-08-31\", \"2010-09-01\", \"2010-09-02\", \"2010-09-03\", \"2010-09-04\", \"2010-09-05\", \"2010-09-06\", \"2010-09-07\", \"2010-09-08\", \"2010-09-09\", \"2010-09-10\", \"2010-09-11\", \"2010-09-12\", \"2010-09-13\", \"2010-09-14\", \"2010-09-15\", \"2010-09-16\", \"2010-09-17\", \"2010-09-18\", \"2010-09-19\", \"2010-09-20\", \"2010-09-21\", \"2010-09-22\", \"2010-09-23\", \"2010-09-24\", \"2010-09-25\", \"2010-09-26\", \"2010-09-27\", \"2010-09-28\", \"2010-09-29\", \"2010-09-30\", \"2010-10-01\", \"2010-10-02\", \"2010-10-03\", \"2010-10-04\", \"2010-10-05\", \"2010-10-06\", \"2010-10-07\", \"2010-10-08\", \"2010-10-09\", \"2010-10-10\", \"2010-10-11\", \"2010-10-12\", \"2010-10-13\", \"2010-10-14\", \"2010-10-15\", \"2010-10-16\", \"2010-10-17\", \"2010-10-18\", \"2010-10-19\", \"2010-10-20\", \"2010-10-21\", \"2010-10-22\", \"2010-10-23\", \"2010-10-24\", \"2010-10-25\", \"2010-10-26\", \"2010-10-27\", \"2010-10-28\", \"2010-10-29\", \"2010-10-30\", \"2010-10-31\", \"2010-11-01\", \"2010-11-02\", \"2010-11-03\", \"2010-11-04\", \"2010-11-05\", \"2010-11-06\", \"2010-11-07\", \"2010-11-08\", \"2010-11-09\", \"2010-11-10\", \"2010-11-11\", \"2010-11-12\", \"2010-11-13\", \"2010-11-14\", \"2010-11-15\", \"2010-11-16\", \"2010-11-17\", \"2010-11-18\", \"2010-11-19\", \"2010-11-20\", \"2010-11-21\", \"2010-11-22\", \"2010-11-23\", \"2010-11-24\", \"2010-11-25\", \"2010-11-26\", \"2010-11-27\", \"2010-11-28\", \"2010-11-29\", \"2010-11-30\", \"2010-12-01\", \"2010-12-02\", \"2010-12-03\", \"2010-12-04\", \"2010-12-05\", \"2010-12-06\", \"2010-12-07\", \"2010-12-08\", \"2010-12-09\", \"2010-12-10\", \"2010-12-11\", \"2010-12-12\", \"2010-12-13\", \"2010-12-14\", \"2010-12-15\", \"2010-12-16\", \"2010-12-17\", \"2010-12-18\", \"2010-12-19\", \"2010-12-20\", \"2010-12-21\", \"2010-12-22\", \"2010-12-23\", \"2010-12-24\", \"2010-12-25\", \"2010-12-26\", \"2010-12-27\", \"2010-12-28\", \"2010-12-29\", \"2010-12-30\", \"2010-12-31\", \"2011-01-01\", \"2011-01-02\", \"2011-01-03\", \"2011-01-04\", \"2011-01-05\", \"2011-01-06\", \"2011-01-07\", \"2011-01-08\", \"2011-01-09\", \"2011-01-10\", \"2011-01-11\", \"2011-01-12\", \"2011-01-13\", \"2011-01-14\", \"2011-01-15\", \"2011-01-16\", \"2011-01-17\", \"2011-01-18\", \"2011-01-19\", \"2011-01-20\", \"2011-01-21\", \"2011-01-22\", \"2011-01-23\", \"2011-01-24\", \"2011-01-25\", \"2011-01-26\", \"2011-01-27\", \"2011-01-28\", \"2011-01-29\", \"2011-01-30\", \"2011-01-31\", \"2011-02-01\", \"2011-02-02\", \"2011-02-03\", \"2011-02-04\", \"2011-02-05\", \"2011-02-06\", \"2011-02-07\", \"2011-02-08\", \"2011-02-09\", \"2011-02-10\", \"2011-02-11\", \"2011-02-12\", \"2011-02-13\", \"2011-02-14\", \"2011-02-15\", \"2011-02-16\", \"2011-02-17\", \"2011-02-18\", \"2011-02-19\", \"2011-02-20\", \"2011-02-21\", \"2011-02-22\", \"2011-02-23\", \"2011-02-24\", \"2011-02-25\", \"2011-02-26\", \"2011-02-27\", \"2011-02-28\", \"2011-03-01\", \"2011-03-02\", \"2011-03-03\", \"2011-03-04\", \"2011-03-05\", \"2011-03-06\", \"2011-03-07\", \"2011-03-08\", \"2011-03-09\", \"2011-03-10\", \"2011-03-11\", \"2011-03-12\", \"2011-03-13\", \"2011-03-14\", \"2011-03-15\", \"2011-03-16\", \"2011-03-17\", \"2011-03-18\", \"2011-03-19\", \"2011-03-20\", \"2011-03-21\", \"2011-03-22\", \"2011-03-23\", \"2011-03-24\", \"2011-03-25\", \"2011-03-26\", \"2011-03-27\", \"2011-03-28\", \"2011-03-29\", \"2011-03-30\", \"2011-03-31\", \"2011-04-01\", \"2011-04-02\", \"2011-04-03\"], \"xaxis\": \"x\", \"y\": [3.544500000000002, 5.585999999999992, 6.328000000000003, 5.7050000000000045, 5.576000000000005, 6.052000000000001, 6.58100000000001, 5.894000000000008, 5.1950000000000065, 4.9700000000000015, 4.994999999999993, 4.729999999999994, 4.769000000000007, 4.263000000000006, 4.541000000000004, 4.282999999999999, 4.034000000000005, 4.034200000000006, 2.9009999999999967, 3.574819047619044, 3.370152380952378, 3.370152380952378, 2.52844761904762, 3.746366666666668, 3.746366666666668, 4.463676190476195, 4.463676190476195, 4.845000000000005, 5.547900000000004, 5.675900000000004, 5.675900000000004, 5.919699999999999, 5.919699999999999, 5.864666666666674, 4.808000000000006, 5.576000000000006, 5.080999999999994, 4.836999999999996, 4.449000000000002, 4.248666666666664, 4.018, 5.304723809523812, 5.304723809523812, 5.618500000000007, 5.921999999999996, 6.123000000000001, 6.048000000000006, 5.796000000000003, 5.570000000000004, 5.453000000000006, 5.602000000000003, 5.131000000000008, 4.952000000000007, 4.287000000000008, 4.678000000000007, 4.463916666666662, 4.59628571428571, 5.170999999999999, 5.349000000000005, 4.968000000000001, 5.131599999999993, 4.2608999999999995, 4.59628571428571, 4.52216666666666, 5.186999999999992, 5.309999999999994, 4.123000000000004, 5.545999999999991, 6.062999999999999, 7.775, 7.431000000000001, 7.812, 7.720999999999993, 7.733000000000012, 8.510999999999997, 8.78400000000001, 9.238999999999988, 9.205999999999989, 9.370999999999997, 9.766999999999989, 9.744000000000005, 9.514999999999992, 9.313999999999998, 10.10000000000001, 11.586000000000013, 11.530999999999992, 10.643000000000004, 10.297999999999988, 11.84500000000001, 12.311000000000018, 9.483000000000015, 12.014000000000012, 15.057999999999986, 16.112999999999996, 16.01399999999998, 15.126400000000006, 15.052133333333325, 15.126400000000006, 14.076, 13.722000000000001, 13.079999999999982, 13.513999999999985, 12.445999999999996, 14.105999999999995, 14.536999999999988, 13.947999999999979, 13.456999999999976, 13.139999999999993, 13.192000000000014, 12.587000000000003, 11.603999999999985, 10.531, 7.589000000000002, 7.91900000000001, 7.952364285714283, 7.952364285714283, 7.346499999999995, 6.581000000000001, 6.5104999999999915, 6.2114999999999965, 5.491999999999997, 4.406300000000001, 4.330500000000003, 2.7750000000000012, 3.2710000000000043, 4.562000000000002, 3.522000000000001, 1.7460000000000002, 1.05, 1.51, 0.342, 2.311, 0.11800000000000001, 0.22200000000000003, 1.485, 1.5679999999999998, 1.7389999999999999, 1.7719999999999998, 1.5399999999999998, 0.24700000000000003, 0.32299999999999995, 0.43, 0.6859999999999998, 0.0, 0.0, 0.0, 0.0, 0.0, 0.0, 0.141, 0.0, 0.0, 0.0, 0.196, 0.14700000000000002, 0.10800000000000001, 0.49670000000000003, 0.04, 0.018000000000000002, 0.045, 0.0616, 0.035, 0.0, 0.0, 0.0, 0.0, 0.0, 0.0, 0.0, 0.0, 0.0, 0.0, 0.0, 0.0, 0.004, 0.03043939393939394, 0.0013488075466426823, 0.0013488075466426823, 0.0013488075466426823, 0.0013488075466426823, 0.0013488075466426823, 0.0013488075466426823, 0.0013488075466426823, 0.0013488075466426823, 0.0013488075466426823, 0.0013488075466426823, 0.0013488075466426823, 0.0013488075466426823, 0.0013488075466426823, 0.0013488075466426823, 0.0013488075466426823, 0.0013488075466426823, 0.0013488075466426823, 0.0013488075466426823, 0.0013488075466426823, 0.0013488075466426823, 0.0013488075466426823, 0.0013488075466426823, 0.0013488075466426823, 0.0013488075466426823, 0.0013488075466426823, 0.0013488075466426823, 0.0013488075466426823, 0.0013488075466426823, 0.0013488075466426823, 0.0013488075466426823, 0.0013488075466426823, 0.0013488075466426823, 0.0013488075466426823, 0.0013488075466426823, 0.0013488075466426823, 0.0013488075466426823, 0.0013488075466426823, 0.0013488075466426823, 0.0013488075466426823, 0.0013488075466426823, 0.0013488075466426823, 0.0013488075466426823, 0.0013488075466426823, 0.0013488075466426823, 0.0013488075466426823, 0.0013488075466426823, 0.0013488075466426823, 0.0013488075466426823, 0.0013488075466426823, 0.0013488075466426823, 0.0013488075466426823, 0.0013488075466426823, 0.0013488075466426823, 0.0013488075466426823, 0.0013488075466426823, 0.0013488075466426823, 0.0013488075466426823, 0.0013488075466426823, 0.0013488075466426823, 0.0013488075466426823, 0.0013488075466426823, 0.0013488075466426823, 0.0013488075466426823, 0.0013488075466426823, 0.0013488075466426823, 0.0013488075466426823, 0.0013488075466426823, 0.0013488075466426823, 0.0013488075466426823, 0.0013488075466426823, 0.0013488075466426823, 0.0013488075466426823, 0.0013488075466426823, 0.0013488075466426823, 0.0013488075466426823, 0.0013488075466426823, 0.0013488075466426823, 0.0013488075466426823, 0.0013488075466426823, 0.0013488075466426823, 0.0013488075466426823, 0.0013488075466426823, 0.0013488075466426823, 0.0013488075466426823, 0.0013488075466426823, 0.0013488075466426823, 0.0013488075466426823, 0.0013488075466426823, 0.0013488075466426823, 0.0013488075466426823, 0.0013488075466426823, 0.0013488075466426823, 0.0013488075466426823, 0.0013488075466426823, 0.0013488075466426823, 0.0013488075466426823, 0.0013488075466426823, 0.0013488075466426823, 0.0013488075466426823, 0.0013488075466426823, 0.0013488075466426823, 0.0013488075466426823, 0.0013488075466426823, 0.0013488075466426823, 0.0013488075466426823, 0.0013488075466426823, 0.0013488075466426823, 0.0013488075466426823, 0.0013488075466426823, 0.0013488075466426823, 0.0013488075466426823, 0.0013488075466426823, 0.0013488075466426823, 0.03874731885761295, 0.03874731885761295, 0.0013488075466426823, 0.0013488075466426823, 0.0013488075466426823, 0.0013488075466426823, 0.0013488075466426823, 0.0013488075466426823, 0.03874731885761295, 0.04145038850038847, 0.13599999999999984, 0.3299999999999994, 0.32499999999999957, 0.05600000000000001, 0.03043939393939394, 0.04145038850038847, 0.04145038850038847, 0.04145038850038847, 0.03874731885761295, 0.03874731885761295, 0.03874731885761295, 0.3256666666666667, 0.6480000000000001, 1.1300000000000008, 0.779, 0.6150000000000001, 0.6880000000000002, 0.8309999999999996, 0.862216666666667, 0.862216666666667, 0.8486499999999998, 0.5154166666666662, 1.7550000000000017, 2.3330000000000033, 1.0919999999999994, 0.964333333333332, 2.1123333333333334, 2.099999999999997, 2.0809999999999973, 1.535098412698414, 1.3694285714285732, 1.2372499999999989, 0.6109999999999998, 0.41699999999999926, 0.36799999999999977, 0.4089999999999994, 0.08800000000000001, 0.096, 0.3089999999999997, 0.5754999999999996, 0.8237333333333341, 1.2318000000000016, 1.1650000000000014, 1.1060000000000008, 1.929000000000002, 1.7683333333333358, 1.290000000000002, 1.128000000000001, 1.1599999999999993, 2.2119999999999966, 1.9039999999999986, 1.535098412698414, 1.2400999999999993, 1.535098412698414, 1.1189333333333318, 0.4459999999999998, 0.8237333333333341, 1.3345000000000025, 1.3645000000000023, 1.3610000000000013, 1.1829999999999992, 1.0859999999999985, 1.093499999999999, 1.033833333333333, 1.2235833333333341, 1.2999166666666648, 1.290000000000002, 1.3650000000000009, 1.132999999999999, 0.8080000000000012, 1.1850000000000014, 0.5569999999999993, 0.42300000000000004, 0.3689999999999998, 0.3809999999999999, 0.4929999999999998, 0.3429999999999995, 0.2700000000000003, 0.4239999999999995, 0.4649999999999998, 0.28000000000000036, 0.3999999999999994, 0.2349999999999998, 0.14699999999999977, 0.04799999999999999, 0.0635, 0.1469166666666667, 0.6252500000000001, 0.4424999999999995, 0.6252500000000001, 1.7350000000000008, 2.2680000000000002, 2.488, 2.499, 2.482, 2.439, 2.5849999999999977, 2.4530000000000016, 2.428000000000003, 2.428000000000003, 1.9130000000000018, 3.1005000000000034, 3.0145, 2.291000000000001, 2.5946666666666647, 2.579466666666667, 2.579466666666667, 1.6270000000000016, 1.5780000000000007, 1.5030000000000003, 0.6109999999999992, 0.7589999999999995, 0.45125000000000065, 0.778, 0.3740000000000001, 0.3669999999999998, 0.25899999999999973, 0.1969999999999998, 0.2710000000000003, 0.29400000000000037, 0.45100000000000046, 0.27699999999999975, 0.406, 0.45799999999999996, 0.21, 0.10899999999999999, 0.10399999999999998, 0.021, 0.135, 0.05499999999999998, 0.088, 0.18000000000000005, 0.5709999999999993, 0.38599999999999995, 0.6470000000000007, 1.096333333333333, 1.2319999999999987, 1.1356666666666653, 1.156833333333332, 0.8325000000000006, 0.6586666666666655, 0.8325000000000006, 0.43449999999999955, 0.41916666666666585, 0.3949999999999993, 0.5643333333333327, 0.38999999999999935, 0.4939999999999993, 0.4809999999999999, 0.5399999999999999, 0.9925000000000012, 1.395000000000001, 0.9460000000000012, 3.002000000000001, 3.0389999999999993, 2.3719999999999963, 2.159999999999999, 2.3249999999999975, 3.88, 4.2905, 3.9844666666666613, 4.4519999999999955, 4.191999999999998, 4.123999999999995, 5.045999999999995, 5.48200000000001, 5.426000000000007, 4.994000000000006, 4.551999999999996, 4.204999999999995, 4.7530000000000046, 4.571000000000005, 2.4449999999999985, 2.357000000000003, 2.6490000000000022, 2.299, 1.1210000000000002, 0.498, 0.762, 0.315, 0.315, 0.9309999999999999, 0.045, 1.416, 0.7949999999999997, 0.0, 0.0, 0.0, 0.0, 0.0, 0.0, 0.0, 0.0, 0.0, 0.0, 0.0, 0.0, 0.0, 0.0, 0.8649999999999999, 0.519, 0.7999999999999998, 0.3360000000000001, 0.11699999999999999, 0.0, 0.0, 0.0, 0.0, 0.0, 0.0, 0.0, 0.0, 0.0, 0.0, 0.0, 0.0, 0.0, 0.392, 0.2645, 0.419, 0.6609999999999999, 0.531, 0.046, 0.07, 0.09759999999999999, 0.2126, 0.1776, 0.2045, 0.12799999999999997, 0.0, 0.0, 0.0, 0.0, 0.0, 0.0, 0.0, 0.0, 0.0, 0.0, 0.0, 0.0, 0.05600000000000001, 0.03043939393939394, 0.0013488075466426823, 0.0013488075466426823, 0.0013488075466426823, 0.0013488075466426823, 0.0013488075466426823, 0.0013488075466426823, 0.0013488075466426823, 0.0013488075466426823, 0.0013488075466426823, 0.0013488075466426823, 0.0013488075466426823, 0.0013488075466426823, 0.0013488075466426823, 0.0013488075466426823, 0.0013488075466426823, 0.0013488075466426823, 0.0013488075466426823, 0.0013488075466426823, 0.0013488075466426823, 0.0013488075466426823, 0.0013488075466426823, 0.0013488075466426823, 0.0013488075466426823, 0.0013488075466426823, 0.0013488075466426823, 0.0013488075466426823, 0.0013488075466426823, 0.0013488075466426823, 0.0013488075466426823, 0.0013488075466426823, 0.0013488075466426823, 0.0013488075466426823, 0.0013488075466426823, 0.0013488075466426823, 0.0013488075466426823, 0.0013488075466426823, 0.0013488075466426823, 0.0013488075466426823, 0.0013488075466426823, 0.0013488075466426823, 0.0013488075466426823, 0.0013488075466426823, 0.0013488075466426823, 0.0013488075466426823, 0.0013488075466426823, 0.0013488075466426823, 0.0013488075466426823, 0.0013488075466426823, 0.0013488075466426823, 0.0013488075466426823, 0.0013488075466426823, 0.0013488075466426823, 0.0013488075466426823, 0.0013488075466426823, 0.0013488075466426823, 0.0013488075466426823, 0.0013488075466426823, 0.0013488075466426823, 0.0013488075466426823, 0.0013488075466426823, 0.0013488075466426823, 0.0013488075466426823, 0.0013488075466426823, 0.0013488075466426823, 0.0013488075466426823, 0.0013488075466426823, 0.0013488075466426823, 0.0013488075466426823, 0.0013488075466426823, 0.0013488075466426823, 0.0013488075466426823, 0.0013488075466426823, 0.0013488075466426823, 0.0013488075466426823, 0.0013488075466426823, 0.0013488075466426823, 0.0013488075466426823, 0.0013488075466426823, 0.0013488075466426823, 0.0013488075466426823, 0.0013488075466426823, 0.0013488075466426823, 0.0013488075466426823, 0.0013488075466426823, 0.0013488075466426823, 0.0013488075466426823, 0.0013488075466426823, 0.0013488075466426823, 0.0013488075466426823, 0.0013488075466426823, 0.0013488075466426823, 0.0013488075466426823, 0.0013488075466426823, 0.0013488075466426823, 0.0013488075466426823, 0.0013488075466426823, 0.0013488075466426823, 0.0013488075466426823, 0.0013488075466426823, 0.0013488075466426823, 0.0013488075466426823, 0.0013488075466426823, 0.0013488075466426823, 0.0013488075466426823, 0.0013488075466426823, 0.0013488075466426823, 0.0013488075466426823, 0.0013488075466426823, 0.0013488075466426823, 0.0013488075466426823, 0.0013488075466426823, 0.0013488075466426823, 0.0013488075466426823, 0.0013488075466426823, 0.0013488075466426823, 0.0013488075466426823, 0.0013488075466426823, 0.0013488075466426823, 0.03874731885761295, 0.04145038850038847, 0.016, 0.11399999999999992, 0.7559999999999999, 0.562, 0.20600000000000002, 0.055999999999999994, 0.12666666666666665, 0.063, 0.004833333333333334, 0.04145038850038847, 0.03874731885761295, 0.03874731885761295, 0.03874731885761295, 0.04145038850038847, 0.04145038850038847, 0.0, 0.6891333333333333, 0.6891333333333333, 0.5280666666666667, 0.4706666666666668, 0.28666666666666635, 0.16133333333333333, 0.016, 0.016, 0.4150000000000005, 0.8530000000000001, 1.8289999999999995, 1.9479999999999973, 1.8968333333333314, 3.2533333333333365, 3.2146666666666635, 3.3366666666666647, 3.3633333333333333, 3.554000000000004, 3.518000000000005, 3.498000000000006, 3.056000000000005, 3.631000000000002, 3.6171166666666683, 3.602616666666667, 3.602616666666667, 3.602616666666667, 3.67358333333333, 3.762083333333337, 3.8630000000000013, 3.550750000000001, 3.5175000000000027, 3.1250000000000004, 2.9450000000000034, 0.812999999999999, 0.8409999999999997, 0.9040000000000009, 1.437000000000001, 1.3100000000000005, 1.2449999999999986, 1.4430000000000018, 1.617, 2.592999999999997, 2.687999999999996, 2.635999999999997, 2.6899999999999964, 3.176, 3.0440000000000027, 3.0429999999999997, 2.717000000000001, 3.6329999999999973, 4.347616666666668, 3.9986666666666664, 3.9986666666666664, 4.677666666666671, 4.8170833333333345, 5.023250000000001, 5.023250000000001, 4.824249999999995, 4.724000000000005, 4.701999999999999, 4.646000000000004, 4.856819047619052, 4.503200000000002, 4.194333333333338, 3.280999999999998, 3.174666666666665, 2.7918428571428575, 2.230999999999997, 1.315666666666665, 0.7848000000000003, 0.10200000000000001, 0.10200000000000001, 0.7129999999999999, 0.3470000000000002, 0.2780000000000001, 0.5350000000000003, 0.25900000000000006, 0.057999999999999996, 0.025999999999999995, 0.14299999999999996, 1.2569999999999995, 0.6210000000000001, 0.09300000000000003, 0.41340000000000005, 0.7409999999999992, 0.6859999999999995, 0.6050000000000005, 0.46400000000000075, 0.17399999999999982, 0.37700000000000045, 0.8599999999999993, 1.013199999999999, 0.9810000000000008, 1.2354, 0.7848000000000003, 2.52844761904762, 1.7768666666666646, 2.795233333333333, 2.490999999999997, 2.660999999999998, 2.6080000000000014, 2.6369999999999982, 2.554, 2.554, 2.798999999999998, 3.310999999999997, 3.189999999999999, 3.7329999999999965, 3.683000000000003, 2.565, 4.7139999999999915, 7.849000000000013, 8.372000000000012, 8.92100000000001, 9.219000000000008, 9.93899999999999, 9.966999999999995, 9.91699999999999, 9.958999999999994, 9.896999999999991, 9.416999999999996, 9.452000000000009, 9.31900000000001, 9.693000000000014, 9.09299999999999, 8.57499999999999, 10.830999999999992, 10.979000000000012, 10.99900000000001, 12.365999999999987, 12.407, 12.562999999999995, 12.404999999999998, 12.717999999999996, 13.018000000000013, 13.331000000000003, 13.199999999999994, 14.207733333333346, 14.27580000000002, 14.274000000000022, 14.090000000000018, 12.888000000000003, 11.658999999999999, 12.059000000000005], \"yaxis\": \"y\"}, {\"mode\": \"lines\", \"name\": \"Test Data\", \"type\": \"scatter\", \"x\": [\"2011-04-04\", \"2011-04-05\", \"2011-04-06\", \"2011-04-07\", \"2011-04-08\", \"2011-04-09\", \"2011-04-10\", \"2011-04-11\", \"2011-04-12\", \"2011-04-13\", \"2011-04-14\", \"2011-04-15\", \"2011-04-16\", \"2011-04-17\", \"2011-04-18\", \"2011-04-19\", \"2011-04-20\", \"2011-04-21\", \"2011-04-22\", \"2011-04-23\", \"2011-04-24\", \"2011-04-25\", \"2011-04-26\", \"2011-04-27\", \"2011-04-28\", \"2011-04-29\", \"2011-04-30\", \"2011-05-01\", \"2011-05-02\", \"2011-05-03\", \"2011-05-04\", \"2011-05-05\", \"2011-05-06\", \"2011-05-07\", \"2011-05-08\", \"2011-05-09\", \"2011-05-10\", \"2011-05-11\", \"2011-05-12\", \"2011-05-13\", \"2011-05-14\", \"2011-05-15\", \"2011-05-16\", \"2011-05-17\", \"2011-05-18\", \"2011-05-19\", \"2011-05-20\", \"2011-05-21\", \"2011-05-22\", \"2011-05-23\", \"2011-05-24\", \"2011-05-25\", \"2011-05-26\", \"2011-05-27\", \"2011-05-28\", \"2011-05-29\", \"2011-05-30\", \"2011-05-31\", \"2011-06-01\", \"2011-06-02\", \"2011-06-03\", \"2011-06-04\", \"2011-06-05\", \"2011-06-06\", \"2011-06-07\", \"2011-06-08\", \"2011-06-09\", \"2011-06-10\", \"2011-06-11\", \"2011-06-12\", \"2011-06-13\", \"2011-06-14\", \"2011-06-15\", \"2011-06-16\", \"2011-06-17\", \"2011-06-18\", \"2011-06-19\", \"2011-06-20\", \"2011-06-21\", \"2011-06-22\", \"2011-06-23\", \"2011-06-24\", \"2011-06-25\", \"2011-06-26\", \"2011-06-27\", \"2011-06-28\", \"2011-06-29\", \"2011-06-30\", \"2011-07-01\", \"2011-07-02\", \"2011-07-03\", \"2011-07-04\", \"2011-07-05\", \"2011-07-06\", \"2011-07-07\", \"2011-07-08\", \"2011-07-09\", \"2011-07-10\", \"2011-07-11\", \"2011-07-12\", \"2011-07-13\", \"2011-07-14\", \"2011-07-15\", \"2011-07-16\", \"2011-07-17\", \"2011-07-18\", \"2011-07-19\", \"2011-07-20\", \"2011-07-21\", \"2011-07-22\", \"2011-07-23\", \"2011-07-24\", \"2011-07-25\", \"2011-07-26\", \"2011-07-27\", \"2011-07-28\", \"2011-07-29\", \"2011-07-30\", \"2011-07-31\", \"2011-08-01\", \"2011-08-02\", \"2011-08-03\", \"2011-08-04\", \"2011-08-05\", \"2011-08-06\", \"2011-08-07\", \"2011-08-08\", \"2011-08-09\", \"2011-08-10\", \"2011-08-11\", \"2011-08-12\", \"2011-08-13\", \"2011-08-14\", \"2011-08-15\", \"2011-08-16\", \"2011-08-17\", \"2011-08-18\", \"2011-08-19\", \"2011-08-20\", \"2011-08-21\", \"2011-08-22\", \"2011-08-23\", \"2011-08-24\", \"2011-08-25\", \"2011-08-26\", \"2011-08-27\", \"2011-08-28\", \"2011-08-29\", \"2011-08-30\", \"2011-08-31\", \"2011-09-01\", \"2011-09-02\", \"2011-09-03\", \"2011-09-04\", \"2011-09-05\", \"2011-09-06\", \"2011-09-07\", \"2011-09-08\", \"2011-09-09\", \"2011-09-10\", \"2011-09-11\", \"2011-09-12\", \"2011-09-13\", \"2011-09-14\", \"2011-09-15\", \"2011-09-16\", \"2011-09-17\", \"2011-09-18\", \"2011-09-19\", \"2011-09-20\", \"2011-09-21\", \"2011-09-22\", \"2011-09-23\", \"2011-09-24\", \"2011-09-25\", \"2011-09-26\", \"2011-09-27\", \"2011-09-28\", \"2011-09-29\", \"2011-09-30\", \"2011-10-01\", \"2011-10-02\", \"2011-10-03\", \"2011-10-04\", \"2011-10-05\", \"2011-10-06\", \"2011-10-07\", \"2011-10-08\", \"2011-10-09\", \"2011-10-10\", \"2011-10-11\", \"2011-10-12\", \"2011-10-13\", \"2011-10-14\", \"2011-10-15\", \"2011-10-16\", \"2011-10-17\", \"2011-10-18\", \"2011-10-19\", \"2011-10-20\", \"2011-10-21\", \"2011-10-22\", \"2011-10-23\", \"2011-10-24\", \"2011-10-25\", \"2011-10-26\", \"2011-10-27\", \"2011-10-28\", \"2011-10-29\", \"2011-10-30\", \"2011-10-31\", \"2011-11-01\", \"2011-11-02\", \"2011-11-03\", \"2011-11-04\", \"2011-11-05\", \"2011-11-06\", \"2011-11-07\", \"2011-11-08\", \"2011-11-09\", \"2011-11-10\", \"2011-11-11\", \"2011-11-12\", \"2011-11-13\", \"2011-11-14\", \"2011-11-15\", \"2011-11-16\", \"2011-11-17\", \"2011-11-18\", \"2011-11-19\", \"2011-11-20\", \"2011-11-21\", \"2011-11-22\", \"2011-11-23\", \"2011-11-24\", \"2011-11-25\", \"2011-11-26\", \"2011-11-27\", \"2011-11-28\", \"2011-11-29\", \"2011-11-30\", \"2011-12-01\", \"2011-12-02\", \"2011-12-03\", \"2011-12-04\", \"2011-12-05\", \"2011-12-06\", \"2011-12-07\", \"2011-12-08\", \"2011-12-09\", \"2011-12-10\", \"2011-12-11\", \"2011-12-12\", \"2011-12-13\", \"2011-12-14\", \"2011-12-15\", \"2011-12-16\", \"2011-12-17\", \"2011-12-18\", \"2011-12-19\", \"2011-12-20\", \"2011-12-21\", \"2011-12-22\", \"2011-12-23\", \"2011-12-24\", \"2011-12-25\", \"2011-12-26\", \"2011-12-27\", \"2011-12-28\", \"2011-12-29\", \"2011-12-30\", \"2011-12-31\", \"2012-01-01\", \"2012-01-02\"], \"xaxis\": \"x2\", \"y\": [10.6, 10.6, 11.7, 12.4, 12.9, 12.9, 12.9, 12.6, 12.9, 12.8, 12.8, 13.1, 14.1, 14.4, 13.6, 13.5, 13.7, 13.5, 13.2, 13.7, 13.4, 12.9, 12.7, 14.0, 14.1, 14.6, 14.9, 14.9, 14.7, 14.3, 13.9, 13.8, 13.3, 12.5, 11.9, 11.5, 11.2, 10.3, 9.4, 8.2, 7.1, 5.8, 4.2, 3.4, 2.7, 1.6, 0.4, 0.2, 0.2, 0.0, 0.0, 0.0, 0.0, 0.0, 0.0, 0.0, 0.0, 0.0, 0.0, 0.0, 0.0, 0.0, 0.0, 0.0, 0.0, 0.0, 0.0, 0.0, 0.0, 0.0, 0.0, 0.0, 0.0, 0.0, 0.0, 0.0, 0.0, 0.0, 0.0, 0.0, 0.0, 0.0, 0.0, 0.0, 0.0, 0.0, 0.0, 0.0, 0.0, 0.0, 0.0, 0.0, 0.0, 0.0, 0.0, 0.0, 0.0, 0.0, 0.0, 0.0, 0.0, 0.0, 0.0, 0.0, 0.0, 0.0, 0.0, 0.0, 0.0, 0.0, 0.0, 0.0, 0.0, 0.0, 0.0, 0.0, 0.0, 0.0, 0.0, 0.0, 0.0, 0.0, 0.0, 0.0, 0.0, 0.0, 0.0, 0.0, 0.0, 0.0, 0.0, 0.0, 0.0, 0.0, 0.0, 0.0, 0.0, 0.0, 0.0, 0.0, 0.0, 0.0, 0.0, 0.0, 0.0, 0.0, 0.0, 0.0, 0.0, 0.0, 0.0, 0.0, 0.0, 0.0, 0.0, 0.0, 0.0, 0.0, 0.0, 0.0, 0.0, 0.0, 0.0, 0.0, 0.0, 0.0, 0.0, 0.0, 0.0, 0.0, 0.0, 0.0, 0.0, 0.0, 0.0, 0.0, 0.0, 0.0, 0.0, 0.0, 0.0, 0.0, 0.0, 0.0, 0.0, 0.0, 0.0, 0.0, 0.0, 0.0, 0.0, 0.0, 0.0, 0.0, 0.0, 0.0, 0.0, 0.0, 0.0, 0.0, 0.0, 0.0, 0.0, 0.0, 0.0, 0.0, 0.0, 0.0, 0.0, 0.0, 0.0, 0.0, 0.0, 0.0, 0.3, 0.4, 0.6, 0.8, 0.4, 0.5, 0.5, 0.4, 0.4, 1.2, 1.6, 1.7, 1.8, 2.0, 1.3, 2.3, 2.8, 2.7, 2.8, 2.9, 0.3, 1.0, 1.5, 1.4, 0.6, 1.0, 1.2, 1.2, 1.8, 1.8, 2.2, 2.6, 2.8, 3.7, 3.2, 3.4, 3.9, 3.1, 3.4, 3.2, 4.0, 4.2, 3.9, 3.7, 3.4, 3.1, 2.9, 2.8, 2.7, 3.5, 2.9, 2.5, 0.9, 2.1, 2.1, 0.9, 1.0, 0.8, 1.8, 1.9], \"yaxis\": \"y2\"}, {\"mode\": \"lines\", \"name\": \"Model Predictions on Training Data\", \"type\": \"scatter\", \"x\": [\"2011-04-04\", \"2011-04-05\", \"2011-04-06\", \"2011-04-07\", \"2011-04-08\", \"2011-04-09\", \"2011-04-10\", \"2011-04-11\", \"2011-04-12\", \"2011-04-13\", \"2011-04-14\", \"2011-04-15\", \"2011-04-16\", \"2011-04-17\", \"2011-04-18\", \"2011-04-19\", \"2011-04-20\", \"2011-04-21\", \"2011-04-22\", \"2011-04-23\", \"2011-04-24\", \"2011-04-25\", \"2011-04-26\", \"2011-04-27\", \"2011-04-28\", \"2011-04-29\", \"2011-04-30\", \"2011-05-01\", \"2011-05-02\", \"2011-05-03\", \"2011-05-04\", \"2011-05-05\", \"2011-05-06\", \"2011-05-07\", \"2011-05-08\", \"2011-05-09\", \"2011-05-10\", \"2011-05-11\", \"2011-05-12\", \"2011-05-13\", \"2011-05-14\", \"2011-05-15\", \"2011-05-16\", \"2011-05-17\", \"2011-05-18\", \"2011-05-19\", \"2011-05-20\", \"2011-05-21\", \"2011-05-22\", \"2011-05-23\", \"2011-05-24\", \"2011-05-25\", \"2011-05-26\", \"2011-05-27\", \"2011-05-28\", \"2011-05-29\", \"2011-05-30\", \"2011-05-31\", \"2011-06-01\", \"2011-06-02\", \"2011-06-03\", \"2011-06-04\", \"2011-06-05\", \"2011-06-06\", \"2011-06-07\", \"2011-06-08\", \"2011-06-09\", \"2011-06-10\", \"2011-06-11\", \"2011-06-12\", \"2011-06-13\", \"2011-06-14\", \"2011-06-15\", \"2011-06-16\", \"2011-06-17\", \"2011-06-18\", \"2011-06-19\", \"2011-06-20\", \"2011-06-21\", \"2011-06-22\", \"2011-06-23\", \"2011-06-24\", \"2011-06-25\", \"2011-06-26\", \"2011-06-27\", \"2011-06-28\", \"2011-06-29\", \"2011-06-30\", \"2011-07-01\", \"2011-07-02\", \"2011-07-03\", \"2011-07-04\", \"2011-07-05\", \"2011-07-06\", \"2011-07-07\", \"2011-07-08\", \"2011-07-09\", \"2011-07-10\", \"2011-07-11\", \"2011-07-12\", \"2011-07-13\", \"2011-07-14\", \"2011-07-15\", \"2011-07-16\", \"2011-07-17\", \"2011-07-18\", \"2011-07-19\", \"2011-07-20\", \"2011-07-21\", \"2011-07-22\", \"2011-07-23\", \"2011-07-24\", \"2011-07-25\", \"2011-07-26\", \"2011-07-27\", \"2011-07-28\", \"2011-07-29\", \"2011-07-30\", \"2011-07-31\", \"2011-08-01\", \"2011-08-02\", \"2011-08-03\", \"2011-08-04\", \"2011-08-05\", \"2011-08-06\", \"2011-08-07\", \"2011-08-08\", \"2011-08-09\", \"2011-08-10\", \"2011-08-11\", \"2011-08-12\", \"2011-08-13\", \"2011-08-14\", \"2011-08-15\", \"2011-08-16\", \"2011-08-17\", \"2011-08-18\", \"2011-08-19\", \"2011-08-20\", \"2011-08-21\", \"2011-08-22\", \"2011-08-23\", \"2011-08-24\", \"2011-08-25\", \"2011-08-26\", \"2011-08-27\", \"2011-08-28\", \"2011-08-29\", \"2011-08-30\", \"2011-08-31\", \"2011-09-01\", \"2011-09-02\", \"2011-09-03\", \"2011-09-04\", \"2011-09-05\", \"2011-09-06\", \"2011-09-07\", \"2011-09-08\", \"2011-09-09\", \"2011-09-10\", \"2011-09-11\", \"2011-09-12\", \"2011-09-13\", \"2011-09-14\", \"2011-09-15\", \"2011-09-16\", \"2011-09-17\", \"2011-09-18\", \"2011-09-19\", \"2011-09-20\", \"2011-09-21\", \"2011-09-22\", \"2011-09-23\", \"2011-09-24\", \"2011-09-25\", \"2011-09-26\", \"2011-09-27\", \"2011-09-28\", \"2011-09-29\", \"2011-09-30\", \"2011-10-01\", \"2011-10-02\", \"2011-10-03\", \"2011-10-04\", \"2011-10-05\", \"2011-10-06\", \"2011-10-07\", \"2011-10-08\", \"2011-10-09\", \"2011-10-10\", \"2011-10-11\", \"2011-10-12\", \"2011-10-13\", \"2011-10-14\", \"2011-10-15\", \"2011-10-16\", \"2011-10-17\", \"2011-10-18\", \"2011-10-19\", \"2011-10-20\", \"2011-10-21\", \"2011-10-22\", \"2011-10-23\", \"2011-10-24\", \"2011-10-25\", \"2011-10-26\", \"2011-10-27\", \"2011-10-28\", \"2011-10-29\", \"2011-10-30\", \"2011-10-31\", \"2011-11-01\", \"2011-11-02\", \"2011-11-03\", \"2011-11-04\", \"2011-11-05\", \"2011-11-06\", \"2011-11-07\", \"2011-11-08\", \"2011-11-09\", \"2011-11-10\", \"2011-11-11\", \"2011-11-12\", \"2011-11-13\", \"2011-11-14\", \"2011-11-15\", \"2011-11-16\", \"2011-11-17\", \"2011-11-18\", \"2011-11-19\", \"2011-11-20\", \"2011-11-21\", \"2011-11-22\", \"2011-11-23\", \"2011-11-24\", \"2011-11-25\", \"2011-11-26\", \"2011-11-27\", \"2011-11-28\", \"2011-11-29\", \"2011-11-30\", \"2011-12-01\", \"2011-12-02\", \"2011-12-03\", \"2011-12-04\", \"2011-12-05\", \"2011-12-06\", \"2011-12-07\", \"2011-12-08\", \"2011-12-09\", \"2011-12-10\", \"2011-12-11\", \"2011-12-12\", \"2011-12-13\", \"2011-12-14\", \"2011-12-15\", \"2011-12-16\", \"2011-12-17\", \"2011-12-18\", \"2011-12-19\", \"2011-12-20\", \"2011-12-21\", \"2011-12-22\", \"2011-12-23\", \"2011-12-24\", \"2011-12-25\", \"2011-12-26\", \"2011-12-27\", \"2011-12-28\", \"2011-12-29\", \"2011-12-30\", \"2011-12-31\", \"2012-01-01\", \"2012-01-02\"], \"xaxis\": \"x2\", \"y\": [11.895000000000005, 12.98300000000001, 13.400000000000016, 14.090000000000018, 14.090000000000018, 14.090000000000018, 14.090000000000018, 14.090000000000018, 14.090000000000018, 14.090000000000018, 14.090000000000018, 14.090000000000018, 14.090000000000018, 14.090000000000018, 14.090000000000018, 14.090000000000018, 14.090000000000018, 14.090000000000018, 14.090000000000018, 14.090000000000018, 14.090000000000018, 14.090000000000018, 14.090000000000018, 14.090000000000018, 14.090000000000018, 14.090000000000018, 14.090000000000018, 14.090000000000018, 14.090000000000018, 14.090000000000018, 14.090000000000018, 14.090000000000018, 14.090000000000018, 14.090000000000018, 14.090000000000018, 14.090000000000018, 14.090000000000018, 14.090000000000018, 14.090000000000018, 14.090000000000018, 14.090000000000018, 14.090000000000018, 14.090000000000018, 14.090000000000018, 14.090000000000018, 14.090000000000018, 14.090000000000018, 14.090000000000018, 14.090000000000018, 14.090000000000018, 14.090000000000018, 14.090000000000018, 13.870000000000015, 13.870000000000015, 14.090000000000018, 14.090000000000018, 14.090000000000018, 13.870000000000015, 13.400000000000016, 13.262000000000015, 13.220000000000013, 13.220000000000013, 13.556000000000015, 14.536800000000023, 14.392800000000017, 14.628466666666675, 14.72353333333334, 15.267866666666666, 15.007999999999983, 14.373999999999985, 6.372000000000002, 5.687000000000001, 5.341500000000001, 5.462999999999999, 6.625000000000004, 5.1530000000000005, 4.786999999999998, 3.2537499999999984, 1.1449999999999998, 0.392, 0.0, 0.38, 0.0, 0.0, 0.15100000000000002, 0.29100000000000004, 0.0, 0.0, 0.0, 0.0, 0.0, 0.0, 0.08900000000000001, 0.136, 0.0, 0.0, 0.0, 0.0, 0.013000000000000001, 0.237, 0.37799999999999995, 0.14200000000000002, 0.099, 0.43999999999999995, 0.025, 0.0, 0.0, 0.0, 0.0, 0.0, 0.0, 0.0, 0.0, 0.0, 0.0, 0.0, 0.0, 0.0, 0.0, 0.028000000000000004, 0.32499999999999957, 0.03043939393939394, 0.0013488075466426823, 0.0013488075466426823, 0.0013488075466426823, 0.0013488075466426823, 0.0013488075466426823, 0.0013488075466426823, 0.0013488075466426823, 0.0013488075466426823, 0.0013488075466426823, 0.0013488075466426823, 0.0013488075466426823, 0.0013488075466426823, 0.0013488075466426823, 0.0013488075466426823, 0.0013488075466426823, 0.0013488075466426823, 0.0013488075466426823, 0.0013488075466426823, 0.0013488075466426823, 0.0013488075466426823, 0.0013488075466426823, 0.0013488075466426823, 0.0013488075466426823, 0.0013488075466426823, 0.0013488075466426823, 0.0013488075466426823, 0.0013488075466426823, 0.0013488075466426823, 0.0013488075466426823, 0.0013488075466426823, 0.0013488075466426823, 0.0013488075466426823, 0.0013488075466426823, 0.0013488075466426823, 0.0013488075466426823, 0.0013488075466426823, 0.0013488075466426823, 0.0013488075466426823, 0.0013488075466426823, 0.0013488075466426823, 0.0013488075466426823, 0.0013488075466426823, 0.0013488075466426823, 0.0013488075466426823, 0.0013488075466426823, 0.0013488075466426823, 0.0013488075466426823, 0.0013488075466426823, 0.0013488075466426823, 0.0013488075466426823, 0.0013488075466426823, 0.0013488075466426823, 0.0013488075466426823, 0.0013488075466426823, 0.0013488075466426823, 0.0013488075466426823, 0.0013488075466426823, 0.0013488075466426823, 0.0013488075466426823, 0.0013488075466426823, 0.0013488075466426823, 0.0013488075466426823, 0.0013488075466426823, 0.0013488075466426823, 0.0013488075466426823, 0.0013488075466426823, 0.0013488075466426823, 0.0013488075466426823, 0.0013488075466426823, 0.0013488075466426823, 0.0013488075466426823, 0.0013488075466426823, 0.0013488075466426823, 0.0013488075466426823, 0.0013488075466426823, 0.0013488075466426823, 0.0013488075466426823, 0.0013488075466426823, 0.0013488075466426823, 0.0013488075466426823, 0.0013488075466426823, 0.0013488075466426823, 0.0013488075466426823, 0.0013488075466426823, 0.0013488075466426823, 0.0013488075466426823, 0.0013488075466426823, 0.0013488075466426823, 0.0013488075466426823, 0.0013488075466426823, 0.03874731885761295, 0.03874731885761295, 0.10666666666666667, 0.0, 0.0, 0.16866666666666677, 0.11466666666666667, 0.11466666666666667, 0.2346666666666667, 0.0, 0.0, 0.17466666666666664, 0.25699999999999973, 0.22599999999999998, 0.057, 0.055999999999999994, 0.9480000000000001, 0.7680000000000001, 0.752, 0.7944833333333334, 0.9147333333333332, 3.2230000000000034, 0.911816666666667, 1.3010666666666681, 3.1520000000000037, 2.9410000000000025, 2.880000000000003, 2.9440000000000026, 2.9410000000000025, 2.8490000000000024, 2.5850000000000017, 2.5750000000000024, 2.5750000000000024, 2.5750000000000024, 2.4680000000000026, 2.4680000000000026, 2.470000000000003, 2.3250000000000033, 2.3250000000000033, 2.470000000000003, 2.8490000000000024, 2.837000000000003, 2.5850000000000017, 2.3250000000000033, 1.2619999999999987, 1.2619999999999987, 2.4550000000000036, 2.478000000000003, 2.478000000000003, 2.4680000000000026, 2.4740000000000024, 2.3330000000000033, 2.447000000000003, 2.451000000000003, 2.4870000000000037, 1.9800000000000002, 1.714, 2.0850000000000004, 1.1143333333333316, 1.9458333333333326, 1.1478333333333317, 1.9458333333333326], \"yaxis\": \"y2\"}],\n",
              "                        {\"height\": 2000, \"showlegend\": false, \"template\": {\"data\": {\"bar\": [{\"error_x\": {\"color\": \"#2a3f5f\"}, \"error_y\": {\"color\": \"#2a3f5f\"}, \"marker\": {\"line\": {\"color\": \"#E5ECF6\", \"width\": 0.5}}, \"type\": \"bar\"}], \"barpolar\": [{\"marker\": {\"line\": {\"color\": \"#E5ECF6\", \"width\": 0.5}}, \"type\": \"barpolar\"}], \"carpet\": [{\"aaxis\": {\"endlinecolor\": \"#2a3f5f\", \"gridcolor\": \"white\", \"linecolor\": \"white\", \"minorgridcolor\": \"white\", \"startlinecolor\": \"#2a3f5f\"}, \"baxis\": {\"endlinecolor\": \"#2a3f5f\", \"gridcolor\": \"white\", \"linecolor\": \"white\", \"minorgridcolor\": \"white\", \"startlinecolor\": \"#2a3f5f\"}, \"type\": \"carpet\"}], \"choropleth\": [{\"colorbar\": {\"outlinewidth\": 0, \"ticks\": \"\"}, \"type\": \"choropleth\"}], \"contour\": [{\"colorbar\": {\"outlinewidth\": 0, \"ticks\": \"\"}, \"colorscale\": [[0.0, \"#0d0887\"], [0.1111111111111111, \"#46039f\"], [0.2222222222222222, \"#7201a8\"], [0.3333333333333333, \"#9c179e\"], [0.4444444444444444, \"#bd3786\"], [0.5555555555555556, \"#d8576b\"], [0.6666666666666666, \"#ed7953\"], [0.7777777777777778, \"#fb9f3a\"], [0.8888888888888888, \"#fdca26\"], [1.0, \"#f0f921\"]], \"type\": \"contour\"}], \"contourcarpet\": [{\"colorbar\": {\"outlinewidth\": 0, \"ticks\": \"\"}, \"type\": \"contourcarpet\"}], \"heatmap\": [{\"colorbar\": {\"outlinewidth\": 0, \"ticks\": \"\"}, \"colorscale\": [[0.0, \"#0d0887\"], [0.1111111111111111, \"#46039f\"], [0.2222222222222222, \"#7201a8\"], [0.3333333333333333, \"#9c179e\"], [0.4444444444444444, \"#bd3786\"], [0.5555555555555556, \"#d8576b\"], [0.6666666666666666, \"#ed7953\"], [0.7777777777777778, \"#fb9f3a\"], [0.8888888888888888, \"#fdca26\"], [1.0, \"#f0f921\"]], \"type\": \"heatmap\"}], \"heatmapgl\": [{\"colorbar\": {\"outlinewidth\": 0, \"ticks\": \"\"}, \"colorscale\": [[0.0, \"#0d0887\"], [0.1111111111111111, \"#46039f\"], [0.2222222222222222, \"#7201a8\"], [0.3333333333333333, \"#9c179e\"], [0.4444444444444444, \"#bd3786\"], [0.5555555555555556, \"#d8576b\"], [0.6666666666666666, \"#ed7953\"], [0.7777777777777778, \"#fb9f3a\"], [0.8888888888888888, \"#fdca26\"], [1.0, \"#f0f921\"]], \"type\": \"heatmapgl\"}], \"histogram\": [{\"marker\": {\"colorbar\": {\"outlinewidth\": 0, \"ticks\": \"\"}}, \"type\": \"histogram\"}], \"histogram2d\": [{\"colorbar\": {\"outlinewidth\": 0, \"ticks\": \"\"}, \"colorscale\": [[0.0, \"#0d0887\"], [0.1111111111111111, \"#46039f\"], [0.2222222222222222, \"#7201a8\"], [0.3333333333333333, \"#9c179e\"], [0.4444444444444444, \"#bd3786\"], [0.5555555555555556, \"#d8576b\"], [0.6666666666666666, \"#ed7953\"], [0.7777777777777778, \"#fb9f3a\"], [0.8888888888888888, \"#fdca26\"], [1.0, \"#f0f921\"]], \"type\": \"histogram2d\"}], \"histogram2dcontour\": [{\"colorbar\": {\"outlinewidth\": 0, \"ticks\": \"\"}, \"colorscale\": [[0.0, \"#0d0887\"], [0.1111111111111111, \"#46039f\"], [0.2222222222222222, \"#7201a8\"], [0.3333333333333333, \"#9c179e\"], [0.4444444444444444, \"#bd3786\"], [0.5555555555555556, \"#d8576b\"], [0.6666666666666666, \"#ed7953\"], [0.7777777777777778, \"#fb9f3a\"], [0.8888888888888888, \"#fdca26\"], [1.0, \"#f0f921\"]], \"type\": \"histogram2dcontour\"}], \"mesh3d\": [{\"colorbar\": {\"outlinewidth\": 0, \"ticks\": \"\"}, \"type\": \"mesh3d\"}], \"parcoords\": [{\"line\": {\"colorbar\": {\"outlinewidth\": 0, \"ticks\": \"\"}}, \"type\": \"parcoords\"}], \"pie\": [{\"automargin\": true, \"type\": \"pie\"}], \"scatter\": [{\"marker\": {\"colorbar\": {\"outlinewidth\": 0, \"ticks\": \"\"}}, \"type\": \"scatter\"}], \"scatter3d\": [{\"line\": {\"colorbar\": {\"outlinewidth\": 0, \"ticks\": \"\"}}, \"marker\": {\"colorbar\": {\"outlinewidth\": 0, \"ticks\": \"\"}}, \"type\": \"scatter3d\"}], \"scattercarpet\": [{\"marker\": {\"colorbar\": {\"outlinewidth\": 0, \"ticks\": \"\"}}, \"type\": \"scattercarpet\"}], \"scattergeo\": [{\"marker\": {\"colorbar\": {\"outlinewidth\": 0, \"ticks\": \"\"}}, \"type\": \"scattergeo\"}], \"scattergl\": [{\"marker\": {\"colorbar\": {\"outlinewidth\": 0, \"ticks\": \"\"}}, \"type\": \"scattergl\"}], \"scattermapbox\": [{\"marker\": {\"colorbar\": {\"outlinewidth\": 0, \"ticks\": \"\"}}, \"type\": \"scattermapbox\"}], \"scatterpolar\": [{\"marker\": {\"colorbar\": {\"outlinewidth\": 0, \"ticks\": \"\"}}, \"type\": \"scatterpolar\"}], \"scatterpolargl\": [{\"marker\": {\"colorbar\": {\"outlinewidth\": 0, \"ticks\": \"\"}}, \"type\": \"scatterpolargl\"}], \"scatterternary\": [{\"marker\": {\"colorbar\": {\"outlinewidth\": 0, \"ticks\": \"\"}}, \"type\": \"scatterternary\"}], \"surface\": [{\"colorbar\": {\"outlinewidth\": 0, \"ticks\": \"\"}, \"colorscale\": [[0.0, \"#0d0887\"], [0.1111111111111111, \"#46039f\"], [0.2222222222222222, \"#7201a8\"], [0.3333333333333333, \"#9c179e\"], [0.4444444444444444, \"#bd3786\"], [0.5555555555555556, \"#d8576b\"], [0.6666666666666666, \"#ed7953\"], [0.7777777777777778, \"#fb9f3a\"], [0.8888888888888888, \"#fdca26\"], [1.0, \"#f0f921\"]], \"type\": \"surface\"}], \"table\": [{\"cells\": {\"fill\": {\"color\": \"#EBF0F8\"}, \"line\": {\"color\": \"white\"}}, \"header\": {\"fill\": {\"color\": \"#C8D4E3\"}, \"line\": {\"color\": \"white\"}}, \"type\": \"table\"}]}, \"layout\": {\"annotationdefaults\": {\"arrowcolor\": \"#2a3f5f\", \"arrowhead\": 0, \"arrowwidth\": 1}, \"coloraxis\": {\"colorbar\": {\"outlinewidth\": 0, \"ticks\": \"\"}}, \"colorscale\": {\"diverging\": [[0, \"#8e0152\"], [0.1, \"#c51b7d\"], [0.2, \"#de77ae\"], [0.3, \"#f1b6da\"], [0.4, \"#fde0ef\"], [0.5, \"#f7f7f7\"], [0.6, \"#e6f5d0\"], [0.7, \"#b8e186\"], [0.8, \"#7fbc41\"], [0.9, \"#4d9221\"], [1, \"#276419\"]], \"sequential\": [[0.0, \"#0d0887\"], [0.1111111111111111, \"#46039f\"], [0.2222222222222222, \"#7201a8\"], [0.3333333333333333, \"#9c179e\"], [0.4444444444444444, \"#bd3786\"], [0.5555555555555556, \"#d8576b\"], [0.6666666666666666, \"#ed7953\"], [0.7777777777777778, \"#fb9f3a\"], [0.8888888888888888, \"#fdca26\"], [1.0, \"#f0f921\"]], \"sequentialminus\": [[0.0, \"#0d0887\"], [0.1111111111111111, \"#46039f\"], [0.2222222222222222, \"#7201a8\"], [0.3333333333333333, \"#9c179e\"], [0.4444444444444444, \"#bd3786\"], [0.5555555555555556, \"#d8576b\"], [0.6666666666666666, \"#ed7953\"], [0.7777777777777778, \"#fb9f3a\"], [0.8888888888888888, \"#fdca26\"], [1.0, \"#f0f921\"]]}, \"colorway\": [\"#636efa\", \"#EF553B\", \"#00cc96\", \"#ab63fa\", \"#FFA15A\", \"#19d3f3\", \"#FF6692\", \"#B6E880\", \"#FF97FF\", \"#FECB52\"], \"font\": {\"color\": \"#2a3f5f\"}, \"geo\": {\"bgcolor\": \"white\", \"lakecolor\": \"white\", \"landcolor\": \"#E5ECF6\", \"showlakes\": true, \"showland\": true, \"subunitcolor\": \"white\"}, \"hoverlabel\": {\"align\": \"left\"}, \"hovermode\": \"closest\", \"mapbox\": {\"style\": \"light\"}, \"paper_bgcolor\": \"white\", \"plot_bgcolor\": \"#E5ECF6\", \"polar\": {\"angularaxis\": {\"gridcolor\": \"white\", \"linecolor\": \"white\", \"ticks\": \"\"}, \"bgcolor\": \"#E5ECF6\", \"radialaxis\": {\"gridcolor\": \"white\", \"linecolor\": \"white\", \"ticks\": \"\"}}, \"scene\": {\"xaxis\": {\"backgroundcolor\": \"#E5ECF6\", \"gridcolor\": \"white\", \"gridwidth\": 2, \"linecolor\": \"white\", \"showbackground\": true, \"ticks\": \"\", \"zerolinecolor\": \"white\"}, \"yaxis\": {\"backgroundcolor\": \"#E5ECF6\", \"gridcolor\": \"white\", \"gridwidth\": 2, \"linecolor\": \"white\", \"showbackground\": true, \"ticks\": \"\", \"zerolinecolor\": \"white\"}, \"zaxis\": {\"backgroundcolor\": \"#E5ECF6\", \"gridcolor\": \"white\", \"gridwidth\": 2, \"linecolor\": \"white\", \"showbackground\": true, \"ticks\": \"\", \"zerolinecolor\": \"white\"}}, \"shapedefaults\": {\"line\": {\"color\": \"#2a3f5f\"}}, \"ternary\": {\"aaxis\": {\"gridcolor\": \"white\", \"linecolor\": \"white\", \"ticks\": \"\"}, \"baxis\": {\"gridcolor\": \"white\", \"linecolor\": \"white\", \"ticks\": \"\"}, \"bgcolor\": \"#E5ECF6\", \"caxis\": {\"gridcolor\": \"white\", \"linecolor\": \"white\", \"ticks\": \"\"}}, \"title\": {\"x\": 0.05}, \"xaxis\": {\"automargin\": true, \"gridcolor\": \"white\", \"linecolor\": \"white\", \"ticks\": \"\", \"title\": {\"standoff\": 15}, \"zerolinecolor\": \"white\", \"zerolinewidth\": 2}, \"yaxis\": {\"automargin\": true, \"gridcolor\": \"white\", \"linecolor\": \"white\", \"ticks\": \"\", \"title\": {\"standoff\": 15}, \"zerolinecolor\": \"white\", \"zerolinewidth\": 2}}}, \"width\": 1200, \"xaxis\": {\"anchor\": \"y\", \"domain\": [0.0, 1.0]}, \"xaxis2\": {\"anchor\": \"y2\", \"domain\": [0.0, 1.0]}, \"xaxis3\": {\"anchor\": \"y3\", \"domain\": [0.0, 1.0]}, \"xaxis4\": {\"anchor\": \"y4\", \"domain\": [0.0, 1.0]}, \"yaxis\": {\"anchor\": \"x\", \"domain\": [0.80625, 1.0]}, \"yaxis2\": {\"anchor\": \"x2\", \"domain\": [0.5375, 0.73125]}, \"yaxis3\": {\"anchor\": \"x3\", \"domain\": [0.26875, 0.4625]}, \"yaxis4\": {\"anchor\": \"x4\", \"domain\": [0.0, 0.19375]}},\n",
              "                        {\"responsive\": true}\n",
              "                    ).then(function(){\n",
              "                            \n",
              "var gd = document.getElementById('a3dfce0e-58ad-4620-9c3b-4006e9702f39');\n",
              "var x = new MutationObserver(function (mutations, observer) {{\n",
              "        var display = window.getComputedStyle(gd).display;\n",
              "        if (!display || display === 'none') {{\n",
              "            console.log([gd, 'removed!']);\n",
              "            Plotly.purge(gd);\n",
              "            observer.disconnect();\n",
              "        }}\n",
              "}});\n",
              "\n",
              "// Listen for the removal of the full notebook cells\n",
              "var notebookContainer = gd.closest('#notebook-container');\n",
              "if (notebookContainer) {{\n",
              "    x.observe(notebookContainer, {childList: true});\n",
              "}}\n",
              "\n",
              "// Listen for the clearing of the current output cell\n",
              "var outputEl = gd.closest('.output');\n",
              "if (outputEl) {{\n",
              "    x.observe(outputEl, {childList: true});\n",
              "}}\n",
              "\n",
              "                        })\n",
              "                };\n",
              "                \n",
              "            </script>\n",
              "        </div>\n",
              "</body>\n",
              "</html>"
            ]
          },
          "metadata": {
            "tags": []
          }
        }
      ]
    },
    {
      "cell_type": "code",
      "metadata": {
        "id": "RVV6EkFnYTFy"
      },
      "source": [
        ""
      ],
      "execution_count": null,
      "outputs": []
    }
  ]
}