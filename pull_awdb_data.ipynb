{
  "nbformat": 4,
  "nbformat_minor": 0,
  "metadata": {
    "colab": {
      "name": "pull_awdb_data.ipynb",
      "provenance": [],
      "collapsed_sections": [],
      "authorship_tag": "ABX9TyMWh1PnPdh9T2xGO0yYJZsA",
      "include_colab_link": true
    },
    "kernelspec": {
      "name": "python3",
      "display_name": "Python 3"
    }
  },
  "cells": [
    {
      "cell_type": "markdown",
      "metadata": {
        "id": "view-in-github",
        "colab_type": "text"
      },
      "source": [
        "<a href=\"https://colab.research.google.com/github/geoskimoto/AWDB_SOAP_Request/blob/main/pull_awdb_data.ipynb\" target=\"_parent\"><img src=\"https://colab.research.google.com/assets/colab-badge.svg\" alt=\"Open In Colab\"/></a>"
      ]
    },
    {
      "cell_type": "code",
      "metadata": {
        "id": "Ne4ClNxpPNzQ"
      },
      "source": [
        "import requests\r\n",
        "import xml.dom.minidom as minidom\r\n",
        "import json\r\n",
        "import xml.etree.ElementTree as ET\r\n",
        "# url = \"https://www.wcc.nrcs.usda.gov/awdbWebService/services?WSDL\"\r\n",
        "\r\n",
        "import numpy as np\r\n",
        "import pandas as pd\r\n",
        "\r\n",
        "# https://www.dataquest.io/blog/python-api-tutorial/"
      ],
      "execution_count": 131,
      "outputs": []
    },
    {
      "cell_type": "code",
      "metadata": {
        "id": "fCihSos1UO07"
      },
      "source": [
        ""
      ],
      "execution_count": null,
      "outputs": []
    },
    {
      "cell_type": "code",
      "metadata": {
        "id": "7ZKsWum8kXcY"
      },
      "source": [
        "#Example from https://www.youtube.com/watch?v=zZU0JZmIvKA\r\n",
        "# payload = {'firstname':'John', 'lastname':'Smith'}\r\n",
        "# r = requests.get('http://httpbin.org/get?', params=payload)\r\n",
        "# print(r.url)\r\n",
        "# print(r.content)\r\n",
        "# print(r.text)\r\n",
        "\r\n",
        "# response.text.split(' ')"
      ],
      "execution_count": 2,
      "outputs": []
    },
    {
      "cell_type": "code",
      "metadata": {
        "id": "KqgmmCaWhgTJ"
      },
      "source": [
        "# url = \"https://www.wcc.nrcs.usda.gov/awdbWebService/services?WSDL\"\r\n",
        "# response = requests.get(url)\r\n",
        "# if response.status_code != 200:\r\n",
        "#     print('error {}'.format(response.status_code))\r\n",
        "# else:\r\n",
        "#     data = json.loads(response.text)\r\n",
        "#     print(json.dumps(data, indent=4))"
      ],
      "execution_count": 1,
      "outputs": []
    },
    {
      "cell_type": "code",
      "metadata": {
        "id": "tUoUDgeWtfIj"
      },
      "source": [
        "#From the AWDB workbook:\r\n",
        "\r\n",
        "# public Data[] getPeriodOfRecord(String p_stationTriplet, String p_beginDate,     \r\n",
        "#                                 String p_endDate){                \r\n",
        "#     Data[] values = m_webService.getData(Arrays.asList(p_stationTriplet),\r\n",
        "#         \"WTEQ\", 1, null, Duration.DAILY, true, p_beginDate, p_endDate, true)\r\n",
        "#         .toArray(new Data[0]);\r\n",
        "#     return values;\r\n",
        "# }"
      ],
      "execution_count": null,
      "outputs": []
    },
    {
      "cell_type": "code",
      "metadata": {
        "id": "l6-ZjV15h8u6"
      },
      "source": [
        "# Define Inputs\r\n",
        "BeginDate = '01/01/2020'\r\n",
        "EndDate = '03/01/2020'\r\n",
        "\r\n",
        "# Create a dictionaries to store the data\r\n",
        "# headers = {'Content-type': 'text/soap'}\r\n",
        "# current_dictionary = {}\r\n",
        " \r\n",
        "# Define Web Service URL\r\n",
        "URL = \"https://wcc.sc.egov.usda.gov/awdbWebService/services?WSDL\"\r\n",
        "\r\n",
        "# Define Parameters for SOAP Elements (getData:current and getCentralTendencyData:normals)\r\n",
        "SOAP_current = '''\r\n",
        "<?xml version=\"1.0\" encoding=\"UTF-8\"?>\r\n",
        "<SOAP-ENV:Envelope xmlns:SOAP-ENV=\"http://schemas.xmlsoap.org/soap/envelope/\" xmlns:q0=\"http://www.wcc.nrcs.usda.gov/ns/awdbWebService\" xmlns:xsd=\"http://www.w3.org/2001/XMLSchema\" xmlns:xsi=\"http://www.w3.org/2001/XMLSchema-instance\">\r\n",
        "  <SOAP-ENV:Body>\r\n",
        "    <q0:getData>\r\n",
        "      <stationTriplets>302:OR:SNTL</stationTriplets>\r\n",
        "      <elementCd>WTEQ</elementCd>   \r\n",
        "      <ordinal>1</ordinal>\r\n",
        "      <duration>DAILY</duration>\r\n",
        "      <getFlags>false</getFlags>\r\n",
        "      <beginDate>01/01/2020</beginDate>\r\n",
        "      <endDate>07/01/2020</endDate>\r\n",
        "      <alwaysReturnDailyFeb29>true</alwaysReturnDailyFeb29>\r\n",
        "    </q0:getData>\r\n",
        "  </SOAP-ENV:Body>\r\n",
        "</SOAP-ENV:Envelope>\r\n",
        "\r\n",
        "'''.strip()\r\n",
        "\r\n",
        "#other element codes: PREC, WTEQ (Water Equivalent/SWE)\r\n",
        " \r\n",
        "\r\n",
        "# Post SOAP Elements to AWDB Web Service and process results - getData\r\n",
        "\r\n",
        "SOAP_current = SOAP_current.replace(\"$BEGINDATE$\", BeginDate)\r\n",
        "SOAP_current = SOAP_current.replace(\"$ENDDATE$\", EndDate)\r\n",
        "\r\n",
        "response_current = requests.post(URL, data=SOAP_current, headers=headers)\r\n"
      ],
      "execution_count": 155,
      "outputs": []
    },
    {
      "cell_type": "code",
      "metadata": {
        "colab": {
          "base_uri": "https://localhost:8080/",
          "height": 137
        },
        "id": "cO7SyQc8DM8e",
        "outputId": "8f851f30-bc02-430c-ecc1-a3d5d263bdaf"
      },
      "source": [
        "response_current.text"
      ],
      "execution_count": 156,
      "outputs": [
        {
          "output_type": "execute_result",
          "data": {
            "application/vnd.google.colaboratory.intrinsic+json": {
              "type": "string"
            },
            "text/plain": [
              "'<soap:Envelope xmlns:soap=\"http://schemas.xmlsoap.org/soap/envelope/\"><soap:Body><ns2:getDataResponse xmlns:ns2=\"http://www.wcc.nrcs.usda.gov/ns/awdbWebService\"><return><beginDate>2020-01-01 00:00:00</beginDate><duration>DAILY</duration><endDate>2020-07-01 00:00:00</endDate><stationTriplet>302:OR:SNTL</stationTriplet><values>4.3</values><values>5.1</values><values>5.3</values><values>5.4</values><values>5.5</values><values>5.6</values><values>6.0</values><values>6.3</values><values>6.5</values><values>6.6</values><values>7.0</values><values>7.4</values><values>8.3</values><values>8.7</values><values>8.6</values><values>9.1</values><values>9.5</values><values>9.4</values><values>9.5</values><values>9.7</values><values>9.8</values><values>9.8</values><values>9.8</values><values>10.0</values><values>10.0</values><values>10.0</values><values>10.1</values><values>10.2</values><values>10.4</values><values>10.5</values><values>10.6</values><values>10.8</values><values>11.0</values><values>11.0</values><values>11.0</values><values>11.2</values><values>12.0</values><values>12.5</values><values>12.8</values><values>13.1</values><values>13.2</values><values>13.2</values><values>13.3</values><values>13.3</values><values>13.4</values><values>13.4</values><values>13.7</values><values>13.8</values><values>14.0</values><values>14.0</values><values>13.9</values><values>14.1</values><values>14.1</values><values>14.2</values><values>14.3</values><values>14.3</values><values>14.4</values><values>14.4</values><values>14.5</values><values>14.6</values><values>14.6</values><values>14.5</values><values>14.5</values><values>14.6</values><values>14.6</values><values>14.6</values><values>14.8</values><values>14.6</values><values>14.8</values><values>14.8</values><values>14.8</values><values>14.8</values><values>14.9</values><values>15.1</values><values>15.2</values><values>15.4</values><values>15.5</values><values>15.8</values><values>15.8</values><values>15.7</values><values>15.8</values><values>15.8</values><values>16.0</values><values>15.8</values><values>16.0</values><values>16.0</values><values>16.0</values><values>16.0</values><values>16.2</values><values>16.5</values><values>17.2</values><values>17.6</values><values>17.6</values><values>17.7</values><values>17.8</values><values>18.0</values><values>18.0</values><values>17.9</values><values>17.9</values><values>17.9</values><values>18.0</values><values>18.1</values><values>18.1</values><values>18.1</values><values>18.0</values><values>18.2</values><values>18.8</values><values>18.8</values><values>19.0</values><values>18.9</values><values>18.9</values><values>18.9</values><values>19.0</values><values>19.5</values><values>20.0</values><values>20.1</values><values>20.2</values><values>20.1</values><values>20.1</values><values>20.0</values><values>19.6</values><values>19.3</values><values>19.2</values><values>18.9</values><values>18.8</values><values>18.7</values><values>18.6</values><values>18.5</values><values>18.4</values><values>18.3</values><values>18.2</values><values>17.8</values><values>17.2</values><values>17.1</values><values>17.2</values><values>17.4</values><values>17.6</values><values>17.6</values><values>17.1</values><values>16.7</values><values>18.1</values><values>19.2</values><values>19.5</values><values>19.5</values><values>19.6</values><values>19.5</values><values>19.3</values><values>18.9</values><values>18.5</values><values>17.9</values><values>17.0</values><values>15.9</values><values>15.3</values><values>14.8</values><values>14.1</values><values>13.3</values><values>12.8</values><values>11.9</values><values>11.5</values><values>12.5</values><values>12.5</values><values>12.4</values><values>11.8</values><values>10.8</values><values>9.8</values><values>10.0</values><values>10.3</values><values>10.5</values><values>10.6</values><values>10.6</values><values>10.4</values><values>10.0</values><values>9.1</values><values>7.9</values><values>6.7</values><values>4.3</values><values>2.2</values><values>1.5</values><values>1.6</values><values>0.9</values><values>3.0</values><values>5.8</values><values>5.2</values></return></ns2:getDataResponse></soap:Body></soap:Envelope>'"
            ]
          },
          "metadata": {
            "tags": []
          },
          "execution_count": 156
        }
      ]
    },
    {
      "cell_type": "code",
      "metadata": {
        "id": "RJqdof_bE8QE"
      },
      "source": [
        "xml='<soap:Envelope xmlns:soap=\"http://schemas.xmlsoap.org/soap/envelope/\"><soap:Body><ns2:getDataResponse xmlns:ns2=\"http://www.wcc.nrcs.usda.gov/ns/awdbWebService\"><return><beginDate>2021-01-11 00:00:00</beginDate><duration>DAILY</duration><endDate>2021-01-11 00:00:00</endDate><stationTriplet>307:MT:SNTL</stationTriplet><values>19.1</values></return><return><beginDate>2021-01-11 00:00:00</beginDate><duration>DAILY</duration><endDate>2021-01-11 00:00:00</endDate><stationTriplet>309:WY:SNTL</stationTriplet><values>7.7</values></return></ns2:getDataResponse></soap:Body></soap:Envelope>'"
      ],
      "execution_count": 157,
      "outputs": []
    },
    {
      "cell_type": "code",
      "metadata": {
        "id": "ffwk1ex74-rv"
      },
      "source": [
        "# xmldoc_current = minidom.parseString(response_current.text)\r\n",
        "# placemarks_current = xmldoc_current.getElementsByTagName('return')\r\n",
        "\r\n",
        "# for returns_current in placemarks_current:\r\n",
        "#     if returns_current.childNodes.length == 5:\r\n",
        "#         if returns_current.getElementsByTagName('values')[0].firstChild:\r\n",
        "#             date_output = returns_current.getElementsByTagName('beginDate')[0].firstChild.data\r\n",
        "#             triplet_output = returns_current.getElementsByTagName('stationTriplet')[0].firstChild.data\r\n",
        "#             id_output = triplet_output.split(':', 1)\r\n",
        "#             id_output = id_output[0]\r\n",
        "#             current_value = returns_current.getElementsByTagName('values')[0].firstChild.data\r\n",
        "#             current_value = float(current_value)\r\n",
        "#             current_dictionary.update({id_output: current_value})\r\n",
        "\r\n",
        "#         else:\r\n",
        "#             triplet_output = returns_current.getElementsByTagName('stationTriplet')[0].firstChild.data\r\n",
        "#             id_output = triplet_output.split(':', 1)\r\n",
        "#             id_output = id_output[0]\r\n",
        "#             current_dictionary.update({id_output: 'na'})\r\n",
        "\r\n",
        "#     else:\r\n",
        "#         triplet_output = returns_current.getElementsByTagName('stationTriplet')[0].firstChild.data\r\n",
        "#         id_output = triplet_output.split(':', 1)\r\n",
        "#         id_output = id_output[0]\r\n",
        "#         current_dictionary.update({id_output: 'na'})\r\n",
        "\r\n",
        "# # print values to confirm its working\r\n",
        "# print(current_dictionary)"
      ],
      "execution_count": 158,
      "outputs": []
    },
    {
      "cell_type": "code",
      "metadata": {
        "id": "93k22eVZBFCW"
      },
      "source": [
        "xmldoc = minidom.parseString(response_current.text)\r\n",
        "# placemarks_current = xmldoc_current.getElementsByTagName('return')"
      ],
      "execution_count": 159,
      "outputs": []
    },
    {
      "cell_type": "markdown",
      "metadata": {
        "id": "C744v95XK4Tk"
      },
      "source": [
        "#### Create dictionary from request"
      ]
    },
    {
      "cell_type": "code",
      "metadata": {
        "colab": {
          "base_uri": "https://localhost:8080/"
        },
        "id": "bCb_oZF7woky",
        "outputId": "0f9bec03-a0a2-4f3b-8b93-435d406f9739"
      },
      "source": [
        "{str(xmldoc.getElementsByTagName('stationTriplet')[0].firstChild.data):{1:xmldoc.getElementsByTagName('values')[0].firstChild.data}}"
      ],
      "execution_count": 160,
      "outputs": [
        {
          "output_type": "execute_result",
          "data": {
            "text/plain": [
              "{'302:OR:SNTL': {1: '4.3'}}"
            ]
          },
          "metadata": {
            "tags": []
          },
          "execution_count": 160
        }
      ]
    },
    {
      "cell_type": "code",
      "metadata": {
        "colab": {
          "base_uri": "https://localhost:8080/"
        },
        "id": "X19ImoUX_NbQ",
        "outputId": "466a84d0-2bcf-48d4-858e-9fed3135e4a1"
      },
      "source": [
        "val_length = len(xmldoc.getElementsByTagName('values'))\r\n",
        "val_length"
      ],
      "execution_count": 161,
      "outputs": [
        {
          "output_type": "execute_result",
          "data": {
            "text/plain": [
              "183"
            ]
          },
          "metadata": {
            "tags": []
          },
          "execution_count": 161
        }
      ]
    },
    {
      "cell_type": "code",
      "metadata": {
        "colab": {
          "base_uri": "https://localhost:8080/"
        },
        "id": "sC9LLbQcDyXO",
        "outputId": "7f463dd8-39da-4f27-b77f-d39f21cea599"
      },
      "source": [
        "#Using OrderedDict\r\n",
        "from collections import OrderedDict\r\n",
        "\r\n",
        "date = datetime.datetime.strptime(BeginDate, \"%d/%m/%Y\").date() #.strftime(\"%Y,%m,%d\")\r\n",
        "station = xmldoc.getElementsByTagName('stationTriplet')\r\n",
        "values = xmldoc.getElementsByTagName('values')\r\n",
        "Date = []\r\n",
        "for i in range(0, val_length): \r\n",
        "  date += datetime.timedelta(days=1)\r\n",
        "  Date.append(str(date))\r\n",
        "\r\n",
        "woohoo = {station[0].firstChild.data:OrderedDict({Date[j]:values[j].firstChild.data for j in range(0, val_length)})}\r\n",
        "woohoo"
      ],
      "execution_count": 277,
      "outputs": [
        {
          "output_type": "execute_result",
          "data": {
            "text/plain": [
              "{'302:OR:SNTL': OrderedDict([('2020-01-02', '4.3'),\n",
              "              ('2020-01-03', '5.1'),\n",
              "              ('2020-01-04', '5.3'),\n",
              "              ('2020-01-05', '5.4'),\n",
              "              ('2020-01-06', '5.5'),\n",
              "              ('2020-01-07', '5.6'),\n",
              "              ('2020-01-08', '6.0'),\n",
              "              ('2020-01-09', '6.3'),\n",
              "              ('2020-01-10', '6.5'),\n",
              "              ('2020-01-11', '6.6'),\n",
              "              ('2020-01-12', '7.0'),\n",
              "              ('2020-01-13', '7.4'),\n",
              "              ('2020-01-14', '8.3'),\n",
              "              ('2020-01-15', '8.7'),\n",
              "              ('2020-01-16', '8.6'),\n",
              "              ('2020-01-17', '9.1'),\n",
              "              ('2020-01-18', '9.5'),\n",
              "              ('2020-01-19', '9.4'),\n",
              "              ('2020-01-20', '9.5'),\n",
              "              ('2020-01-21', '9.7'),\n",
              "              ('2020-01-22', '9.8'),\n",
              "              ('2020-01-23', '9.8'),\n",
              "              ('2020-01-24', '9.8'),\n",
              "              ('2020-01-25', '10.0'),\n",
              "              ('2020-01-26', '10.0'),\n",
              "              ('2020-01-27', '10.0'),\n",
              "              ('2020-01-28', '10.1'),\n",
              "              ('2020-01-29', '10.2'),\n",
              "              ('2020-01-30', '10.4'),\n",
              "              ('2020-01-31', '10.5'),\n",
              "              ('2020-02-01', '10.6'),\n",
              "              ('2020-02-02', '10.8'),\n",
              "              ('2020-02-03', '11.0'),\n",
              "              ('2020-02-04', '11.0'),\n",
              "              ('2020-02-05', '11.0'),\n",
              "              ('2020-02-06', '11.2'),\n",
              "              ('2020-02-07', '12.0'),\n",
              "              ('2020-02-08', '12.5'),\n",
              "              ('2020-02-09', '12.8'),\n",
              "              ('2020-02-10', '13.1'),\n",
              "              ('2020-02-11', '13.2'),\n",
              "              ('2020-02-12', '13.2'),\n",
              "              ('2020-02-13', '13.3'),\n",
              "              ('2020-02-14', '13.3'),\n",
              "              ('2020-02-15', '13.4'),\n",
              "              ('2020-02-16', '13.4'),\n",
              "              ('2020-02-17', '13.7'),\n",
              "              ('2020-02-18', '13.8'),\n",
              "              ('2020-02-19', '14.0'),\n",
              "              ('2020-02-20', '14.0'),\n",
              "              ('2020-02-21', '13.9'),\n",
              "              ('2020-02-22', '14.1'),\n",
              "              ('2020-02-23', '14.1'),\n",
              "              ('2020-02-24', '14.2'),\n",
              "              ('2020-02-25', '14.3'),\n",
              "              ('2020-02-26', '14.3'),\n",
              "              ('2020-02-27', '14.4'),\n",
              "              ('2020-02-28', '14.4'),\n",
              "              ('2020-02-29', '14.5'),\n",
              "              ('2020-03-01', '14.6'),\n",
              "              ('2020-03-02', '14.6'),\n",
              "              ('2020-03-03', '14.5'),\n",
              "              ('2020-03-04', '14.5'),\n",
              "              ('2020-03-05', '14.6'),\n",
              "              ('2020-03-06', '14.6'),\n",
              "              ('2020-03-07', '14.6'),\n",
              "              ('2020-03-08', '14.8'),\n",
              "              ('2020-03-09', '14.6'),\n",
              "              ('2020-03-10', '14.8'),\n",
              "              ('2020-03-11', '14.8'),\n",
              "              ('2020-03-12', '14.8'),\n",
              "              ('2020-03-13', '14.8'),\n",
              "              ('2020-03-14', '14.9'),\n",
              "              ('2020-03-15', '15.1'),\n",
              "              ('2020-03-16', '15.2'),\n",
              "              ('2020-03-17', '15.4'),\n",
              "              ('2020-03-18', '15.5'),\n",
              "              ('2020-03-19', '15.8'),\n",
              "              ('2020-03-20', '15.8'),\n",
              "              ('2020-03-21', '15.7'),\n",
              "              ('2020-03-22', '15.8'),\n",
              "              ('2020-03-23', '15.8'),\n",
              "              ('2020-03-24', '16.0'),\n",
              "              ('2020-03-25', '15.8'),\n",
              "              ('2020-03-26', '16.0'),\n",
              "              ('2020-03-27', '16.0'),\n",
              "              ('2020-03-28', '16.0'),\n",
              "              ('2020-03-29', '16.0'),\n",
              "              ('2020-03-30', '16.2'),\n",
              "              ('2020-03-31', '16.5'),\n",
              "              ('2020-04-01', '17.2'),\n",
              "              ('2020-04-02', '17.6'),\n",
              "              ('2020-04-03', '17.6'),\n",
              "              ('2020-04-04', '17.7'),\n",
              "              ('2020-04-05', '17.8'),\n",
              "              ('2020-04-06', '18.0'),\n",
              "              ('2020-04-07', '18.0'),\n",
              "              ('2020-04-08', '17.9'),\n",
              "              ('2020-04-09', '17.9'),\n",
              "              ('2020-04-10', '17.9'),\n",
              "              ('2020-04-11', '18.0'),\n",
              "              ('2020-04-12', '18.1'),\n",
              "              ('2020-04-13', '18.1'),\n",
              "              ('2020-04-14', '18.1'),\n",
              "              ('2020-04-15', '18.0'),\n",
              "              ('2020-04-16', '18.2'),\n",
              "              ('2020-04-17', '18.8'),\n",
              "              ('2020-04-18', '18.8'),\n",
              "              ('2020-04-19', '19.0'),\n",
              "              ('2020-04-20', '18.9'),\n",
              "              ('2020-04-21', '18.9'),\n",
              "              ('2020-04-22', '18.9'),\n",
              "              ('2020-04-23', '19.0'),\n",
              "              ('2020-04-24', '19.5'),\n",
              "              ('2020-04-25', '20.0'),\n",
              "              ('2020-04-26', '20.1'),\n",
              "              ('2020-04-27', '20.2'),\n",
              "              ('2020-04-28', '20.1'),\n",
              "              ('2020-04-29', '20.1'),\n",
              "              ('2020-04-30', '20.0'),\n",
              "              ('2020-05-01', '19.6'),\n",
              "              ('2020-05-02', '19.3'),\n",
              "              ('2020-05-03', '19.2'),\n",
              "              ('2020-05-04', '18.9'),\n",
              "              ('2020-05-05', '18.8'),\n",
              "              ('2020-05-06', '18.7'),\n",
              "              ('2020-05-07', '18.6'),\n",
              "              ('2020-05-08', '18.5'),\n",
              "              ('2020-05-09', '18.4'),\n",
              "              ('2020-05-10', '18.3'),\n",
              "              ('2020-05-11', '18.2'),\n",
              "              ('2020-05-12', '17.8'),\n",
              "              ('2020-05-13', '17.2'),\n",
              "              ('2020-05-14', '17.1'),\n",
              "              ('2020-05-15', '17.2'),\n",
              "              ('2020-05-16', '17.4'),\n",
              "              ('2020-05-17', '17.6'),\n",
              "              ('2020-05-18', '17.6'),\n",
              "              ('2020-05-19', '17.1'),\n",
              "              ('2020-05-20', '16.7'),\n",
              "              ('2020-05-21', '18.1'),\n",
              "              ('2020-05-22', '19.2'),\n",
              "              ('2020-05-23', '19.5'),\n",
              "              ('2020-05-24', '19.5'),\n",
              "              ('2020-05-25', '19.6'),\n",
              "              ('2020-05-26', '19.5'),\n",
              "              ('2020-05-27', '19.3'),\n",
              "              ('2020-05-28', '18.9'),\n",
              "              ('2020-05-29', '18.5'),\n",
              "              ('2020-05-30', '17.9'),\n",
              "              ('2020-05-31', '17.0'),\n",
              "              ('2020-06-01', '15.9'),\n",
              "              ('2020-06-02', '15.3'),\n",
              "              ('2020-06-03', '14.8'),\n",
              "              ('2020-06-04', '14.1'),\n",
              "              ('2020-06-05', '13.3'),\n",
              "              ('2020-06-06', '12.8'),\n",
              "              ('2020-06-07', '11.9'),\n",
              "              ('2020-06-08', '11.5'),\n",
              "              ('2020-06-09', '12.5'),\n",
              "              ('2020-06-10', '12.5'),\n",
              "              ('2020-06-11', '12.4'),\n",
              "              ('2020-06-12', '11.8'),\n",
              "              ('2020-06-13', '10.8'),\n",
              "              ('2020-06-14', '9.8'),\n",
              "              ('2020-06-15', '10.0'),\n",
              "              ('2020-06-16', '10.3'),\n",
              "              ('2020-06-17', '10.5'),\n",
              "              ('2020-06-18', '10.6'),\n",
              "              ('2020-06-19', '10.6'),\n",
              "              ('2020-06-20', '10.4'),\n",
              "              ('2020-06-21', '10.0'),\n",
              "              ('2020-06-22', '9.1'),\n",
              "              ('2020-06-23', '7.9'),\n",
              "              ('2020-06-24', '6.7'),\n",
              "              ('2020-06-25', '4.3'),\n",
              "              ('2020-06-26', '2.2'),\n",
              "              ('2020-06-27', '1.5'),\n",
              "              ('2020-06-28', '1.6'),\n",
              "              ('2020-06-29', '0.9'),\n",
              "              ('2020-06-30', '3.0'),\n",
              "              ('2020-07-01', '5.8'),\n",
              "              ('2020-07-02', '5.2')])}"
            ]
          },
          "metadata": {
            "tags": []
          },
          "execution_count": 277
        }
      ]
    },
    {
      "cell_type": "code",
      "metadata": {
        "colab": {
          "base_uri": "https://localhost:8080/"
        },
        "id": "-sCqaPVrYOq4",
        "outputId": "fa29357d-9ae9-46ba-e9cc-f31446149faa"
      },
      "source": [
        "list(woohoo['302:OR:SNTL'])"
      ],
      "execution_count": 298,
      "outputs": [
        {
          "output_type": "execute_result",
          "data": {
            "text/plain": [
              "['2020-01-02',\n",
              " '2020-01-03',\n",
              " '2020-01-04',\n",
              " '2020-01-05',\n",
              " '2020-01-06',\n",
              " '2020-01-07',\n",
              " '2020-01-08',\n",
              " '2020-01-09',\n",
              " '2020-01-10',\n",
              " '2020-01-11',\n",
              " '2020-01-12',\n",
              " '2020-01-13',\n",
              " '2020-01-14',\n",
              " '2020-01-15',\n",
              " '2020-01-16',\n",
              " '2020-01-17',\n",
              " '2020-01-18',\n",
              " '2020-01-19',\n",
              " '2020-01-20',\n",
              " '2020-01-21',\n",
              " '2020-01-22',\n",
              " '2020-01-23',\n",
              " '2020-01-24',\n",
              " '2020-01-25',\n",
              " '2020-01-26',\n",
              " '2020-01-27',\n",
              " '2020-01-28',\n",
              " '2020-01-29',\n",
              " '2020-01-30',\n",
              " '2020-01-31',\n",
              " '2020-02-01',\n",
              " '2020-02-02',\n",
              " '2020-02-03',\n",
              " '2020-02-04',\n",
              " '2020-02-05',\n",
              " '2020-02-06',\n",
              " '2020-02-07',\n",
              " '2020-02-08',\n",
              " '2020-02-09',\n",
              " '2020-02-10',\n",
              " '2020-02-11',\n",
              " '2020-02-12',\n",
              " '2020-02-13',\n",
              " '2020-02-14',\n",
              " '2020-02-15',\n",
              " '2020-02-16',\n",
              " '2020-02-17',\n",
              " '2020-02-18',\n",
              " '2020-02-19',\n",
              " '2020-02-20',\n",
              " '2020-02-21',\n",
              " '2020-02-22',\n",
              " '2020-02-23',\n",
              " '2020-02-24',\n",
              " '2020-02-25',\n",
              " '2020-02-26',\n",
              " '2020-02-27',\n",
              " '2020-02-28',\n",
              " '2020-02-29',\n",
              " '2020-03-01',\n",
              " '2020-03-02',\n",
              " '2020-03-03',\n",
              " '2020-03-04',\n",
              " '2020-03-05',\n",
              " '2020-03-06',\n",
              " '2020-03-07',\n",
              " '2020-03-08',\n",
              " '2020-03-09',\n",
              " '2020-03-10',\n",
              " '2020-03-11',\n",
              " '2020-03-12',\n",
              " '2020-03-13',\n",
              " '2020-03-14',\n",
              " '2020-03-15',\n",
              " '2020-03-16',\n",
              " '2020-03-17',\n",
              " '2020-03-18',\n",
              " '2020-03-19',\n",
              " '2020-03-20',\n",
              " '2020-03-21',\n",
              " '2020-03-22',\n",
              " '2020-03-23',\n",
              " '2020-03-24',\n",
              " '2020-03-25',\n",
              " '2020-03-26',\n",
              " '2020-03-27',\n",
              " '2020-03-28',\n",
              " '2020-03-29',\n",
              " '2020-03-30',\n",
              " '2020-03-31',\n",
              " '2020-04-01',\n",
              " '2020-04-02',\n",
              " '2020-04-03',\n",
              " '2020-04-04',\n",
              " '2020-04-05',\n",
              " '2020-04-06',\n",
              " '2020-04-07',\n",
              " '2020-04-08',\n",
              " '2020-04-09',\n",
              " '2020-04-10',\n",
              " '2020-04-11',\n",
              " '2020-04-12',\n",
              " '2020-04-13',\n",
              " '2020-04-14',\n",
              " '2020-04-15',\n",
              " '2020-04-16',\n",
              " '2020-04-17',\n",
              " '2020-04-18',\n",
              " '2020-04-19',\n",
              " '2020-04-20',\n",
              " '2020-04-21',\n",
              " '2020-04-22',\n",
              " '2020-04-23',\n",
              " '2020-04-24',\n",
              " '2020-04-25',\n",
              " '2020-04-26',\n",
              " '2020-04-27',\n",
              " '2020-04-28',\n",
              " '2020-04-29',\n",
              " '2020-04-30',\n",
              " '2020-05-01',\n",
              " '2020-05-02',\n",
              " '2020-05-03',\n",
              " '2020-05-04',\n",
              " '2020-05-05',\n",
              " '2020-05-06',\n",
              " '2020-05-07',\n",
              " '2020-05-08',\n",
              " '2020-05-09',\n",
              " '2020-05-10',\n",
              " '2020-05-11',\n",
              " '2020-05-12',\n",
              " '2020-05-13',\n",
              " '2020-05-14',\n",
              " '2020-05-15',\n",
              " '2020-05-16',\n",
              " '2020-05-17',\n",
              " '2020-05-18',\n",
              " '2020-05-19',\n",
              " '2020-05-20',\n",
              " '2020-05-21',\n",
              " '2020-05-22',\n",
              " '2020-05-23',\n",
              " '2020-05-24',\n",
              " '2020-05-25',\n",
              " '2020-05-26',\n",
              " '2020-05-27',\n",
              " '2020-05-28',\n",
              " '2020-05-29',\n",
              " '2020-05-30',\n",
              " '2020-05-31',\n",
              " '2020-06-01',\n",
              " '2020-06-02',\n",
              " '2020-06-03',\n",
              " '2020-06-04',\n",
              " '2020-06-05',\n",
              " '2020-06-06',\n",
              " '2020-06-07',\n",
              " '2020-06-08',\n",
              " '2020-06-09',\n",
              " '2020-06-10',\n",
              " '2020-06-11',\n",
              " '2020-06-12',\n",
              " '2020-06-13',\n",
              " '2020-06-14',\n",
              " '2020-06-15',\n",
              " '2020-06-16',\n",
              " '2020-06-17',\n",
              " '2020-06-18',\n",
              " '2020-06-19',\n",
              " '2020-06-20',\n",
              " '2020-06-21',\n",
              " '2020-06-22',\n",
              " '2020-06-23',\n",
              " '2020-06-24',\n",
              " '2020-06-25',\n",
              " '2020-06-26',\n",
              " '2020-06-27',\n",
              " '2020-06-28',\n",
              " '2020-06-29',\n",
              " '2020-06-30',\n",
              " '2020-07-01',\n",
              " '2020-07-02']"
            ]
          },
          "metadata": {
            "tags": []
          },
          "execution_count": 298
        }
      ]
    },
    {
      "cell_type": "code",
      "metadata": {
        "id": "NIRP_ONvTWSZ"
      },
      "source": [
        "# #using zip\r\n",
        "\r\n",
        "# date = datetime.datetime.strptime(BeginDate, \"%d/%m/%Y\").date() #.strftime(\"%Y,%m,%d\")\r\n",
        "\r\n",
        "# Date = []\r\n",
        "# for i in range(0, val_length): \r\n",
        "#   date += datetime.timedelta(days=1)\r\n",
        "#   Date.append(str(date))\r\n",
        "\r\n",
        "# data2 = {station[0].firstChild.data: list(zip((Date[j],values[j].firstChild.data) for j in range(0, val_length)))}\r\n",
        "\r\n",
        "# # list(zip((Date[j],values[j].firstChild.data) for j in range(0, val_length)))\r\n",
        "\r\n"
      ],
      "execution_count": 289,
      "outputs": []
    },
    {
      "cell_type": "code",
      "metadata": {
        "id": "mi2Cf9THTWPj"
      },
      "source": [
        ""
      ],
      "execution_count": 291,
      "outputs": []
    },
    {
      "cell_type": "code",
      "metadata": {
        "id": "6Tl1CDV8TWM_"
      },
      "source": [
        ""
      ],
      "execution_count": null,
      "outputs": []
    },
    {
      "cell_type": "code",
      "metadata": {
        "id": "0n98LNTATWKn"
      },
      "source": [
        ""
      ],
      "execution_count": null,
      "outputs": []
    },
    {
      "cell_type": "code",
      "metadata": {
        "id": "ZarhidYOTV45"
      },
      "source": [
        ""
      ],
      "execution_count": null,
      "outputs": []
    },
    {
      "cell_type": "code",
      "metadata": {
        "colab": {
          "base_uri": "https://localhost:8080/"
        },
        "id": "G1ir7RrII0Ge",
        "outputId": "5b66edcf-b22c-42b6-d972-2396dafbb6cc"
      },
      "source": [
        "date"
      ],
      "execution_count": 181,
      "outputs": [
        {
          "output_type": "execute_result",
          "data": {
            "text/plain": [
              "datetime.datetime(2020, 1, 6, 0, 0)"
            ]
          },
          "metadata": {
            "tags": []
          },
          "execution_count": 181
        }
      ]
    },
    {
      "cell_type": "code",
      "metadata": {
        "id": "joXYgC5kDa7_"
      },
      "source": [
        "import datetime\r\n",
        "\r\n",
        "date = datetime.datetime.strptime(BeginDate, \"%d/%m/%Y\").date() #.strftime(\"%Y,%m,%d\")\r\n",
        "\r\n",
        "Date = []\r\n",
        "for i in range(5): \r\n",
        "  date += datetime.timedelta(days=1)\r\n",
        "  Date.append(str(date))\r\n",
        "\r\n",
        "    # date += datetime.timedelta(days=1)\r\n",
        "    # print(date) "
      ],
      "execution_count": 190,
      "outputs": []
    },
    {
      "cell_type": "code",
      "metadata": {
        "colab": {
          "base_uri": "https://localhost:8080/"
        },
        "id": "L1FuG_DEI7lO",
        "outputId": "2321bdff-f9e8-4173-91ee-223c5dec1f31"
      },
      "source": [
        "Date"
      ],
      "execution_count": 191,
      "outputs": [
        {
          "output_type": "execute_result",
          "data": {
            "text/plain": [
              "['2020-01-02', '2020-01-03', '2020-01-04', '2020-01-05', '2020-01-06']"
            ]
          },
          "metadata": {
            "tags": []
          },
          "execution_count": 191
        }
      ]
    },
    {
      "cell_type": "code",
      "metadata": {
        "colab": {
          "base_uri": "https://localhost:8080/"
        },
        "id": "9dru0klVJTtP",
        "outputId": "ca341ec3-85a7-44d4-896f-44ea770a35ba"
      },
      "source": [
        "datetime."
      ],
      "execution_count": 168,
      "outputs": [
        {
          "output_type": "execute_result",
          "data": {
            "text/plain": [
              "datetime.datetime(2003, 8, 1, 12, 4, 5)"
            ]
          },
          "metadata": {
            "tags": []
          },
          "execution_count": 168
        }
      ]
    },
    {
      "cell_type": "code",
      "metadata": {
        "id": "BxJPq69lJ7lI"
      },
      "source": [
        ""
      ],
      "execution_count": null,
      "outputs": []
    },
    {
      "cell_type": "markdown",
      "metadata": {
        "id": "2rKU9wViK_Ob"
      },
      "source": [
        "#### Create pd.DataFrame from request"
      ]
    },
    {
      "cell_type": "code",
      "metadata": {
        "id": "WbULMb9WDaYs"
      },
      "source": [
        "val_length = len(xmldoc.getElementsByTagName('values'))\r\n",
        "\r\n",
        "data = pd.DataFrame([xmldoc.getElementsByTagName('values')[i].firstChild.data for i in range(0,val_length)])"
      ],
      "execution_count": 245,
      "outputs": []
    },
    {
      "cell_type": "code",
      "metadata": {
        "colab": {
          "base_uri": "https://localhost:8080/",
          "height": 402
        },
        "id": "Ln8Cp31YLc2k",
        "outputId": "6b8f9c8f-276f-4235-db0c-4b08453b835f"
      },
      "source": [
        "data"
      ],
      "execution_count": 246,
      "outputs": [
        {
          "output_type": "execute_result",
          "data": {
            "text/html": [
              "<div>\n",
              "<style scoped>\n",
              "    .dataframe tbody tr th:only-of-type {\n",
              "        vertical-align: middle;\n",
              "    }\n",
              "\n",
              "    .dataframe tbody tr th {\n",
              "        vertical-align: top;\n",
              "    }\n",
              "\n",
              "    .dataframe thead th {\n",
              "        text-align: right;\n",
              "    }\n",
              "</style>\n",
              "<table border=\"1\" class=\"dataframe\">\n",
              "  <thead>\n",
              "    <tr style=\"text-align: right;\">\n",
              "      <th></th>\n",
              "      <th>0</th>\n",
              "    </tr>\n",
              "  </thead>\n",
              "  <tbody>\n",
              "    <tr>\n",
              "      <th>0</th>\n",
              "      <td>4.3</td>\n",
              "    </tr>\n",
              "    <tr>\n",
              "      <th>1</th>\n",
              "      <td>5.1</td>\n",
              "    </tr>\n",
              "    <tr>\n",
              "      <th>2</th>\n",
              "      <td>5.3</td>\n",
              "    </tr>\n",
              "    <tr>\n",
              "      <th>3</th>\n",
              "      <td>5.4</td>\n",
              "    </tr>\n",
              "    <tr>\n",
              "      <th>4</th>\n",
              "      <td>5.5</td>\n",
              "    </tr>\n",
              "    <tr>\n",
              "      <th>...</th>\n",
              "      <td>...</td>\n",
              "    </tr>\n",
              "    <tr>\n",
              "      <th>178</th>\n",
              "      <td>1.6</td>\n",
              "    </tr>\n",
              "    <tr>\n",
              "      <th>179</th>\n",
              "      <td>0.9</td>\n",
              "    </tr>\n",
              "    <tr>\n",
              "      <th>180</th>\n",
              "      <td>3.0</td>\n",
              "    </tr>\n",
              "    <tr>\n",
              "      <th>181</th>\n",
              "      <td>5.8</td>\n",
              "    </tr>\n",
              "    <tr>\n",
              "      <th>182</th>\n",
              "      <td>5.2</td>\n",
              "    </tr>\n",
              "  </tbody>\n",
              "</table>\n",
              "<p>183 rows × 1 columns</p>\n",
              "</div>"
            ],
            "text/plain": [
              "       0\n",
              "0    4.3\n",
              "1    5.1\n",
              "2    5.3\n",
              "3    5.4\n",
              "4    5.5\n",
              "..   ...\n",
              "178  1.6\n",
              "179  0.9\n",
              "180  3.0\n",
              "181  5.8\n",
              "182  5.2\n",
              "\n",
              "[183 rows x 1 columns]"
            ]
          },
          "metadata": {
            "tags": []
          },
          "execution_count": 246
        }
      ]
    },
    {
      "cell_type": "code",
      "metadata": {
        "id": "CZK4BKWkLCnl"
      },
      "source": [
        "date = datetime.datetime.strptime(BeginDate, \"%d/%m/%Y\").date() #.strftime(\"%Y,%m,%d\")\r\n",
        "\r\n",
        "Date = []\r\n",
        "for i in range(val_length): \r\n",
        "  date += datetime.timedelta(days=1)\r\n",
        "  Date.append(str(date))\r\n",
        "\r\n",
        "# {str(xmldoc.getElementsByTagName('stationTriplet')[0].firstChild.data):{Date[j]:xmldoc.getElementsByTagName('values')[j].firstChild.data} for j in range(3)}"
      ],
      "execution_count": 247,
      "outputs": []
    },
    {
      "cell_type": "code",
      "metadata": {
        "colab": {
          "base_uri": "https://localhost:8080/"
        },
        "id": "4uJ_vSjfNDpX",
        "outputId": "092a3b43-34dd-460d-9f37-598de588a5c8"
      },
      "source": [
        "type(data.columns[0])"
      ],
      "execution_count": 248,
      "outputs": [
        {
          "output_type": "execute_result",
          "data": {
            "text/plain": [
              "int"
            ]
          },
          "metadata": {
            "tags": []
          },
          "execution_count": 248
        }
      ]
    },
    {
      "cell_type": "code",
      "metadata": {
        "colab": {
          "base_uri": "https://localhost:8080/",
          "height": 284
        },
        "id": "UEsN88aCIhEU",
        "outputId": "ebc4e7e8-32e8-4a62-a97e-1771461579ae"
      },
      "source": [
        "data['Date'] = Date\r\n",
        "data.columns = ['SWE','Date']\r\n",
        "# data.rename(columns={0:'SWE'}) #doesn't work for some reason, so renaming with just data.columns\r\n",
        "data.set_index('Date', inplace=True)\r\n",
        "data.tail(7)"
      ],
      "execution_count": 250,
      "outputs": [
        {
          "output_type": "execute_result",
          "data": {
            "text/html": [
              "<div>\n",
              "<style scoped>\n",
              "    .dataframe tbody tr th:only-of-type {\n",
              "        vertical-align: middle;\n",
              "    }\n",
              "\n",
              "    .dataframe tbody tr th {\n",
              "        vertical-align: top;\n",
              "    }\n",
              "\n",
              "    .dataframe thead th {\n",
              "        text-align: right;\n",
              "    }\n",
              "</style>\n",
              "<table border=\"1\" class=\"dataframe\">\n",
              "  <thead>\n",
              "    <tr style=\"text-align: right;\">\n",
              "      <th></th>\n",
              "      <th>SWE</th>\n",
              "    </tr>\n",
              "    <tr>\n",
              "      <th>Date</th>\n",
              "      <th></th>\n",
              "    </tr>\n",
              "  </thead>\n",
              "  <tbody>\n",
              "    <tr>\n",
              "      <th>2020-06-26</th>\n",
              "      <td>2.2</td>\n",
              "    </tr>\n",
              "    <tr>\n",
              "      <th>2020-06-27</th>\n",
              "      <td>1.5</td>\n",
              "    </tr>\n",
              "    <tr>\n",
              "      <th>2020-06-28</th>\n",
              "      <td>1.6</td>\n",
              "    </tr>\n",
              "    <tr>\n",
              "      <th>2020-06-29</th>\n",
              "      <td>0.9</td>\n",
              "    </tr>\n",
              "    <tr>\n",
              "      <th>2020-06-30</th>\n",
              "      <td>3.0</td>\n",
              "    </tr>\n",
              "    <tr>\n",
              "      <th>2020-07-01</th>\n",
              "      <td>5.8</td>\n",
              "    </tr>\n",
              "    <tr>\n",
              "      <th>2020-07-02</th>\n",
              "      <td>5.2</td>\n",
              "    </tr>\n",
              "  </tbody>\n",
              "</table>\n",
              "</div>"
            ],
            "text/plain": [
              "            SWE\n",
              "Date           \n",
              "2020-06-26  2.2\n",
              "2020-06-27  1.5\n",
              "2020-06-28  1.6\n",
              "2020-06-29  0.9\n",
              "2020-06-30  3.0\n",
              "2020-07-01  5.8\n",
              "2020-07-02  5.2"
            ]
          },
          "metadata": {
            "tags": []
          },
          "execution_count": 250
        }
      ]
    }
  ]
}