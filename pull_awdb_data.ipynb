{
  "nbformat": 4,
  "nbformat_minor": 0,
  "metadata": {
    "colab": {
      "name": "pull_awdb_data.ipynb",
      "provenance": [],
      "collapsed_sections": [],
      "authorship_tag": "ABX9TyNw/2OPtVdOGqb35MsZN+Vp",
      "include_colab_link": true
    },
    "kernelspec": {
      "name": "python3",
      "display_name": "Python 3"
    }
  },
  "cells": [
    {
      "cell_type": "markdown",
      "metadata": {
        "id": "view-in-github",
        "colab_type": "text"
      },
      "source": [
        "<a href=\"https://colab.research.google.com/github/geoskimoto/AWDB_SOAP_Request/blob/main/pull_awdb_data.ipynb\" target=\"_parent\"><img src=\"https://colab.research.google.com/assets/colab-badge.svg\" alt=\"Open In Colab\"/></a>"
      ]
    },
    {
      "cell_type": "code",
      "metadata": {
        "id": "Ne4ClNxpPNzQ"
      },
      "source": [
        "import requests\r\n",
        "import xml.dom.minidom as minidom\r\n",
        "import json\r\n",
        "import xml.etree.ElementTree as ET\r\n",
        "# url = \"https://www.wcc.nrcs.usda.gov/awdbWebService/services?WSDL\"\r\n",
        "\r\n",
        "import numpy as np\r\n",
        "import pandas as pd\r\n",
        "import datetime\r\n",
        "# https://www.dataquest.io/blog/python-api-tutorial/"
      ],
      "execution_count": null,
      "outputs": []
    },
    {
      "cell_type": "code",
      "metadata": {
        "id": "fCihSos1UO07"
      },
      "source": [
        ""
      ],
      "execution_count": null,
      "outputs": []
    },
    {
      "cell_type": "code",
      "metadata": {
        "id": "7ZKsWum8kXcY"
      },
      "source": [
        "#Example from https://www.youtube.com/watch?v=zZU0JZmIvKA\r\n",
        "# payload = {'firstname':'John', 'lastname':'Smith'}\r\n",
        "# r = requests.get('http://httpbin.org/get?', params=payload)\r\n",
        "# print(r.url)\r\n",
        "# print(r.content)\r\n",
        "# print(r.text)\r\n",
        "\r\n",
        "# response.text.split(' ')"
      ],
      "execution_count": null,
      "outputs": []
    },
    {
      "cell_type": "code",
      "metadata": {
        "id": "KqgmmCaWhgTJ"
      },
      "source": [
        "# url = \"https://www.wcc.nrcs.usda.gov/awdbWebService/services?WSDL\"\r\n",
        "# response = requests.get(url)\r\n",
        "# if response.status_code != 200:\r\n",
        "#     print('error {}'.format(response.status_code))\r\n",
        "# else:\r\n",
        "#     data = json.loads(response.text)\r\n",
        "#     print(json.dumps(data, indent=4))"
      ],
      "execution_count": null,
      "outputs": []
    },
    {
      "cell_type": "code",
      "metadata": {
        "id": "tUoUDgeWtfIj"
      },
      "source": [
        "#From the AWDB workbook:\r\n",
        "\r\n",
        "# public Data[] getPeriodOfRecord(String p_stationTriplet, String p_beginDate,     \r\n",
        "#                                 String p_endDate){                \r\n",
        "#     Data[] values = m_webService.getData(Arrays.asList(p_stationTriplet),\r\n",
        "#         \"WTEQ\", 1, null, Duration.DAILY, true, p_beginDate, p_endDate, true)\r\n",
        "#         .toArray(new Data[0]);\r\n",
        "#     return values;\r\n",
        "# }"
      ],
      "execution_count": null,
      "outputs": []
    },
    {
      "cell_type": "code",
      "metadata": {
        "id": "l6-ZjV15h8u6"
      },
      "source": [
        "# Define Inputs\r\n",
        "BeginDate = '01/01/2020'\r\n",
        "EndDate = '08/01/2020'\r\n",
        "\r\n",
        "# Create a dictionaries to store the data\r\n",
        "headers = {'Content-type': 'text/soap'}\r\n",
        "# current_dictionary = {}\r\n",
        " \r\n",
        "# Define Web Service URL\r\n",
        "URL = \"https://wcc.sc.egov.usda.gov/awdbWebService/services?WSDL\"\r\n",
        "\r\n",
        "# Define Parameters for SOAP Elements (getData:current and getCentralTendencyData:normals)\r\n",
        "SOAP_current = '''\r\n",
        "<?xml version=\"1.0\" encoding=\"UTF-8\"?>\r\n",
        "<SOAP-ENV:Envelope xmlns:SOAP-ENV=\"http://schemas.xmlsoap.org/soap/envelope/\" xmlns:q0=\"http://www.wcc.nrcs.usda.gov/ns/awdbWebService\" xmlns:xsd=\"http://www.w3.org/2001/XMLSchema\" xmlns:xsi=\"http://www.w3.org/2001/XMLSchema-instance\">\r\n",
        "  <SOAP-ENV:Body>\r\n",
        "    <q0:getData>\r\n",
        "      <stationTriplets>471:ID:SNTL</stationTriplets>\r\n",
        "      <elementCd>WTEQ</elementCd>   \r\n",
        "      <ordinal>1</ordinal>\r\n",
        "      <duration>DAILY</duration>\r\n",
        "      <getFlags>false</getFlags>\r\n",
        "      <beginDate>$BEGINDATE$</beginDate>\r\n",
        "      <endDate>$ENDDATE$</endDate>\r\n",
        "      <alwaysReturnDailyFeb29>true</alwaysReturnDailyFeb29>\r\n",
        "    </q0:getData>\r\n",
        "  </SOAP-ENV:Body>\r\n",
        "</SOAP-ENV:Envelope>\r\n",
        "\r\n",
        "'''.strip()\r\n",
        "\r\n",
        "#other element codes: PREC, WTEQ (Water Equivalent/SWE)\r\n",
        " \r\n",
        "\r\n",
        "# Post SOAP Elements to AWDB Web Service and process results - getData\r\n",
        "\r\n",
        "SOAP_current = SOAP_current.replace(\"$BEGINDATE$\", BeginDate)\r\n",
        "SOAP_current = SOAP_current.replace(\"$ENDDATE$\", EndDate)\r\n",
        "\r\n",
        "response_current = requests.post(URL, data=SOAP_current, headers=headers)\r\n"
      ],
      "execution_count": 162,
      "outputs": []
    },
    {
      "cell_type": "code",
      "metadata": {
        "colab": {
          "base_uri": "https://localhost:8080/",
          "height": 137
        },
        "id": "cO7SyQc8DM8e",
        "outputId": "c1da0ea2-0d96-4ba8-fa23-f7ead1ed24c6"
      },
      "source": [
        "response_current.text"
      ],
      "execution_count": 163,
      "outputs": [
        {
          "output_type": "execute_result",
          "data": {
            "application/vnd.google.colaboratory.intrinsic+json": {
              "type": "string"
            },
            "text/plain": [
              "'<soap:Envelope xmlns:soap=\"http://schemas.xmlsoap.org/soap/envelope/\"><soap:Body><ns2:getDataResponse xmlns:ns2=\"http://www.wcc.nrcs.usda.gov/ns/awdbWebService\"><return><beginDate>2020-01-01 00:00:00</beginDate><duration>DAILY</duration><endDate>2020-08-01 00:00:00</endDate><stationTriplet>471:ID:SNTL</stationTriplet><values>7.2</values><values>8.1</values><values>8.1</values><values>8.1</values><values>8.1</values><values>8.5</values><values>8.6</values><values>8.6</values><values>9.0</values><values>9.4</values><values>9.4</values><values>9.9</values><values>10.1</values><values>10.7</values><values>11.6</values><values>11.6</values><values>11.6</values><values>11.9</values><values>12.0</values><values>12.0</values><values>12.0</values><values>12.1</values><values>12.2</values><values>12.4</values><values>12.7</values><values>12.7</values><values>13.1</values><values>13.2</values><values>13.6</values><values>13.7</values><values>13.8</values><values>14.0</values><values>14.0</values><values>14.1</values><values>14.4</values><values>14.4</values><values>14.8</values><values>15.9</values><values>16.2</values><values>16.2</values><values>16.2</values><values>16.3</values><values>16.4</values><values>16.4</values><values>16.4</values><values>16.4</values><values>16.6</values><values>17.2</values><values>17.3</values><values>17.3</values><values>17.3</values><values>17.3</values><values>17.3</values><values>17.3</values><values>17.3</values><values>17.5</values><values>17.5</values><values>17.6</values><values>17.6</values><values>17.7</values><values>17.7</values><values>17.8</values><values>17.8</values><values>17.8</values><values>17.8</values><values>17.9</values><values>18.2</values><values>18.5</values><values>18.7</values><values>19.1</values><values>19.1</values><values>19.1</values><values>19.1</values><values>19.2</values><values>19.4</values><values>19.6</values><values>19.6</values><values>19.6</values><values>19.6</values><values>19.7</values><values>19.8</values><values>19.9</values><values>20.0</values><values>20.0</values><values>21.0</values><values>21.2</values><values>21.2</values><values>21.2</values><values>21.2</values><values>21.2</values><values>21.3</values><values>21.9</values><values>22.4</values><values>22.5</values><values>22.6</values><values>22.6</values><values>23.2</values><values>23.5</values><values>23.5</values><values>23.4</values><values>22.8</values><values>22.4</values><values>22.2</values><values>22.1</values><values>22.3</values><values>22.6</values><values>23.0</values><values>23.1</values><values>23.3</values><values>23.1</values><values>23.0</values><values>22.7</values><values>22.0</values><values>21.4</values><values>21.0</values><values>20.7</values><values>20.2</values><values>19.4</values><values>18.7</values><values>17.8</values><values>16.7</values><values>15.8</values><values>15.3</values><values>14.4</values><values>14.7</values><values>13.7</values><values>13.0</values><values>12.5</values><values>11.2</values><values>10.2</values><values>9.3</values><values>8.5</values><values>7.1</values><values>5.5</values><values>4.8</values><values>4.6</values><values>3.9</values><values>3.1</values><values>1.7</values><values>0.0</values><values>0.0</values><values>0.0</values><values>0.0</values><values>0.0</values><values>0.5</values><values>0.0</values><values>0.0</values><values>0.0</values><values>0.0</values><values>0.0</values><values>0.0</values><values>0.0</values><values>0.0</values><values>0.0</values><values>0.0</values><values>0.0</values><values>0.0</values><values>0.0</values><values>0.0</values><values>0.0</values><values>0.0</values><values>0.0</values><values>0.0</values><values>0.0</values><values>0.0</values><values>0.0</values><values>0.0</values><values>0.0</values><values>0.0</values><values>0.0</values><values>0.0</values><values>0.0</values><values>0.0</values><values>0.0</values><values>0.0</values><values>0.0</values><values>0.0</values><values>0.0</values><values>0.0</values><values>0.0</values><values>0.0</values><values>0.0</values><values>0.0</values><values>0.0</values><values>0.0</values><values>0.0</values><values>0.0</values><values>0.0</values><values>0.0</values><values>0.0</values><values>0.0</values><values>0.0</values><values>0.0</values><values>0.0</values><values>0.0</values><values>0.0</values><values>0.0</values><values>0.0</values><values>0.0</values><values>0.0</values><values>0.0</values><values>0.0</values><values>0.0</values><values>0.0</values><values>0.0</values><values>0.0</values><values>0.0</values><values>0.0</values><values>0.0</values><values>0.0</values><values>0.0</values><values>0.0</values><values>0.0</values><values>0.0</values></return></ns2:getDataResponse></soap:Body></soap:Envelope>'"
            ]
          },
          "metadata": {
            "tags": []
          },
          "execution_count": 163
        }
      ]
    },
    {
      "cell_type": "code",
      "metadata": {
        "colab": {
          "base_uri": "https://localhost:8080/"
        },
        "id": "gSk4EAcuXS8a",
        "outputId": "c1ddb94d-cf8b-4c0c-d471-de43114869cc"
      },
      "source": [
        ""
      ],
      "execution_count": 93,
      "outputs": [
        {
          "output_type": "execute_result",
          "data": {
            "text/plain": [
              "<bound method Response.iter_lines of <Response [200]>>"
            ]
          },
          "metadata": {
            "tags": []
          },
          "execution_count": 93
        }
      ]
    },
    {
      "cell_type": "code",
      "metadata": {
        "id": "93k22eVZBFCW"
      },
      "source": [
        "xmldoc = minidom.parseString(response_current.text)\r\n",
        "# placemarks_current = xmldoc_current.getElementsByTagName('return')"
      ],
      "execution_count": 21,
      "outputs": []
    },
    {
      "cell_type": "code",
      "metadata": {
        "colab": {
          "base_uri": "https://localhost:8080/"
        },
        "id": "3aZG9ro-BY1H",
        "outputId": "c5bdd1da-92c5-4b9a-e849-31fc8c256901"
      },
      "source": [
        "xmldoc"
      ],
      "execution_count": 22,
      "outputs": [
        {
          "output_type": "execute_result",
          "data": {
            "text/plain": [
              "<xml.dom.minidom.Document at 0x7f1954010ca8>"
            ]
          },
          "metadata": {
            "tags": []
          },
          "execution_count": 22
        }
      ]
    },
    {
      "cell_type": "code",
      "metadata": {
        "id": "rxrxrzUDBYyc"
      },
      "source": [
        ""
      ],
      "execution_count": null,
      "outputs": []
    },
    {
      "cell_type": "code",
      "metadata": {
        "id": "4I3lFif9BXSS"
      },
      "source": [
        "#Javascript example from website\r\n",
        "\r\n",
        "    # public Data[] getPeriodOfRecord(String p_stationTriplet, String p_beginDate,String p_endDate){                \r\n",
        "    #     Data[] values = m_webService.getData(Arrays.asList(p_stationTriplet),\r\n",
        "    #         \"WTEQ\", 1, null, Duration.DAILY, true, p_beginDate, p_endDate, true)\r\n",
        "    #         .toArray(new Data[0]);\r\n",
        "    #     return values;\r\n",
        "    # }"
      ],
      "execution_count": null,
      "outputs": []
    },
    {
      "cell_type": "code",
      "metadata": {
        "id": "TTS6bmAxBXO-"
      },
      "source": [
        ""
      ],
      "execution_count": null,
      "outputs": []
    },
    {
      "cell_type": "code",
      "metadata": {
        "id": "ugg-cpdyBXMV"
      },
      "source": [
        ""
      ],
      "execution_count": null,
      "outputs": []
    },
    {
      "cell_type": "markdown",
      "metadata": {
        "id": "C744v95XK4Tk"
      },
      "source": [
        "#### Create dictionary from request"
      ]
    },
    {
      "cell_type": "code",
      "metadata": {
        "colab": {
          "base_uri": "https://localhost:8080/"
        },
        "id": "bCb_oZF7woky",
        "outputId": "56abfe0d-3a1c-455c-e521-e6f1dc455d81"
      },
      "source": [
        "{str(xmldoc.getElementsByTagName('stationTriplet')[0].firstChild.data):{1:xmldoc.getElementsByTagName('values')[0].firstChild.data}}"
      ],
      "execution_count": null,
      "outputs": [
        {
          "output_type": "execute_result",
          "data": {
            "text/plain": [
              "{'302:OR:SNTL': {1: '4.3'}}"
            ]
          },
          "metadata": {
            "tags": []
          },
          "execution_count": 12
        }
      ]
    },
    {
      "cell_type": "code",
      "metadata": {
        "colab": {
          "base_uri": "https://localhost:8080/"
        },
        "id": "X19ImoUX_NbQ",
        "outputId": "421258fd-7197-4ac0-e0eb-428d7718760a"
      },
      "source": [
        "val_length = len(xmldoc.getElementsByTagName('values'))\r\n",
        "val_length"
      ],
      "execution_count": null,
      "outputs": [
        {
          "output_type": "execute_result",
          "data": {
            "text/plain": [
              "214"
            ]
          },
          "metadata": {
            "tags": []
          },
          "execution_count": 13
        }
      ]
    },
    {
      "cell_type": "code",
      "metadata": {
        "id": "sC9LLbQcDyXO"
      },
      "source": [
        "#Using OrderedDict\r\n",
        "from collections import OrderedDict\r\n",
        "\r\n",
        "date = datetime.datetime.strptime(BeginDate, \"%d/%m/%Y\").date() #.strftime(\"%Y,%m,%d\")\r\n",
        "station = xmldoc.getElementsByTagName('stationTriplet')\r\n",
        "values = xmldoc.getElementsByTagName('values')\r\n",
        "Date = []\r\n",
        "for i in range(0, val_length): \r\n",
        "  date += datetime.timedelta(days=1)\r\n",
        "  Date.append(str(date))\r\n",
        "\r\n",
        "Date\r\n",
        "# woohoo = {station[0].firstChild.data:OrderedDict({Date[j]:values[j].firstChild.data for j in range(0, val_length)})}\r\n",
        "\r\n",
        "# -------------\r\n",
        "# bla = []\r\n",
        "\r\n",
        "# for j in range(0, val_length):\r\n",
        "#   bla.append(list(zip(Date[j], values.firstChild.data[j])))\r\n",
        "\r\n",
        "# bla\r\n",
        "\r\n",
        "# [np.c_(Date[j], values[j].firstChild.data for j in range(0, val_length)]\r\n",
        "\r\n",
        "# ----------\r\n",
        "\r\n",
        "woohoo = {station[0].firstChild.data:OrderedDict({Date[j]:values[j].firstChild.data for j in range(0, val_length)})}\r\n",
        "\r\n",
        "# woohoo"
      ],
      "execution_count": 164,
      "outputs": []
    },
    {
      "cell_type": "code",
      "metadata": {
        "colab": {
          "base_uri": "https://localhost:8080/",
          "height": 421
        },
        "id": "_3zYEFApmM1U",
        "outputId": "50e4b133-f9f8-441f-af3d-c6a136f4ff07"
      },
      "source": [
        "np.c_[Date[0], values[0].firstChild.data]"
      ],
      "execution_count": 165,
      "outputs": [
        {
          "output_type": "error",
          "ename": "ValueError",
          "evalue": "ignored",
          "traceback": [
            "\u001b[0;31m---------------------------------------------------------------------------\u001b[0m",
            "\u001b[0;31mValueError\u001b[0m                                Traceback (most recent call last)",
            "\u001b[0;32m/usr/local/lib/python3.6/dist-packages/numpy/lib/index_tricks.py\u001b[0m in \u001b[0;36m__getitem__\u001b[0;34m(self, key)\u001b[0m\n\u001b[1;32m    375\u001b[0m                 \u001b[0;32mtry\u001b[0m\u001b[0;34m:\u001b[0m\u001b[0;34m\u001b[0m\u001b[0;34m\u001b[0m\u001b[0m\n\u001b[0;32m--> 376\u001b[0;31m                     \u001b[0maxis\u001b[0m \u001b[0;34m=\u001b[0m \u001b[0mint\u001b[0m\u001b[0;34m(\u001b[0m\u001b[0mitem\u001b[0m\u001b[0;34m)\u001b[0m\u001b[0;34m\u001b[0m\u001b[0;34m\u001b[0m\u001b[0m\n\u001b[0m\u001b[1;32m    377\u001b[0m                     \u001b[0;32mcontinue\u001b[0m\u001b[0;34m\u001b[0m\u001b[0;34m\u001b[0m\u001b[0m\n",
            "\u001b[0;31mValueError\u001b[0m: invalid literal for int() with base 10: '2020-01-02'",
            "\nDuring handling of the above exception, another exception occurred:\n",
            "\u001b[0;31mValueError\u001b[0m                                Traceback (most recent call last)",
            "\u001b[0;32m<ipython-input-165-d74a3f79d166>\u001b[0m in \u001b[0;36m<module>\u001b[0;34m()\u001b[0m\n\u001b[0;32m----> 1\u001b[0;31m \u001b[0mnp\u001b[0m\u001b[0;34m.\u001b[0m\u001b[0mc_\u001b[0m\u001b[0;34m[\u001b[0m\u001b[0mDate\u001b[0m\u001b[0;34m[\u001b[0m\u001b[0;36m0\u001b[0m\u001b[0;34m]\u001b[0m\u001b[0;34m,\u001b[0m \u001b[0mvalues\u001b[0m\u001b[0;34m[\u001b[0m\u001b[0;36m0\u001b[0m\u001b[0;34m]\u001b[0m\u001b[0;34m.\u001b[0m\u001b[0mfirstChild\u001b[0m\u001b[0;34m.\u001b[0m\u001b[0mdata\u001b[0m\u001b[0;34m]\u001b[0m\u001b[0;34m\u001b[0m\u001b[0;34m\u001b[0m\u001b[0m\n\u001b[0m",
            "\u001b[0;32m/usr/local/lib/python3.6/dist-packages/numpy/lib/index_tricks.py\u001b[0m in \u001b[0;36m__getitem__\u001b[0;34m(self, key)\u001b[0m\n\u001b[1;32m    377\u001b[0m                     \u001b[0;32mcontinue\u001b[0m\u001b[0;34m\u001b[0m\u001b[0;34m\u001b[0m\u001b[0m\n\u001b[1;32m    378\u001b[0m                 \u001b[0;32mexcept\u001b[0m \u001b[0;34m(\u001b[0m\u001b[0mValueError\u001b[0m\u001b[0;34m,\u001b[0m \u001b[0mTypeError\u001b[0m\u001b[0;34m)\u001b[0m\u001b[0;34m:\u001b[0m\u001b[0;34m\u001b[0m\u001b[0;34m\u001b[0m\u001b[0m\n\u001b[0;32m--> 379\u001b[0;31m                     \u001b[0;32mraise\u001b[0m \u001b[0mValueError\u001b[0m\u001b[0;34m(\u001b[0m\u001b[0;34m\"unknown special directive\"\u001b[0m\u001b[0;34m)\u001b[0m\u001b[0;34m\u001b[0m\u001b[0;34m\u001b[0m\u001b[0m\n\u001b[0m\u001b[1;32m    380\u001b[0m             \u001b[0;32melif\u001b[0m \u001b[0mtype\u001b[0m\u001b[0;34m(\u001b[0m\u001b[0mitem\u001b[0m\u001b[0;34m)\u001b[0m \u001b[0;32min\u001b[0m \u001b[0mScalarType\u001b[0m\u001b[0;34m:\u001b[0m\u001b[0;34m\u001b[0m\u001b[0;34m\u001b[0m\u001b[0m\n\u001b[1;32m    381\u001b[0m                 \u001b[0mnewobj\u001b[0m \u001b[0;34m=\u001b[0m \u001b[0marray\u001b[0m\u001b[0;34m(\u001b[0m\u001b[0mitem\u001b[0m\u001b[0;34m,\u001b[0m \u001b[0mndmin\u001b[0m\u001b[0;34m=\u001b[0m\u001b[0mndmin\u001b[0m\u001b[0;34m)\u001b[0m\u001b[0;34m\u001b[0m\u001b[0;34m\u001b[0m\u001b[0m\n",
            "\u001b[0;31mValueError\u001b[0m: unknown special directive"
          ]
        }
      ]
    },
    {
      "cell_type": "code",
      "metadata": {
        "colab": {
          "base_uri": "https://localhost:8080/",
          "height": 35
        },
        "id": "H4l3olTSoCl0",
        "outputId": "89ff3745-c913-40d9-865e-1e24b309f2a8"
      },
      "source": [
        "Date[0]"
      ],
      "execution_count": null,
      "outputs": [
        {
          "output_type": "execute_result",
          "data": {
            "application/vnd.google.colaboratory.intrinsic+json": {
              "type": "string"
            },
            "text/plain": [
              "'2020-01-02'"
            ]
          },
          "metadata": {
            "tags": []
          },
          "execution_count": 20
        }
      ]
    },
    {
      "cell_type": "code",
      "metadata": {
        "colab": {
          "base_uri": "https://localhost:8080/",
          "height": 162
        },
        "id": "jHAN0sBinsin",
        "outputId": "f3790312-a332-4c5b-bd50-f2c2a2848c5e"
      },
      "source": [
        "int(values[0].firstChild.data)"
      ],
      "execution_count": null,
      "outputs": [
        {
          "output_type": "error",
          "ename": "ValueError",
          "evalue": "ignored",
          "traceback": [
            "\u001b[0;31m---------------------------------------------------------------------------\u001b[0m",
            "\u001b[0;31mValueError\u001b[0m                                Traceback (most recent call last)",
            "\u001b[0;32m<ipython-input-31-867f72c1a7af>\u001b[0m in \u001b[0;36m<module>\u001b[0;34m()\u001b[0m\n\u001b[0;32m----> 1\u001b[0;31m \u001b[0mint\u001b[0m\u001b[0;34m(\u001b[0m\u001b[0mvalues\u001b[0m\u001b[0;34m[\u001b[0m\u001b[0;36m0\u001b[0m\u001b[0;34m]\u001b[0m\u001b[0;34m.\u001b[0m\u001b[0mfirstChild\u001b[0m\u001b[0;34m.\u001b[0m\u001b[0mdata\u001b[0m\u001b[0;34m)\u001b[0m\u001b[0;34m\u001b[0m\u001b[0;34m\u001b[0m\u001b[0m\n\u001b[0m",
            "\u001b[0;31mValueError\u001b[0m: invalid literal for int() with base 10: '4.3'"
          ]
        }
      ]
    },
    {
      "cell_type": "code",
      "metadata": {
        "colab": {
          "base_uri": "https://localhost:8080/"
        },
        "id": "km8wc8a2kqMt",
        "outputId": "8d0694ce-27dc-42a1-eb48-50cfa0971d1a"
      },
      "source": [
        "int(float(values[0].firstChild.data))"
      ],
      "execution_count": null,
      "outputs": [
        {
          "output_type": "execute_result",
          "data": {
            "text/plain": [
              "4"
            ]
          },
          "metadata": {
            "tags": []
          },
          "execution_count": 323
        }
      ]
    },
    {
      "cell_type": "code",
      "metadata": {
        "id": "-sCqaPVrYOq4"
      },
      "source": [
        "# woohoo['302:OR:SNTL']"
      ],
      "execution_count": null,
      "outputs": []
    },
    {
      "cell_type": "code",
      "metadata": {
        "id": "NIRP_ONvTWSZ"
      },
      "source": [
        "# #using zip\r\n",
        "\r\n",
        "# date = datetime.datetime.strptime(BeginDate, \"%d/%m/%Y\").date() #.strftime(\"%Y,%m,%d\")\r\n",
        "\r\n",
        "# Date = []\r\n",
        "# for i in range(0, val_length): \r\n",
        "#   date += datetime.timedelta(days=1)\r\n",
        "#   Date.append(str(date))\r\n",
        "\r\n",
        "# data2 = {station[0].firstChild.data: list(zip((Date[j],values[j].firstChild.data) for j in range(0, val_length)))}\r\n",
        "\r\n",
        "# # list(zip((Date[j],values[j].firstChild.data) for j in range(0, val_length)))\r\n",
        "\r\n"
      ],
      "execution_count": null,
      "outputs": []
    },
    {
      "cell_type": "code",
      "metadata": {
        "id": "mi2Cf9THTWPj"
      },
      "source": [
        ""
      ],
      "execution_count": null,
      "outputs": []
    },
    {
      "cell_type": "code",
      "metadata": {
        "id": "6Tl1CDV8TWM_"
      },
      "source": [
        ""
      ],
      "execution_count": null,
      "outputs": []
    },
    {
      "cell_type": "code",
      "metadata": {
        "id": "0n98LNTATWKn"
      },
      "source": [
        ""
      ],
      "execution_count": null,
      "outputs": []
    },
    {
      "cell_type": "code",
      "metadata": {
        "id": "ZarhidYOTV45"
      },
      "source": [
        ""
      ],
      "execution_count": null,
      "outputs": []
    },
    {
      "cell_type": "code",
      "metadata": {
        "colab": {
          "base_uri": "https://localhost:8080/"
        },
        "id": "G1ir7RrII0Ge",
        "outputId": "5b66edcf-b22c-42b6-d972-2396dafbb6cc"
      },
      "source": [
        "date"
      ],
      "execution_count": null,
      "outputs": [
        {
          "output_type": "execute_result",
          "data": {
            "text/plain": [
              "datetime.datetime(2020, 1, 6, 0, 0)"
            ]
          },
          "metadata": {
            "tags": []
          },
          "execution_count": 181
        }
      ]
    },
    {
      "cell_type": "code",
      "metadata": {
        "id": "joXYgC5kDa7_"
      },
      "source": [
        "# import datetime\r\n",
        "\r\n",
        "# date = datetime.datetime.strptime(BeginDate, \"%d/%m/%Y\").date() #.strftime(\"%Y,%m,%d\")\r\n",
        "\r\n",
        "# Date = []\r\n",
        "# for i in range(5): \r\n",
        "#   date += datetime.timedelta(days=1)\r\n",
        "#   Date.append(str(date))\r\n",
        "\r\n",
        "#     # date += datetime.timedelta(days=1)\r\n",
        "#     # print(date) "
      ],
      "execution_count": 23,
      "outputs": []
    },
    {
      "cell_type": "code",
      "metadata": {
        "colab": {
          "base_uri": "https://localhost:8080/"
        },
        "id": "L1FuG_DEI7lO",
        "outputId": "2321bdff-f9e8-4173-91ee-223c5dec1f31"
      },
      "source": [
        "Date"
      ],
      "execution_count": null,
      "outputs": [
        {
          "output_type": "execute_result",
          "data": {
            "text/plain": [
              "['2020-01-02', '2020-01-03', '2020-01-04', '2020-01-05', '2020-01-06']"
            ]
          },
          "metadata": {
            "tags": []
          },
          "execution_count": 191
        }
      ]
    },
    {
      "cell_type": "code",
      "metadata": {
        "colab": {
          "base_uri": "https://localhost:8080/"
        },
        "id": "9dru0klVJTtP",
        "outputId": "ca341ec3-85a7-44d4-896f-44ea770a35ba"
      },
      "source": [
        "datetime."
      ],
      "execution_count": null,
      "outputs": [
        {
          "output_type": "execute_result",
          "data": {
            "text/plain": [
              "datetime.datetime(2003, 8, 1, 12, 4, 5)"
            ]
          },
          "metadata": {
            "tags": []
          },
          "execution_count": 168
        }
      ]
    },
    {
      "cell_type": "code",
      "metadata": {
        "id": "BxJPq69lJ7lI"
      },
      "source": [
        ""
      ],
      "execution_count": null,
      "outputs": []
    },
    {
      "cell_type": "markdown",
      "metadata": {
        "id": "2rKU9wViK_Ob"
      },
      "source": [
        "#### Create pd.DataFrame from request"
      ]
    },
    {
      "cell_type": "code",
      "metadata": {
        "id": "WbULMb9WDaYs"
      },
      "source": [
        "val_length = len(xmldoc.getElementsByTagName('values'))\r\n",
        "\r\n",
        "data = pd.DataFrame([xmldoc.getElementsByTagName('values')[i].firstChild.data for i in range(0,val_length)])"
      ],
      "execution_count": 166,
      "outputs": []
    },
    {
      "cell_type": "code",
      "metadata": {
        "colab": {
          "base_uri": "https://localhost:8080/",
          "height": 402
        },
        "id": "Ln8Cp31YLc2k",
        "outputId": "b86ddec2-a2f6-4974-dd1d-181e6029dee4"
      },
      "source": [
        "data"
      ],
      "execution_count": 167,
      "outputs": [
        {
          "output_type": "execute_result",
          "data": {
            "text/html": [
              "<div>\n",
              "<style scoped>\n",
              "    .dataframe tbody tr th:only-of-type {\n",
              "        vertical-align: middle;\n",
              "    }\n",
              "\n",
              "    .dataframe tbody tr th {\n",
              "        vertical-align: top;\n",
              "    }\n",
              "\n",
              "    .dataframe thead th {\n",
              "        text-align: right;\n",
              "    }\n",
              "</style>\n",
              "<table border=\"1\" class=\"dataframe\">\n",
              "  <thead>\n",
              "    <tr style=\"text-align: right;\">\n",
              "      <th></th>\n",
              "      <th>0</th>\n",
              "    </tr>\n",
              "  </thead>\n",
              "  <tbody>\n",
              "    <tr>\n",
              "      <th>0</th>\n",
              "      <td>4.3</td>\n",
              "    </tr>\n",
              "    <tr>\n",
              "      <th>1</th>\n",
              "      <td>5.1</td>\n",
              "    </tr>\n",
              "    <tr>\n",
              "      <th>2</th>\n",
              "      <td>5.3</td>\n",
              "    </tr>\n",
              "    <tr>\n",
              "      <th>3</th>\n",
              "      <td>5.4</td>\n",
              "    </tr>\n",
              "    <tr>\n",
              "      <th>4</th>\n",
              "      <td>5.5</td>\n",
              "    </tr>\n",
              "    <tr>\n",
              "      <th>...</th>\n",
              "      <td>...</td>\n",
              "    </tr>\n",
              "    <tr>\n",
              "      <th>209</th>\n",
              "      <td>0.0</td>\n",
              "    </tr>\n",
              "    <tr>\n",
              "      <th>210</th>\n",
              "      <td>0.0</td>\n",
              "    </tr>\n",
              "    <tr>\n",
              "      <th>211</th>\n",
              "      <td>0.0</td>\n",
              "    </tr>\n",
              "    <tr>\n",
              "      <th>212</th>\n",
              "      <td>0.0</td>\n",
              "    </tr>\n",
              "    <tr>\n",
              "      <th>213</th>\n",
              "      <td>0.0</td>\n",
              "    </tr>\n",
              "  </tbody>\n",
              "</table>\n",
              "<p>214 rows × 1 columns</p>\n",
              "</div>"
            ],
            "text/plain": [
              "       0\n",
              "0    4.3\n",
              "1    5.1\n",
              "2    5.3\n",
              "3    5.4\n",
              "4    5.5\n",
              "..   ...\n",
              "209  0.0\n",
              "210  0.0\n",
              "211  0.0\n",
              "212  0.0\n",
              "213  0.0\n",
              "\n",
              "[214 rows x 1 columns]"
            ]
          },
          "metadata": {
            "tags": []
          },
          "execution_count": 167
        }
      ]
    },
    {
      "cell_type": "code",
      "metadata": {
        "id": "CZK4BKWkLCnl"
      },
      "source": [
        "date = datetime.datetime.strptime(BeginDate, \"%d/%m/%Y\").date() #.strftime(\"%Y,%m,%d\")\r\n",
        "\r\n",
        "Date = []\r\n",
        "for i in range(val_length): \r\n",
        "  date += datetime.timedelta(days=1)\r\n",
        "  Date.append(str(date))\r\n",
        "\r\n",
        "# {str(xmldoc.getElementsByTagName('stationTriplet')[0].firstChild.data):{Date[j]:xmldoc.getElementsByTagName('values')[j].firstChild.data} for j in range(3)}"
      ],
      "execution_count": 168,
      "outputs": []
    },
    {
      "cell_type": "code",
      "metadata": {
        "colab": {
          "base_uri": "https://localhost:8080/"
        },
        "id": "4uJ_vSjfNDpX",
        "outputId": "4c1a2597-5e32-4ba1-d425-adf29b3bbc65"
      },
      "source": [
        "type(data.columns[0])"
      ],
      "execution_count": 169,
      "outputs": [
        {
          "output_type": "execute_result",
          "data": {
            "text/plain": [
              "int"
            ]
          },
          "metadata": {
            "tags": []
          },
          "execution_count": 169
        }
      ]
    },
    {
      "cell_type": "code",
      "metadata": {
        "colab": {
          "base_uri": "https://localhost:8080/",
          "height": 284
        },
        "id": "UEsN88aCIhEU",
        "outputId": "47030f5a-afac-40b2-9f86-c0c646c4bea9"
      },
      "source": [
        "data['Date'] = Date\r\n",
        "data.columns = ['SWE','Date']\r\n",
        "# data.rename(columns={0:'SWE'}) #doesn't work for some reason, so renaming with just data.columns\r\n",
        "data.set_index('Date', inplace=True)\r\n",
        "data.tail(7)"
      ],
      "execution_count": 170,
      "outputs": [
        {
          "output_type": "execute_result",
          "data": {
            "text/html": [
              "<div>\n",
              "<style scoped>\n",
              "    .dataframe tbody tr th:only-of-type {\n",
              "        vertical-align: middle;\n",
              "    }\n",
              "\n",
              "    .dataframe tbody tr th {\n",
              "        vertical-align: top;\n",
              "    }\n",
              "\n",
              "    .dataframe thead th {\n",
              "        text-align: right;\n",
              "    }\n",
              "</style>\n",
              "<table border=\"1\" class=\"dataframe\">\n",
              "  <thead>\n",
              "    <tr style=\"text-align: right;\">\n",
              "      <th></th>\n",
              "      <th>SWE</th>\n",
              "    </tr>\n",
              "    <tr>\n",
              "      <th>Date</th>\n",
              "      <th></th>\n",
              "    </tr>\n",
              "  </thead>\n",
              "  <tbody>\n",
              "    <tr>\n",
              "      <th>2020-07-27</th>\n",
              "      <td>0.0</td>\n",
              "    </tr>\n",
              "    <tr>\n",
              "      <th>2020-07-28</th>\n",
              "      <td>0.0</td>\n",
              "    </tr>\n",
              "    <tr>\n",
              "      <th>2020-07-29</th>\n",
              "      <td>0.0</td>\n",
              "    </tr>\n",
              "    <tr>\n",
              "      <th>2020-07-30</th>\n",
              "      <td>0.0</td>\n",
              "    </tr>\n",
              "    <tr>\n",
              "      <th>2020-07-31</th>\n",
              "      <td>0.0</td>\n",
              "    </tr>\n",
              "    <tr>\n",
              "      <th>2020-08-01</th>\n",
              "      <td>0.0</td>\n",
              "    </tr>\n",
              "    <tr>\n",
              "      <th>2020-08-02</th>\n",
              "      <td>0.0</td>\n",
              "    </tr>\n",
              "  </tbody>\n",
              "</table>\n",
              "</div>"
            ],
            "text/plain": [
              "            SWE\n",
              "Date           \n",
              "2020-07-27  0.0\n",
              "2020-07-28  0.0\n",
              "2020-07-29  0.0\n",
              "2020-07-30  0.0\n",
              "2020-07-31  0.0\n",
              "2020-08-01  0.0\n",
              "2020-08-02  0.0"
            ]
          },
          "metadata": {
            "tags": []
          },
          "execution_count": 170
        }
      ]
    },
    {
      "cell_type": "code",
      "metadata": {
        "colab": {
          "base_uri": "https://localhost:8080/",
          "height": 225
        },
        "id": "mUw568pPF-kd",
        "outputId": "dd6dd9b9-4b24-4338-aa17-3a8a453e0999"
      },
      "source": [
        "data.head(5)"
      ],
      "execution_count": 171,
      "outputs": [
        {
          "output_type": "execute_result",
          "data": {
            "text/html": [
              "<div>\n",
              "<style scoped>\n",
              "    .dataframe tbody tr th:only-of-type {\n",
              "        vertical-align: middle;\n",
              "    }\n",
              "\n",
              "    .dataframe tbody tr th {\n",
              "        vertical-align: top;\n",
              "    }\n",
              "\n",
              "    .dataframe thead th {\n",
              "        text-align: right;\n",
              "    }\n",
              "</style>\n",
              "<table border=\"1\" class=\"dataframe\">\n",
              "  <thead>\n",
              "    <tr style=\"text-align: right;\">\n",
              "      <th></th>\n",
              "      <th>SWE</th>\n",
              "    </tr>\n",
              "    <tr>\n",
              "      <th>Date</th>\n",
              "      <th></th>\n",
              "    </tr>\n",
              "  </thead>\n",
              "  <tbody>\n",
              "    <tr>\n",
              "      <th>2020-01-02</th>\n",
              "      <td>4.3</td>\n",
              "    </tr>\n",
              "    <tr>\n",
              "      <th>2020-01-03</th>\n",
              "      <td>5.1</td>\n",
              "    </tr>\n",
              "    <tr>\n",
              "      <th>2020-01-04</th>\n",
              "      <td>5.3</td>\n",
              "    </tr>\n",
              "    <tr>\n",
              "      <th>2020-01-05</th>\n",
              "      <td>5.4</td>\n",
              "    </tr>\n",
              "    <tr>\n",
              "      <th>2020-01-06</th>\n",
              "      <td>5.5</td>\n",
              "    </tr>\n",
              "  </tbody>\n",
              "</table>\n",
              "</div>"
            ],
            "text/plain": [
              "            SWE\n",
              "Date           \n",
              "2020-01-02  4.3\n",
              "2020-01-03  5.1\n",
              "2020-01-04  5.3\n",
              "2020-01-05  5.4\n",
              "2020-01-06  5.5"
            ]
          },
          "metadata": {
            "tags": []
          },
          "execution_count": 171
        }
      ]
    },
    {
      "cell_type": "code",
      "metadata": {
        "id": "R-9dacNDNudf"
      },
      "source": [
        ""
      ],
      "execution_count": null,
      "outputs": []
    },
    {
      "cell_type": "code",
      "metadata": {
        "id": "XWzR_MmuDJrY"
      },
      "source": [
        ""
      ],
      "execution_count": null,
      "outputs": []
    },
    {
      "cell_type": "markdown",
      "metadata": {
        "id": "Mh__rV5HDKaM"
      },
      "source": [
        "## Everything combined as a single function"
      ]
    },
    {
      "cell_type": "code",
      "metadata": {
        "id": "f5s5E-VHDJo5"
      },
      "source": [
        "import requests\r\n",
        "import xml.dom.minidom as minidom\r\n",
        "import json\r\n",
        "import xml.etree.ElementTree as ET\r\n",
        "# url = \"https://www.wcc.nrcs.usda.gov/awdbWebService/services?WSDL\"\r\n",
        "\r\n",
        "import numpy as np\r\n",
        "import pandas as pd\r\n",
        "import datetime\r\n",
        "# https://www.dataquest.io/blog/python-api-tutorial/\r\n",
        "\r\n",
        "\r\n",
        "def SOAP_Call(stationtriplets, BeginDate, EndDate):\r\n",
        "\r\n",
        "  # Define Inputs\r\n",
        "  # BeginDate = '01/01/2020'\r\n",
        "  # EndDate = '08/01/2020'\r\n",
        "\r\n",
        "  # Create a dictionaries to store the data\r\n",
        "  headers = {'Content-type': 'text/soap'}\r\n",
        "  # current_dictionary = {}\r\n",
        "  \r\n",
        "  # Define Web Service URL\r\n",
        "  URL = \"https://wcc.sc.egov.usda.gov/awdbWebService/services?WSDL\"\r\n",
        "\r\n",
        "  # Define Parameters for SOAP Elements (getData:current and getCentralTendencyData:normals)\r\n",
        "  SOAP_current = '''\r\n",
        "  <?xml version=\"1.0\" encoding=\"UTF-8\"?>\r\n",
        "  <SOAP-ENV:Envelope xmlns:SOAP-ENV=\"http://schemas.xmlsoap.org/soap/envelope/\" xmlns:q0=\"http://www.wcc.nrcs.usda.gov/ns/awdbWebService\" xmlns:xsd=\"http://www.w3.org/2001/XMLSchema\" xmlns:xsi=\"http://www.w3.org/2001/XMLSchema-instance\">\r\n",
        "    <SOAP-ENV:Body>\r\n",
        "      <q0:getData>\r\n",
        "        <stationTriplets>$stationTriplets$</stationTriplets>\r\n",
        "        <elementCd>WTEQ</elementCd>   \r\n",
        "        <ordinal>1</ordinal>\r\n",
        "        <duration>DAILY</duration>\r\n",
        "        <getFlags>false</getFlags>\r\n",
        "        <beginDate>$BEGINDATE$</beginDate>\r\n",
        "        <endDate>$ENDDATE$</endDate>\r\n",
        "        <alwaysReturnDailyFeb29>true</alwaysReturnDailyFeb29>\r\n",
        "      </q0:getData>\r\n",
        "    </SOAP-ENV:Body>\r\n",
        "  </SOAP-ENV:Envelope>\r\n",
        "\r\n",
        "  '''.strip()\r\n",
        "\r\n",
        "  #other element codes: PREC, WTEQ (Water Equivalent/SWE)\r\n",
        "  \r\n",
        "\r\n",
        "  # Post SOAP Elements to AWDB Web Service and process results - getData\r\n",
        "  SOAP_current = SOAP_current.replace(\"$stationTriplets$\", stationtriplets)\r\n",
        "  SOAP_current = SOAP_current.replace(\"$BEGINDATE$\", BeginDate)\r\n",
        "  SOAP_current = SOAP_current.replace(\"$ENDDATE$\", EndDate)\r\n",
        "\r\n",
        "  response_current = requests.post(URL, data=SOAP_current, headers=headers)\r\n",
        "\r\n",
        "  #Parse xml based on tags\r\n",
        "  xmldoc = minidom.parseString(response_current.text)\r\n",
        "\r\n",
        "  #Determine number of measurements/days\r\n",
        "  val_length = len(xmldoc.getElementsByTagName('values'))\r\n",
        "\r\n",
        "  #Stick parsed values into a dataframe\r\n",
        "  data = pd.DataFrame([xmldoc.getElementsByTagName('values')[i].firstChild.data for i in range(0,val_length)])\r\n",
        "  #Add dates to the values\r\n",
        "  # date = datetime.datetime.strptime(BeginDate, \"%m/%d/%Y\").date() #.strftime(\"%Y,%m,%d\")\r\n",
        "  # Date = []\r\n",
        "  # for i in range(0,val_length): \r\n",
        "  #   date += datetime.timedelta(days=1)\r\n",
        "  #   Date.append(str(date))\r\n",
        "  # data['Date'] = Date\r\n",
        "  # # data.columns = ['WTEQ','Date']\r\n",
        "  # # data.rename(columns={0:'SWE'}) #doesn't work for some reason, so renaming with just data.columns\r\n",
        "  # # data.set_index('Date', inplace=True)\r\n",
        "  # return data"
      ],
      "execution_count": 157,
      "outputs": []
    },
    {
      "cell_type": "code",
      "metadata": {
        "id": "NT5h2JZpDJmf"
      },
      "source": [
        "data = SOAP_Call('3471:ID:SNTL','06/01/2016','08/01/2019')"
      ],
      "execution_count": 160,
      "outputs": []
    },
    {
      "cell_type": "code",
      "metadata": {
        "id": "4o4bfqZTf87E"
      },
      "source": [
        "data"
      ],
      "execution_count": 161,
      "outputs": []
    },
    {
      "cell_type": "code",
      "metadata": {
        "id": "knHg5QRqf84L"
      },
      "source": [
        ""
      ],
      "execution_count": null,
      "outputs": []
    },
    {
      "cell_type": "code",
      "metadata": {
        "colab": {
          "base_uri": "https://localhost:8080/",
          "height": 354
        },
        "id": "yYp1xFyDaZaV",
        "outputId": "fefc9954-7b12-47f7-f61b-011c011c12af"
      },
      "source": [
        "# x = ['1','2']\r\n",
        "\r\n",
        "data2 = pd.DataFrame(list(zip(data.index, list(map(lambda x: float(x),data.iloc[:,1])))))#,columns=['Date', 'WTEQ'])\r\n",
        "# data2.set_index('Date')"
      ],
      "execution_count": 151,
      "outputs": [
        {
          "output_type": "error",
          "ename": "IndexError",
          "evalue": "ignored",
          "traceback": [
            "\u001b[0;31m---------------------------------------------------------------------------\u001b[0m",
            "\u001b[0;31mIndexError\u001b[0m                                Traceback (most recent call last)",
            "\u001b[0;32m<ipython-input-151-679eec2f044f>\u001b[0m in \u001b[0;36m<module>\u001b[0;34m()\u001b[0m\n\u001b[1;32m      1\u001b[0m \u001b[0;31m# x = ['1','2']\u001b[0m\u001b[0;34m\u001b[0m\u001b[0;34m\u001b[0m\u001b[0;34m\u001b[0m\u001b[0m\n\u001b[1;32m      2\u001b[0m \u001b[0;34m\u001b[0m\u001b[0m\n\u001b[0;32m----> 3\u001b[0;31m \u001b[0mdata2\u001b[0m \u001b[0;34m=\u001b[0m \u001b[0mpd\u001b[0m\u001b[0;34m.\u001b[0m\u001b[0mDataFrame\u001b[0m\u001b[0;34m(\u001b[0m\u001b[0mlist\u001b[0m\u001b[0;34m(\u001b[0m\u001b[0mzip\u001b[0m\u001b[0;34m(\u001b[0m\u001b[0mdata\u001b[0m\u001b[0;34m.\u001b[0m\u001b[0mindex\u001b[0m\u001b[0;34m,\u001b[0m \u001b[0mlist\u001b[0m\u001b[0;34m(\u001b[0m\u001b[0mmap\u001b[0m\u001b[0;34m(\u001b[0m\u001b[0;32mlambda\u001b[0m \u001b[0mx\u001b[0m\u001b[0;34m:\u001b[0m \u001b[0mfloat\u001b[0m\u001b[0;34m(\u001b[0m\u001b[0mx\u001b[0m\u001b[0;34m)\u001b[0m\u001b[0;34m,\u001b[0m\u001b[0mdata\u001b[0m\u001b[0;34m.\u001b[0m\u001b[0miloc\u001b[0m\u001b[0;34m[\u001b[0m\u001b[0;34m:\u001b[0m\u001b[0;34m,\u001b[0m\u001b[0;36m1\u001b[0m\u001b[0;34m]\u001b[0m\u001b[0;34m)\u001b[0m\u001b[0;34m)\u001b[0m\u001b[0;34m)\u001b[0m\u001b[0;34m)\u001b[0m\u001b[0;34m)\u001b[0m\u001b[0;31m#,columns=['Date', 'WTEQ'])\u001b[0m\u001b[0;34m\u001b[0m\u001b[0;34m\u001b[0m\u001b[0m\n\u001b[0m\u001b[1;32m      4\u001b[0m \u001b[0;31m# data2.set_index('Date')\u001b[0m\u001b[0;34m\u001b[0m\u001b[0;34m\u001b[0m\u001b[0;34m\u001b[0m\u001b[0m\n",
            "\u001b[0;32m/usr/local/lib/python3.6/dist-packages/pandas/core/indexing.py\u001b[0m in \u001b[0;36m__getitem__\u001b[0;34m(self, key)\u001b[0m\n\u001b[1;32m    871\u001b[0m                     \u001b[0;31m# AttributeError for IntervalTree get_value\u001b[0m\u001b[0;34m\u001b[0m\u001b[0;34m\u001b[0m\u001b[0;34m\u001b[0m\u001b[0m\n\u001b[1;32m    872\u001b[0m                     \u001b[0;32mpass\u001b[0m\u001b[0;34m\u001b[0m\u001b[0;34m\u001b[0m\u001b[0m\n\u001b[0;32m--> 873\u001b[0;31m             \u001b[0;32mreturn\u001b[0m \u001b[0mself\u001b[0m\u001b[0;34m.\u001b[0m\u001b[0m_getitem_tuple\u001b[0m\u001b[0;34m(\u001b[0m\u001b[0mkey\u001b[0m\u001b[0;34m)\u001b[0m\u001b[0;34m\u001b[0m\u001b[0;34m\u001b[0m\u001b[0m\n\u001b[0m\u001b[1;32m    874\u001b[0m         \u001b[0;32melse\u001b[0m\u001b[0;34m:\u001b[0m\u001b[0;34m\u001b[0m\u001b[0;34m\u001b[0m\u001b[0m\n\u001b[1;32m    875\u001b[0m             \u001b[0;31m# we by definition only have the 0th axis\u001b[0m\u001b[0;34m\u001b[0m\u001b[0;34m\u001b[0m\u001b[0;34m\u001b[0m\u001b[0m\n",
            "\u001b[0;32m/usr/local/lib/python3.6/dist-packages/pandas/core/indexing.py\u001b[0m in \u001b[0;36m_getitem_tuple\u001b[0;34m(self, tup)\u001b[0m\n\u001b[1;32m   1441\u001b[0m     \u001b[0;32mdef\u001b[0m \u001b[0m_getitem_tuple\u001b[0m\u001b[0;34m(\u001b[0m\u001b[0mself\u001b[0m\u001b[0;34m,\u001b[0m \u001b[0mtup\u001b[0m\u001b[0;34m:\u001b[0m \u001b[0mTuple\u001b[0m\u001b[0;34m)\u001b[0m\u001b[0;34m:\u001b[0m\u001b[0;34m\u001b[0m\u001b[0;34m\u001b[0m\u001b[0m\n\u001b[1;32m   1442\u001b[0m \u001b[0;34m\u001b[0m\u001b[0m\n\u001b[0;32m-> 1443\u001b[0;31m         \u001b[0mself\u001b[0m\u001b[0;34m.\u001b[0m\u001b[0m_has_valid_tuple\u001b[0m\u001b[0;34m(\u001b[0m\u001b[0mtup\u001b[0m\u001b[0;34m)\u001b[0m\u001b[0;34m\u001b[0m\u001b[0;34m\u001b[0m\u001b[0m\n\u001b[0m\u001b[1;32m   1444\u001b[0m         \u001b[0;32mtry\u001b[0m\u001b[0;34m:\u001b[0m\u001b[0;34m\u001b[0m\u001b[0;34m\u001b[0m\u001b[0m\n\u001b[1;32m   1445\u001b[0m             \u001b[0;32mreturn\u001b[0m \u001b[0mself\u001b[0m\u001b[0;34m.\u001b[0m\u001b[0m_getitem_lowerdim\u001b[0m\u001b[0;34m(\u001b[0m\u001b[0mtup\u001b[0m\u001b[0;34m)\u001b[0m\u001b[0;34m\u001b[0m\u001b[0;34m\u001b[0m\u001b[0m\n",
            "\u001b[0;32m/usr/local/lib/python3.6/dist-packages/pandas/core/indexing.py\u001b[0m in \u001b[0;36m_has_valid_tuple\u001b[0;34m(self, key)\u001b[0m\n\u001b[1;32m    700\u001b[0m                 \u001b[0;32mraise\u001b[0m \u001b[0mIndexingError\u001b[0m\u001b[0;34m(\u001b[0m\u001b[0;34m\"Too many indexers\"\u001b[0m\u001b[0;34m)\u001b[0m\u001b[0;34m\u001b[0m\u001b[0;34m\u001b[0m\u001b[0m\n\u001b[1;32m    701\u001b[0m             \u001b[0;32mtry\u001b[0m\u001b[0;34m:\u001b[0m\u001b[0;34m\u001b[0m\u001b[0;34m\u001b[0m\u001b[0m\n\u001b[0;32m--> 702\u001b[0;31m                 \u001b[0mself\u001b[0m\u001b[0;34m.\u001b[0m\u001b[0m_validate_key\u001b[0m\u001b[0;34m(\u001b[0m\u001b[0mk\u001b[0m\u001b[0;34m,\u001b[0m \u001b[0mi\u001b[0m\u001b[0;34m)\u001b[0m\u001b[0;34m\u001b[0m\u001b[0;34m\u001b[0m\u001b[0m\n\u001b[0m\u001b[1;32m    703\u001b[0m             \u001b[0;32mexcept\u001b[0m \u001b[0mValueError\u001b[0m \u001b[0;32mas\u001b[0m \u001b[0merr\u001b[0m\u001b[0;34m:\u001b[0m\u001b[0;34m\u001b[0m\u001b[0;34m\u001b[0m\u001b[0m\n\u001b[1;32m    704\u001b[0m                 raise ValueError(\n",
            "\u001b[0;32m/usr/local/lib/python3.6/dist-packages/pandas/core/indexing.py\u001b[0m in \u001b[0;36m_validate_key\u001b[0;34m(self, key, axis)\u001b[0m\n\u001b[1;32m   1350\u001b[0m             \u001b[0;32mreturn\u001b[0m\u001b[0;34m\u001b[0m\u001b[0;34m\u001b[0m\u001b[0m\n\u001b[1;32m   1351\u001b[0m         \u001b[0;32melif\u001b[0m \u001b[0mis_integer\u001b[0m\u001b[0;34m(\u001b[0m\u001b[0mkey\u001b[0m\u001b[0;34m)\u001b[0m\u001b[0;34m:\u001b[0m\u001b[0;34m\u001b[0m\u001b[0;34m\u001b[0m\u001b[0m\n\u001b[0;32m-> 1352\u001b[0;31m             \u001b[0mself\u001b[0m\u001b[0;34m.\u001b[0m\u001b[0m_validate_integer\u001b[0m\u001b[0;34m(\u001b[0m\u001b[0mkey\u001b[0m\u001b[0;34m,\u001b[0m \u001b[0maxis\u001b[0m\u001b[0;34m)\u001b[0m\u001b[0;34m\u001b[0m\u001b[0;34m\u001b[0m\u001b[0m\n\u001b[0m\u001b[1;32m   1353\u001b[0m         \u001b[0;32melif\u001b[0m \u001b[0misinstance\u001b[0m\u001b[0;34m(\u001b[0m\u001b[0mkey\u001b[0m\u001b[0;34m,\u001b[0m \u001b[0mtuple\u001b[0m\u001b[0;34m)\u001b[0m\u001b[0;34m:\u001b[0m\u001b[0;34m\u001b[0m\u001b[0;34m\u001b[0m\u001b[0m\n\u001b[1;32m   1354\u001b[0m             \u001b[0;31m# a tuple should already have been caught by this point\u001b[0m\u001b[0;34m\u001b[0m\u001b[0;34m\u001b[0m\u001b[0;34m\u001b[0m\u001b[0m\n",
            "\u001b[0;32m/usr/local/lib/python3.6/dist-packages/pandas/core/indexing.py\u001b[0m in \u001b[0;36m_validate_integer\u001b[0;34m(self, key, axis)\u001b[0m\n\u001b[1;32m   1435\u001b[0m         \u001b[0mlen_axis\u001b[0m \u001b[0;34m=\u001b[0m \u001b[0mlen\u001b[0m\u001b[0;34m(\u001b[0m\u001b[0mself\u001b[0m\u001b[0;34m.\u001b[0m\u001b[0mobj\u001b[0m\u001b[0;34m.\u001b[0m\u001b[0m_get_axis\u001b[0m\u001b[0;34m(\u001b[0m\u001b[0maxis\u001b[0m\u001b[0;34m)\u001b[0m\u001b[0;34m)\u001b[0m\u001b[0;34m\u001b[0m\u001b[0;34m\u001b[0m\u001b[0m\n\u001b[1;32m   1436\u001b[0m         \u001b[0;32mif\u001b[0m \u001b[0mkey\u001b[0m \u001b[0;34m>=\u001b[0m \u001b[0mlen_axis\u001b[0m \u001b[0;32mor\u001b[0m \u001b[0mkey\u001b[0m \u001b[0;34m<\u001b[0m \u001b[0;34m-\u001b[0m\u001b[0mlen_axis\u001b[0m\u001b[0;34m:\u001b[0m\u001b[0;34m\u001b[0m\u001b[0;34m\u001b[0m\u001b[0m\n\u001b[0;32m-> 1437\u001b[0;31m             \u001b[0;32mraise\u001b[0m \u001b[0mIndexError\u001b[0m\u001b[0;34m(\u001b[0m\u001b[0;34m\"single positional indexer is out-of-bounds\"\u001b[0m\u001b[0;34m)\u001b[0m\u001b[0;34m\u001b[0m\u001b[0;34m\u001b[0m\u001b[0m\n\u001b[0m\u001b[1;32m   1438\u001b[0m \u001b[0;34m\u001b[0m\u001b[0m\n\u001b[1;32m   1439\u001b[0m     \u001b[0;31m# -------------------------------------------------------------------\u001b[0m\u001b[0;34m\u001b[0m\u001b[0;34m\u001b[0m\u001b[0;34m\u001b[0m\u001b[0m\n",
            "\u001b[0;31mIndexError\u001b[0m: single positional indexer is out-of-bounds"
          ]
        }
      ]
    },
    {
      "cell_type": "code",
      "metadata": {
        "colab": {
          "base_uri": "https://localhost:8080/",
          "height": 303
        },
        "id": "5aGTVUouF6c1",
        "outputId": "259ca851-b66a-4ee5-cdca-1b7661e67ccf"
      },
      "source": [
        "data2.plot()"
      ],
      "execution_count": 150,
      "outputs": [
        {
          "output_type": "error",
          "ename": "TypeError",
          "evalue": "ignored",
          "traceback": [
            "\u001b[0;31m---------------------------------------------------------------------------\u001b[0m",
            "\u001b[0;31mTypeError\u001b[0m                                 Traceback (most recent call last)",
            "\u001b[0;32m<ipython-input-150-1df8e5b59b3b>\u001b[0m in \u001b[0;36m<module>\u001b[0;34m()\u001b[0m\n\u001b[0;32m----> 1\u001b[0;31m \u001b[0mdata2\u001b[0m\u001b[0;34m.\u001b[0m\u001b[0mplot\u001b[0m\u001b[0;34m(\u001b[0m\u001b[0;34m)\u001b[0m\u001b[0;34m\u001b[0m\u001b[0;34m\u001b[0m\u001b[0m\n\u001b[0m",
            "\u001b[0;32m/usr/local/lib/python3.6/dist-packages/pandas/plotting/_core.py\u001b[0m in \u001b[0;36m__call__\u001b[0;34m(self, *args, **kwargs)\u001b[0m\n\u001b[1;32m    947\u001b[0m                     \u001b[0mdata\u001b[0m\u001b[0;34m.\u001b[0m\u001b[0mcolumns\u001b[0m \u001b[0;34m=\u001b[0m \u001b[0mlabel_name\u001b[0m\u001b[0;34m\u001b[0m\u001b[0;34m\u001b[0m\u001b[0m\n\u001b[1;32m    948\u001b[0m \u001b[0;34m\u001b[0m\u001b[0m\n\u001b[0;32m--> 949\u001b[0;31m         \u001b[0;32mreturn\u001b[0m \u001b[0mplot_backend\u001b[0m\u001b[0;34m.\u001b[0m\u001b[0mplot\u001b[0m\u001b[0;34m(\u001b[0m\u001b[0mdata\u001b[0m\u001b[0;34m,\u001b[0m \u001b[0mkind\u001b[0m\u001b[0;34m=\u001b[0m\u001b[0mkind\u001b[0m\u001b[0;34m,\u001b[0m \u001b[0;34m**\u001b[0m\u001b[0mkwargs\u001b[0m\u001b[0;34m)\u001b[0m\u001b[0;34m\u001b[0m\u001b[0;34m\u001b[0m\u001b[0m\n\u001b[0m\u001b[1;32m    950\u001b[0m \u001b[0;34m\u001b[0m\u001b[0m\n\u001b[1;32m    951\u001b[0m     \u001b[0m__call__\u001b[0m\u001b[0;34m.\u001b[0m\u001b[0m__doc__\u001b[0m \u001b[0;34m=\u001b[0m \u001b[0m__doc__\u001b[0m\u001b[0;34m\u001b[0m\u001b[0;34m\u001b[0m\u001b[0m\n",
            "\u001b[0;32m/usr/local/lib/python3.6/dist-packages/pandas/plotting/_matplotlib/__init__.py\u001b[0m in \u001b[0;36mplot\u001b[0;34m(data, kind, **kwargs)\u001b[0m\n\u001b[1;32m     59\u001b[0m             \u001b[0mkwargs\u001b[0m\u001b[0;34m[\u001b[0m\u001b[0;34m\"ax\"\u001b[0m\u001b[0;34m]\u001b[0m \u001b[0;34m=\u001b[0m \u001b[0mgetattr\u001b[0m\u001b[0;34m(\u001b[0m\u001b[0max\u001b[0m\u001b[0;34m,\u001b[0m \u001b[0;34m\"left_ax\"\u001b[0m\u001b[0;34m,\u001b[0m \u001b[0max\u001b[0m\u001b[0;34m)\u001b[0m\u001b[0;34m\u001b[0m\u001b[0;34m\u001b[0m\u001b[0m\n\u001b[1;32m     60\u001b[0m     \u001b[0mplot_obj\u001b[0m \u001b[0;34m=\u001b[0m \u001b[0mPLOT_CLASSES\u001b[0m\u001b[0;34m[\u001b[0m\u001b[0mkind\u001b[0m\u001b[0;34m]\u001b[0m\u001b[0;34m(\u001b[0m\u001b[0mdata\u001b[0m\u001b[0;34m,\u001b[0m \u001b[0;34m**\u001b[0m\u001b[0mkwargs\u001b[0m\u001b[0;34m)\u001b[0m\u001b[0;34m\u001b[0m\u001b[0;34m\u001b[0m\u001b[0m\n\u001b[0;32m---> 61\u001b[0;31m     \u001b[0mplot_obj\u001b[0m\u001b[0;34m.\u001b[0m\u001b[0mgenerate\u001b[0m\u001b[0;34m(\u001b[0m\u001b[0;34m)\u001b[0m\u001b[0;34m\u001b[0m\u001b[0;34m\u001b[0m\u001b[0m\n\u001b[0m\u001b[1;32m     62\u001b[0m     \u001b[0mplot_obj\u001b[0m\u001b[0;34m.\u001b[0m\u001b[0mdraw\u001b[0m\u001b[0;34m(\u001b[0m\u001b[0;34m)\u001b[0m\u001b[0;34m\u001b[0m\u001b[0;34m\u001b[0m\u001b[0m\n\u001b[1;32m     63\u001b[0m     \u001b[0;32mreturn\u001b[0m \u001b[0mplot_obj\u001b[0m\u001b[0;34m.\u001b[0m\u001b[0mresult\u001b[0m\u001b[0;34m\u001b[0m\u001b[0;34m\u001b[0m\u001b[0m\n",
            "\u001b[0;32m/usr/local/lib/python3.6/dist-packages/pandas/plotting/_matplotlib/core.py\u001b[0m in \u001b[0;36mgenerate\u001b[0;34m(self)\u001b[0m\n\u001b[1;32m    267\u001b[0m     \u001b[0;32mdef\u001b[0m \u001b[0mgenerate\u001b[0m\u001b[0;34m(\u001b[0m\u001b[0mself\u001b[0m\u001b[0;34m)\u001b[0m\u001b[0;34m:\u001b[0m\u001b[0;34m\u001b[0m\u001b[0;34m\u001b[0m\u001b[0m\n\u001b[1;32m    268\u001b[0m         \u001b[0mself\u001b[0m\u001b[0;34m.\u001b[0m\u001b[0m_args_adjust\u001b[0m\u001b[0;34m(\u001b[0m\u001b[0;34m)\u001b[0m\u001b[0;34m\u001b[0m\u001b[0;34m\u001b[0m\u001b[0m\n\u001b[0;32m--> 269\u001b[0;31m         \u001b[0mself\u001b[0m\u001b[0;34m.\u001b[0m\u001b[0m_compute_plot_data\u001b[0m\u001b[0;34m(\u001b[0m\u001b[0;34m)\u001b[0m\u001b[0;34m\u001b[0m\u001b[0;34m\u001b[0m\u001b[0m\n\u001b[0m\u001b[1;32m    270\u001b[0m         \u001b[0mself\u001b[0m\u001b[0;34m.\u001b[0m\u001b[0m_setup_subplots\u001b[0m\u001b[0;34m(\u001b[0m\u001b[0;34m)\u001b[0m\u001b[0;34m\u001b[0m\u001b[0;34m\u001b[0m\u001b[0m\n\u001b[1;32m    271\u001b[0m         \u001b[0mself\u001b[0m\u001b[0;34m.\u001b[0m\u001b[0m_make_plot\u001b[0m\u001b[0;34m(\u001b[0m\u001b[0;34m)\u001b[0m\u001b[0;34m\u001b[0m\u001b[0;34m\u001b[0m\u001b[0m\n",
            "\u001b[0;32m/usr/local/lib/python3.6/dist-packages/pandas/plotting/_matplotlib/core.py\u001b[0m in \u001b[0;36m_compute_plot_data\u001b[0;34m(self)\u001b[0m\n\u001b[1;32m    416\u001b[0m         \u001b[0;31m# no non-numeric frames or series allowed\u001b[0m\u001b[0;34m\u001b[0m\u001b[0;34m\u001b[0m\u001b[0;34m\u001b[0m\u001b[0m\n\u001b[1;32m    417\u001b[0m         \u001b[0;32mif\u001b[0m \u001b[0mis_empty\u001b[0m\u001b[0;34m:\u001b[0m\u001b[0;34m\u001b[0m\u001b[0;34m\u001b[0m\u001b[0m\n\u001b[0;32m--> 418\u001b[0;31m             \u001b[0;32mraise\u001b[0m \u001b[0mTypeError\u001b[0m\u001b[0;34m(\u001b[0m\u001b[0;34m\"no numeric data to plot\"\u001b[0m\u001b[0;34m)\u001b[0m\u001b[0;34m\u001b[0m\u001b[0;34m\u001b[0m\u001b[0m\n\u001b[0m\u001b[1;32m    419\u001b[0m \u001b[0;34m\u001b[0m\u001b[0m\n\u001b[1;32m    420\u001b[0m         \u001b[0;31m# GH25587: cast ExtensionArray of pandas (IntegerArray, etc.) to\u001b[0m\u001b[0;34m\u001b[0m\u001b[0;34m\u001b[0m\u001b[0;34m\u001b[0m\u001b[0m\n",
            "\u001b[0;31mTypeError\u001b[0m: no numeric data to plot"
          ]
        }
      ]
    },
    {
      "cell_type": "code",
      "metadata": {
        "colab": {
          "base_uri": "https://localhost:8080/",
          "height": 225
        },
        "id": "MSyw3TsDLVkJ",
        "outputId": "c57994a9-73b5-4446-cf06-84627b3eb810"
      },
      "source": [
        "data.tail()"
      ],
      "execution_count": 109,
      "outputs": [
        {
          "output_type": "execute_result",
          "data": {
            "text/html": [
              "<div>\n",
              "<style scoped>\n",
              "    .dataframe tbody tr th:only-of-type {\n",
              "        vertical-align: middle;\n",
              "    }\n",
              "\n",
              "    .dataframe tbody tr th {\n",
              "        vertical-align: top;\n",
              "    }\n",
              "\n",
              "    .dataframe thead th {\n",
              "        text-align: right;\n",
              "    }\n",
              "</style>\n",
              "<table border=\"1\" class=\"dataframe\">\n",
              "  <thead>\n",
              "    <tr style=\"text-align: right;\">\n",
              "      <th></th>\n",
              "      <th>SWE</th>\n",
              "    </tr>\n",
              "    <tr>\n",
              "      <th>Date</th>\n",
              "      <th></th>\n",
              "    </tr>\n",
              "  </thead>\n",
              "  <tbody>\n",
              "    <tr>\n",
              "      <th>2020-07-29</th>\n",
              "      <td>0.0</td>\n",
              "    </tr>\n",
              "    <tr>\n",
              "      <th>2020-07-30</th>\n",
              "      <td>0.0</td>\n",
              "    </tr>\n",
              "    <tr>\n",
              "      <th>2020-07-31</th>\n",
              "      <td>0.0</td>\n",
              "    </tr>\n",
              "    <tr>\n",
              "      <th>2020-08-01</th>\n",
              "      <td>0.0</td>\n",
              "    </tr>\n",
              "    <tr>\n",
              "      <th>2020-08-02</th>\n",
              "      <td>0.0</td>\n",
              "    </tr>\n",
              "  </tbody>\n",
              "</table>\n",
              "</div>"
            ],
            "text/plain": [
              "            SWE\n",
              "Date           \n",
              "2020-07-29  0.0\n",
              "2020-07-30  0.0\n",
              "2020-07-31  0.0\n",
              "2020-08-01  0.0\n",
              "2020-08-02  0.0"
            ]
          },
          "metadata": {
            "tags": []
          },
          "execution_count": 109
        }
      ]
    },
    {
      "cell_type": "code",
      "metadata": {
        "colab": {
          "base_uri": "https://localhost:8080/"
        },
        "id": "CqWNKl6sLn-n",
        "outputId": "63ccc737-d9f9-47b7-e7ba-b1e146ab7fcc"
      },
      "source": [
        "len(data)"
      ],
      "execution_count": 67,
      "outputs": [
        {
          "output_type": "execute_result",
          "data": {
            "text/plain": [
              "520"
            ]
          },
          "metadata": {
            "tags": []
          },
          "execution_count": 67
        }
      ]
    },
    {
      "cell_type": "code",
      "metadata": {
        "id": "fqI1vG05Lswo"
      },
      "source": [
        ""
      ],
      "execution_count": null,
      "outputs": []
    }
  ]
}